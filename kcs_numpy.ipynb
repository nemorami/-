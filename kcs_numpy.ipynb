{
  "nbformat": 4,
  "nbformat_minor": 0,
  "metadata": {
    "colab": {
      "name": "kcs_numpy.ipynb",
      "provenance": [],
      "collapsed_sections": []
    },
    "kernelspec": {
      "name": "python3",
      "display_name": "Python 3"
    }
  },
  "cells": [
    {
      "cell_type": "markdown",
      "metadata": {
        "id": "AGVNmIXLgS5b"
      },
      "source": [
        "## Numpy"
      ]
    },
    {
      "cell_type": "code",
      "metadata": {
        "id": "NhPVNuOxgS5b"
      },
      "source": [
        "# numpy 패키지 추가\n",
        "import numpy as np"
      ],
      "execution_count": null,
      "outputs": []
    },
    {
      "cell_type": "code",
      "metadata": {
        "id": "vXWJcp3WxDHs",
        "colab": {
          "base_uri": "https://localhost:8080/"
        },
        "outputId": "07d1f7b8-8d9d-4c45-baab-ebf60e74b1aa"
      },
      "source": [
        "mylist = [1,2,3]\n",
        "mylist"
      ],
      "execution_count": null,
      "outputs": [
        {
          "output_type": "execute_result",
          "data": {
            "text/plain": [
              "[1, 2, 3]"
            ]
          },
          "metadata": {
            "tags": []
          },
          "execution_count": 3
        }
      ]
    },
    {
      "cell_type": "markdown",
      "metadata": {
        "id": "uCT6elBnW4dF"
      },
      "source": [
        "#### 배열 생성 및 주요 요소\n"
      ]
    },
    {
      "cell_type": "code",
      "metadata": {
        "id": "3X8cpxBNgS5d",
        "colab": {
          "base_uri": "https://localhost:8080/"
        },
        "outputId": "36e3dd58-1ef8-4d0c-95c3-1a59c18dc8d1"
      },
      "source": [
        "# 배열 생성\n",
        "# 배열: 같은 타입의 격자형 자료구조 (2차원 Matrix -> 크기 표현을 n*m)\n",
        "# 1차원 배열\n",
        "# 1. array 함수를 이용한 생성\n",
        "# 고정 값으로 iterable한 객체를 전달하면 array 생성\n",
        "# 원본의 크기(shape)을 그대로 반영\n",
        "arr1 = np.array(mylist)\n",
        "arr1"
      ],
      "execution_count": null,
      "outputs": [
        {
          "output_type": "execute_result",
          "data": {
            "text/plain": [
              "array([1, 2, 3])"
            ]
          },
          "metadata": {
            "tags": []
          },
          "execution_count": 32
        }
      ]
    },
    {
      "cell_type": "code",
      "metadata": {
        "id": "OOZulPKSd8zZ",
        "colab": {
          "base_uri": "https://localhost:8080/"
        },
        "outputId": "d78a98ff-f8f9-4237-a45a-7a5364a08a95"
      },
      "source": [
        "print(mylist)\n",
        "print(arr1)\n",
        "type(arr1)"
      ],
      "execution_count": null,
      "outputs": [
        {
          "output_type": "stream",
          "text": [
            "[1, 2, 3]\n",
            "[1 2 3]\n"
          ],
          "name": "stdout"
        },
        {
          "output_type": "execute_result",
          "data": {
            "text/plain": [
              "numpy.ndarray"
            ]
          },
          "metadata": {
            "tags": []
          },
          "execution_count": 33
        }
      ]
    },
    {
      "cell_type": "code",
      "metadata": {
        "colab": {
          "base_uri": "https://localhost:8080/"
        },
        "id": "e_mhVjNsL_aF",
        "outputId": "0ebdd5cc-98b5-4582-d313-dcd037d15783"
      },
      "source": [
        "arr1"
      ],
      "execution_count": null,
      "outputs": [
        {
          "output_type": "execute_result",
          "data": {
            "text/plain": [
              "array([1, 2, 3])"
            ]
          },
          "metadata": {
            "tags": []
          },
          "execution_count": 34
        }
      ]
    },
    {
      "cell_type": "code",
      "metadata": {
        "colab": {
          "base_uri": "https://localhost:8080/"
        },
        "id": "rIiSjmtuIZyw",
        "outputId": "081d4d97-a621-45bf-aaa5-49e88273bc96"
      },
      "source": [
        "# 주요 속성\n",
        "# 차원 rank\n",
        "arr1.ndim, np.ndim(arr1)"
      ],
      "execution_count": null,
      "outputs": [
        {
          "output_type": "execute_result",
          "data": {
            "text/plain": [
              "(1, 1)"
            ]
          },
          "metadata": {
            "tags": []
          },
          "execution_count": 18
        }
      ]
    },
    {
      "cell_type": "code",
      "metadata": {
        "colab": {
          "base_uri": "https://localhost:8080/"
        },
        "id": "dco8w07SIhvI",
        "outputId": "9b2e559e-0aed-41d9-c4ad-4b53d6fb1a50"
      },
      "source": [
        "# shape 크기 (n*m)\n",
        "arr1.shape, np.shape(arr1)"
      ],
      "execution_count": null,
      "outputs": [
        {
          "output_type": "execute_result",
          "data": {
            "text/plain": [
              "((3,), (3,))"
            ]
          },
          "metadata": {
            "tags": []
          },
          "execution_count": 19
        }
      ]
    },
    {
      "cell_type": "code",
      "metadata": {
        "colab": {
          "base_uri": "https://localhost:8080/"
        },
        "id": "kzz-Z-OkInha",
        "outputId": "c036a8f2-70fd-43b6-b7d3-4948a1281298"
      },
      "source": [
        "# size 요소 개수\n",
        "arr1.size, np.size(arr1)"
      ],
      "execution_count": null,
      "outputs": [
        {
          "output_type": "execute_result",
          "data": {
            "text/plain": [
              "(3, 3)"
            ]
          },
          "metadata": {
            "tags": []
          },
          "execution_count": 20
        }
      ]
    },
    {
      "cell_type": "code",
      "metadata": {
        "colab": {
          "base_uri": "https://localhost:8080/"
        },
        "id": "JMlu7kSjIrAL",
        "outputId": "d16a3177-0b26-40be-c067-e8d76670dd57"
      },
      "source": [
        "# dtype 데이터 타입 확인\n",
        "arr1.dtype"
      ],
      "execution_count": null,
      "outputs": [
        {
          "output_type": "execute_result",
          "data": {
            "text/plain": [
              "dtype('int64')"
            ]
          },
          "metadata": {
            "tags": []
          },
          "execution_count": 21
        }
      ]
    },
    {
      "cell_type": "code",
      "metadata": {
        "id": "hN3hureNgS5e",
        "colab": {
          "base_uri": "https://localhost:8080/"
        },
        "outputId": "00d25ac5-3282-4103-8945-56a95ae54eb0"
      },
      "source": [
        "# 2차원 배열\n",
        "import numpy as np\n",
        "\n",
        "arr2 = np.array([[1,2,3], [1,2,3], [1,2,3]])\n",
        "arr2"
      ],
      "execution_count": null,
      "outputs": [
        {
          "output_type": "execute_result",
          "data": {
            "text/plain": [
              "array([[1, 2, 3],\n",
              "       [1, 2, 3],\n",
              "       [1, 2, 3]])"
            ]
          },
          "metadata": {
            "tags": []
          },
          "execution_count": 2
        }
      ]
    },
    {
      "cell_type": "code",
      "metadata": {
        "colab": {
          "base_uri": "https://localhost:8080/"
        },
        "id": "XwIAgdkxpOg2",
        "outputId": "4f689e3a-f55e-4e47-d560-552c68ae70bf"
      },
      "source": [
        "print([[1,2,3], [1,2,3], [1,2,3]])"
      ],
      "execution_count": null,
      "outputs": [
        {
          "output_type": "stream",
          "text": [
            "[[1, 2, 3], [1, 2, 3], [1, 2, 3]]\n"
          ],
          "name": "stdout"
        }
      ]
    },
    {
      "cell_type": "code",
      "metadata": {
        "colab": {
          "base_uri": "https://localhost:8080/"
        },
        "id": "_M9hhEBFpXjw",
        "outputId": "1844356b-6104-4a9c-b1f4-0764eb9a8b3e"
      },
      "source": [
        "print(arr2)"
      ],
      "execution_count": null,
      "outputs": [
        {
          "output_type": "stream",
          "text": [
            "[[1 2 3]\n",
            " [1 2 3]\n",
            " [1 2 3]]\n"
          ],
          "name": "stdout"
        }
      ]
    },
    {
      "cell_type": "code",
      "metadata": {
        "id": "DNikb6ISgS5g",
        "colab": {
          "base_uri": "https://localhost:8080/"
        },
        "outputId": "f4b07804-abdf-41f2-a23c-6977152d767f"
      },
      "source": [
        "arr2.ndim, arr2.shape, arr2.size"
      ],
      "execution_count": null,
      "outputs": [
        {
          "output_type": "execute_result",
          "data": {
            "text/plain": [
              "(2, (3, 3), 9)"
            ]
          },
          "metadata": {
            "tags": []
          },
          "execution_count": 3
        }
      ]
    },
    {
      "cell_type": "code",
      "metadata": {
        "id": "VjRGKz8ggS5n",
        "colab": {
          "base_uri": "https://localhost:8080/"
        },
        "outputId": "5bfd5b14-29ed-4038-f78b-22e32bda4a15"
      },
      "source": [
        "# 1차원처럼 보이는 2차원\n",
        "arr3 = np.array([[1,2,3]])\n",
        "arr3"
      ],
      "execution_count": null,
      "outputs": [
        {
          "output_type": "execute_result",
          "data": {
            "text/plain": [
              "array([[1, 2, 3]])"
            ]
          },
          "metadata": {
            "tags": []
          },
          "execution_count": 24
        }
      ]
    },
    {
      "cell_type": "code",
      "metadata": {
        "id": "xdf4BknxgS5p",
        "colab": {
          "base_uri": "https://localhost:8080/"
        },
        "outputId": "39dbd644-3d87-4834-bfb2-6413aaf1eefe"
      },
      "source": [
        "arr3.ndim, arr3.shape"
      ],
      "execution_count": null,
      "outputs": [
        {
          "output_type": "execute_result",
          "data": {
            "text/plain": [
              "(2, (1, 3))"
            ]
          },
          "metadata": {
            "tags": []
          },
          "execution_count": 25
        }
      ]
    },
    {
      "cell_type": "code",
      "metadata": {
        "colab": {
          "base_uri": "https://localhost:8080/"
        },
        "id": "uD54bjbaJv_-",
        "outputId": "9736c2a3-e8e6-40be-c9f6-666f69f5b82e"
      },
      "source": [
        "# 배열 생성\n",
        "# 2. arange 함수\n",
        "# 1차원 배열을 생성해주는 함수\n",
        "# range 함수와 동일한 사용법 arange(시작, 끝, 스텝) [시작,끝) 스텝 기본은 1\n",
        "arr4 = np.arange(10,15,1)\n",
        "print(arr4)\n",
        "print(arr4.ndim)\n",
        "print(arr4.shape)"
      ],
      "execution_count": null,
      "outputs": [
        {
          "output_type": "stream",
          "text": [
            "[10 11 12 13 14]\n",
            "1\n",
            "(5,)\n"
          ],
          "name": "stdout"
        }
      ]
    },
    {
      "cell_type": "code",
      "metadata": {
        "colab": {
          "base_uri": "https://localhost:8080/"
        },
        "id": "jkOiksiwL9kZ",
        "outputId": "84dea757-eebf-4a4a-aa2f-eaa9c98dc5a2"
      },
      "source": [
        "# 배열 생성\n",
        "# 3. linspace 함수\n",
        "# 다차원 함수 설정\n",
        "# 일정 개수의 배열을 생성 (동일 간격)\n",
        "# linspace(시작, 끝, 개수) [시작, 끝] 개수 기본은 50, endpoint로 끝 포함 관계 설정 가능\n",
        "# endpoint=False -> [시작, 끝)\n",
        "# endpoint=True -> [시작, 끝] 기본\n",
        "# retstep으로 만들어진 스탭 값의 반환을 설정\n",
        "# dtype으로 타입 지정 가능\n",
        "# 1차원 배열 생성\n",
        "arr5 = np.linspace(10, 20, 11)\n",
        "arr5"
      ],
      "execution_count": null,
      "outputs": [
        {
          "output_type": "execute_result",
          "data": {
            "text/plain": [
              "array([10., 11., 12., 13., 14., 15., 16., 17., 18., 19., 20.])"
            ]
          },
          "metadata": {
            "tags": []
          },
          "execution_count": 50
        }
      ]
    },
    {
      "cell_type": "code",
      "metadata": {
        "colab": {
          "base_uri": "https://localhost:8080/"
        },
        "id": "KUBgPWakN_aO",
        "outputId": "e8e5ab5c-eb58-4ef2-b289-ac19a4ed221d"
      },
      "source": [
        "arr5 = np.linspace(10, 20, 10, endpoint=False)\n",
        "arr5"
      ],
      "execution_count": null,
      "outputs": [
        {
          "output_type": "execute_result",
          "data": {
            "text/plain": [
              "array([10., 11., 12., 13., 14., 15., 16., 17., 18., 19.])"
            ]
          },
          "metadata": {
            "tags": []
          },
          "execution_count": 52
        }
      ]
    },
    {
      "cell_type": "code",
      "metadata": {
        "colab": {
          "base_uri": "https://localhost:8080/"
        },
        "id": "aaEixm3IOFG3",
        "outputId": "25b89b38-1b95-4f31-e44d-91784dbd7b69"
      },
      "source": [
        "arr5 = np.linspace(10, 20, 11, retstep=True)\n",
        "arr5"
      ],
      "execution_count": null,
      "outputs": [
        {
          "output_type": "execute_result",
          "data": {
            "text/plain": [
              "(array([10., 11., 12., 13., 14., 15., 16., 17., 18., 19., 20.]), 1.0)"
            ]
          },
          "metadata": {
            "tags": []
          },
          "execution_count": 53
        }
      ]
    },
    {
      "cell_type": "code",
      "metadata": {
        "colab": {
          "base_uri": "https://localhost:8080/"
        },
        "id": "E1zIkD3yOIgP",
        "outputId": "dc2d7222-90f6-420f-8a5a-b2bf29327694"
      },
      "source": [
        "arr5 = np.linspace(10, 20, 11, dtype='int64')\n",
        "arr5"
      ],
      "execution_count": null,
      "outputs": [
        {
          "output_type": "execute_result",
          "data": {
            "text/plain": [
              "array([10, 11, 12, 13, 14, 15, 16, 17, 18, 19, 20])"
            ]
          },
          "metadata": {
            "tags": []
          },
          "execution_count": 54
        }
      ]
    },
    {
      "cell_type": "code",
      "metadata": {
        "colab": {
          "base_uri": "https://localhost:8080/"
        },
        "id": "Wt4_YwxqN41r",
        "outputId": "3aed41b1-5183-4144-ef48-1e92693990f3"
      },
      "source": [
        "# 2차원 배열 생성\n",
        "# axis에 따라 생성 결과가 다름\n",
        "# axis=0 (기본)이면 num행 2열\n",
        "np.linspace((0,1), (5,6), 10, axis=0)"
      ],
      "execution_count": null,
      "outputs": [
        {
          "output_type": "execute_result",
          "data": {
            "text/plain": [
              "array([[0.        , 1.        ],\n",
              "       [0.55555556, 1.55555556],\n",
              "       [1.11111111, 2.11111111],\n",
              "       [1.66666667, 2.66666667],\n",
              "       [2.22222222, 3.22222222],\n",
              "       [2.77777778, 3.77777778],\n",
              "       [3.33333333, 4.33333333],\n",
              "       [3.88888889, 4.88888889],\n",
              "       [4.44444444, 5.44444444],\n",
              "       [5.        , 6.        ]])"
            ]
          },
          "metadata": {
            "tags": []
          },
          "execution_count": 57
        }
      ]
    },
    {
      "cell_type": "code",
      "metadata": {
        "colab": {
          "base_uri": "https://localhost:8080/"
        },
        "id": "6lZcU143Ol6P",
        "outputId": "8d23bd7a-c4b2-444c-a9d2-294bb5961bc3"
      },
      "source": [
        "# axis=1이면 2행 num열\n",
        "np.linspace((0,1), (5,6), 10, axis=1)"
      ],
      "execution_count": null,
      "outputs": [
        {
          "output_type": "execute_result",
          "data": {
            "text/plain": [
              "array([[0.        , 0.55555556, 1.11111111, 1.66666667, 2.22222222,\n",
              "        2.77777778, 3.33333333, 3.88888889, 4.44444444, 5.        ],\n",
              "       [1.        , 1.55555556, 2.11111111, 2.66666667, 3.22222222,\n",
              "        3.77777778, 4.33333333, 4.88888889, 5.44444444, 6.        ]])"
            ]
          },
          "metadata": {
            "tags": []
          },
          "execution_count": 59
        }
      ]
    },
    {
      "cell_type": "markdown",
      "metadata": {
        "id": "QF6G7DWwXVi0"
      },
      "source": [
        "#### 배열 형태 변경"
      ]
    },
    {
      "cell_type": "code",
      "metadata": {
        "colab": {
          "base_uri": "https://localhost:8080/"
        },
        "id": "gdm88FwOO3fg",
        "outputId": "423ef3b9-0d51-4e27-ead1-cd198c8ff6e1"
      },
      "source": [
        "# 배열 형태 변경\n",
        "# reshape 함수\n",
        "# 1차원 -> n차원\n",
        "# n차원 -> n차원\n",
        "# n차원 -> 1차원\n",
        "# arr.reshape(행, 열)\n",
        "arr = np.arange(15)\n",
        "arr, arr.shape"
      ],
      "execution_count": null,
      "outputs": [
        {
          "output_type": "execute_result",
          "data": {
            "text/plain": [
              "(array([ 0,  1,  2,  3,  4,  5,  6,  7,  8,  9, 10, 11, 12, 13, 14]), (15,))"
            ]
          },
          "metadata": {
            "tags": []
          },
          "execution_count": 5
        }
      ]
    },
    {
      "cell_type": "code",
      "metadata": {
        "colab": {
          "base_uri": "https://localhost:8080/"
        },
        "id": "mRyhBSNzPHtK",
        "outputId": "8ce831d5-5e88-44b4-eac5-ca76b7ad3de5"
      },
      "source": [
        "# 형태가 재구성된 배열은 원본 배열의 참조 (복사 아님!)\n",
        "arr_reshaped = arr.reshape(3, 5)\n",
        "arr_reshaped"
      ],
      "execution_count": null,
      "outputs": [
        {
          "output_type": "execute_result",
          "data": {
            "text/plain": [
              "array([[ 0,  1,  2,  3,  4],\n",
              "       [ 5,  6,  7,  8,  9],\n",
              "       [10, 11, 12, 13, 14]])"
            ]
          },
          "metadata": {
            "tags": []
          },
          "execution_count": 110
        }
      ]
    },
    {
      "cell_type": "code",
      "metadata": {
        "colab": {
          "base_uri": "https://localhost:8080/"
        },
        "id": "Et8o4O03PX8w",
        "outputId": "46a404af-efaa-4e4d-ec02-d86308b93b28"
      },
      "source": [
        "arr_reshaped = np.reshape(arr, (3,5))\n",
        "arr_reshaped"
      ],
      "execution_count": null,
      "outputs": [
        {
          "output_type": "execute_result",
          "data": {
            "text/plain": [
              "array([[ 0,  1,  2,  3,  4],\n",
              "       [ 5,  6,  7,  8,  9],\n",
              "       [10, 11, 12, 13, 14]])"
            ]
          },
          "metadata": {
            "tags": []
          },
          "execution_count": 111
        }
      ]
    },
    {
      "cell_type": "code",
      "metadata": {
        "colab": {
          "base_uri": "https://localhost:8080/"
        },
        "id": "JmWDD3ZbPSd4",
        "outputId": "4a96e882-5743-478f-eaee-a72cda9997ed"
      },
      "source": [
        "# 참조라서 원본 수정\n",
        "arr_reshaped += 10\n",
        "arr"
      ],
      "execution_count": null,
      "outputs": [
        {
          "output_type": "execute_result",
          "data": {
            "text/plain": [
              "array([10, 11, 12, 13, 14, 15, 16, 17, 18, 19, 20, 21, 22, 23, 24])"
            ]
          },
          "metadata": {
            "tags": []
          },
          "execution_count": 112
        }
      ]
    },
    {
      "cell_type": "code",
      "metadata": {
        "colab": {
          "base_uri": "https://localhost:8080/"
        },
        "id": "A-rhdalaPgwf",
        "outputId": "c7e7c713-c8b0-44fb-d10e-86c9e1f3282a"
      },
      "source": [
        "arr_reshaped"
      ],
      "execution_count": null,
      "outputs": [
        {
          "output_type": "execute_result",
          "data": {
            "text/plain": [
              "array([[10, 11, 12, 13, 14],\n",
              "       [15, 16, 17, 18, 19],\n",
              "       [20, 21, 22, 23, 24]])"
            ]
          },
          "metadata": {
            "tags": []
          },
          "execution_count": 113
        }
      ]
    },
    {
      "cell_type": "code",
      "metadata": {
        "colab": {
          "base_uri": "https://localhost:8080/"
        },
        "id": "7FVaEBdbRzYW",
        "outputId": "9dcad1cc-1f0c-4bf0-95ae-7377b70bc01a"
      },
      "source": [
        "arr = np.arange(15)\n",
        "arr"
      ],
      "execution_count": null,
      "outputs": [
        {
          "output_type": "execute_result",
          "data": {
            "text/plain": [
              "array([ 0,  1,  2,  3,  4,  5,  6,  7,  8,  9, 10, 11, 12, 13, 14])"
            ]
          },
          "metadata": {
            "tags": []
          },
          "execution_count": 115
        }
      ]
    },
    {
      "cell_type": "code",
      "metadata": {
        "colab": {
          "base_uri": "https://localhost:8080/"
        },
        "id": "QE8MsOFlR3TG",
        "outputId": "d32db907-f902-4f52-9a57-8513dcb6ed05"
      },
      "source": [
        "# copy 함수를 이용하면 복사할 수 있음\n",
        "arr_reshaped = arr.reshape(3,5).copy()\n",
        "arr_reshaped"
      ],
      "execution_count": null,
      "outputs": [
        {
          "output_type": "execute_result",
          "data": {
            "text/plain": [
              "array([[ 0,  1,  2,  3,  4],\n",
              "       [ 5,  6,  7,  8,  9],\n",
              "       [10, 11, 12, 13, 14]])"
            ]
          },
          "metadata": {
            "tags": []
          },
          "execution_count": 117
        }
      ]
    },
    {
      "cell_type": "code",
      "metadata": {
        "colab": {
          "base_uri": "https://localhost:8080/"
        },
        "id": "pRhyZEVrSAWk",
        "outputId": "b0b97eaf-dccb-4f81-d1a2-fc29f84c3cfd"
      },
      "source": [
        "# 복사라서 원본 유지\n",
        "arr_reshaped += 10\n",
        "arr"
      ],
      "execution_count": null,
      "outputs": [
        {
          "output_type": "execute_result",
          "data": {
            "text/plain": [
              "array([ 0,  1,  2,  3,  4,  5,  6,  7,  8,  9, 10, 11, 12, 13, 14])"
            ]
          },
          "metadata": {
            "tags": []
          },
          "execution_count": 118
        }
      ]
    },
    {
      "cell_type": "code",
      "metadata": {
        "colab": {
          "base_uri": "https://localhost:8080/"
        },
        "id": "GOQpDsdtSBPd",
        "outputId": "eb8ca639-e7d8-4a15-b86f-a7735b5c8b32"
      },
      "source": [
        "# 복사된 값은 수정됨\n",
        "arr_reshaped"
      ],
      "execution_count": null,
      "outputs": [
        {
          "output_type": "execute_result",
          "data": {
            "text/plain": [
              "array([[10, 11, 12, 13, 14],\n",
              "       [15, 16, 17, 18, 19],\n",
              "       [20, 21, 22, 23, 24]])"
            ]
          },
          "metadata": {
            "tags": []
          },
          "execution_count": 119
        }
      ]
    },
    {
      "cell_type": "code",
      "metadata": {
        "colab": {
          "base_uri": "https://localhost:8080/"
        },
        "id": "4Yc-h4MBPj3_",
        "outputId": "6efe7b34-81ff-4d27-92cf-c98745e2843f"
      },
      "source": [
        "# reshape의 행 혹은 열 크기 중 하나를 -1로 지정하면 해당 값은 자동 계산됨\n",
        "arr_auto = arr.reshape(3,-1)\n",
        "arr_auto"
      ],
      "execution_count": null,
      "outputs": [
        {
          "output_type": "execute_result",
          "data": {
            "text/plain": [
              "array([[ 0,  1,  2,  3,  4],\n",
              "       [ 5,  6,  7,  8,  9],\n",
              "       [10, 11, 12, 13, 14]])"
            ]
          },
          "metadata": {
            "tags": []
          },
          "execution_count": 116
        }
      ]
    },
    {
      "cell_type": "code",
      "metadata": {
        "colab": {
          "base_uri": "https://localhost:8080/"
        },
        "id": "bkPpNnmzQxLL",
        "outputId": "a5a748eb-f033-47a5-e829-9faaba52fa7c"
      },
      "source": [
        "arr = np.arange(32)\n",
        "arr"
      ],
      "execution_count": null,
      "outputs": [
        {
          "output_type": "execute_result",
          "data": {
            "text/plain": [
              "array([ 0,  1,  2,  3,  4,  5,  6,  7,  8,  9, 10, 11, 12, 13, 14, 15, 16,\n",
              "       17, 18, 19, 20, 21, 22, 23, 24, 25, 26, 27, 28, 29, 30, 31])"
            ]
          },
          "metadata": {
            "tags": []
          },
          "execution_count": 218
        }
      ]
    },
    {
      "cell_type": "code",
      "metadata": {
        "colab": {
          "base_uri": "https://localhost:8080/"
        },
        "id": "glU_DiLdQ3lh",
        "outputId": "b43a3f61-7ecf-4495-878e-d686113f7278"
      },
      "source": [
        "arr.reshape(4,8)"
      ],
      "execution_count": null,
      "outputs": [
        {
          "output_type": "execute_result",
          "data": {
            "text/plain": [
              "array([[ 0,  1,  2,  3,  4,  5,  6,  7],\n",
              "       [ 8,  9, 10, 11, 12, 13, 14, 15],\n",
              "       [16, 17, 18, 19, 20, 21, 22, 23],\n",
              "       [24, 25, 26, 27, 28, 29, 30, 31]])"
            ]
          },
          "metadata": {
            "tags": []
          },
          "execution_count": 99
        }
      ]
    },
    {
      "cell_type": "code",
      "metadata": {
        "colab": {
          "base_uri": "https://localhost:8080/"
        },
        "id": "9TCLB0U8Q5ZU",
        "outputId": "9742d2ec-d0b5-47a8-a867-3dd524e40717"
      },
      "source": [
        "arr.reshape(-1,4)"
      ],
      "execution_count": null,
      "outputs": [
        {
          "output_type": "execute_result",
          "data": {
            "text/plain": [
              "array([[ 0,  1,  2,  3],\n",
              "       [ 4,  5,  6,  7],\n",
              "       [ 8,  9, 10, 11],\n",
              "       [12, 13, 14, 15],\n",
              "       [16, 17, 18, 19],\n",
              "       [20, 21, 22, 23],\n",
              "       [24, 25, 26, 27],\n",
              "       [28, 29, 30, 31]])"
            ]
          },
          "metadata": {
            "tags": []
          },
          "execution_count": 100
        }
      ]
    },
    {
      "cell_type": "code",
      "metadata": {
        "colab": {
          "base_uri": "https://localhost:8080/"
        },
        "id": "jsvtwjHcRAGv",
        "outputId": "ce823fc9-b67c-4a61-c034-40071bf027cc"
      },
      "source": [
        "arr_reshaped = arr.reshape(2,-1)\n",
        "arr_reshaped"
      ],
      "execution_count": null,
      "outputs": [
        {
          "output_type": "execute_result",
          "data": {
            "text/plain": [
              "array([[ 0,  1,  2,  3,  4,  5,  6,  7,  8,  9, 10, 11, 12, 13, 14, 15],\n",
              "       [16, 17, 18, 19, 20, 21, 22, 23, 24, 25, 26, 27, 28, 29, 30, 31]])"
            ]
          },
          "metadata": {
            "tags": []
          },
          "execution_count": 127
        }
      ]
    },
    {
      "cell_type": "code",
      "metadata": {
        "colab": {
          "base_uri": "https://localhost:8080/"
        },
        "id": "U8OP7TO3QPwI",
        "outputId": "809681ee-7bbb-4209-f95a-2690628ab595"
      },
      "source": [
        "# 행 크기만 지정하면 1차원으로 변경\n",
        "arr_flat = arr_reshaped.reshape(32, )\n",
        "arr_flat"
      ],
      "execution_count": null,
      "outputs": [
        {
          "output_type": "execute_result",
          "data": {
            "text/plain": [
              "array([ 0,  1,  2,  3,  4,  5,  6,  7,  8,  9, 10, 11, 12, 13, 14, 15, 16,\n",
              "       17, 18, 19, 20, 21, 22, 23, 24, 25, 26, 27, 28, 29, 30, 31])"
            ]
          },
          "metadata": {
            "tags": []
          },
          "execution_count": 102
        }
      ]
    },
    {
      "cell_type": "code",
      "metadata": {
        "colab": {
          "base_uri": "https://localhost:8080/"
        },
        "id": "2kTQt3psQejz",
        "outputId": "8d81df6f-3d74-44ab-ae96-cc780ddd3342"
      },
      "source": [
        "arr_flat = arr.reshape(-1, )\n",
        "arr_flat"
      ],
      "execution_count": null,
      "outputs": [
        {
          "output_type": "execute_result",
          "data": {
            "text/plain": [
              "array([ 0,  1,  2,  3,  4,  5,  6,  7,  8,  9, 10, 11, 12, 13, 14, 15, 16,\n",
              "       17, 18, 19, 20, 21, 22, 23, 24, 25, 26, 27, 28, 29, 30, 31])"
            ]
          },
          "metadata": {
            "tags": []
          },
          "execution_count": 103
        }
      ]
    },
    {
      "cell_type": "code",
      "metadata": {
        "colab": {
          "base_uri": "https://localhost:8080/"
        },
        "id": "xI0CNMWZRKCU",
        "outputId": "2477f2ab-2929-46bc-ead8-35dcbd609b4b"
      },
      "source": [
        "# 1차원 배열로 만드는 함수\n",
        "# 1. ravel (참조)\n",
        "arr_flat = arr_reshaped.ravel()\n",
        "arr_flat"
      ],
      "execution_count": null,
      "outputs": [
        {
          "output_type": "execute_result",
          "data": {
            "text/plain": [
              "array([ 0,  1,  2,  3,  4,  5,  6,  7,  8,  9, 10, 11, 12, 13, 14, 15, 16,\n",
              "       17, 18, 19, 20, 21, 22, 23, 24, 25, 26, 27, 28, 29, 30, 31])"
            ]
          },
          "metadata": {
            "tags": []
          },
          "execution_count": 104
        }
      ]
    },
    {
      "cell_type": "code",
      "metadata": {
        "colab": {
          "base_uri": "https://localhost:8080/"
        },
        "id": "QRwcKE22RVgH",
        "outputId": "5244b125-e3bc-45dd-a977-9289ebf634d8"
      },
      "source": [
        "arr_flat+=10\n",
        "arr_reshaped"
      ],
      "execution_count": null,
      "outputs": [
        {
          "output_type": "execute_result",
          "data": {
            "text/plain": [
              "array([[10, 11, 12, 13, 14, 15, 16, 17, 18, 19, 20, 21, 22, 23, 24, 25],\n",
              "       [26, 27, 28, 29, 30, 31, 32, 33, 34, 35, 36, 37, 38, 39, 40, 41]])"
            ]
          },
          "metadata": {
            "tags": []
          },
          "execution_count": 105
        }
      ]
    },
    {
      "cell_type": "code",
      "metadata": {
        "colab": {
          "base_uri": "https://localhost:8080/"
        },
        "id": "ePzxOyoWRY2H",
        "outputId": "46e50329-c544-4327-c52d-aa50c55b8f4d"
      },
      "source": [
        "# 1차원 배열로 만드는 함수\n",
        "# 2. flatten (복사)\n",
        "arr_flat = arr_reshaped.flatten()\n",
        "arr_flat"
      ],
      "execution_count": null,
      "outputs": [
        {
          "output_type": "execute_result",
          "data": {
            "text/plain": [
              "array([10, 11, 12, 13, 14, 15, 16, 17, 18, 19, 20, 21, 22, 23, 24, 25, 26,\n",
              "       27, 28, 29, 30, 31, 32, 33, 34, 35, 36, 37, 38, 39, 40, 41])"
            ]
          },
          "metadata": {
            "tags": []
          },
          "execution_count": 106
        }
      ]
    },
    {
      "cell_type": "code",
      "metadata": {
        "colab": {
          "base_uri": "https://localhost:8080/"
        },
        "id": "K0rn9-FrRg6m",
        "outputId": "10fc49ed-1290-44cf-ba5d-428e90a32ca1"
      },
      "source": [
        "arr_flat-=10\n",
        "arr_reshaped"
      ],
      "execution_count": null,
      "outputs": [
        {
          "output_type": "execute_result",
          "data": {
            "text/plain": [
              "array([[10, 11, 12, 13, 14, 15, 16, 17, 18, 19, 20, 21, 22, 23, 24, 25],\n",
              "       [26, 27, 28, 29, 30, 31, 32, 33, 34, 35, 36, 37, 38, 39, 40, 41]])"
            ]
          },
          "metadata": {
            "tags": []
          },
          "execution_count": 107
        }
      ]
    },
    {
      "cell_type": "code",
      "metadata": {
        "colab": {
          "base_uri": "https://localhost:8080/"
        },
        "id": "jNnvEhZaRolg",
        "outputId": "1ca5e6ae-e2f2-49ba-a63d-f5279873990a"
      },
      "source": [
        "arr_flat"
      ],
      "execution_count": null,
      "outputs": [
        {
          "output_type": "execute_result",
          "data": {
            "text/plain": [
              "array([ 0,  1,  2,  3,  4,  5,  6,  7,  8,  9, 10, 11, 12, 13, 14, 15, 16,\n",
              "       17, 18, 19, 20, 21, 22, 23, 24, 25, 26, 27, 28, 29, 30, 31])"
            ]
          },
          "metadata": {
            "tags": []
          },
          "execution_count": 108
        }
      ]
    },
    {
      "cell_type": "code",
      "metadata": {
        "colab": {
          "base_uri": "https://localhost:8080/"
        },
        "id": "f9qQrelzSKQ2",
        "outputId": "61c01393-f293-4b81-fe91-06b9050534e8"
      },
      "source": [
        "# ravel+copy = flatten\n",
        "arr_reshaped = arr.reshape(2,-1)\n",
        "arr_reshaped"
      ],
      "execution_count": null,
      "outputs": [
        {
          "output_type": "execute_result",
          "data": {
            "text/plain": [
              "array([[ 0,  1,  2,  3,  4,  5,  6,  7,  8,  9, 10, 11, 12, 13, 14, 15],\n",
              "       [16, 17, 18, 19, 20, 21, 22, 23, 24, 25, 26, 27, 28, 29, 30, 31]])"
            ]
          },
          "metadata": {
            "tags": []
          },
          "execution_count": 128
        }
      ]
    },
    {
      "cell_type": "code",
      "metadata": {
        "colab": {
          "base_uri": "https://localhost:8080/"
        },
        "id": "T4Hab5Z0SUCf",
        "outputId": "d21f6fbc-5bf7-43c9-fc74-2e3f6a53ca8e"
      },
      "source": [
        "arr_flat = arr.ravel().copy()\n",
        "arr_flat"
      ],
      "execution_count": null,
      "outputs": [
        {
          "output_type": "execute_result",
          "data": {
            "text/plain": [
              "array([ 0,  1,  2,  3,  4,  5,  6,  7,  8,  9, 10, 11, 12, 13, 14, 15, 16,\n",
              "       17, 18, 19, 20, 21, 22, 23, 24, 25, 26, 27, 28, 29, 30, 31])"
            ]
          },
          "metadata": {
            "tags": []
          },
          "execution_count": 129
        }
      ]
    },
    {
      "cell_type": "code",
      "metadata": {
        "colab": {
          "base_uri": "https://localhost:8080/"
        },
        "id": "ur9nRYx7Sh62",
        "outputId": "74f68e70-7054-449d-cb31-bcfe941166bf"
      },
      "source": [
        "arr_flat-=10\n",
        "arr"
      ],
      "execution_count": null,
      "outputs": [
        {
          "output_type": "execute_result",
          "data": {
            "text/plain": [
              "array([ 0,  1,  2,  3,  4,  5,  6,  7,  8,  9, 10, 11, 12, 13, 14, 15, 16,\n",
              "       17, 18, 19, 20, 21, 22, 23, 24, 25, 26, 27, 28, 29, 30, 31])"
            ]
          },
          "metadata": {
            "tags": []
          },
          "execution_count": 130
        }
      ]
    },
    {
      "cell_type": "code",
      "metadata": {
        "colab": {
          "base_uri": "https://localhost:8080/"
        },
        "id": "rGidpVK0SxDN",
        "outputId": "4033b7ea-19de-4a16-9263-f5b0f66e7b9c"
      },
      "source": [
        "arr_flat"
      ],
      "execution_count": null,
      "outputs": [
        {
          "output_type": "execute_result",
          "data": {
            "text/plain": [
              "array([-10,  -9,  -8,  -7,  -6,  -5,  -4,  -3,  -2,  -1,   0,   1,   2,\n",
              "         3,   4,   5,   6,   7,   8,   9,  10,  11,  12,  13,  14,  15,\n",
              "        16,  17,  18,  19,  20,  21])"
            ]
          },
          "metadata": {
            "tags": []
          },
          "execution_count": 131
        }
      ]
    },
    {
      "cell_type": "markdown",
      "metadata": {
        "id": "jDo-96VPXcFT"
      },
      "source": [
        "#### 배열 생성 4"
      ]
    },
    {
      "cell_type": "code",
      "metadata": {
        "colab": {
          "base_uri": "https://localhost:8080/"
        },
        "id": "z4b0S3fvS2tn",
        "outputId": "e01eb5a3-82e2-4aee-dd54-ce1ab7871605"
      },
      "source": [
        "# 배열 생성\n",
        "# 4. zeros, zeros_like, ones, ones_like, full, full_like, eye, empty\n",
        "# zeros, ones은 크기를 지정하면 0, 1로 채워진 배열 생성, full은 크기와 값을 지정하면 값으로 채워진 배열 생성\n",
        "# like은 크기 대신 배열을 전달하면 배열의 크기와 동일한 배열 생성\n",
        "# eye 단위 행렬(항등 행렬)로 n*n이기 때문에 n만 전달\n",
        "# empty는 크기를 전달하면 초기화되지 않은 값으로 채워짐\n",
        "\n",
        "arr = np.arange(5)\n",
        "print('arange:', arr, sep='\\n')\n",
        "\n",
        "print('\\nzeros:', np.zeros((2,2)), sep='\\n')\n",
        "print('\\nones:', np.ones((2,2)), sep='\\n')\n",
        "print('\\nfull:', np.full((2,2), 5), sep='\\n')\n",
        "print('\\nzeros_like:', np.zeros_like(arr), sep='\\n')\n",
        "print('\\nones_like:', np.ones_like(arr), sep='\\n')\n",
        "print('\\nfull_like:', np.full_like(arr, 5), sep='\\n')\n",
        "print('\\neye:', np.eye(5), sep='\\n')\n",
        "print('\\nempty:', np.empty((2,2)), sep='\\n')"
      ],
      "execution_count": null,
      "outputs": [
        {
          "output_type": "stream",
          "text": [
            "arange:\n",
            "[0 1 2 3 4]\n",
            "\n",
            "zeros:\n",
            "[[0. 0.]\n",
            " [0. 0.]]\n",
            "\n",
            "ones:\n",
            "[[1. 1.]\n",
            " [1. 1.]]\n",
            "\n",
            "full:\n",
            "[[5 5]\n",
            " [5 5]]\n",
            "\n",
            "zeros_like:\n",
            "[0 0 0 0 0]\n",
            "\n",
            "ones_like:\n",
            "[1 1 1 1 1]\n",
            "\n",
            "full_like:\n",
            "[5 5 5 5 5]\n",
            "\n",
            "eye:\n",
            "[[1. 0. 0. 0. 0.]\n",
            " [0. 1. 0. 0. 0.]\n",
            " [0. 0. 1. 0. 0.]\n",
            " [0. 0. 0. 1. 0.]\n",
            " [0. 0. 0. 0. 1.]]\n",
            "\n",
            "empty:\n",
            "[[2.5e-323 2.5e-323]\n",
            " [2.5e-323 2.5e-323]]\n"
          ],
          "name": "stdout"
        }
      ]
    },
    {
      "cell_type": "markdown",
      "metadata": {
        "id": "u65aB1JsXhPp"
      },
      "source": [
        "#### 배열 타입 변경"
      ]
    },
    {
      "cell_type": "code",
      "metadata": {
        "colab": {
          "base_uri": "https://localhost:8080/"
        },
        "id": "45ugVogvUyw1",
        "outputId": "aa3a265e-e110-4014-bbb6-3183b60f8776"
      },
      "source": [
        "# 배열의 타입 확인, 지정, 변경 방법\n",
        "# 타입 확인 dtype\n",
        "arr = np.array([[1,2], [3,4]])\n",
        "arr, arr.dtype"
      ],
      "execution_count": null,
      "outputs": [
        {
          "output_type": "execute_result",
          "data": {
            "text/plain": [
              "(array([[1, 2],\n",
              "        [3, 4]]), dtype('int64'))"
            ]
          },
          "metadata": {
            "tags": []
          },
          "execution_count": 144
        }
      ]
    },
    {
      "cell_type": "code",
      "metadata": {
        "colab": {
          "base_uri": "https://localhost:8080/"
        },
        "id": "7Hf3RNuDU_Q3",
        "outputId": "b2540895-e997-4d75-9344-e4656963cf8d"
      },
      "source": [
        "# 생성 시 명시적 타입 지정\n",
        "# dytpe=\n",
        "arr = np.array([[1,2], [3,4]], dtype=np.float64)\n",
        "arr, arr.dtype"
      ],
      "execution_count": null,
      "outputs": [
        {
          "output_type": "execute_result",
          "data": {
            "text/plain": [
              "(array([[1., 2.],\n",
              "        [3., 4.]]), dtype('float64'))"
            ]
          },
          "metadata": {
            "tags": []
          },
          "execution_count": 145
        }
      ]
    },
    {
      "cell_type": "code",
      "metadata": {
        "colab": {
          "base_uri": "https://localhost:8080/"
        },
        "id": "s7ytdeqlVGmd",
        "outputId": "dac93c5e-3ca2-42bd-8cbf-cee03724ab67"
      },
      "source": [
        "arr = np.array([[1,2], [3,4]], dtype='float64')\n",
        "arr, arr.dtype"
      ],
      "execution_count": null,
      "outputs": [
        {
          "output_type": "execute_result",
          "data": {
            "text/plain": [
              "(array([[1., 2.],\n",
              "        [3., 4.]]), dtype('float64'))"
            ]
          },
          "metadata": {
            "tags": []
          },
          "execution_count": 155
        }
      ]
    },
    {
      "cell_type": "code",
      "metadata": {
        "colab": {
          "base_uri": "https://localhost:8080/"
        },
        "id": "6nebZae3VJL_",
        "outputId": "1cd1adf3-3ab0-4d90-8d58-ac9109fb4602"
      },
      "source": [
        "# 생성 후 타입 변경\n",
        "# 타입 변경은 복사\n",
        "arr_type_int = arr.astype('int64')\n",
        "arr_type_int, arr_type_int.dtype"
      ],
      "execution_count": null,
      "outputs": [
        {
          "output_type": "execute_result",
          "data": {
            "text/plain": [
              "(array([[1, 2],\n",
              "        [3, 4]]), dtype('int64'))"
            ]
          },
          "metadata": {
            "tags": []
          },
          "execution_count": 158
        }
      ]
    },
    {
      "cell_type": "code",
      "metadata": {
        "colab": {
          "base_uri": "https://localhost:8080/"
        },
        "id": "n2EZE2eXVgSe",
        "outputId": "977b422e-9235-4843-91e5-06ade85bea79"
      },
      "source": [
        "# 타입 함수로 변경 가능\n",
        "np.float64(arr_type_int)"
      ],
      "execution_count": null,
      "outputs": [
        {
          "output_type": "execute_result",
          "data": {
            "text/plain": [
              "array([[1., 2.],\n",
              "       [3., 4.]])"
            ]
          },
          "metadata": {
            "tags": []
          },
          "execution_count": 159
        }
      ]
    },
    {
      "cell_type": "markdown",
      "metadata": {
        "id": "b3Qi8teBXkUo"
      },
      "source": [
        "#### 배열 연산"
      ]
    },
    {
      "cell_type": "code",
      "metadata": {
        "colab": {
          "base_uri": "https://localhost:8080/"
        },
        "id": "u9V-vSAaV0rF",
        "outputId": "a364277e-5479-4ea4-c5c9-7647d649ec57"
      },
      "source": [
        "# 배열 연산\n",
        "# 배열 연산은 기본적으로 element by element\n",
        "# 사칙 연산\n",
        "x = np.array([[1,2],[3,4]], dtype='float64')\n",
        "y = np.array([[5,6],[7,8]], dtype='float64')\n",
        "print(x)\n",
        "print(y)"
      ],
      "execution_count": null,
      "outputs": [
        {
          "output_type": "stream",
          "text": [
            "[[1. 2.]\n",
            " [3. 4.]]\n",
            "[[5. 6.]\n",
            " [7. 8.]]\n"
          ],
          "name": "stdout"
        }
      ]
    },
    {
      "cell_type": "code",
      "metadata": {
        "colab": {
          "base_uri": "https://localhost:8080/"
        },
        "id": "BOZ-KTvgWMk_",
        "outputId": "6c15dd7b-f89a-45f2-9f77-f54c89333af0"
      },
      "source": [
        "# 덧셈\n",
        "print(x+y)\n",
        "print(np.add(x,y))"
      ],
      "execution_count": null,
      "outputs": [
        {
          "output_type": "stream",
          "text": [
            "[[ 6.  8.]\n",
            " [10. 12.]]\n",
            "[[ 6.  8.]\n",
            " [10. 12.]]\n"
          ],
          "name": "stdout"
        }
      ]
    },
    {
      "cell_type": "code",
      "metadata": {
        "colab": {
          "base_uri": "https://localhost:8080/"
        },
        "id": "I9Dr9_APWRUH",
        "outputId": "c462e3c5-e007-47e1-ca9a-139b83ae3279"
      },
      "source": [
        "# 뺄셈\n",
        "print(x-y)\n",
        "print(np.subtract(x,y))"
      ],
      "execution_count": null,
      "outputs": [
        {
          "output_type": "stream",
          "text": [
            "[[-4. -4.]\n",
            " [-4. -4.]]\n",
            "[[-4. -4.]\n",
            " [-4. -4.]]\n"
          ],
          "name": "stdout"
        }
      ]
    },
    {
      "cell_type": "code",
      "metadata": {
        "colab": {
          "base_uri": "https://localhost:8080/"
        },
        "id": "YNlzcDr9WVxu",
        "outputId": "1cddac9b-06f7-439e-b8ae-90477e00336a"
      },
      "source": [
        "# 곱셈\n",
        "# 행렬곱 아님! 요소끼리 곱한 것 \n",
        "print(x*y)\n",
        "print(np.multiply(x,y))"
      ],
      "execution_count": null,
      "outputs": [
        {
          "output_type": "stream",
          "text": [
            "[[ 5. 12.]\n",
            " [21. 32.]]\n",
            "[[ 5. 12.]\n",
            " [21. 32.]]\n"
          ],
          "name": "stdout"
        }
      ]
    },
    {
      "cell_type": "code",
      "metadata": {
        "colab": {
          "base_uri": "https://localhost:8080/"
        },
        "id": "59d6cISAWjcB",
        "outputId": "bd48e5ce-a0e1-4d1e-8a74-6482bb7c664a"
      },
      "source": [
        "# 나눗셈\n",
        "print(x/y)\n",
        "print(np.divide(x,y))"
      ],
      "execution_count": null,
      "outputs": [
        {
          "output_type": "stream",
          "text": [
            "[[0.2        0.33333333]\n",
            " [0.42857143 0.5       ]]\n",
            "[[0.2        0.33333333]\n",
            " [0.42857143 0.5       ]]\n"
          ],
          "name": "stdout"
        }
      ]
    },
    {
      "cell_type": "code",
      "metadata": {
        "colab": {
          "base_uri": "https://localhost:8080/"
        },
        "id": "0jHtWRW5WoNu",
        "outputId": "8d98412d-7143-44ad-b4b4-70617543dc10"
      },
      "source": [
        "# 제곱근\n",
        "print(np.sqrt(x))"
      ],
      "execution_count": null,
      "outputs": [
        {
          "output_type": "stream",
          "text": [
            "[[1.         1.41421356]\n",
            " [1.73205081 2.        ]]\n"
          ],
          "name": "stdout"
        }
      ]
    },
    {
      "cell_type": "code",
      "metadata": {
        "colab": {
          "base_uri": "https://localhost:8080/"
        },
        "id": "F-3E96ApW2Qf",
        "outputId": "f4206a31-6e74-432a-f599-dae0cf7ccaf3"
      },
      "source": [
        "# 거듭제곱\n",
        "print(np.power(x, 2))"
      ],
      "execution_count": null,
      "outputs": [
        {
          "output_type": "stream",
          "text": [
            "[[ 1.  4.]\n",
            " [ 9. 16.]]\n"
          ],
          "name": "stdout"
        }
      ]
    },
    {
      "cell_type": "code",
      "metadata": {
        "colab": {
          "base_uri": "https://localhost:8080/"
        },
        "id": "oSDQB3BBW7dM",
        "outputId": "406f2cf8-a4a8-4895-99a7-9b45bf488e04"
      },
      "source": [
        "# sin함수 값\n",
        "# sin(radian) -> 1 degree = 1*pi/180 radian\n",
        "print(np.sin(x))"
      ],
      "execution_count": null,
      "outputs": [
        {
          "output_type": "stream",
          "text": [
            "[[ 0.84147098  0.90929743]\n",
            " [ 0.14112001 -0.7568025 ]]\n"
          ],
          "name": "stdout"
        }
      ]
    },
    {
      "cell_type": "code",
      "metadata": {
        "colab": {
          "base_uri": "https://localhost:8080/"
        },
        "id": "RBD61C47Xsed",
        "outputId": "d05fc335-31f4-4276-b3a2-0720adece616"
      },
      "source": [
        "# broadcasting\n",
        "# 두 배열의 크기가 같지 않아도 연산 가능 (1차원 제외)\n",
        "x = np.arange(5).reshape(5,-1)\n",
        "x_1 = np.arange(4).reshape(-1,4)\n",
        "y = np.arange(20).reshape(5,-1)\n",
        "print(x)\n",
        "print(x_1)\n",
        "print(y)"
      ],
      "execution_count": null,
      "outputs": [
        {
          "output_type": "stream",
          "text": [
            "[[0]\n",
            " [1]\n",
            " [2]\n",
            " [3]\n",
            " [4]]\n",
            "[[0 1 2 3]]\n",
            "[[ 0  1  2  3]\n",
            " [ 4  5  6  7]\n",
            " [ 8  9 10 11]\n",
            " [12 13 14 15]\n",
            " [16 17 18 19]]\n"
          ],
          "name": "stdout"
        }
      ]
    },
    {
      "cell_type": "code",
      "metadata": {
        "colab": {
          "base_uri": "https://localhost:8080/"
        },
        "id": "Q80yzo7oYC24",
        "outputId": "044ffc65-8f99-4b70-8228-2b324a491ae7"
      },
      "source": [
        "x+y"
      ],
      "execution_count": null,
      "outputs": [
        {
          "output_type": "execute_result",
          "data": {
            "text/plain": [
              "array([[ 0,  1,  2,  3],\n",
              "       [ 5,  6,  7,  8],\n",
              "       [10, 11, 12, 13],\n",
              "       [15, 16, 17, 18],\n",
              "       [20, 21, 22, 23]])"
            ]
          },
          "metadata": {
            "tags": []
          },
          "execution_count": 185
        }
      ]
    },
    {
      "cell_type": "code",
      "metadata": {
        "colab": {
          "base_uri": "https://localhost:8080/"
        },
        "id": "mskgHQHAYLtm",
        "outputId": "e10ecd4c-ebfd-4b59-99db-42c447727e87"
      },
      "source": [
        "x_1+y"
      ],
      "execution_count": null,
      "outputs": [
        {
          "output_type": "execute_result",
          "data": {
            "text/plain": [
              "array([[ 0,  2,  4,  6],\n",
              "       [ 4,  6,  8, 10],\n",
              "       [ 8, 10, 12, 14],\n",
              "       [12, 14, 16, 18],\n",
              "       [16, 18, 20, 22]])"
            ]
          },
          "metadata": {
            "tags": []
          },
          "execution_count": 186
        }
      ]
    },
    {
      "cell_type": "code",
      "metadata": {
        "colab": {
          "base_uri": "https://localhost:8080/"
        },
        "id": "hu_pqSdvYbyd",
        "outputId": "a2e5ff8a-156e-4d67-a074-098937791df5"
      },
      "source": [
        "y*3"
      ],
      "execution_count": null,
      "outputs": [
        {
          "output_type": "execute_result",
          "data": {
            "text/plain": [
              "array([[ 0,  3,  6,  9],\n",
              "       [12, 15, 18, 21],\n",
              "       [24, 27, 30, 33],\n",
              "       [36, 39, 42, 45],\n",
              "       [48, 51, 54, 57]])"
            ]
          },
          "metadata": {
            "tags": []
          },
          "execution_count": 188
        }
      ]
    },
    {
      "cell_type": "code",
      "metadata": {
        "colab": {
          "base_uri": "https://localhost:8080/"
        },
        "id": "wQ-KXsEtYhk-",
        "outputId": "63f6456d-2ba3-4c32-fe47-b6bb4b8d6197"
      },
      "source": [
        "# 내적, 행렬곱\n",
        "# np.dot 함수 혹은 @ 기호\n",
        "x = np.array([[1,2],[3,4]], dtype='float64')\n",
        "y = np.array([[5,6],[7,8]])\n",
        "v = np.array([9,10], dtype='float64')\n",
        "w = np.array([11,12], dtype='float64')\n",
        "print(x)\n",
        "print(y)\n",
        "print(v)\n",
        "print(w)"
      ],
      "execution_count": null,
      "outputs": [
        {
          "output_type": "stream",
          "text": [
            "[[1. 2.]\n",
            " [3. 4.]]\n",
            "[[5 6]\n",
            " [7 8]]\n",
            "[ 9. 10.]\n",
            "[11. 12.]\n"
          ],
          "name": "stdout"
        }
      ]
    },
    {
      "cell_type": "code",
      "metadata": {
        "colab": {
          "base_uri": "https://localhost:8080/"
        },
        "id": "Awa8kIVpYrDF",
        "outputId": "25dc11c7-fa63-4522-95f5-477881ac0c46"
      },
      "source": [
        "# 백터의 내적\n",
        "# 1차원 배열끼리 연산\n",
        "v@w, np.dot(v,w)"
      ],
      "execution_count": null,
      "outputs": [
        {
          "output_type": "execute_result",
          "data": {
            "text/plain": [
              "(219.0, 219.0)"
            ]
          },
          "metadata": {
            "tags": []
          },
          "execution_count": 197
        }
      ]
    },
    {
      "cell_type": "code",
      "metadata": {
        "colab": {
          "base_uri": "https://localhost:8080/"
        },
        "id": "nZaw4TL0Y9BY",
        "outputId": "b71305a6-b6e4-427c-c4c4-005bf3e28f49"
      },
      "source": [
        "# 행렬 곱\n",
        "# 2차원 배열끼리 연산\n",
        "print(x@y)\n",
        "print(np.dot(x,y))\n",
        "print(x@(v.reshape(-1,1)))\n",
        "print((v.reshape(1,-1)@x))"
      ],
      "execution_count": null,
      "outputs": [
        {
          "output_type": "stream",
          "text": [
            "[[19. 22.]\n",
            " [43. 50.]]\n",
            "[[19. 22.]\n",
            " [43. 50.]]\n",
            "[[29.]\n",
            " [67.]]\n",
            "[[39. 58.]]\n"
          ],
          "name": "stdout"
        }
      ]
    },
    {
      "cell_type": "code",
      "metadata": {
        "colab": {
          "base_uri": "https://localhost:8080/"
        },
        "id": "AQb_UUyYZHZV",
        "outputId": "e542b6ce-2caa-402c-d674-bbacee84b116"
      },
      "source": [
        "# 행렬@벡터도 연산 가능\n",
        "print(x@v)\n",
        "print(v@x)"
      ],
      "execution_count": null,
      "outputs": [
        {
          "output_type": "stream",
          "text": [
            "[29. 67.]\n",
            "[39. 58.]\n"
          ],
          "name": "stdout"
        }
      ]
    },
    {
      "cell_type": "code",
      "metadata": {
        "colab": {
          "base_uri": "https://localhost:8080/"
        },
        "id": "_6Snay5HZpQi",
        "outputId": "ac8735ee-237f-47bf-a36a-7e23f3cd55d9"
      },
      "source": [
        "# abs, round, ceil, floor\n",
        "# 절댓값 반올림, 올림, 내림 함수\n",
        "# 반올림 함수는 파이썬과 동일 결과 (정수로 반올림 시 문제도 동일)\n",
        "\n",
        "x = np.random.randn(5,5)\n",
        "x"
      ],
      "execution_count": null,
      "outputs": [
        {
          "output_type": "execute_result",
          "data": {
            "text/plain": [
              "array([[-0.97799922,  1.33047682, -1.18593638, -1.85595337,  0.33886316],\n",
              "       [-0.0928381 ,  0.44024095,  1.07245019, -0.47792409,  0.69031375],\n",
              "       [ 0.67260035, -0.02914997,  1.39307264,  1.74445319, -0.93056442],\n",
              "       [ 0.06488768, -1.68241984,  0.95792986, -0.45424917, -1.30011669],\n",
              "       [ 1.23044739,  0.07826863,  0.4335551 , -0.65110108,  0.39397508]])"
            ]
          },
          "metadata": {
            "tags": []
          },
          "execution_count": 204
        }
      ]
    },
    {
      "cell_type": "code",
      "metadata": {
        "colab": {
          "base_uri": "https://localhost:8080/"
        },
        "id": "BOWYLax6aAuf",
        "outputId": "1b4e0f98-eb9e-408b-cd57-29be4b433922"
      },
      "source": [
        "x_abs = np.abs(x)\n",
        "x_abs"
      ],
      "execution_count": null,
      "outputs": [
        {
          "output_type": "execute_result",
          "data": {
            "text/plain": [
              "array([[0.97799922, 1.33047682, 1.18593638, 1.85595337, 0.33886316],\n",
              "       [0.0928381 , 0.44024095, 1.07245019, 0.47792409, 0.69031375],\n",
              "       [0.67260035, 0.02914997, 1.39307264, 1.74445319, 0.93056442],\n",
              "       [0.06488768, 1.68241984, 0.95792986, 0.45424917, 1.30011669],\n",
              "       [1.23044739, 0.07826863, 0.4335551 , 0.65110108, 0.39397508]])"
            ]
          },
          "metadata": {
            "tags": []
          },
          "execution_count": 206
        }
      ]
    },
    {
      "cell_type": "code",
      "metadata": {
        "colab": {
          "base_uri": "https://localhost:8080/"
        },
        "id": "MlRHmwVKaLJh",
        "outputId": "16d1dfb4-4709-48c8-f2c0-9a9d33377aaa"
      },
      "source": [
        "print(np.round(x_abs))\n",
        "print(np.round(x_abs, 2))"
      ],
      "execution_count": null,
      "outputs": [
        {
          "output_type": "stream",
          "text": [
            "[[1. 1. 1. 2. 0.]\n",
            " [0. 0. 1. 0. 1.]\n",
            " [1. 0. 1. 2. 1.]\n",
            " [0. 2. 1. 0. 1.]\n",
            " [1. 0. 0. 1. 0.]]\n",
            "[[0.98 1.33 1.19 1.86 0.34]\n",
            " [0.09 0.44 1.07 0.48 0.69]\n",
            " [0.67 0.03 1.39 1.74 0.93]\n",
            " [0.06 1.68 0.96 0.45 1.3 ]\n",
            " [1.23 0.08 0.43 0.65 0.39]]\n"
          ],
          "name": "stdout"
        }
      ]
    },
    {
      "cell_type": "code",
      "metadata": {
        "colab": {
          "base_uri": "https://localhost:8080/"
        },
        "id": "nf0ZgZiLaUKl",
        "outputId": "3f0c082a-8fbb-4238-f6f1-97c7ee473a6f"
      },
      "source": [
        "print(np.ceil(x_abs))"
      ],
      "execution_count": null,
      "outputs": [
        {
          "output_type": "stream",
          "text": [
            "[[1. 2. 2. 2. 1.]\n",
            " [1. 1. 2. 1. 1.]\n",
            " [1. 1. 2. 2. 1.]\n",
            " [1. 2. 1. 1. 2.]\n",
            " [2. 1. 1. 1. 1.]]\n"
          ],
          "name": "stdout"
        }
      ]
    },
    {
      "cell_type": "code",
      "metadata": {
        "colab": {
          "base_uri": "https://localhost:8080/"
        },
        "id": "PcrLxgtcaV9V",
        "outputId": "1605e1e8-b48f-4155-e0d0-41deb8f677a2"
      },
      "source": [
        "print(np.floor(x_abs))"
      ],
      "execution_count": null,
      "outputs": [
        {
          "output_type": "stream",
          "text": [
            "[[0. 1. 1. 1. 0.]\n",
            " [0. 0. 1. 0. 0.]\n",
            " [0. 0. 1. 1. 0.]\n",
            " [0. 1. 0. 0. 1.]\n",
            " [1. 0. 0. 0. 0.]]\n"
          ],
          "name": "stdout"
        }
      ]
    },
    {
      "cell_type": "code",
      "metadata": {
        "colab": {
          "base_uri": "https://localhost:8080/"
        },
        "id": "Xex-ol_6ac0t",
        "outputId": "d343d7fd-f065-4547-9402-0eb78f32bd19"
      },
      "source": [
        "# any, all\n",
        "# 파이썬에 있는 any, all과 동일\n",
        "\n",
        "arr1 = np.array([True, False, True, False])\n",
        "arr2 = np.array([True, True, True, True])\n",
        "\n",
        "arr1.any(), np.any(arr1), arr1.all(), np.all(arr1)"
      ],
      "execution_count": null,
      "outputs": [
        {
          "output_type": "execute_result",
          "data": {
            "text/plain": [
              "(True, True, False, False)"
            ]
          },
          "metadata": {
            "tags": []
          },
          "execution_count": 216
        }
      ]
    },
    {
      "cell_type": "code",
      "metadata": {
        "colab": {
          "base_uri": "https://localhost:8080/"
        },
        "id": "gQyzs0D_a07J",
        "outputId": "b7c61a1c-e35e-4a7a-80c0-2969d2df7309"
      },
      "source": [
        "arr2.any(), np.any(arr2), arr2.all(), np.all(arr2)"
      ],
      "execution_count": null,
      "outputs": [
        {
          "output_type": "execute_result",
          "data": {
            "text/plain": [
              "(True, True, True, True)"
            ]
          },
          "metadata": {
            "tags": []
          },
          "execution_count": 217
        }
      ]
    },
    {
      "cell_type": "code",
      "metadata": {
        "id": "tZZfjkh8eIwS",
        "colab": {
          "base_uri": "https://localhost:8080/"
        },
        "outputId": "b00e1889-4f05-4fcb-870f-812d96e5ae1a"
      },
      "source": [
        "# 논리 연산\n",
        "arr1 = np.arange(0,25).reshape(5,5)\n",
        "arr1"
      ],
      "execution_count": null,
      "outputs": [
        {
          "output_type": "execute_result",
          "data": {
            "text/plain": [
              "array([[ 0,  1,  2,  3,  4],\n",
              "       [ 5,  6,  7,  8,  9],\n",
              "       [10, 11, 12, 13, 14],\n",
              "       [15, 16, 17, 18, 19],\n",
              "       [20, 21, 22, 23, 24]])"
            ]
          },
          "metadata": {
            "tags": []
          },
          "execution_count": 221
        }
      ]
    },
    {
      "cell_type": "code",
      "metadata": {
        "id": "CntK81SZeAyo",
        "colab": {
          "base_uri": "https://localhost:8080/"
        },
        "outputId": "c89eb50d-95f9-4433-92af-7d124bb0acb9"
      },
      "source": [
        "# 배열의 개별 요소 별로 논리 연산을 수행하고 배열과 동일 크기의 boolean 타입 배열로 반환\n",
        "arr1>10"
      ],
      "execution_count": null,
      "outputs": [
        {
          "output_type": "execute_result",
          "data": {
            "text/plain": [
              "array([[False, False, False, False, False],\n",
              "       [False, False, False, False, False],\n",
              "       [False,  True,  True,  True,  True],\n",
              "       [ True,  True,  True,  True,  True],\n",
              "       [ True,  True,  True,  True,  True]])"
            ]
          },
          "metadata": {
            "tags": []
          },
          "execution_count": 222
        }
      ]
    },
    {
      "cell_type": "code",
      "metadata": {
        "colab": {
          "base_uri": "https://localhost:8080/",
          "height": 186
        },
        "id": "PdSpnKuIbi-2",
        "outputId": "34c86314-0339-4e7b-c477-14f069ce24fb"
      },
      "source": [
        "# 파이썬 논리 연산자로 비교 불가능\n",
        "arr1>10 and arr1%2==0"
      ],
      "execution_count": null,
      "outputs": [
        {
          "output_type": "error",
          "ename": "ValueError",
          "evalue": "ignored",
          "traceback": [
            "\u001b[0;31m---------------------------------------------------------------------------\u001b[0m",
            "\u001b[0;31mValueError\u001b[0m                                Traceback (most recent call last)",
            "\u001b[0;32m<ipython-input-225-fc615b4bc618>\u001b[0m in \u001b[0;36m<module>\u001b[0;34m()\u001b[0m\n\u001b[1;32m      1\u001b[0m \u001b[0;31m# 파이썬 논리 연산자로 비교 불가능\u001b[0m\u001b[0;34m\u001b[0m\u001b[0;34m\u001b[0m\u001b[0;34m\u001b[0m\u001b[0m\n\u001b[0;32m----> 2\u001b[0;31m \u001b[0marr1\u001b[0m\u001b[0;34m>\u001b[0m\u001b[0;36m10\u001b[0m \u001b[0;32mand\u001b[0m \u001b[0marr1\u001b[0m\u001b[0;34m%\u001b[0m\u001b[0;36m2\u001b[0m\u001b[0;34m==\u001b[0m\u001b[0;36m0\u001b[0m\u001b[0;34m\u001b[0m\u001b[0;34m\u001b[0m\u001b[0m\n\u001b[0m",
            "\u001b[0;31mValueError\u001b[0m: The truth value of an array with more than one element is ambiguous. Use a.any() or a.all()"
          ]
        }
      ]
    },
    {
      "cell_type": "code",
      "metadata": {
        "colab": {
          "base_uri": "https://localhost:8080/"
        },
        "id": "Wnvkj19kbpt1",
        "outputId": "b304cdb0-411a-4180-fd07-a820c309b24a"
      },
      "source": [
        "# logical_and, or, xor를 이용\n",
        "np.logical_and(arr1>10, arr1%2==0)"
      ],
      "execution_count": null,
      "outputs": [
        {
          "output_type": "execute_result",
          "data": {
            "text/plain": [
              "array([[False, False, False, False, False],\n",
              "       [False, False, False, False, False],\n",
              "       [False, False,  True, False,  True],\n",
              "       [False,  True, False,  True, False],\n",
              "       [ True, False,  True, False,  True]])"
            ]
          },
          "metadata": {
            "tags": []
          },
          "execution_count": 227
        }
      ]
    },
    {
      "cell_type": "code",
      "metadata": {
        "colab": {
          "base_uri": "https://localhost:8080/"
        },
        "id": "7gD1KEdKb3IW",
        "outputId": "467c09db-48fe-4496-edf1-0e5d0e77942b"
      },
      "source": [
        "# 비트 연산자 &, |를 이용\n",
        "(arr1>10) & (arr1%2==0) & (arr1<20)"
      ],
      "execution_count": null,
      "outputs": [
        {
          "output_type": "execute_result",
          "data": {
            "text/plain": [
              "array([[False, False, False, False, False],\n",
              "       [False, False, False, False, False],\n",
              "       [False, False,  True, False,  True],\n",
              "       [False,  True, False,  True, False],\n",
              "       [False, False, False, False, False]])"
            ]
          },
          "metadata": {
            "tags": []
          },
          "execution_count": 229
        }
      ]
    },
    {
      "cell_type": "markdown",
      "metadata": {
        "id": "u1I8emjWX-fu"
      },
      "source": [
        "#### 배열의 인덱싱 및 슬라이싱"
      ]
    },
    {
      "cell_type": "code",
      "metadata": {
        "id": "1XNcE-SigS52",
        "colab": {
          "base_uri": "https://localhost:8080/"
        },
        "outputId": "5fe59f50-a728-4c8c-f722-0bc0133b3bbd"
      },
      "source": [
        "# 1차원 배열 인덱싱\n",
        "# 리스트와 동일 양수, 음수 인덱스 모두 사용 가능\n",
        "arr = np.array([1,2,3,4,5])\n",
        "print(arr[0], arr[1], arr[2], arr[-3])"
      ],
      "execution_count": null,
      "outputs": [
        {
          "output_type": "stream",
          "text": [
            "1 2 3 3\n"
          ],
          "name": "stdout"
        }
      ]
    },
    {
      "cell_type": "code",
      "metadata": {
        "id": "UM1dv6iugS54",
        "colab": {
          "base_uri": "https://localhost:8080/"
        },
        "outputId": "ce4995c3-c069-4917-eee0-2be0af63596a"
      },
      "source": [
        "# 1차원 배열 값 수정\n",
        "# 인덱싱 후 값 수정\n",
        "arr[0] = 5\n",
        "arr"
      ],
      "execution_count": null,
      "outputs": [
        {
          "output_type": "execute_result",
          "data": {
            "text/plain": [
              "array([5, 2, 3, 4, 5])"
            ]
          },
          "metadata": {
            "tags": []
          },
          "execution_count": 289
        }
      ]
    },
    {
      "cell_type": "code",
      "metadata": {
        "colab": {
          "base_uri": "https://localhost:8080/"
        },
        "id": "2ZnFKYPhrvLl",
        "outputId": "55602efe-d358-4620-c697-63e4fb001189"
      },
      "source": [
        "# 1차원 배열의 fancy 인덱싱\n",
        "# 인덱스에 값이 아닌 리스트, 배열을 전달\n",
        "# 여러 개 인덱스를 지정하여 가져올 수 있음 (연속일 필요 없고, 중복 값도 가능)\n",
        "# 결과는 1차원 배열\n",
        "arr[[0,1]], arr[[0,0]]"
      ],
      "execution_count": null,
      "outputs": [
        {
          "output_type": "execute_result",
          "data": {
            "text/plain": [
              "(array([5, 2]), array([5, 5]))"
            ]
          },
          "metadata": {
            "tags": []
          },
          "execution_count": 295
        }
      ]
    },
    {
      "cell_type": "code",
      "metadata": {
        "colab": {
          "base_uri": "https://localhost:8080/"
        },
        "id": "l-AWpwbTsBUL",
        "outputId": "5039a7e0-55ed-4332-92f0-56a8ad02e05a"
      },
      "source": [
        "# 배열을 전달해도 가능\n",
        "arr[np.array([0,1])]"
      ],
      "execution_count": null,
      "outputs": [
        {
          "output_type": "execute_result",
          "data": {
            "text/plain": [
              "array([5, 2])"
            ]
          },
          "metadata": {
            "tags": []
          },
          "execution_count": 296
        }
      ]
    },
    {
      "cell_type": "code",
      "metadata": {
        "colab": {
          "base_uri": "https://localhost:8080/"
        },
        "id": "El3nrBuZseRK",
        "outputId": "70898ca0-0973-4e25-86c0-4a3d130e6fec"
      },
      "source": [
        "# fancy 인덱싱의 결과는 원본의 참조\n",
        "arr[[0,1]] = 10\n",
        "arr"
      ],
      "execution_count": null,
      "outputs": [
        {
          "output_type": "execute_result",
          "data": {
            "text/plain": [
              "array([10, 10,  3,  4,  5])"
            ]
          },
          "metadata": {
            "tags": []
          },
          "execution_count": 297
        }
      ]
    },
    {
      "cell_type": "code",
      "metadata": {
        "id": "fdwsCp8N_B7-",
        "colab": {
          "base_uri": "https://localhost:8080/"
        },
        "outputId": "9d53fdd8-a5d8-4e2d-8723-0ea770e6ce4d"
      },
      "source": [
        "# 1차원 배열 슬라이싱\n",
        "# 리스트와 동일\n",
        "arr[:2]"
      ],
      "execution_count": null,
      "outputs": [
        {
          "output_type": "execute_result",
          "data": {
            "text/plain": [
              "array([1, 2])"
            ]
          },
          "metadata": {
            "tags": []
          },
          "execution_count": 288
        }
      ]
    },
    {
      "cell_type": "code",
      "metadata": {
        "colab": {
          "base_uri": "https://localhost:8080/"
        },
        "id": "fA8Po-4udkG1",
        "outputId": "97a1186b-e3df-4228-a767-249495d9ffea"
      },
      "source": [
        "# 슬라이싱 후 값 수정\n",
        "# 리스트에서는 슬라이싱 (리스트) 결과에 값 대입 불가\n",
        "arr[0:2] = 10\n",
        "arr"
      ],
      "execution_count": null,
      "outputs": [
        {
          "output_type": "execute_result",
          "data": {
            "text/plain": [
              "array([10, 10,  3,  4,  5])"
            ]
          },
          "metadata": {
            "tags": []
          },
          "execution_count": 242
        }
      ]
    },
    {
      "cell_type": "code",
      "metadata": {
        "colab": {
          "base_uri": "https://localhost:8080/"
        },
        "id": "iu4ssb5Ipf0a",
        "outputId": "543b67cd-a689-482e-d8ed-b4ea80cce8cc"
      },
      "source": [
        "# 2차원 배열의 인덱싱\n",
        "# 2차원 인덱싱은 시퀀스 타입과 방법이 다름\n",
        "# 행렬을 동시에 지정함\n",
        "# 배열명[행, 열]처럼 행,열을 tuple의 형태로 전달\n",
        "arr = np.arange(1,13).reshape(3,4)\n",
        "arr"
      ],
      "execution_count": null,
      "outputs": [
        {
          "output_type": "execute_result",
          "data": {
            "text/plain": [
              "array([[ 1,  2,  3,  4],\n",
              "       [ 5,  6,  7,  8],\n",
              "       [ 9, 10, 11, 12]])"
            ]
          },
          "metadata": {
            "tags": []
          },
          "execution_count": 8
        }
      ]
    },
    {
      "cell_type": "code",
      "metadata": {
        "colab": {
          "base_uri": "https://localhost:8080/"
        },
        "id": "zJwqr4UAqZdj",
        "outputId": "ddb58bd9-28a7-4971-f977-8a187e0eeca8"
      },
      "source": [
        "# 인덱싱\n",
        "# 인덱스는 양수 음수 모두 가능\n",
        "arr[1,2], arr[0,0], arr[2,3], arr[-1, -1], arr[1,1]"
      ],
      "execution_count": null,
      "outputs": [
        {
          "output_type": "execute_result",
          "data": {
            "text/plain": [
              "(7, 1, 12, 12, 6)"
            ]
          },
          "metadata": {
            "tags": []
          },
          "execution_count": 7
        }
      ]
    },
    {
      "cell_type": "code",
      "metadata": {
        "colab": {
          "base_uri": "https://localhost:8080/"
        },
        "id": "T5fwMVQCqsjU",
        "outputId": "d44321a6-0908-456d-8039-152676e12f7b"
      },
      "source": [
        "# 인덱싱 후 값의 수정\n",
        "arr[1,2] = 10\n",
        "print(arr)\n",
        "arr[1,2] = 7\n",
        "print(arr)"
      ],
      "execution_count": null,
      "outputs": [
        {
          "output_type": "stream",
          "text": [
            "[[ 1  2  3  4]\n",
            " [ 5  6 10  8]\n",
            " [ 9 10 11 12]]\n",
            "[[ 1  2  3  4]\n",
            " [ 5  6  7  8]\n",
            " [ 9 10 11 12]]\n"
          ],
          "name": "stdout"
        }
      ]
    },
    {
      "cell_type": "code",
      "metadata": {
        "colab": {
          "base_uri": "https://localhost:8080/"
        },
        "id": "ECly9oRWq8y7",
        "outputId": "1a0d4c52-d6ec-4f64-c8cc-76b6358064a7"
      },
      "source": [
        "# 3차원인 경우 idx1 idx2 idx로 세 개를 사용하여 인덱싱 할 수 있음\n",
        "arr3d = arr.reshape(1, 3, 4).copy()\n",
        "arr3d"
      ],
      "execution_count": null,
      "outputs": [
        {
          "output_type": "execute_result",
          "data": {
            "text/plain": [
              "array([[[ 1,  2,  3,  4],\n",
              "        [ 5,  6,  7,  8],\n",
              "        [ 9, 10, 11, 12]]])"
            ]
          },
          "metadata": {
            "tags": []
          },
          "execution_count": 283
        }
      ]
    },
    {
      "cell_type": "code",
      "metadata": {
        "colab": {
          "base_uri": "https://localhost:8080/"
        },
        "id": "JcDfISsnrYXh",
        "outputId": "37c30ca4-8ef2-4c8c-94da-c592c1d8195b"
      },
      "source": [
        "# 12 값을 가져오려면\n",
        "arr3d[0, -1, -1]"
      ],
      "execution_count": null,
      "outputs": [
        {
          "output_type": "execute_result",
          "data": {
            "text/plain": [
              "12"
            ]
          },
          "metadata": {
            "tags": []
          },
          "execution_count": 285
        }
      ]
    },
    {
      "cell_type": "code",
      "metadata": {
        "colab": {
          "base_uri": "https://localhost:8080/"
        },
        "id": "rnRJLnO5s-W-",
        "outputId": "cfb07918-3cef-41f4-e1b4-bf4362bb116e"
      },
      "source": [
        "arr"
      ],
      "execution_count": null,
      "outputs": [
        {
          "output_type": "execute_result",
          "data": {
            "text/plain": [
              "array([[ 1,  2,  3,  4],\n",
              "       [ 5,  6,  7,  8],\n",
              "       [ 9, 10, 11, 12]])"
            ]
          },
          "metadata": {
            "tags": []
          },
          "execution_count": 301
        }
      ]
    },
    {
      "cell_type": "code",
      "metadata": {
        "colab": {
          "base_uri": "https://localhost:8080/"
        },
        "id": "osPNAiHHrjo_",
        "outputId": "72bcee82-9b8e-432b-fcae-0aa8d0bc5ba3"
      },
      "source": [
        "# 2차원 배열의 fancy indexing\n",
        "# 1차원 fi와 마찬가지로 행과 열 인덱스 자리에 값이 아닌 리스트/배열을 전달하여 추출\n",
        "# 결과는 1차원 배열\n",
        "arr[[0,1], [0,0]]"
      ],
      "execution_count": null,
      "outputs": [
        {
          "output_type": "execute_result",
          "data": {
            "text/plain": [
              "array([1, 5])"
            ]
          },
          "metadata": {
            "tags": []
          },
          "execution_count": 303
        }
      ]
    },
    {
      "cell_type": "code",
      "metadata": {
        "colab": {
          "base_uri": "https://localhost:8080/"
        },
        "id": "Atah-pTEtMgk",
        "outputId": "6d6bfd19-17dc-4ad5-91b3-354bdc84f2d8"
      },
      "source": [
        "# 행과 열 줄 한 쪽은 인덱싱을 해도 추출 가능\n",
        "# 이 경우 인덱싱한 축의 값을 해당 값으로 고정\n",
        "# 예 [0,1], 0 -> [0,0] , [1,0] 두 값을 추출\n",
        "arr[[0,1], 0]"
      ],
      "execution_count": null,
      "outputs": [
        {
          "output_type": "execute_result",
          "data": {
            "text/plain": [
              "array([1, 5])"
            ]
          },
          "metadata": {
            "tags": []
          },
          "execution_count": 305
        }
      ]
    },
    {
      "cell_type": "code",
      "metadata": {
        "colab": {
          "base_uri": "https://localhost:8080/"
        },
        "id": "UsL6R7HKtNWk",
        "outputId": "fc31e41d-cccb-43ab-b904-6f12849d431f"
      },
      "source": [
        "# 2차원 배열의 슬라이싱\n",
        "# 2차원 배열의 슬라이싱은 2차원 리스트의 슬라이싱과 결과가 다름\n",
        "# 행 열 각각 슬라이싱하여 격자 모양을 유지한 상태로 추출됨\n",
        "arr"
      ],
      "execution_count": null,
      "outputs": [
        {
          "output_type": "execute_result",
          "data": {
            "text/plain": [
              "array([[ 1,  2,  3,  4],\n",
              "       [ 5,  6,  7,  8],\n",
              "       [ 9, 10, 11, 12]])"
            ]
          },
          "metadata": {
            "tags": []
          },
          "execution_count": 307
        }
      ]
    },
    {
      "cell_type": "code",
      "metadata": {
        "colab": {
          "base_uri": "https://localhost:8080/"
        },
        "id": "VqKr_dBA-U6-",
        "outputId": "918bb194-41a4-458a-bb17-99d822d67285"
      },
      "source": [
        "arr[1:, 1:3]"
      ],
      "execution_count": null,
      "outputs": [
        {
          "output_type": "execute_result",
          "data": {
            "text/plain": [
              "array([[ 6,  7],\n",
              "       [10, 11]])"
            ]
          },
          "metadata": {
            "tags": []
          },
          "execution_count": 9
        }
      ]
    },
    {
      "cell_type": "code",
      "metadata": {
        "colab": {
          "base_uri": "https://localhost:8080/"
        },
        "id": "MCjgs7wet9gN",
        "outputId": "d2f1a567-6819-49b3-e532-ade83a1b85e9"
      },
      "source": [
        "# 예) 7  8  를 추출하려면 다음과 같이 실행\n",
        "#     11 12\n",
        "# 행/열을 각각 슬라이싱, 축 별 슬라이싱 방법은 1차원 배열과 동일\n",
        "# 슬라이싱된 결과 배열은 원본의 참조\n",
        "arr[ 1: , 2: ]"
      ],
      "execution_count": null,
      "outputs": [
        {
          "output_type": "execute_result",
          "data": {
            "text/plain": [
              "array([[ 7,  8],\n",
              "       [11, 12]])"
            ]
          },
          "metadata": {
            "tags": []
          },
          "execution_count": 308
        }
      ]
    },
    {
      "cell_type": "code",
      "metadata": {
        "colab": {
          "base_uri": "https://localhost:8080/"
        },
        "id": "Hwil99kduY6r",
        "outputId": "adc714fa-5df7-4adb-f322-2b5fb23b5c5c"
      },
      "source": [
        "# 슬라이싱, 인덱싱 조합에 따른 출력 shape\n",
        "print(f'i + i = {arr[0, 0]}, {arr[0, 0].shape}')\n",
        "print(f's + i = {arr[:1, 0]}, {arr[:1, 0].shape}')\n",
        "print(f'i + s = {arr[0, :1]}, {arr[0, :1].shape}')\n",
        "print(f's + s = {arr[:1, :1]}, {arr[:1, :1].shape}')\n",
        "print(f'f + s = {arr[[0], :1]}, {arr[[0], :1].shape}')\n",
        "print(f's + f = {arr[:1, [0]]}, {arr[:1, [0]].shape}')"
      ],
      "execution_count": null,
      "outputs": [
        {
          "output_type": "stream",
          "text": [
            "i + i = 1, ()\n",
            "s + i = [1], (1,)\n",
            "i + s = [1], (1,)\n",
            "s + s = [[1]], (1, 1)\n",
            "f + s = [[1]], (1, 1)\n",
            "s + f = [[1]], (1, 1)\n"
          ],
          "name": "stdout"
        }
      ]
    },
    {
      "cell_type": "code",
      "metadata": {
        "colab": {
          "base_uri": "https://localhost:8080/"
        },
        "id": "TTlRY0NXuhWf",
        "outputId": "cb0ebe3a-b6c6-469d-9f01-e89109fb6c51"
      },
      "source": [
        "arr, arr.shape"
      ],
      "execution_count": null,
      "outputs": [
        {
          "output_type": "execute_result",
          "data": {
            "text/plain": [
              "(array([[ 1,  2,  3,  4],\n",
              "        [ 5,  6,  7,  8],\n",
              "        [ 9, 10, 11, 12]]), (3, 4))"
            ]
          },
          "metadata": {
            "tags": []
          },
          "execution_count": 321
        }
      ]
    },
    {
      "cell_type": "code",
      "metadata": {
        "colab": {
          "base_uri": "https://localhost:8080/"
        },
        "id": "mIPb_BwLvhEC",
        "outputId": "e64317da-2dd5-46a5-b903-1ebafc456886"
      },
      "source": [
        "row1 = arr[1, :]\n",
        "row1"
      ],
      "execution_count": null,
      "outputs": [
        {
          "output_type": "execute_result",
          "data": {
            "text/plain": [
              "array([5, 6, 7, 8])"
            ]
          },
          "metadata": {
            "tags": []
          },
          "execution_count": 328
        }
      ]
    },
    {
      "cell_type": "code",
      "metadata": {
        "colab": {
          "base_uri": "https://localhost:8080/"
        },
        "id": "3b4xOkcbvlgM",
        "outputId": "e2468e74-4a12-44c4-a3be-50849f4ad549"
      },
      "source": [
        "row2 = arr[1:2, :]\n",
        "row2"
      ],
      "execution_count": null,
      "outputs": [
        {
          "output_type": "execute_result",
          "data": {
            "text/plain": [
              "array([[5, 6, 7, 8]])"
            ]
          },
          "metadata": {
            "tags": []
          },
          "execution_count": 329
        }
      ]
    },
    {
      "cell_type": "code",
      "metadata": {
        "colab": {
          "base_uri": "https://localhost:8080/"
        },
        "id": "z2vpMS1bvrxC",
        "outputId": "8e20fa4d-db90-4e33-b118-b681886604dc"
      },
      "source": [
        "col1 = arr[:, 1]\n",
        "col1"
      ],
      "execution_count": null,
      "outputs": [
        {
          "output_type": "execute_result",
          "data": {
            "text/plain": [
              "array([ 2,  6, 10])"
            ]
          },
          "metadata": {
            "tags": []
          },
          "execution_count": 330
        }
      ]
    },
    {
      "cell_type": "code",
      "metadata": {
        "colab": {
          "base_uri": "https://localhost:8080/"
        },
        "id": "TX9ClmJdvxgR",
        "outputId": "80882108-b2d9-4cf3-bfa1-a6bdff277f67"
      },
      "source": [
        "col2 = arr[:, 1:2]\n",
        "col2"
      ],
      "execution_count": null,
      "outputs": [
        {
          "output_type": "execute_result",
          "data": {
            "text/plain": [
              "array([[ 2],\n",
              "       [ 6],\n",
              "       [10]])"
            ]
          },
          "metadata": {
            "tags": []
          },
          "execution_count": 331
        }
      ]
    },
    {
      "cell_type": "code",
      "metadata": {
        "colab": {
          "base_uri": "https://localhost:8080/"
        },
        "id": "gvxxP5WAwSUT",
        "outputId": "20cfbcaf-2ab6-4d77-fd6a-d0acc0fe6a2c"
      },
      "source": [
        "# 2차원 배열의 인덱싱 혹은 슬라이싱 시 쉼표 없이 전달하면 행을 나타냄\n",
        "# 인덱싱, 팬시 인덱싱, 슬라이싱 모두 가능\n",
        "arr[0], arr[1]"
      ],
      "execution_count": null,
      "outputs": [
        {
          "output_type": "execute_result",
          "data": {
            "text/plain": [
              "(array([1, 2, 3, 4]), array([5, 6, 7, 8]))"
            ]
          },
          "metadata": {
            "tags": []
          },
          "execution_count": 344
        }
      ]
    },
    {
      "cell_type": "code",
      "metadata": {
        "colab": {
          "base_uri": "https://localhost:8080/"
        },
        "id": "w1xdQ-4Nwqmg",
        "outputId": "4672c137-ce97-4a6c-edca-115afe36dc23"
      },
      "source": [
        " arr[[0,1]]"
      ],
      "execution_count": null,
      "outputs": [
        {
          "output_type": "execute_result",
          "data": {
            "text/plain": [
              "array([[1, 2, 3, 4],\n",
              "       [5, 6, 7, 8]])"
            ]
          },
          "metadata": {
            "tags": []
          },
          "execution_count": 343
        }
      ]
    },
    {
      "cell_type": "code",
      "metadata": {
        "colab": {
          "base_uri": "https://localhost:8080/"
        },
        "id": "VRcx8E7DwyAS",
        "outputId": "6fde2e97-c46e-4a2b-940d-a8deb73d3027"
      },
      "source": [
        "arr[0:2]"
      ],
      "execution_count": null,
      "outputs": [
        {
          "output_type": "execute_result",
          "data": {
            "text/plain": [
              "array([[1, 2, 3, 4],\n",
              "       [5, 6, 7, 8]])"
            ]
          },
          "metadata": {
            "tags": []
          },
          "execution_count": 342
        }
      ]
    },
    {
      "cell_type": "code",
      "metadata": {
        "colab": {
          "base_uri": "https://localhost:8080/"
        },
        "id": "Tb-kni83xAdx",
        "outputId": "bdb75702-f214-43ce-9fd5-00344d5eb755"
      },
      "source": [
        "# boolean 인덱싱\n",
        "# 인덱스(번호) 대신 boolean 타입의 배열을 전달하는 인덱싱 방법\n",
        "# True가 있는 위치의 값만 추출하여 1차원 배열로 반환\n",
        "arr"
      ],
      "execution_count": null,
      "outputs": [
        {
          "output_type": "execute_result",
          "data": {
            "text/plain": [
              "array([[ 1,  2,  3,  4],\n",
              "       [ 5,  6,  7,  8],\n",
              "       [ 9, 10, 11, 12]])"
            ]
          },
          "metadata": {
            "tags": []
          },
          "execution_count": 14
        }
      ]
    },
    {
      "cell_type": "code",
      "metadata": {
        "colab": {
          "base_uri": "https://localhost:8080/"
        },
        "id": "sCj1mkIfxKA3",
        "outputId": "a23ee58e-f56f-49e4-8268-11e1dec89d4d"
      },
      "source": [
        "# boolean 배열 생성 방법\n",
        "# 배열 전체에 대한 비교 연산을 수행\n",
        "# 넘파이 연산은 각 요소 별로 적용되기 때문에 배열에 바로 비교를 수행하면 됨\n",
        "idx = arr >= 5\n",
        "idx"
      ],
      "execution_count": null,
      "outputs": [
        {
          "output_type": "execute_result",
          "data": {
            "text/plain": [
              "array([[False, False, False, False],\n",
              "       [ True,  True,  True,  True],\n",
              "       [ True,  True,  True,  True]])"
            ]
          },
          "metadata": {
            "tags": []
          },
          "execution_count": 12
        }
      ]
    },
    {
      "cell_type": "code",
      "metadata": {
        "colab": {
          "base_uri": "https://localhost:8080/"
        },
        "id": "LXVl-jVQAkCm",
        "outputId": "d62a34db-7f82-41da-90f6-9a8eca0d985e"
      },
      "source": [
        "arr[idx]"
      ],
      "execution_count": null,
      "outputs": [
        {
          "output_type": "execute_result",
          "data": {
            "text/plain": [
              "array([ 5,  6,  7,  8,  9, 10, 11, 12])"
            ]
          },
          "metadata": {
            "tags": []
          },
          "execution_count": 13
        }
      ]
    },
    {
      "cell_type": "code",
      "metadata": {
        "colab": {
          "base_uri": "https://localhost:8080/"
        },
        "id": "8pS5onZsxdto",
        "outputId": "9aba4567-c3a1-4095-a7a2-1a2cff810d65"
      },
      "source": [
        "# T/F 배열의 값이 True인 위치의 값만 추출 (Masking)\n",
        "# 결과는 1차원으로\n",
        "arr[arr>=5]"
      ],
      "execution_count": null,
      "outputs": [
        {
          "output_type": "execute_result",
          "data": {
            "text/plain": [
              "array([ 5,  6,  7,  8,  9, 10, 11, 12])"
            ]
          },
          "metadata": {
            "tags": []
          },
          "execution_count": 361
        }
      ]
    },
    {
      "cell_type": "code",
      "metadata": {
        "colab": {
          "base_uri": "https://localhost:8080/"
        },
        "id": "9VBj1u5dxpo5",
        "outputId": "f523ba5f-efea-4f24-e546-abb73e1f9652"
      },
      "source": [
        "# boolean 인덱싱은 1차원 배열도 가능\n",
        "arr1d = arr.reshape(-1, ).copy()\n",
        "arr1d"
      ],
      "execution_count": null,
      "outputs": [
        {
          "output_type": "execute_result",
          "data": {
            "text/plain": [
              "array([ 1,  2,  3,  4,  5,  6,  7,  8,  9, 10, 11, 12])"
            ]
          },
          "metadata": {
            "tags": []
          },
          "execution_count": 15
        }
      ]
    },
    {
      "cell_type": "code",
      "metadata": {
        "colab": {
          "base_uri": "https://localhost:8080/"
        },
        "id": "41t8V-Oyxx7Z",
        "outputId": "b8a31720-0175-4c4f-b584-8559cbc1a43c"
      },
      "source": [
        "arr1d[arr1d>=5]"
      ],
      "execution_count": null,
      "outputs": [
        {
          "output_type": "execute_result",
          "data": {
            "text/plain": [
              "array([ 5,  6,  7,  8,  9, 10, 11, 12])"
            ]
          },
          "metadata": {
            "tags": []
          },
          "execution_count": 363
        }
      ]
    },
    {
      "cell_type": "code",
      "metadata": {
        "colab": {
          "base_uri": "https://localhost:8080/"
        },
        "id": "tM-ey-lHylZV",
        "outputId": "8ddcabea-52ac-468d-9aad-1491271da98e"
      },
      "source": [
        "# 같은 크기 (shape)의 TF 배열이면 되기 때문에 다른 배열의 조건 결과를 가져와서 사용할 수 있음\n",
        "arr2 = arr*10\n",
        "arr2"
      ],
      "execution_count": null,
      "outputs": [
        {
          "output_type": "execute_result",
          "data": {
            "text/plain": [
              "array([[ 10,  20,  30,  40],\n",
              "       [ 50,  60,  70,  80],\n",
              "       [ 90, 100, 110, 120]])"
            ]
          },
          "metadata": {
            "tags": []
          },
          "execution_count": 357
        }
      ]
    },
    {
      "cell_type": "code",
      "metadata": {
        "colab": {
          "base_uri": "https://localhost:8080/"
        },
        "id": "Sirn15dky0T1",
        "outputId": "dcbf805a-8d2b-49a8-d8c1-3b5c3271e3fa"
      },
      "source": [
        "arr2[arr>=5]"
      ],
      "execution_count": null,
      "outputs": [
        {
          "output_type": "execute_result",
          "data": {
            "text/plain": [
              "array([ 60,  70,  80,  90, 100, 110, 120, 130])"
            ]
          },
          "metadata": {
            "tags": []
          },
          "execution_count": 364
        }
      ]
    },
    {
      "cell_type": "code",
      "metadata": {
        "colab": {
          "base_uri": "https://localhost:8080/"
        },
        "id": "sqV9Y1LZFXrC",
        "outputId": "1695d2f9-2dc2-4df5-ee02-c854a47e7e3a"
      },
      "source": [
        "arr1d"
      ],
      "execution_count": null,
      "outputs": [
        {
          "output_type": "execute_result",
          "data": {
            "text/plain": [
              "array([ 1,  2,  3,  4,  5,  6,  7,  8,  9, 10, 11, 12])"
            ]
          },
          "metadata": {
            "tags": []
          },
          "execution_count": 16
        }
      ]
    },
    {
      "cell_type": "code",
      "metadata": {
        "colab": {
          "base_uri": "https://localhost:8080/"
        },
        "id": "6l01s5vUzJOK",
        "outputId": "f59233ee-6bee-40d6-d6db-e42712f011e8"
      },
      "source": [
        "# where 함수\n",
        "# where(조건) -> 조건을 만족하는, 즉 True인 값의 위치를 반환\n",
        "np.where(arr1d>=5)"
      ],
      "execution_count": null,
      "outputs": [
        {
          "output_type": "execute_result",
          "data": {
            "text/plain": [
              "(array([ 4,  5,  6,  7,  8,  9, 10, 11]),)"
            ]
          },
          "metadata": {
            "tags": []
          },
          "execution_count": 371
        }
      ]
    },
    {
      "cell_type": "code",
      "metadata": {
        "colab": {
          "base_uri": "https://localhost:8080/"
        },
        "id": "zDsydSMBFhi2",
        "outputId": "e639d799-6ea0-480d-988e-cfebfcf6b3c0"
      },
      "source": [
        "arr1d[np.where(arr1d>=5)]"
      ],
      "execution_count": null,
      "outputs": [
        {
          "output_type": "execute_result",
          "data": {
            "text/plain": [
              "array([ 5,  6,  7,  8,  9, 10, 11, 12])"
            ]
          },
          "metadata": {
            "tags": []
          },
          "execution_count": 17
        }
      ]
    },
    {
      "cell_type": "code",
      "metadata": {
        "colab": {
          "base_uri": "https://localhost:8080/"
        },
        "id": "DrCMhi6vFtJf",
        "outputId": "88c1bf01-14fb-4dd5-adb7-5b39a14fe581"
      },
      "source": [
        "arr1d[arr1d>=5]"
      ],
      "execution_count": null,
      "outputs": [
        {
          "output_type": "execute_result",
          "data": {
            "text/plain": [
              "array([ 5,  6,  7,  8,  9, 10, 11, 12])"
            ]
          },
          "metadata": {
            "tags": []
          },
          "execution_count": 18
        }
      ]
    },
    {
      "cell_type": "code",
      "metadata": {
        "colab": {
          "base_uri": "https://localhost:8080/"
        },
        "id": "aGW0G0pHFxQD",
        "outputId": "d3d55c4e-a71c-405c-f5b4-120901e7a8a0"
      },
      "source": [
        "arr"
      ],
      "execution_count": null,
      "outputs": [
        {
          "output_type": "execute_result",
          "data": {
            "text/plain": [
              "array([[ 1,  2,  3,  4],\n",
              "       [ 5,  6,  7,  8],\n",
              "       [ 9, 10, 11, 12]])"
            ]
          },
          "metadata": {
            "tags": []
          },
          "execution_count": 19
        }
      ]
    },
    {
      "cell_type": "code",
      "metadata": {
        "colab": {
          "base_uri": "https://localhost:8080/"
        },
        "id": "jk5aHCcpzVFa",
        "outputId": "8468783e-03ad-45d2-d4c5-91ecc266b5d1"
      },
      "source": [
        "# 2차원 배열인 경우 행의 인덱스가 한 배열로, 열의 인덱스가 다른 배열로 각각 1차원으로 출력\n",
        "row, col = np.where(arr>=5)\n",
        "print(row)\n",
        "print(col)"
      ],
      "execution_count": null,
      "outputs": [
        {
          "output_type": "stream",
          "text": [
            "[1 1 1 1 2 2 2 2]\n",
            "[0 1 2 3 0 1 2 3]\n"
          ],
          "name": "stdout"
        }
      ]
    },
    {
      "cell_type": "code",
      "metadata": {
        "colab": {
          "base_uri": "https://localhost:8080/"
        },
        "id": "eBnsxs4WF-hy",
        "outputId": "dad42086-d74d-4256-bca5-74459e3b1029"
      },
      "source": [
        "arr[row, col]"
      ],
      "execution_count": null,
      "outputs": [
        {
          "output_type": "execute_result",
          "data": {
            "text/plain": [
              "array([ 5,  6,  7,  8,  9, 10, 11, 12])"
            ]
          },
          "metadata": {
            "tags": []
          },
          "execution_count": 22
        }
      ]
    },
    {
      "cell_type": "code",
      "metadata": {
        "colab": {
          "base_uri": "https://localhost:8080/"
        },
        "id": "rGMSulwzz2Zc",
        "outputId": "6a26779c-f1c1-4fca-8135-7b9838e7248d"
      },
      "source": [
        "# 추출된 인덱스를 이용하여 팬시 인덱싱을 할 수 있음\n",
        "arr[np.where(arr>=5)]"
      ],
      "execution_count": null,
      "outputs": [
        {
          "output_type": "execute_result",
          "data": {
            "text/plain": [
              "array([ 5,  6,  7,  8,  9, 10, 11, 12])"
            ]
          },
          "metadata": {
            "tags": []
          },
          "execution_count": 374
        }
      ]
    },
    {
      "cell_type": "code",
      "metadata": {
        "colab": {
          "base_uri": "https://localhost:8080/"
        },
        "id": "3C3zBhP_GgPz",
        "outputId": "b8bd535b-59a6-4918-8faa-4309d8a2d827"
      },
      "source": [
        "arr"
      ],
      "execution_count": null,
      "outputs": [
        {
          "output_type": "execute_result",
          "data": {
            "text/plain": [
              "array([[ 1,  2,  3,  4],\n",
              "       [ 5,  6,  7,  8],\n",
              "       [ 9, 10, 11, 12]])"
            ]
          },
          "metadata": {
            "tags": []
          },
          "execution_count": 23
        }
      ]
    },
    {
      "cell_type": "code",
      "metadata": {
        "colab": {
          "base_uri": "https://localhost:8080/"
        },
        "id": "gTk51HpAzfMr",
        "outputId": "28d5f883-c8f0-469a-d0a6-1539dddd32e0"
      },
      "source": [
        "# where(조건, 참값, 거짓값)을 전달하면 True인 위치는 참 값, False인 위치는 거짓 값으로 변환\n",
        "# 5보다 크면 1, 이하면 0으로 변환\n",
        "# 결과는 원본 배열과 같은 크기의 배열로 출력\n",
        "np.where(arr>=5, 1, 0)"
      ],
      "execution_count": null,
      "outputs": [
        {
          "output_type": "execute_result",
          "data": {
            "text/plain": [
              "array([[0, 0, 0, 0],\n",
              "       [1, 1, 1, 1],\n",
              "       [1, 1, 1, 1]])"
            ]
          },
          "metadata": {
            "tags": []
          },
          "execution_count": 378
        }
      ]
    },
    {
      "cell_type": "code",
      "metadata": {
        "colab": {
          "base_uri": "https://localhost:8080/"
        },
        "id": "nJ1navIb0jzz",
        "outputId": "74039972-5e6c-4cd2-9399-53c1f35a730f"
      },
      "source": [
        "# 참 혹은 거짓 값에 배열을 전달하면 배열 내 같은 위치에 있는 값을 사용\n",
        "np.where(arr>=5, arr, -arr)"
      ],
      "execution_count": null,
      "outputs": [
        {
          "output_type": "execute_result",
          "data": {
            "text/plain": [
              "array([[-1, -2, -3, -4],\n",
              "       [ 5,  6,  7,  8],\n",
              "       [ 9, 10, 11, 12]])"
            ]
          },
          "metadata": {
            "tags": []
          },
          "execution_count": 381
        }
      ]
    },
    {
      "cell_type": "code",
      "metadata": {
        "id": "HxUftNx7gS8C"
      },
      "source": [
        "# 삼항 연산자로 위와 같은 연산을 할 수 있음\n",
        "xarr = np.array([1.1, 1.2, 1.3, 1.4, 1.5])\n",
        "yarr = np.array([2.1, 2.2, 2.3, 2.4, 2.5])\n",
        "cond = np.array([True, False, True, True, False])"
      ],
      "execution_count": null,
      "outputs": []
    },
    {
      "cell_type": "code",
      "metadata": {
        "scrolled": true,
        "id": "vUXVGOYTgS8E",
        "colab": {
          "base_uri": "https://localhost:8080/"
        },
        "outputId": "9b063bf3-a1ee-46ac-cdd7-6d8018cd2da0"
      },
      "source": [
        "[(x if c else y) for x,y,c in zip(xarr, yarr, cond)]"
      ],
      "execution_count": null,
      "outputs": [
        {
          "output_type": "execute_result",
          "data": {
            "text/plain": [
              "[1.1, 2.2, 1.3, 1.4, 2.5]"
            ]
          },
          "metadata": {
            "tags": []
          },
          "execution_count": 382
        }
      ]
    },
    {
      "cell_type": "code",
      "metadata": {
        "colab": {
          "base_uri": "https://localhost:8080/"
        },
        "id": "nfzAJV280Zmx",
        "outputId": "51874786-9cd4-4a2e-cee5-f0656c0d4864"
      },
      "source": [
        "np.where(cond, xarr, yarr)"
      ],
      "execution_count": null,
      "outputs": [
        {
          "output_type": "execute_result",
          "data": {
            "text/plain": [
              "array([1.1, 2.2, 1.3, 1.4, 2.5])"
            ]
          },
          "metadata": {
            "tags": []
          },
          "execution_count": 377
        }
      ]
    },
    {
      "cell_type": "markdown",
      "metadata": {
        "id": "5RZ9GRteYQbo"
      },
      "source": [
        "#### 기타 함수"
      ]
    },
    {
      "cell_type": "code",
      "metadata": {
        "id": "uQ3at0TrgS6T",
        "colab": {
          "base_uri": "https://localhost:8080/"
        },
        "outputId": "2b5cbe0d-8000-4d8e-88a5-3767f30fcf56"
      },
      "source": [
        "# 새 축 추가\n",
        "# np.newaxis\n",
        "# 임의의 축(없는 축)을 추가\n",
        "# nD->n+1D\n",
        "arr1d, arr1d.shape"
      ],
      "execution_count": null,
      "outputs": [
        {
          "output_type": "execute_result",
          "data": {
            "text/plain": [
              "(array([ 1,  2,  3,  4,  5,  6,  7,  8,  9, 10, 11, 12]), (12,))"
            ]
          },
          "metadata": {
            "tags": []
          },
          "execution_count": 24
        }
      ]
    },
    {
      "cell_type": "code",
      "metadata": {
        "id": "BesxIrKPHE9k"
      },
      "source": [
        "arr2d = arr1d.copy()"
      ],
      "execution_count": null,
      "outputs": []
    },
    {
      "cell_type": "code",
      "metadata": {
        "colab": {
          "base_uri": "https://localhost:8080/"
        },
        "id": "db0GJi561w1i",
        "outputId": "a1596eac-f335-47c4-ad83-77c0d642b203"
      },
      "source": [
        "arr2d[:, np.newaxis], arr2d[:, np.newaxis].shape"
      ],
      "execution_count": null,
      "outputs": [
        {
          "output_type": "execute_result",
          "data": {
            "text/plain": [
              "(array([[ 1],\n",
              "        [ 2],\n",
              "        [ 3],\n",
              "        [ 4],\n",
              "        [ 5],\n",
              "        [ 6],\n",
              "        [ 7],\n",
              "        [ 8],\n",
              "        [ 9],\n",
              "        [10],\n",
              "        [11],\n",
              "        [12]]), (12, 1))"
            ]
          },
          "metadata": {
            "tags": []
          },
          "execution_count": 26
        }
      ]
    },
    {
      "cell_type": "code",
      "metadata": {
        "colab": {
          "base_uri": "https://localhost:8080/"
        },
        "id": "tdGAiVZn19sn",
        "outputId": "5a17941b-cd69-403b-a29c-547090ffe86f"
      },
      "source": [
        "arr2d[np.newaxis, :], arr2d[np.newaxis, :].shape"
      ],
      "execution_count": null,
      "outputs": [
        {
          "output_type": "execute_result",
          "data": {
            "text/plain": [
              "(array([[ 1,  2,  3,  4,  5,  6,  7,  8,  9, 10, 11, 12]]), (1, 12))"
            ]
          },
          "metadata": {
            "tags": []
          },
          "execution_count": 27
        }
      ]
    },
    {
      "cell_type": "code",
      "metadata": {
        "colab": {
          "base_uri": "https://localhost:8080/"
        },
        "id": "aHd07DQKHv-2",
        "outputId": "49a209af-f6ce-4e12-d5f0-05cf9c636607"
      },
      "source": [
        "arr"
      ],
      "execution_count": null,
      "outputs": [
        {
          "output_type": "execute_result",
          "data": {
            "text/plain": [
              "array([[ 1,  2,  3,  4],\n",
              "       [ 5,  6,  7,  8],\n",
              "       [ 9, 10, 11, 12]])"
            ]
          },
          "metadata": {
            "tags": []
          },
          "execution_count": 28
        }
      ]
    },
    {
      "cell_type": "code",
      "metadata": {
        "colab": {
          "base_uri": "https://localhost:8080/"
        },
        "id": "9sBsn5ccdxsF",
        "outputId": "4ce76532-bcb1-48a4-e270-7e28ef106142"
      },
      "source": [
        "# 배열에 값 추가\n",
        "# 값을 추가하여 1차원 배열로 반환 (원본 수정 X)\n",
        "print(np.append(arr, 1))\n",
        "print(np.append(arr, [1,2,3]))"
      ],
      "execution_count": null,
      "outputs": [
        {
          "output_type": "stream",
          "text": [
            "[ 1  2  3  4  5  6  7  8  9 10 11 12  1]\n",
            "[ 1  2  3  4  5  6  7  8  9 10 11 12  1  2  3]\n"
          ],
          "name": "stdout"
        }
      ]
    },
    {
      "cell_type": "code",
      "metadata": {
        "colab": {
          "base_uri": "https://localhost:8080/"
        },
        "id": "U4NcFV4-sVyF",
        "outputId": "fc802c2c-6e9f-4ce8-c7eb-84b641e33aca"
      },
      "source": [
        "# 배열에서 값 삭제\n",
        "# delete(arr, index)\n",
        "# index 전달은 리스트나 배열 형태도 가능\n",
        "# 1차원 배열로 반환 (원본 수정 X)\n",
        "np.delete(arr, [3,4])"
      ],
      "execution_count": null,
      "outputs": [
        {
          "output_type": "execute_result",
          "data": {
            "text/plain": [
              "array([ 1,  2,  3,  6,  7,  8,  9, 10, 11, 12])"
            ]
          },
          "metadata": {
            "tags": []
          },
          "execution_count": 30
        }
      ]
    },
    {
      "cell_type": "code",
      "metadata": {
        "colab": {
          "base_uri": "https://localhost:8080/"
        },
        "id": "-ilY_0-ntGTU",
        "outputId": "77a63e46-4faf-4c00-d498-183b4ced4688"
      },
      "source": [
        "import numpy as np\n",
        "\n",
        "arr1 = np.array([[1,2],[3,4]])\n",
        "arr1"
      ],
      "execution_count": null,
      "outputs": [
        {
          "output_type": "execute_result",
          "data": {
            "text/plain": [
              "array([[1, 2],\n",
              "       [3, 4]])"
            ]
          },
          "metadata": {
            "tags": []
          },
          "execution_count": 2
        }
      ]
    },
    {
      "cell_type": "code",
      "metadata": {
        "colab": {
          "base_uri": "https://localhost:8080/"
        },
        "id": "1ArGlxbTtR61",
        "outputId": "bfa1035e-5383-4398-a5c4-3527f38cc117"
      },
      "source": [
        "np.delete(arr1, ([1]), axis=0)"
      ],
      "execution_count": null,
      "outputs": [
        {
          "output_type": "execute_result",
          "data": {
            "text/plain": [
              "array([[1, 2]])"
            ]
          },
          "metadata": {
            "tags": []
          },
          "execution_count": 3
        }
      ]
    },
    {
      "cell_type": "code",
      "metadata": {
        "id": "wAVeTPZKtD8X",
        "colab": {
          "base_uri": "https://localhost:8080/"
        },
        "outputId": "a9a8088c-b5af-4ecf-e81d-5a2aa4093e05"
      },
      "source": [
        "np.delete(arr1, ([1]), axis=1)"
      ],
      "execution_count": null,
      "outputs": [
        {
          "output_type": "execute_result",
          "data": {
            "text/plain": [
              "array([[1],\n",
              "       [3]])"
            ]
          },
          "metadata": {
            "tags": []
          },
          "execution_count": 4
        }
      ]
    },
    {
      "cell_type": "code",
      "metadata": {
        "scrolled": true,
        "id": "IBwKIOeHgS7H",
        "colab": {
          "base_uri": "https://localhost:8080/"
        },
        "outputId": "9a4e4113-8be6-49df-c0cd-8fbe1bf00e41"
      },
      "source": [
        "# nonzero\n",
        "# 0이 아닌 값의 index 반환\n",
        "a = np.array([0,0,1,2,0,0,1,0,0,0])\n",
        "np.nonzero(a)"
      ],
      "execution_count": null,
      "outputs": [
        {
          "output_type": "execute_result",
          "data": {
            "text/plain": [
              "(array([2, 3, 6]),)"
            ]
          },
          "metadata": {
            "tags": []
          },
          "execution_count": 401
        }
      ]
    },
    {
      "cell_type": "code",
      "metadata": {
        "id": "T3a1vsSS6w9h",
        "colab": {
          "base_uri": "https://localhost:8080/"
        },
        "outputId": "8d20c497-2a34-45b6-c390-5d94a729cbdb"
      },
      "source": [
        "arr1 = np.random.randint(1,100, (10,))\n",
        "arr2 = np.random.randint(1,100, (10,))\n",
        "arr1, arr2"
      ],
      "execution_count": null,
      "outputs": [
        {
          "output_type": "execute_result",
          "data": {
            "text/plain": [
              "(array([62, 26, 23, 76, 75,  4, 55, 24, 42, 77]),\n",
              " array([60, 14, 60, 61, 74,  2, 84, 84, 77, 75]))"
            ]
          },
          "metadata": {
            "tags": []
          },
          "execution_count": 404
        }
      ]
    },
    {
      "cell_type": "code",
      "metadata": {
        "id": "c0hRU17DGpE4",
        "colab": {
          "base_uri": "https://localhost:8080/"
        },
        "outputId": "8aa39d44-e65d-4009-9dd6-2b0bb720d888"
      },
      "source": [
        "# stack\n",
        "# 배열을 합침\n",
        "# axis=0 이면 행이 증가 (1차원 배열 두 개인 경우 2행 n열)\n",
        "arr3 = np.stack((arr1, arr2), axis=0)\n",
        "arr3, arr3.shape"
      ],
      "execution_count": null,
      "outputs": [
        {
          "output_type": "execute_result",
          "data": {
            "text/plain": [
              "(array([[62, 26, 23, 76, 75,  4, 55, 24, 42, 77],\n",
              "        [60, 14, 60, 61, 74,  2, 84, 84, 77, 75]]), (2, 10))"
            ]
          },
          "metadata": {
            "tags": []
          },
          "execution_count": 405
        }
      ]
    },
    {
      "cell_type": "code",
      "metadata": {
        "id": "qZzOHcO97EDE",
        "colab": {
          "base_uri": "https://localhost:8080/"
        },
        "outputId": "3663605e-7cf8-4aee-94b9-c1ece5ca8c72"
      },
      "source": [
        "# axis=1 이면 열이 증가 (1차원 배열 두 개인 경우 n행 2열)\n",
        "arr4  = np.stack((arr1, arr2), axis=1)\n",
        "arr4, arr4.shape"
      ],
      "execution_count": null,
      "outputs": [
        {
          "output_type": "execute_result",
          "data": {
            "text/plain": [
              "(array([[62, 60],\n",
              "        [26, 14],\n",
              "        [23, 60],\n",
              "        [76, 61],\n",
              "        [75, 74],\n",
              "        [ 4,  2],\n",
              "        [55, 84],\n",
              "        [24, 84],\n",
              "        [42, 77],\n",
              "        [77, 75]]), (10, 2))"
            ]
          },
          "metadata": {
            "tags": []
          },
          "execution_count": 409
        }
      ]
    },
    {
      "cell_type": "code",
      "metadata": {
        "colab": {
          "base_uri": "https://localhost:8080/"
        },
        "id": "Kr8PB1zT3Tmi",
        "outputId": "306f14ca-b145-43fb-aa65-3d61fd5377cb"
      },
      "source": [
        "# 2차원 배열인 경우\n",
        "arr5 = np.stack((arr1.reshape(1,-1), arr2.reshape(1,-1)), axis=0)\n",
        "arr5, arr5.shape"
      ],
      "execution_count": null,
      "outputs": [
        {
          "output_type": "execute_result",
          "data": {
            "text/plain": [
              "(array([[[62, 26, 23, 76, 75,  4, 55, 24, 42, 77]],\n",
              " \n",
              "        [[60, 14, 60, 61, 74,  2, 84, 84, 77, 75]]]), (2, 1, 10))"
            ]
          },
          "metadata": {
            "tags": []
          },
          "execution_count": 407
        }
      ]
    },
    {
      "cell_type": "code",
      "metadata": {
        "colab": {
          "base_uri": "https://localhost:8080/"
        },
        "id": "GOOmIbEU3lPZ",
        "outputId": "32b274d9-cc87-49a6-a717-7c3f1d47dc98"
      },
      "source": [
        "arr6 = np.stack((arr1.reshape(1,-1), arr2.reshape(1,-1)), axis=1)\n",
        "arr6, arr6.shape"
      ],
      "execution_count": null,
      "outputs": [
        {
          "output_type": "execute_result",
          "data": {
            "text/plain": [
              "(array([[[62, 26, 23, 76, 75,  4, 55, 24, 42, 77],\n",
              "         [60, 14, 60, 61, 74,  2, 84, 84, 77, 75]]]), (1, 2, 10))"
            ]
          },
          "metadata": {
            "tags": []
          },
          "execution_count": 408
        }
      ]
    },
    {
      "cell_type": "code",
      "metadata": {
        "colab": {
          "base_uri": "https://localhost:8080/"
        },
        "id": "Tah59nEf31U7",
        "outputId": "bac5329c-32f4-4340-ba9d-2d3e9d65aa91"
      },
      "source": [
        "arr7 = np.stack((arr1.reshape(-1,1), arr2.reshape(-1,1)), axis=0)\n",
        "arr7, arr7.shape"
      ],
      "execution_count": null,
      "outputs": [
        {
          "output_type": "execute_result",
          "data": {
            "text/plain": [
              "(array([[[62],\n",
              "         [26],\n",
              "         [23],\n",
              "         [76],\n",
              "         [75],\n",
              "         [ 4],\n",
              "         [55],\n",
              "         [24],\n",
              "         [42],\n",
              "         [77]],\n",
              " \n",
              "        [[60],\n",
              "         [14],\n",
              "         [60],\n",
              "         [61],\n",
              "         [74],\n",
              "         [ 2],\n",
              "         [84],\n",
              "         [84],\n",
              "         [77],\n",
              "         [75]]]), (2, 10, 1))"
            ]
          },
          "metadata": {
            "tags": []
          },
          "execution_count": 410
        }
      ]
    },
    {
      "cell_type": "code",
      "metadata": {
        "colab": {
          "base_uri": "https://localhost:8080/"
        },
        "id": "LwvTllGf3-4-",
        "outputId": "511a14b0-6b57-4d62-9968-4ec6077809b9"
      },
      "source": [
        "arr7 = np.stack((arr1.reshape(-1,1), arr2.reshape(-1,1)), axis=1)\n",
        "arr7, arr7.shape"
      ],
      "execution_count": null,
      "outputs": [
        {
          "output_type": "execute_result",
          "data": {
            "text/plain": [
              "(array([[[62],\n",
              "         [60]],\n",
              " \n",
              "        [[26],\n",
              "         [14]],\n",
              " \n",
              "        [[23],\n",
              "         [60]],\n",
              " \n",
              "        [[76],\n",
              "         [61]],\n",
              " \n",
              "        [[75],\n",
              "         [74]],\n",
              " \n",
              "        [[ 4],\n",
              "         [ 2]],\n",
              " \n",
              "        [[55],\n",
              "         [84]],\n",
              " \n",
              "        [[24],\n",
              "         [84]],\n",
              " \n",
              "        [[42],\n",
              "         [77]],\n",
              " \n",
              "        [[77],\n",
              "         [75]]]), (10, 2, 1))"
            ]
          },
          "metadata": {
            "tags": []
          },
          "execution_count": 411
        }
      ]
    },
    {
      "cell_type": "code",
      "metadata": {
        "id": "Bu91jUWo7zhf",
        "colab": {
          "base_uri": "https://localhost:8080/"
        },
        "outputId": "9719dd0c-e698-4527-9b4f-088e23b76162"
      },
      "source": [
        "# 수평으로 합침\n",
        "# 열이 늘어남\n",
        "np.hstack((arr1, arr2))"
      ],
      "execution_count": null,
      "outputs": [
        {
          "output_type": "execute_result",
          "data": {
            "text/plain": [
              "array([62, 26, 23, 76, 75,  4, 55, 24, 42, 77, 60, 14, 60, 61, 74,  2, 84,\n",
              "       84, 77, 75])"
            ]
          },
          "metadata": {
            "tags": []
          },
          "execution_count": 413
        }
      ]
    },
    {
      "cell_type": "code",
      "metadata": {
        "id": "33HSs2ZQHIUc",
        "colab": {
          "base_uri": "https://localhost:8080/"
        },
        "outputId": "d9330d0d-a816-4b44-d8ca-9cefb2ad4886"
      },
      "source": [
        "np.hstack((arr1.reshape(1,-1), arr2.reshape(1,-1)))"
      ],
      "execution_count": null,
      "outputs": [
        {
          "output_type": "execute_result",
          "data": {
            "text/plain": [
              "array([[62, 26, 23, 76, 75,  4, 55, 24, 42, 77, 60, 14, 60, 61, 74,  2,\n",
              "        84, 84, 77, 75]])"
            ]
          },
          "metadata": {
            "tags": []
          },
          "execution_count": 414
        }
      ]
    },
    {
      "cell_type": "code",
      "metadata": {
        "id": "x9WI0cX-73g1",
        "colab": {
          "base_uri": "https://localhost:8080/"
        },
        "outputId": "b7c87537-1867-481e-ec76-69521aba52e9"
      },
      "source": [
        "# 수직으로 합침\n",
        "# 행이 늘어남\n",
        "np.vstack((arr1, arr2))"
      ],
      "execution_count": null,
      "outputs": [
        {
          "output_type": "execute_result",
          "data": {
            "text/plain": [
              "array([[62, 26, 23, 76, 75,  4, 55, 24, 42, 77],\n",
              "       [60, 14, 60, 61, 74,  2, 84, 84, 77, 75]])"
            ]
          },
          "metadata": {
            "tags": []
          },
          "execution_count": 415
        }
      ]
    },
    {
      "cell_type": "code",
      "metadata": {
        "id": "Cn-VTajVG6Id",
        "colab": {
          "base_uri": "https://localhost:8080/"
        },
        "outputId": "6cfb970e-f120-4746-ffdf-2da3225a02b9"
      },
      "source": [
        "np.vstack((arr1.reshape(-1,1), arr2.reshape(-1,1)))"
      ],
      "execution_count": null,
      "outputs": [
        {
          "output_type": "execute_result",
          "data": {
            "text/plain": [
              "array([[62],\n",
              "       [26],\n",
              "       [23],\n",
              "       [76],\n",
              "       [75],\n",
              "       [ 4],\n",
              "       [55],\n",
              "       [24],\n",
              "       [42],\n",
              "       [77],\n",
              "       [60],\n",
              "       [14],\n",
              "       [60],\n",
              "       [61],\n",
              "       [74],\n",
              "       [ 2],\n",
              "       [84],\n",
              "       [84],\n",
              "       [77],\n",
              "       [75]])"
            ]
          },
          "metadata": {
            "tags": []
          },
          "execution_count": 416
        }
      ]
    },
    {
      "cell_type": "markdown",
      "metadata": {
        "id": "9BCT6u3hYeQ2"
      },
      "source": [
        "#### 통계 함수"
      ]
    },
    {
      "cell_type": "code",
      "metadata": {
        "id": "GIDbBGc2gS7g",
        "colab": {
          "base_uri": "https://localhost:8080/"
        },
        "outputId": "a128a542-c9f8-4b3a-81a8-c30d650e5a90"
      },
      "source": [
        "x = np.array([[1,2],[3,4]])\n",
        "\n",
        "# 통계 함수\n",
        "# 축 설정에 따라 결과가 다름\n",
        "# 기본 축은 None\n",
        "print(np.sum(x))  # 모든 요소를 합한 값을 연산; 출력 \"10\"\n",
        "print(np.sum(x, axis=0))  # 각 열에 대한 합을 연산; 출력 \"[4 6]\" \n",
        "print(np.sum(x, axis=1))  # 각 행에 대한 합을 연산; 출력 \"[3 7]\"\n",
        "print(np.sum(x, axis=-1))  # 마지막 축을 기준으로 연산\n"
      ],
      "execution_count": null,
      "outputs": [
        {
          "output_type": "stream",
          "text": [
            "10\n",
            "[4 6]\n",
            "[3 7]\n",
            "[3 7]\n"
          ],
          "name": "stdout"
        }
      ]
    },
    {
      "cell_type": "code",
      "metadata": {
        "id": "8JiaZVw7gS7i",
        "outputId": "112e3700-47e7-4f79-94b1-918be994dea6"
      },
      "source": [
        "print(np.mean(x))\n",
        "print(np.mean(x, axis=0))\n",
        "print(np.mean(x, axis=1))"
      ],
      "execution_count": null,
      "outputs": [
        {
          "output_type": "stream",
          "text": [
            "2.5\n",
            "[2. 3.]\n",
            "[1.5 3.5]\n"
          ],
          "name": "stdout"
        }
      ]
    },
    {
      "cell_type": "code",
      "metadata": {
        "id": "cgZ_JfC3gS7j",
        "outputId": "36f228f1-8f19-421d-fa75-40ed369a4ec7"
      },
      "source": [
        "print(np.std(x))\n",
        "print(np.std(x, axis=0))\n",
        "print(np.std(x, axis=1))"
      ],
      "execution_count": null,
      "outputs": [
        {
          "output_type": "stream",
          "text": [
            "1.118033988749895\n",
            "[1. 1.]\n",
            "[0.5 0.5]\n"
          ],
          "name": "stdout"
        }
      ]
    },
    {
      "cell_type": "code",
      "metadata": {
        "id": "t6hKxW67gS7k",
        "outputId": "0795f07f-3f96-4705-c1ac-ea3eea66fd9b"
      },
      "source": [
        "print(np.var(x))\n",
        "print(np.var(x, axis=0))\n",
        "print(np.var(x, axis=1))"
      ],
      "execution_count": null,
      "outputs": [
        {
          "output_type": "stream",
          "text": [
            "1.25\n",
            "[1. 1.]\n",
            "[0.25 0.25]\n"
          ],
          "name": "stdout"
        }
      ]
    },
    {
      "cell_type": "code",
      "metadata": {
        "id": "00sRjN1XgS7l",
        "outputId": "88c3bec0-9636-4e3a-fb3f-9a6230d0f99b"
      },
      "source": [
        "print(np.min(x)) \n",
        "print(np.min(x, axis=0))\n",
        "print(np.min(x, axis=1))"
      ],
      "execution_count": null,
      "outputs": [
        {
          "output_type": "stream",
          "text": [
            "1\n",
            "[1 2]\n",
            "[1 3]\n"
          ],
          "name": "stdout"
        }
      ]
    },
    {
      "cell_type": "code",
      "metadata": {
        "id": "zkvzmj4_gS7m",
        "outputId": "cb72ad7f-b6b9-433f-b3f0-78b37a61c23c"
      },
      "source": [
        "print(np.max(x))  \n",
        "print(np.max(x, axis=0))\n",
        "print(np.max(x, axis=1))"
      ],
      "execution_count": null,
      "outputs": [
        {
          "output_type": "stream",
          "text": [
            "4\n",
            "[3 4]\n",
            "[2 4]\n"
          ],
          "name": "stdout"
        }
      ]
    },
    {
      "cell_type": "code",
      "metadata": {
        "id": "gOFIEDX1gS7n",
        "colab": {
          "base_uri": "https://localhost:8080/"
        },
        "outputId": "1195b0c6-0497-4d20-a38e-28348585fd00"
      },
      "source": [
        "arr = np.array([True, False, True, True, True, True, False, False, True]).reshape(3,-1)\n",
        "arr"
      ],
      "execution_count": null,
      "outputs": [
        {
          "output_type": "execute_result",
          "data": {
            "text/plain": [
              "array([[ True, False,  True],\n",
              "       [ True,  True,  True],\n",
              "       [False, False,  True]])"
            ]
          },
          "metadata": {
            "tags": []
          },
          "execution_count": 38
        }
      ]
    },
    {
      "cell_type": "code",
      "metadata": {
        "colab": {
          "base_uri": "https://localhost:8080/"
        },
        "id": "yU-By4OtLV57",
        "outputId": "f466fd25-90f0-4f1a-e3ba-89c57d3e4440"
      },
      "source": [
        "np.max(arr), np.min(arr)"
      ],
      "execution_count": null,
      "outputs": [
        {
          "output_type": "execute_result",
          "data": {
            "text/plain": [
              "(True, False)"
            ]
          },
          "metadata": {
            "tags": []
          },
          "execution_count": 40
        }
      ]
    },
    {
      "cell_type": "code",
      "metadata": {
        "colab": {
          "base_uri": "https://localhost:8080/"
        },
        "id": "m_yd3XzDLf0T",
        "outputId": "4f678111-c8b8-404b-fc74-fa8301a55e48"
      },
      "source": [
        "np.argmin(arr), np.argmax(arr)"
      ],
      "execution_count": null,
      "outputs": [
        {
          "output_type": "execute_result",
          "data": {
            "text/plain": [
              "(1, 0)"
            ]
          },
          "metadata": {
            "tags": []
          },
          "execution_count": 42
        }
      ]
    },
    {
      "cell_type": "code",
      "metadata": {
        "colab": {
          "base_uri": "https://localhost:8080/"
        },
        "id": "wRFOIh32K4gJ",
        "outputId": "9aa27223-32c6-4c38-db86-4d363dc30171"
      },
      "source": [
        "x = np.array([[1,2],[3,4]])\n",
        "x"
      ],
      "execution_count": null,
      "outputs": [
        {
          "output_type": "execute_result",
          "data": {
            "text/plain": [
              "array([[1, 2],\n",
              "       [3, 4]])"
            ]
          },
          "metadata": {
            "tags": []
          },
          "execution_count": 35
        }
      ]
    },
    {
      "cell_type": "code",
      "metadata": {
        "colab": {
          "base_uri": "https://localhost:8080/"
        },
        "id": "DHGKjA3-46VC",
        "outputId": "148db044-1040-4daf-9b6b-524634d03875"
      },
      "source": [
        "np.max(x), np.min(x)"
      ],
      "execution_count": null,
      "outputs": [
        {
          "output_type": "execute_result",
          "data": {
            "text/plain": [
              "(4, 1)"
            ]
          },
          "metadata": {
            "tags": []
          },
          "execution_count": 34
        }
      ]
    },
    {
      "cell_type": "code",
      "metadata": {
        "id": "4RHqlEECgS7o",
        "colab": {
          "base_uri": "https://localhost:8080/"
        },
        "outputId": "763505e0-8f77-41c9-ac14-9783bac1ec7f"
      },
      "source": [
        "print(np.argmin(x))  \n",
        "print(np.argmin(x, axis=0))\n",
        "print(np.argmin(x, axis=1))"
      ],
      "execution_count": null,
      "outputs": [
        {
          "output_type": "stream",
          "text": [
            "0\n",
            "[0 0]\n",
            "[0 0]\n"
          ],
          "name": "stdout"
        }
      ]
    },
    {
      "cell_type": "code",
      "metadata": {
        "id": "QsquPUNWgS7p",
        "colab": {
          "base_uri": "https://localhost:8080/"
        },
        "outputId": "8053597e-5309-4b58-de16-9e4be678cdbc"
      },
      "source": [
        "# 최댓값의 인덱스 반환\n",
        "print(np.argmax(x))  \n",
        "print(np.argmax(x, axis=0))\n",
        "print(np.argmax(x, axis=1))"
      ],
      "execution_count": null,
      "outputs": [
        {
          "output_type": "stream",
          "text": [
            "3\n",
            "[1 1]\n",
            "[1 1]\n"
          ],
          "name": "stdout"
        }
      ]
    },
    {
      "cell_type": "code",
      "metadata": {
        "id": "cKoTn0akgS7o",
        "colab": {
          "base_uri": "https://localhost:8080/"
        },
        "outputId": "3984613a-aae2-49e7-94ea-b5f8b46f59c0"
      },
      "source": [
        "# 최솟값의 인덱스 반환\n",
        "# boolean은 숫자 타입으로 분류되기 때문에 True=1, False=0 취급\n",
        "np.argmin(arr), np.argmax(arr)"
      ],
      "execution_count": null,
      "outputs": [
        {
          "output_type": "execute_result",
          "data": {
            "text/plain": [
              "(1, 0)"
            ]
          },
          "metadata": {
            "tags": []
          },
          "execution_count": 428
        }
      ]
    },
    {
      "cell_type": "code",
      "metadata": {
        "id": "Jzqzj-XfgS7q",
        "colab": {
          "base_uri": "https://localhost:8080/"
        },
        "outputId": "6a896139-645e-4523-9770-6219421f486b"
      },
      "source": [
        "x = np.array([[1,2],[3,4]])\n",
        "x"
      ],
      "execution_count": null,
      "outputs": [
        {
          "output_type": "execute_result",
          "data": {
            "text/plain": [
              "array([[1, 2],\n",
              "       [3, 4]])"
            ]
          },
          "metadata": {
            "tags": []
          },
          "execution_count": 429
        }
      ]
    },
    {
      "cell_type": "code",
      "metadata": {
        "scrolled": true,
        "id": "dyejD0lLgS7r",
        "colab": {
          "base_uri": "https://localhost:8080/"
        },
        "outputId": "36424c2a-99c4-4bd4-fac3-c61ca8b52412"
      },
      "source": [
        "print(np.cumsum(x))\n",
        "print(np.cumsum(x, axis=0))\n",
        "print(np.cumsum(x, axis=1))"
      ],
      "execution_count": null,
      "outputs": [
        {
          "output_type": "stream",
          "text": [
            "[ 1  3  6 10]\n",
            "[[1 2]\n",
            " [4 6]]\n",
            "[[1 3]\n",
            " [3 7]]\n"
          ],
          "name": "stdout"
        }
      ]
    },
    {
      "cell_type": "code",
      "metadata": {
        "scrolled": true,
        "id": "C5rdjWSIgS7s",
        "colab": {
          "base_uri": "https://localhost:8080/"
        },
        "outputId": "16c70cf5-9b98-4c26-f05a-3243834cb255"
      },
      "source": [
        "print(np.cumprod(x))\n",
        "print(np.cumprod(x, axis=0))\n",
        "print(np.cumprod(x, axis=1))"
      ],
      "execution_count": null,
      "outputs": [
        {
          "output_type": "stream",
          "text": [
            "[ 1  2  6 24]\n",
            "[[1 2]\n",
            " [3 8]]\n",
            "[[ 1  2]\n",
            " [ 3 12]]\n"
          ],
          "name": "stdout"
        }
      ]
    },
    {
      "cell_type": "markdown",
      "metadata": {
        "id": "B0EhWnrIYhvd"
      },
      "source": [
        "#### 랜덤 함수"
      ]
    },
    {
      "cell_type": "code",
      "metadata": {
        "id": "lJKpvIfdgS7u"
      },
      "source": [
        "# 넘파이 랜덤 모듈 (배열 생성)\n",
        "# 5. 랜덤 값을 갖는 배열 생성\n",
        "# 랜덤 시드\n",
        "np.random.seed(1234)"
      ],
      "execution_count": null,
      "outputs": []
    },
    {
      "cell_type": "code",
      "metadata": {
        "id": "lLsEyQ0QgS7v",
        "colab": {
          "base_uri": "https://localhost:8080/"
        },
        "outputId": "424c6b2e-c9b1-428d-d0b2-8950860055d3"
      },
      "source": [
        "# 랜덤 정수\n",
        "# 배열 생성 함수\n",
        "# 시작, 끝, 크기 지정 가능\n",
        "# randint(시작, 끝, 크기(tuple) 혹은 개수)\n",
        "# [시작, 끝)\n",
        "np.random.randint(100, 200, (5,5))"
      ],
      "execution_count": null,
      "outputs": [
        {
          "output_type": "execute_result",
          "data": {
            "text/plain": [
              "array([[147, 183, 138, 153, 176],\n",
              "       [124, 115, 149, 123, 126],\n",
              "       [130, 143, 130, 126, 158],\n",
              "       [192, 169, 180, 173, 147],\n",
              "       [150, 176, 137, 134, 138]])"
            ]
          },
          "metadata": {
            "tags": []
          },
          "execution_count": 436
        }
      ]
    },
    {
      "cell_type": "code",
      "metadata": {
        "colab": {
          "base_uri": "https://localhost:8080/"
        },
        "id": "XN6_vUpa5ecN",
        "outputId": "0db4ec60-028a-451b-ed09-7bcc4906d1e2"
      },
      "source": [
        "np.random.randint(100, 200, 25)"
      ],
      "execution_count": null,
      "outputs": [
        {
          "output_type": "execute_result",
          "data": {
            "text/plain": [
              "array([147, 183, 138, 153, 176, 124, 115, 149, 123, 126, 130, 143, 130,\n",
              "       126, 158, 192, 169, 180, 173, 147, 150, 176, 137, 134, 138])"
            ]
          },
          "metadata": {
            "tags": []
          },
          "execution_count": 438
        }
      ]
    },
    {
      "cell_type": "code",
      "metadata": {
        "colab": {
          "base_uri": "https://localhost:8080/"
        },
        "id": "urDRQK2a6XW-",
        "outputId": "cdd23878-4759-4395-ba0d-5eefabd54ad4"
      },
      "source": [
        "# 랜덤 실수\n",
        "# uniform distribution에서 값 추출\n",
        "# 범위는 지정\n",
        "# 크기(tuple) 혹은 개수 지정\n",
        "np.random.uniform(10, 20, (5,5))"
      ],
      "execution_count": null,
      "outputs": [
        {
          "output_type": "execute_result",
          "data": {
            "text/plain": [
              "array([[16.8129627 , 13.91283316, 10.26204474, 15.00599696, 15.28127109],\n",
              "       [12.23268042, 10.01689682, 14.46563482, 15.05325813, 10.81018846],\n",
              "       [18.22739906, 12.40194931, 10.09690277, 12.25041735, 10.84190137],\n",
              "       [18.25964599, 17.14767219, 12.44556138, 10.63836839, 14.26754195],\n",
              "       [17.0604152 , 17.18153579, 11.93434335, 17.40048101, 19.56729874]])"
            ]
          },
          "metadata": {
            "tags": []
          },
          "execution_count": 458
        }
      ]
    },
    {
      "cell_type": "code",
      "metadata": {
        "colab": {
          "base_uri": "https://localhost:8080/"
        },
        "id": "jN-9UqSS64Zw",
        "outputId": "793ce3a6-12d8-4864-e227-d92ef2a45b05"
      },
      "source": [
        "np.random.uniform(10, 20, 25)"
      ],
      "execution_count": null,
      "outputs": [
        {
          "output_type": "execute_result",
          "data": {
            "text/plain": [
              "array([15.15893977, 14.30045229, 10.23036755, 15.07325965, 16.86562228,\n",
              "       11.38175262, 16.72422862, 10.39311461, 14.31776521, 18.54275847,\n",
              "       14.22328484, 10.88449111, 10.56695008, 11.03272846, 14.85315697,\n",
              "       16.74657172, 10.90894844, 18.32212306, 17.76463531, 10.61163358,\n",
              "       13.22417862, 13.77139698, 15.02265006, 14.49965355, 14.67362005])"
            ]
          },
          "metadata": {
            "tags": []
          },
          "execution_count": 459
        }
      ]
    },
    {
      "cell_type": "code",
      "metadata": {
        "colab": {
          "base_uri": "https://localhost:8080/"
        },
        "id": "Oc-Cz23P8rLy",
        "outputId": "a86e91ef-292c-470d-a993-87f54932a7b4"
      },
      "source": [
        "# 랜덤 실수\n",
        "# [0,1) 사이 값\n",
        "# 크기 (축별로 개별) 혹은 개수 지정\n",
        "np.random.rand(5,5)"
      ],
      "execution_count": null,
      "outputs": [
        {
          "output_type": "execute_result",
          "data": {
            "text/plain": [
              "array([[0.13850475, 0.00154376, 0.61283435, 0.54170293, 0.78063066],\n",
              "       [0.82149395, 0.95340976, 0.60995609, 0.29008182, 0.82680799],\n",
              "       [0.37601689, 0.60917703, 0.62002156, 0.44149997, 0.1987719 ],\n",
              "       [0.44395362, 0.92476734, 0.67143436, 0.0815231 , 0.57265925],\n",
              "       [0.1206622 , 0.99996372, 0.99738035, 0.69471214, 0.37387984]])"
            ]
          },
          "metadata": {
            "tags": []
          },
          "execution_count": 486
        }
      ]
    },
    {
      "cell_type": "code",
      "metadata": {
        "colab": {
          "base_uri": "https://localhost:8080/"
        },
        "id": "jBNsQCIR5u_B",
        "outputId": "c5e50d5f-36a4-4163-f3f8-9c38ccb74a60"
      },
      "source": [
        "# 랜덤 실수\n",
        "# [0,1) 사이 값\n",
        "# 크기(tuple) 혹은 개수 지정\n",
        "np.random.random((5,5))"
      ],
      "execution_count": null,
      "outputs": [
        {
          "output_type": "execute_result",
          "data": {
            "text/plain": [
              "array([[0.19151945, 0.62210877, 0.43772774, 0.78535858, 0.77997581],\n",
              "       [0.27259261, 0.27646426, 0.80187218, 0.95813935, 0.87593263],\n",
              "       [0.35781727, 0.50099513, 0.68346294, 0.71270203, 0.37025075],\n",
              "       [0.56119619, 0.50308317, 0.01376845, 0.77282662, 0.88264119],\n",
              "       [0.36488598, 0.61539618, 0.07538124, 0.36882401, 0.9331401 ]])"
            ]
          },
          "metadata": {
            "tags": []
          },
          "execution_count": 449
        }
      ]
    },
    {
      "cell_type": "code",
      "metadata": {
        "colab": {
          "base_uri": "https://localhost:8080/"
        },
        "id": "fPq5_fet54fB",
        "outputId": "2fe5b444-5bc5-4659-acda-5c34c1c64ddf"
      },
      "source": [
        "np.random.random(25)"
      ],
      "execution_count": null,
      "outputs": [
        {
          "output_type": "execute_result",
          "data": {
            "text/plain": [
              "array([0.19151945, 0.62210877, 0.43772774, 0.78535858, 0.77997581,\n",
              "       0.27259261, 0.27646426, 0.80187218, 0.95813935, 0.87593263,\n",
              "       0.35781727, 0.50099513, 0.68346294, 0.71270203, 0.37025075,\n",
              "       0.56119619, 0.50308317, 0.01376845, 0.77282662, 0.88264119,\n",
              "       0.36488598, 0.61539618, 0.07538124, 0.36882401, 0.9331401 ])"
            ]
          },
          "metadata": {
            "tags": []
          },
          "execution_count": 451
        }
      ]
    },
    {
      "cell_type": "code",
      "metadata": {
        "id": "DasuV9RYgS7v",
        "colab": {
          "base_uri": "https://localhost:8080/"
        },
        "outputId": "b8ba4af6-1f95-4462-ad28-9f4e70b680f9"
      },
      "source": [
        "# 랜덤 실수\n",
        "# 평균0 표준편차1인 정규 분포에서 값 추출\n",
        "# 크기 (행열 각각 전달) 혹은 개수만 지정\n",
        "np.random.randn(5,5)"
      ],
      "execution_count": null,
      "outputs": [
        {
          "output_type": "execute_result",
          "data": {
            "text/plain": [
              "array([[ 4.71435164e-01, -1.19097569e+00,  1.43270697e+00,\n",
              "        -3.12651896e-01, -7.20588733e-01],\n",
              "       [ 8.87162940e-01,  8.59588414e-01, -6.36523504e-01,\n",
              "         1.56963721e-02, -2.24268495e+00],\n",
              "       [ 1.15003572e+00,  9.91946022e-01,  9.53324128e-01,\n",
              "        -2.02125482e+00, -3.34077366e-01],\n",
              "       [ 2.11836468e-03,  4.05453412e-01,  2.89091941e-01,\n",
              "         1.32115819e+00, -1.54690555e+00],\n",
              "       [-2.02646325e-01, -6.55969344e-01,  1.93421376e-01,\n",
              "         5.53438911e-01,  1.31815155e+00]])"
            ]
          },
          "metadata": {
            "tags": []
          },
          "execution_count": 452
        }
      ]
    },
    {
      "cell_type": "code",
      "metadata": {
        "colab": {
          "base_uri": "https://localhost:8080/"
        },
        "id": "dld3joJX5nf6",
        "outputId": "6982d87f-a365-4276-afd6-5b240a46a701"
      },
      "source": [
        "np.random.randn(25)"
      ],
      "execution_count": null,
      "outputs": [
        {
          "output_type": "execute_result",
          "data": {
            "text/plain": [
              "array([ 4.71435164e-01, -1.19097569e+00,  1.43270697e+00, -3.12651896e-01,\n",
              "       -7.20588733e-01,  8.87162940e-01,  8.59588414e-01, -6.36523504e-01,\n",
              "        1.56963721e-02, -2.24268495e+00,  1.15003572e+00,  9.91946022e-01,\n",
              "        9.53324128e-01, -2.02125482e+00, -3.34077366e-01,  2.11836468e-03,\n",
              "        4.05453412e-01,  2.89091941e-01,  1.32115819e+00, -1.54690555e+00,\n",
              "       -2.02646325e-01, -6.55969344e-01,  1.93421376e-01,  5.53438911e-01,\n",
              "        1.31815155e+00])"
            ]
          },
          "metadata": {
            "tags": []
          },
          "execution_count": 453
        }
      ]
    },
    {
      "cell_type": "code",
      "metadata": {
        "scrolled": true,
        "id": "Rt-EPk4VgS7w",
        "colab": {
          "base_uri": "https://localhost:8080/"
        },
        "outputId": "6575bd00-eec2-4727-e993-0b080300b6f3"
      },
      "source": [
        "# 랜덤 실수\n",
        "# 평균0 표준편차1인 정규 분포에서 값 추출\n",
        "# randn과 유사하나 평균, 표준편차, 크기 지정 가능\n",
        "# 평균, 표준편차, 크기(tuple) 혹은 개수 지정\n",
        "np.random.normal(0,1,(4,4))"
      ],
      "execution_count": null,
      "outputs": [
        {
          "output_type": "execute_result",
          "data": {
            "text/plain": [
              "array([[-0.46930528,  0.67555409, -1.81702723, -0.18310854],\n",
              "       [ 1.05896919, -0.39784023,  0.33743765,  1.04757857],\n",
              "       [ 1.04593826,  0.86371729, -0.12209157,  0.12471295],\n",
              "       [-0.32279481,  0.84167471,  2.39096052,  0.07619959]])"
            ]
          },
          "metadata": {
            "tags": []
          },
          "execution_count": 454
        }
      ]
    },
    {
      "cell_type": "code",
      "metadata": {
        "colab": {
          "base_uri": "https://localhost:8080/"
        },
        "id": "JfJHHNI96Uc5",
        "outputId": "9be00c8c-b6f8-49d6-812e-eb23f72b1dda"
      },
      "source": [
        "# shuffle 배열이나 리스트 순서 섞기\n",
        "arr = np.arange(10)\n",
        "arr"
      ],
      "execution_count": null,
      "outputs": [
        {
          "output_type": "execute_result",
          "data": {
            "text/plain": [
              "array([0, 1, 2, 3, 4, 5, 6, 7, 8, 9])"
            ]
          },
          "metadata": {
            "tags": []
          },
          "execution_count": 461
        }
      ]
    },
    {
      "cell_type": "code",
      "metadata": {
        "colab": {
          "base_uri": "https://localhost:8080/"
        },
        "id": "Bq4oL7eQ7VNz",
        "outputId": "f498c042-09a1-4657-d8f1-f1fb00d9eb72"
      },
      "source": [
        "# 원본 수정\n",
        "np.random.shuffle(arr)\n",
        "arr"
      ],
      "execution_count": null,
      "outputs": [
        {
          "output_type": "execute_result",
          "data": {
            "text/plain": [
              "array([9, 1, 3, 6, 4, 0, 2, 5, 8, 7])"
            ]
          },
          "metadata": {
            "tags": []
          },
          "execution_count": 465
        }
      ]
    },
    {
      "cell_type": "code",
      "metadata": {
        "colab": {
          "base_uri": "https://localhost:8080/"
        },
        "id": "JKdAZuAG7Xyx",
        "outputId": "f5134fa5-75a8-4cba-dc4f-8ed0b5cdaffa"
      },
      "source": [
        "mylist = list('abcdefgh')\n",
        "np.random.shuffle(mylist)\n",
        "mylist"
      ],
      "execution_count": null,
      "outputs": [
        {
          "output_type": "execute_result",
          "data": {
            "text/plain": [
              "['c', 'e', 'f', 'g', 'b', 'a', 'd', 'h']"
            ]
          },
          "metadata": {
            "tags": []
          },
          "execution_count": 466
        }
      ]
    },
    {
      "cell_type": "code",
      "metadata": {
        "colab": {
          "base_uri": "https://localhost:8080/"
        },
        "id": "shrNW3PT7jtA",
        "outputId": "1fa1c27c-4a05-4f4d-c7cd-558e70ca3459"
      },
      "source": [
        "# permutation\n",
        "# 셔플하거나 순열을 반환\n",
        "# 셔플 (원본 유지, 복사)\n",
        "arr = np.arange(10)\n",
        "np.random.permutation(arr)"
      ],
      "execution_count": null,
      "outputs": [
        {
          "output_type": "execute_result",
          "data": {
            "text/plain": [
              "array([3, 1, 5, 0, 8, 7, 2, 9, 4, 6])"
            ]
          },
          "metadata": {
            "tags": []
          },
          "execution_count": 472
        }
      ]
    },
    {
      "cell_type": "code",
      "metadata": {
        "colab": {
          "base_uri": "https://localhost:8080/"
        },
        "id": "tXy-Gv8q7r0x",
        "outputId": "00cd653b-1fb3-4ff1-9bc5-a25dc8acc729"
      },
      "source": [
        "# 0~49 사이 값을 중복 없이 나열(셔플)\n",
        "np.random.permutation(50)"
      ],
      "execution_count": null,
      "outputs": [
        {
          "output_type": "execute_result",
          "data": {
            "text/plain": [
              "array([39,  3, 10, 43, 14, 29,  6, 40, 26, 42,  5,  2, 37, 18, 38, 16,  7,\n",
              "        4, 45,  9, 46, 48, 22, 21, 13, 33, 44, 15,  8, 49, 31, 12, 24, 25,\n",
              "       34, 30, 17, 11,  1, 28, 20, 36, 35, 41, 23, 27, 47, 19, 32,  0])"
            ]
          },
          "metadata": {
            "tags": []
          },
          "execution_count": 477
        }
      ]
    },
    {
      "cell_type": "code",
      "metadata": {
        "colab": {
          "base_uri": "https://localhost:8080/"
        },
        "id": "_Sxm20Md7uJ4",
        "outputId": "cefb04bc-fb64-48c9-a8e5-259f2e216447"
      },
      "source": [
        "# 이항 분포\n",
        "# p확률로 n번 시행했을 때의 성공 횟수\n",
        "# n, p, 크기(터플 or 개수) 전달\n",
        "np.random.binomial(50, 0.1, (5,5))"
      ],
      "execution_count": null,
      "outputs": [
        {
          "output_type": "execute_result",
          "data": {
            "text/plain": [
              "array([[11,  5,  6,  1,  7],\n",
              "       [12,  4,  7,  5,  5],\n",
              "       [ 5,  7,  4,  5,  7],\n",
              "       [ 6,  4,  3,  4,  8],\n",
              "       [ 6,  4,  5,  2, 11]])"
            ]
          },
          "metadata": {
            "tags": []
          },
          "execution_count": 492
        }
      ]
    },
    {
      "cell_type": "code",
      "metadata": {
        "colab": {
          "base_uri": "https://localhost:8080/"
        },
        "id": "1drRFHUP9cTg",
        "outputId": "201cccb9-1f71-4ea5-b918-2eb6e6edfca4"
      },
      "source": [
        "# 베타 분포\n",
        "# 알파 베타 값 지정\n",
        "# 크기 (터플 or 개수)\n",
        "np.random.beta(0.5,0.5,100)"
      ],
      "execution_count": null,
      "outputs": [
        {
          "output_type": "execute_result",
          "data": {
            "text/plain": [
              "array([6.12019939e-01, 3.44370889e-03, 7.85347874e-01, 6.95209043e-01,\n",
              "       6.68273964e-02, 1.65342472e-01, 7.30444858e-01, 9.93125589e-01,\n",
              "       6.81608179e-01, 7.18849348e-03, 2.10890568e-01, 3.35785235e-04,\n",
              "       5.39683185e-01, 7.19102752e-01, 2.02159424e-01, 3.60184673e-01,\n",
              "       1.77194479e-01, 1.31513254e-01, 7.14011062e-01, 2.35642679e-01,\n",
              "       6.25553474e-02, 1.41778889e-01, 2.27368339e-02, 9.63242929e-01,\n",
              "       9.90467441e-01, 9.64566652e-01, 7.12695163e-02, 3.28767606e-01,\n",
              "       2.22967987e-03, 2.72274202e-01, 7.71204587e-01, 2.31730809e-02,\n",
              "       4.53803816e-02, 2.29538700e-01, 9.60557092e-01, 6.43339772e-02,\n",
              "       9.47921139e-01, 4.44318340e-01, 7.58459560e-02, 9.96543344e-01,\n",
              "       3.20490953e-01, 2.13171669e-02, 2.00444244e-01, 8.40001097e-01,\n",
              "       2.59852377e-01, 6.19432169e-02, 2.16539001e-01, 3.67916867e-01,\n",
              "       3.72049327e-02, 1.49086881e-01, 2.14103831e-01, 5.13897619e-03,\n",
              "       1.20180718e-01, 7.93627579e-01, 7.73208510e-03, 9.22361875e-01,\n",
              "       4.71369001e-01, 6.72603101e-01, 1.82144309e-01, 9.99963741e-01,\n",
              "       3.23120853e-01, 5.46691623e-02, 4.68661915e-01, 1.68737860e-01,\n",
              "       9.72345870e-01, 9.61489223e-01, 9.78081168e-01, 2.98699460e-01,\n",
              "       7.70848411e-02, 9.98117132e-01, 7.28623266e-01, 9.89008467e-01,\n",
              "       1.57871497e-01, 1.55678879e-01, 1.73618597e-02, 9.94691455e-01,\n",
              "       5.50575506e-01, 2.60307625e-01, 6.05970996e-02, 9.17953718e-02,\n",
              "       9.44986298e-01, 7.73657775e-01, 2.14200732e-01, 1.55205858e-01,\n",
              "       2.01904285e-02, 2.53946926e-03, 1.38371870e-01, 9.42464625e-01,\n",
              "       7.76581599e-01, 2.81251133e-01, 4.46938042e-01, 9.24607757e-01,\n",
              "       8.26636418e-01, 5.87445491e-01, 9.27012933e-01, 7.77998032e-01,\n",
              "       1.09062517e-01, 1.97312159e-02, 9.90561961e-01, 3.70987697e-01])"
            ]
          },
          "metadata": {
            "tags": []
          },
          "execution_count": 501
        }
      ]
    },
    {
      "cell_type": "code",
      "metadata": {
        "colab": {
          "base_uri": "https://localhost:8080/",
          "height": 282
        },
        "id": "Hm01giHP-Pwj",
        "outputId": "d2261f49-5450-4b5c-9353-34c91fefe8ad"
      },
      "source": [
        "import matplotlib.pyplot as plt\n",
        "\n",
        "x = np.linspace(0,0.99,1000)\n",
        "y = np.sort(np.random.beta(0.5,0.5,1000))\n",
        "plt.plot(x, y, '--')\n",
        "y = np.sort(np.random.beta(5,1,1000))\n",
        "plt.plot(x, y, '--')\n",
        "y = np.sort(np.random.beta(1,3,1000))\n",
        "plt.plot(x, y, '--')\n",
        "y = np.sort(np.random.beta(2,2,1000))\n",
        "plt.plot(x, y, '--')"
      ],
      "execution_count": null,
      "outputs": [
        {
          "output_type": "execute_result",
          "data": {
            "text/plain": [
              "[<matplotlib.lines.Line2D at 0x7f98774d1470>]"
            ]
          },
          "metadata": {
            "tags": []
          },
          "execution_count": 500
        },
        {
          "output_type": "display_data",
          "data": {
            "image/png": "[encoded data removed]",
            "text/plain": [
              "<Figure size 432x288 with 1 Axes>"
            ]
          },
          "metadata": {
            "tags": [],
            "needs_background": "light"
          }
        }
      ]
    },
    {
      "cell_type": "code",
      "metadata": {
        "colab": {
          "base_uri": "https://localhost:8080/"
        },
        "id": "gF5Xt8bY_EWN",
        "outputId": "255368cb-abd7-43b0-a9a6-1e6a17cf9406"
      },
      "source": [
        "# 카이 제곱 분포\n",
        "# 자유도, 크기 (터플 or 개수)\n",
        "np.random.chisquare(1, 25)"
      ],
      "execution_count": null,
      "outputs": [
        {
          "output_type": "execute_result",
          "data": {
            "text/plain": [
              "array([0.88734086, 1.09686342, 1.70598237, 0.0362946 , 0.03612782,\n",
              "       2.27695914, 0.04652663, 0.2000475 , 0.97047007, 1.71648605,\n",
              "       0.14397095, 0.68704194, 0.05148171, 1.03933734, 0.20766133,\n",
              "       0.32031292, 0.63807832, 1.0673926 , 0.07044983, 0.44978698,\n",
              "       1.29629538, 0.29160631, 0.7977362 , 6.30665187, 0.03980418])"
            ]
          },
          "metadata": {
            "tags": []
          },
          "execution_count": 507
        }
      ]
    },
    {
      "cell_type": "code",
      "metadata": {
        "colab": {
          "base_uri": "https://localhost:8080/"
        },
        "id": "MI7DPe63_izY",
        "outputId": "fc488f85-0041-47fe-fc95-9e387a1ed13b"
      },
      "source": [
        "# 감마 분포\n",
        "# k, theta, 크기 (터플 or 개수 지정)\n",
        "np.random.gamma(1,1, (5,5))"
      ],
      "execution_count": null,
      "outputs": [
        {
          "output_type": "execute_result",
          "data": {
            "text/plain": [
              "array([[1.0038443 , 0.96271591, 1.40316504, 1.82923389, 1.35964298],\n",
              "       [4.04236588, 1.88139946, 1.08789231, 0.77463845, 0.2156929 ],\n",
              "       [0.22896543, 1.99835204, 1.28248151, 1.00317154, 0.26618393],\n",
              "       [0.12063405, 0.68461911, 0.51355938, 0.32889753, 0.00936435],\n",
              "       [0.55430611, 1.62517872, 0.51228272, 1.1693496 , 0.26575506]])"
            ]
          },
          "metadata": {
            "tags": []
          },
          "execution_count": 508
        }
      ]
    },
    {
      "cell_type": "markdown",
      "metadata": {
        "id": "HaNaHHYRYnDn"
      },
      "source": [
        "#### 배열 저장 및 불러오기"
      ]
    },
    {
      "cell_type": "code",
      "metadata": {
        "id": "g2Hok_J6A1pd"
      },
      "source": [
        "# 넘파이 배열 저장 방법\n",
        "# 배열 1개 저장\n",
        "# save 함수\n",
        "arr = np.arange(10)\n",
        "np.save('some_array.npy', arr)"
      ],
      "execution_count": null,
      "outputs": []
    },
    {
      "cell_type": "code",
      "metadata": {
        "colab": {
          "base_uri": "https://localhost:8080/"
        },
        "id": "9T8zMdb-BAhI",
        "outputId": "c36807d9-885f-4f86-f829-ec02d131ec23"
      },
      "source": [
        "arr2 = np.load('some_array.npy')\n",
        "arr2*=10\n",
        "arr2"
      ],
      "execution_count": null,
      "outputs": [
        {
          "output_type": "execute_result",
          "data": {
            "text/plain": [
              "array([ 0, 10, 20, 30, 40, 50, 60, 70, 80, 90])"
            ]
          },
          "metadata": {
            "tags": []
          },
          "execution_count": 511
        }
      ]
    },
    {
      "cell_type": "code",
      "metadata": {
        "id": "AS6Hq6lrBGEI"
      },
      "source": [
        "# 여러 개 저장\n",
        "# key=array pair로 전달\n",
        "# savez 함수\n",
        "np.savez('arrays.npz', a=arr, b=arr2)"
      ],
      "execution_count": null,
      "outputs": []
    },
    {
      "cell_type": "code",
      "metadata": {
        "colab": {
          "base_uri": "https://localhost:8080/"
        },
        "id": "URj2VwjRBWtg",
        "outputId": "7a5acc0f-b6d4-42fc-d1be-39078bc34399"
      },
      "source": [
        "arr_npz = np.load('arrays.npz')\n",
        "arr_npz['b'], arr_npz['a']"
      ],
      "execution_count": null,
      "outputs": [
        {
          "output_type": "execute_result",
          "data": {
            "text/plain": [
              "(array([ 0, 10, 20, 30, 40, 50, 60, 70, 80, 90]),\n",
              " array([0, 1, 2, 3, 4, 5, 6, 7, 8, 9]))"
            ]
          },
          "metadata": {
            "tags": []
          },
          "execution_count": 515
        }
      ]
    }
  ]
}