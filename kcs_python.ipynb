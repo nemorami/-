{
 "cells": [
  {
   "cell_type": "markdown",
   "metadata": {
    "id": "OIW8hXnoNCYV"
   },
   "source": [
    "## 파이썬 개요"
   ]
  },
  {
   "cell_type": "markdown",
   "metadata": {
    "id": "WjbkBCR9O7Fx"
   },
   "source": [
    "### 변수 선언 및 데이터 타입\n",
    "    - 변수 선언 방법\n",
    "    - 자료형 종류\n",
    "      - 숫자형: int float boolean complex\n",
    "      - 문자열: str\n",
    "      - 자료구조: list tuple dict set"
   ]
  },
  {
   "cell_type": "code",
   "execution_count": null,
   "metadata": {
    "id": "UrbDfXaDO7Fy"
   },
   "outputs": [],
   "source": [
    "# 변수 선언은 변수명과 값으로 (명시적으로 변수 타입을 지정할 필요 없음)\n",
    "# 변수 타입 변수명 = 리터럴;\n",
    "# 변수명 = 리터럴\n",
    "a = 3\n",
    "b = 4\n",
    "c = 5\n",
    "한글변수 = 3000"
   ]
  },
  {
   "cell_type": "code",
   "execution_count": null,
   "metadata": {
    "colab": {
     "base_uri": "https://localhost:8080/"
    },
    "id": "Hv3KxduCd2-H",
    "outputId": "d5d425ac-8dbc-4ca0-f626-84370e181f4d"
   },
   "outputs": [
    {
     "name": "stdout",
     "output_type": "stream",
     "text": [
      "4\n",
      "5\n"
     ]
    },
    {
     "data": {
      "text/plain": [
       "3"
      ]
     },
     "execution_count": 8,
     "metadata": {
      "tags": []
     },
     "output_type": "execute_result"
    }
   ],
   "source": [
    "print(b)\n",
    "print(c)\n",
    "a # 수 값 확인은 마지막 한 줄만 출력"
   ]
  },
  {
   "cell_type": "code",
   "execution_count": null,
   "metadata": {
    "colab": {
     "base_uri": "https://localhost:8080/"
    },
    "id": "z7_kmDs3jd0r",
    "outputId": "2bff849b-062e-4edd-9143-8c0fbbbb6ec5"
   },
   "outputs": [
    {
     "data": {
      "text/plain": [
       "(int, float)"
      ]
     },
     "execution_count": 14,
     "metadata": {
      "tags": []
     },
     "output_type": "execute_result"
    }
   ],
   "source": [
    "# type 내장 함수를 이용하여 객체의 타입을 확인할 수 있음 (파이썬은 전부다 객체)\n",
    "type(a), type(100.0)"
   ]
  },
  {
   "cell_type": "markdown",
   "metadata": {
    "id": "JuzrmNHyO7GJ"
   },
   "source": [
    "## 숫자형\n",
    "    - 변수 선언\n",
    "        - 정수\n",
    "            - 10진법\n",
    "            - 2진법\n",
    "            - 8진법\n",
    "            - 16진법\n",
    "        - 실수\n",
    "        - 복소수\n",
    "    - 연산자\n",
    "        - 사칙연산 + 나머지, 몫\n",
    "    - 숫자형 변환\n",
    "        - 정수 to 실수\n",
    "        - 실수 to 정수\n",
    "        - 정수 to 부울\n",
    "        - 부울 to 정수"
   ]
  },
  {
   "cell_type": "code",
   "execution_count": null,
   "metadata": {
    "colab": {
     "base_uri": "https://localhost:8080/"
    },
    "id": "gKKj7WceO7GJ",
    "outputId": "223e376b-69e6-43ab-a002-4f446958037a"
   },
   "outputs": [
    {
     "name": "stdout",
     "output_type": "stream",
     "text": [
      "20\n",
      "20\n"
     ]
    }
   ],
   "source": [
    "num1 = 20   # 10진법 \n",
    "print(num1)\n",
    "print(f'{num1:d}')"
   ]
  },
  {
   "cell_type": "code",
   "execution_count": null,
   "metadata": {
    "colab": {
     "base_uri": "https://localhost:8080/"
    },
    "id": "3kN-O0gQO7GL",
    "outputId": "94fd698f-0eb6-4b1b-b60d-d04062cb5047"
   },
   "outputs": [
    {
     "name": "stdout",
     "output_type": "stream",
     "text": [
      "9\n",
      "1001\n"
     ]
    }
   ],
   "source": [
    "num2 = 0b1001 # 2진법\n",
    "print(num2)\n",
    "print(f'{num2:b}')"
   ]
  },
  {
   "cell_type": "code",
   "execution_count": null,
   "metadata": {
    "colab": {
     "base_uri": "https://localhost:8080/"
    },
    "id": "aXHweCG3O7GN",
    "outputId": "f5fb15fd-3f67-4f23-fb70-a6e93629c1b6"
   },
   "outputs": [
    {
     "name": "stdout",
     "output_type": "stream",
     "text": [
      "9\n",
      "11\n"
     ]
    }
   ],
   "source": [
    "num3 = 0o11 # 8진법\n",
    "print(num3)\n",
    "print(f'{num3:o}')"
   ]
  },
  {
   "cell_type": "code",
   "execution_count": null,
   "metadata": {
    "colab": {
     "base_uri": "https://localhost:8080/"
    },
    "id": "FonikBmeO7GP",
    "outputId": "48f8f10c-4ae5-4bf3-83c9-e5c6d21bcbe3"
   },
   "outputs": [
    {
     "name": "stdout",
     "output_type": "stream",
     "text": [
      "4106\n",
      "100a\n",
      "100A\n"
     ]
    }
   ],
   "source": [
    "num4 = 0x100A # 16진법\n",
    "print(num4)\n",
    "print(f'{num4:x}')\n",
    "print(f'{num4:X}')"
   ]
  },
  {
   "cell_type": "code",
   "execution_count": null,
   "metadata": {
    "colab": {
     "base_uri": "https://localhost:8080/"
    },
    "id": "82z5LE_mO7GR",
    "outputId": "bf39d697-d3f4-46b3-f46e-5f171fab09c8"
   },
   "outputs": [
    {
     "name": "stdout",
     "output_type": "stream",
     "text": [
      "3.141592\n",
      "3.14\n"
     ]
    }
   ],
   "source": [
    "num5 = 3.141592 # 실수 저장\n",
    "print(num5)\n",
    "print(f'{num5:.2f}')"
   ]
  },
  {
   "cell_type": "code",
   "execution_count": null,
   "metadata": {
    "colab": {
     "base_uri": "https://localhost:8080/"
    },
    "id": "rV4bFMM3XW3F",
    "outputId": "da3d85ac-5814-478e-c0d6-095c02e1802e"
   },
   "outputs": [
    {
     "data": {
      "text/plain": [
       "(10+20j)"
      ]
     },
     "execution_count": 53,
     "metadata": {
      "tags": []
     },
     "output_type": "execute_result"
    }
   ],
   "source": [
    "# 복소수\n",
    "10+20j"
   ]
  },
  {
   "cell_type": "code",
   "execution_count": null,
   "metadata": {
    "colab": {
     "base_uri": "https://localhost:8080/"
    },
    "id": "4RAeMWtCPeVK",
    "outputId": "7a14a390-5c1c-41f7-d9f0-894e8dfed754"
   },
   "outputs": [
    {
     "data": {
      "text/plain": [
       "(1, 1)"
      ]
     },
     "execution_count": 10,
     "metadata": {
      "tags": []
     },
     "output_type": "execute_result"
    }
   ],
   "source": [
    "# 숫자형 타입 변경\n",
    "# int, float, bool 등 함수 이용\n",
    "int(1.0), int(True)"
   ]
  },
  {
   "cell_type": "code",
   "execution_count": null,
   "metadata": {
    "colab": {
     "base_uri": "https://localhost:8080/"
    },
    "id": "4xRLMEcpPqWv",
    "outputId": "33d87ea9-5aae-4822-b95f-38fed9dba03b"
   },
   "outputs": [
    {
     "data": {
      "text/plain": [
       "(1.0, 1.0)"
      ]
     },
     "execution_count": 11,
     "metadata": {
      "tags": []
     },
     "output_type": "execute_result"
    }
   ],
   "source": [
    "float(1), float(True)"
   ]
  },
  {
   "cell_type": "code",
   "execution_count": null,
   "metadata": {
    "colab": {
     "base_uri": "https://localhost:8080/"
    },
    "id": "GOWly7WgPtOh",
    "outputId": "8f2e3cf9-b507-4590-9259-ff99b284e9e7"
   },
   "outputs": [
    {
     "data": {
      "text/plain": [
       "(True, True)"
      ]
     },
     "execution_count": 13,
     "metadata": {
      "tags": []
     },
     "output_type": "execute_result"
    }
   ],
   "source": [
    "bool(1), bool(1.2)"
   ]
  },
  {
   "cell_type": "code",
   "execution_count": null,
   "metadata": {
    "colab": {
     "base_uri": "https://localhost:8080/"
    },
    "id": "vT99OudsXdqq",
    "outputId": "944eeac5-5076-4850-f1dd-3e476b5628a8"
   },
   "outputs": [
    {
     "data": {
      "text/plain": [
       "(10+20j)"
      ]
     },
     "execution_count": 54,
     "metadata": {
      "tags": []
     },
     "output_type": "execute_result"
    }
   ],
   "source": [
    "complex(10,20)"
   ]
  },
  {
   "cell_type": "code",
   "execution_count": null,
   "metadata": {
    "colab": {
     "base_uri": "https://localhost:8080/"
    },
    "id": "mF0wBggMsaXI",
    "outputId": "4daad1ec-fdcb-4d79-a375-7df12066e3c8"
   },
   "outputs": [
    {
     "data": {
      "text/plain": [
       "('0xa', '0o12', '0b1010')"
      ]
     },
     "execution_count": 227,
     "metadata": {
      "tags": []
     },
     "output_type": "execute_result"
    }
   ],
   "source": [
    "hex(10), oct(10), bin(10)"
   ]
  },
  {
   "cell_type": "code",
   "execution_count": null,
   "metadata": {
    "colab": {
     "base_uri": "https://localhost:8080/"
    },
    "id": "Tddqgq3evwmT",
    "outputId": "7d7cc2b1-0e5c-4d84-c66f-44a6dd7c254c"
   },
   "outputs": [
    {
     "data": {
      "text/plain": [
       "(10, 10, 10, 10)"
      ]
     },
     "execution_count": 270,
     "metadata": {
      "tags": []
     },
     "output_type": "execute_result"
    }
   ],
   "source": [
    "int('10'), int(hex(10), 16), int(oct(10), 8), int(bin(10), 2)"
   ]
  },
  {
   "cell_type": "markdown",
   "metadata": {
    "id": "CEzbkFROO7Gv"
   },
   "source": [
    " \n",
    "## 연산자\n",
    "    - 파이썬의 거짓 상황\n",
    "       - None, False, 숫자 0 (0, 0.0, 0j), 빈 문자열('', \"\", ''''', \"\"\"\"\"\"), 빈 리스트([]), 빈 set/dict ({})\n",
    "    - 숫자 연산\n",
    "        - 사칙연산, //, %\n",
    "    - 비교 연산자\n",
    "        - ==, !=, >=, <=, >, <\n",
    "    - 논리 연산자\n",
    "        - and or not in not in\n",
    "    - 비트 연산자\n",
    "        - & | not"
   ]
  },
  {
   "cell_type": "code",
   "execution_count": null,
   "metadata": {
    "colab": {
     "base_uri": "https://localhost:8080/"
    },
    "id": "hqSM1D5oP2Ou",
    "outputId": "2949853b-bfe3-41b5-ad64-8c622a144c31"
   },
   "outputs": [
    {
     "name": "stdout",
     "output_type": "stream",
     "text": [
      "거짓\n"
     ]
    }
   ],
   "source": [
    "if None:\n",
    "  print('ㅇㅁㅇ')\n",
    "else:\n",
    "  print('거짓')"
   ]
  },
  {
   "cell_type": "code",
   "execution_count": null,
   "metadata": {
    "colab": {
     "base_uri": "https://localhost:8080/"
    },
    "id": "QuRbJh0yQFHh",
    "outputId": "c00cf390-de4e-4d7e-e41a-aab0b226f617"
   },
   "outputs": [
    {
     "name": "stdout",
     "output_type": "stream",
     "text": [
      "거짓\n"
     ]
    }
   ],
   "source": [
    "if False:\n",
    "  print('ㅇㅁㅇ')\n",
    "else:\n",
    "  print('거짓')"
   ]
  },
  {
   "cell_type": "code",
   "execution_count": null,
   "metadata": {
    "colab": {
     "base_uri": "https://localhost:8080/"
    },
    "id": "kX30CNxWQpkT",
    "outputId": "bd132330-b58d-46dd-d686-cb76147021c9"
   },
   "outputs": [
    {
     "name": "stdout",
     "output_type": "stream",
     "text": [
      "거짓\n"
     ]
    }
   ],
   "source": [
    "if 0:\n",
    "  print('ㅇㅁㅇ')\n",
    "elif 0.0:\n",
    "  print('ㅇㅁㅇ')\n",
    "elif 0j:\n",
    "  print('ㅇㅁㅇ')\n",
    "else:\n",
    "  print('거짓')"
   ]
  },
  {
   "cell_type": "code",
   "execution_count": null,
   "metadata": {
    "colab": {
     "base_uri": "https://localhost:8080/"
    },
    "id": "glYojMVLQ0n5",
    "outputId": "45512b6c-dbc8-4295-9674-c7c92ea41226"
   },
   "outputs": [
    {
     "name": "stdout",
     "output_type": "stream",
     "text": [
      "거짓\n"
     ]
    }
   ],
   "source": [
    "if []:\n",
    "  print('ㅇㅁㅇ')\n",
    "elif ():\n",
    "  print('ㅇㅁㅇ')\n",
    "elif '':\n",
    "  print('ㅇㅁㅇ')\n",
    "else:\n",
    "  print('거짓')"
   ]
  },
  {
   "cell_type": "code",
   "execution_count": null,
   "metadata": {
    "colab": {
     "base_uri": "https://localhost:8080/"
    },
    "id": "exJB2-m7Q6Na",
    "outputId": "de00fbe5-0303-4898-ba2c-c8af0c865ace"
   },
   "outputs": [
    {
     "name": "stdout",
     "output_type": "stream",
     "text": [
      "거짓\n"
     ]
    }
   ],
   "source": [
    "if {}:\n",
    "  print('ㅇㅁㅇ')\n",
    "else:\n",
    "  print('거짓')"
   ]
  },
  {
   "cell_type": "code",
   "execution_count": null,
   "metadata": {
    "colab": {
     "base_uri": "https://localhost:8080/"
    },
    "id": "Rd14pJWjRQNf",
    "outputId": "6c1cc4dd-48e8-4be6-daf0-c0c23e62c59e"
   },
   "outputs": [
    {
     "data": {
      "text/plain": [
       "(30, -10, 200, 0.5)"
      ]
     },
     "execution_count": 25,
     "metadata": {
      "tags": []
     },
     "output_type": "execute_result"
    }
   ],
   "source": [
    "# 사칙 연산\n",
    "10+20, 10-20, 10*20, 10/20"
   ]
  },
  {
   "cell_type": "code",
   "execution_count": null,
   "metadata": {
    "colab": {
     "base_uri": "https://localhost:8080/"
    },
    "id": "__uw2a9IRYZR",
    "outputId": "6dabec9e-b9f2-4477-dd79-55dc79c2c173"
   },
   "outputs": [
    {
     "data": {
      "text/plain": [
       "(0, 2)"
      ]
     },
     "execution_count": 27,
     "metadata": {
      "tags": []
     },
     "output_type": "execute_result"
    }
   ],
   "source": [
    "# 몫 연산\n",
    "10//20, 20//10"
   ]
  },
  {
   "cell_type": "code",
   "execution_count": null,
   "metadata": {
    "colab": {
     "base_uri": "https://localhost:8080/"
    },
    "id": "YAa24P2LRddI",
    "outputId": "b3605a19-5f7b-47cd-dd1d-51ddafd5d1bf"
   },
   "outputs": [
    {
     "data": {
      "text/plain": [
       "(10, 8)"
      ]
     },
     "execution_count": 28,
     "metadata": {
      "tags": []
     },
     "output_type": "execute_result"
    }
   ],
   "source": [
    "# 나머지 연산\n",
    "10%20, 20%12"
   ]
  },
  {
   "cell_type": "code",
   "execution_count": null,
   "metadata": {
    "colab": {
     "base_uri": "https://localhost:8080/"
    },
    "id": "GqUHO0O5SnyM",
    "outputId": "1792b755-266b-43eb-ffdd-c711f1e9ab8d"
   },
   "outputs": [
    {
     "data": {
      "text/plain": [
       "(0, 10)"
      ]
     },
     "execution_count": 39,
     "metadata": {
      "tags": []
     },
     "output_type": "execute_result"
    }
   ],
   "source": [
    "# 몫과 나머지 연산 함수\n",
    "divmod(10,20)"
   ]
  },
  {
   "cell_type": "code",
   "execution_count": null,
   "metadata": {
    "colab": {
     "base_uri": "https://localhost:8080/"
    },
    "id": "5UG3m4aSStRf",
    "outputId": "93b9704d-b849-4ddb-ba5c-fd6ae48bf249"
   },
   "outputs": [
    {
     "data": {
      "text/plain": [
       "(100, 100)"
      ]
     },
     "execution_count": 40,
     "metadata": {
      "tags": []
     },
     "output_type": "execute_result"
    }
   ],
   "source": [
    "# 거듭제곱\n",
    "10**2, pow(10,2)"
   ]
  },
  {
   "cell_type": "code",
   "execution_count": null,
   "metadata": {
    "colab": {
     "base_uri": "https://localhost:8080/"
    },
    "id": "HeUFxEZsRhYq",
    "outputId": "4913c4c6-63d0-440c-82bc-ddcc72f517fb"
   },
   "outputs": [
    {
     "data": {
      "text/plain": [
       "(10, -10, 10)"
      ]
     },
     "execution_count": 30,
     "metadata": {
      "tags": []
     },
     "output_type": "execute_result"
    }
   ],
   "source": [
    "# 음수/양수 연산\n",
    "a=10\n",
    "a, -a, -(-a)"
   ]
  },
  {
   "cell_type": "code",
   "execution_count": null,
   "metadata": {
    "colab": {
     "base_uri": "https://localhost:8080/"
    },
    "id": "1ZUJXkV0Rqvo",
    "outputId": "de329267-4a7d-4bbc-f048-1ac82a3e47c2"
   },
   "outputs": [
    {
     "data": {
      "text/plain": [
       "10"
      ]
     },
     "execution_count": 32,
     "metadata": {
      "tags": []
     },
     "output_type": "execute_result"
    }
   ],
   "source": [
    "# 절댓값\n",
    "abs(-10)"
   ]
  },
  {
   "cell_type": "code",
   "execution_count": null,
   "metadata": {
    "colab": {
     "base_uri": "https://localhost:8080/"
    },
    "id": "Rldt7mAnRzTo",
    "outputId": "342ecf70-1f94-42f2-a731-109112d28c81"
   },
   "outputs": [
    {
     "data": {
      "text/plain": [
       "(10, 10.23)"
      ]
     },
     "execution_count": 33,
     "metadata": {
      "tags": []
     },
     "output_type": "execute_result"
    }
   ],
   "source": [
    "# 반올림\n",
    "round(10.2312), round(10.2312, 2)"
   ]
  },
  {
   "cell_type": "code",
   "execution_count": null,
   "metadata": {
    "colab": {
     "base_uri": "https://localhost:8080/"
    },
    "id": "9ghLBcZbR5jk",
    "outputId": "c96d0d09-ccd7-491a-cb72-c1527174aa7a"
   },
   "outputs": [
    {
     "data": {
      "text/plain": [
       "(4, 4, 4.5, 3.4)"
      ]
     },
     "execution_count": 36,
     "metadata": {
      "tags": []
     },
     "output_type": "execute_result"
    }
   ],
   "source": [
    "#반올림 함수의 주의점\n",
    "#정수 반올림 시 반올림 자리가 5이고 그 앞이 짝수면 내림\n",
    "#정수 반올림 시 반올림 자리고 5이고 그 앞에 홀수면 올림\n",
    "round(4.5), round(3.5), round(4.45, 1), round(3.35, 1), "
   ]
  },
  {
   "cell_type": "code",
   "execution_count": null,
   "metadata": {
    "colab": {
     "base_uri": "https://localhost:8080/"
    },
    "id": "Ck599GmVO7G7",
    "outputId": "23c30f00-dc15-4f15-c427-04bdbf490ecc"
   },
   "outputs": [
    {
     "data": {
      "text/plain": [
       "(True, True, True, False)"
      ]
     },
     "execution_count": 41,
     "metadata": {
      "tags": []
     },
     "output_type": "execute_result"
    }
   ],
   "source": [
    "# 비교 연산자\n",
    "# 결과는 당연히 boolean\n",
    "1 == 1, 1 != 0, 1 >= 0, 1.0 <= 0"
   ]
  },
  {
   "cell_type": "code",
   "execution_count": null,
   "metadata": {
    "colab": {
     "base_uri": "https://localhost:8080/"
    },
    "id": "Is7bbLkUTPIJ",
    "outputId": "b0ff6d16-0d72-414c-c7c6-62b36448d5d0"
   },
   "outputs": [
    {
     "data": {
      "text/plain": [
       "(True, True)"
      ]
     },
     "execution_count": 46,
     "metadata": {
      "tags": []
     },
     "output_type": "execute_result"
    }
   ],
   "source": [
    "# 객체 비교 (주소 값)\n",
    "1 is 1, 1024 is 1024"
   ]
  },
  {
   "cell_type": "code",
   "execution_count": null,
   "metadata": {
    "colab": {
     "base_uri": "https://localhost:8080/"
    },
    "id": "jwejrfwlZC8w",
    "outputId": "976eb6ad-dd12-49cc-b011-74fd07d08c6a"
   },
   "outputs": [
    {
     "data": {
      "text/plain": [
       "True"
      ]
     },
     "execution_count": 73,
     "metadata": {
      "tags": []
     },
     "output_type": "execute_result"
    }
   ],
   "source": [
    "# 자주 사용하는 -5~256까지는 미리 생성되어 있음 (같은 객체 참조)\n",
    "a = -5\n",
    "b = -5\n",
    "a is b"
   ]
  },
  {
   "cell_type": "code",
   "execution_count": null,
   "metadata": {
    "colab": {
     "base_uri": "https://localhost:8080/"
    },
    "id": "DNDMTu1SZAQA",
    "outputId": "8a3bb926-fb7d-470a-a689-2ff355a9abed"
   },
   "outputs": [
    {
     "data": {
      "text/plain": [
       "True"
      ]
     },
     "execution_count": 62,
     "metadata": {
      "tags": []
     },
     "output_type": "execute_result"
    }
   ],
   "source": [
    "a = 256\n",
    "b = 256\n",
    "a is b"
   ]
  },
  {
   "cell_type": "code",
   "execution_count": null,
   "metadata": {
    "colab": {
     "base_uri": "https://localhost:8080/"
    },
    "id": "FukkXuC3TZ8q",
    "outputId": "12405d04-4dd5-4927-e1b4-798daefe3d85"
   },
   "outputs": [
    {
     "data": {
      "text/plain": [
       "False"
      ]
     },
     "execution_count": 49,
     "metadata": {
      "tags": []
     },
     "output_type": "execute_result"
    }
   ],
   "source": [
    "# 범위 밖 숫자는 바로 생성 (다른 객체)\n",
    "a = -6\n",
    "b = -6\n",
    "a is b"
   ]
  },
  {
   "cell_type": "code",
   "execution_count": null,
   "metadata": {
    "colab": {
     "base_uri": "https://localhost:8080/"
    },
    "id": "cojKVmWwZfpw",
    "outputId": "84c157f4-6d7b-412f-99bb-e01353a88765"
   },
   "outputs": [
    {
     "data": {
      "text/plain": [
       "False"
      ]
     },
     "execution_count": 74,
     "metadata": {
      "tags": []
     },
     "output_type": "execute_result"
    }
   ],
   "source": [
    "a = 257\n",
    "b = 257\n",
    "a is b"
   ]
  },
  {
   "cell_type": "code",
   "execution_count": null,
   "metadata": {
    "colab": {
     "base_uri": "https://localhost:8080/"
    },
    "id": "eLBupVeJfzQL",
    "outputId": "bb47b34b-e422-48f3-d503-5f8272df6c9e"
   },
   "outputs": [
    {
     "data": {
      "text/plain": [
       "True"
      ]
     },
     "execution_count": 124,
     "metadata": {
      "tags": []
     },
     "output_type": "execute_result"
    }
   ],
   "source": [
    "# 문자열 (알파벳 동일)\n",
    "a = 'abcd'\n",
    "b = 'abcd'\n",
    "a is b"
   ]
  },
  {
   "cell_type": "code",
   "execution_count": null,
   "metadata": {
    "colab": {
     "base_uri": "https://localhost:8080/"
    },
    "id": "NVZNttSjf1WI",
    "outputId": "0dc427a9-1174-411e-d649-c678de055c5d"
   },
   "outputs": [
    {
     "data": {
      "text/plain": [
       "True"
      ]
     },
     "execution_count": 125,
     "metadata": {
      "tags": []
     },
     "output_type": "execute_result"
    }
   ],
   "source": [
    "# 문자열 (아라비아 숫자 동일)\n",
    "a = '1234'\n",
    "b = '1234'\n",
    "a is b"
   ]
  },
  {
   "cell_type": "code",
   "execution_count": null,
   "metadata": {
    "colab": {
     "base_uri": "https://localhost:8080/"
    },
    "id": "_akXOLGzf2zi",
    "outputId": "6f798c7f-4410-4107-c5a7-8d1d8752fe0b"
   },
   "outputs": [
    {
     "data": {
      "text/plain": [
       "False"
      ]
     },
     "execution_count": 126,
     "metadata": {
      "tags": []
     },
     "output_type": "execute_result"
    }
   ],
   "source": [
    "# 문자열 (기호 다름)\n",
    "a = '!@#$'\n",
    "b = '!@#$'\n",
    "a is b"
   ]
  },
  {
   "cell_type": "code",
   "execution_count": null,
   "metadata": {
    "colab": {
     "base_uri": "https://localhost:8080/"
    },
    "id": "DzjjHO7MgV2h",
    "outputId": "e0ac34c6-08c3-457e-db38-057dd1593e70"
   },
   "outputs": [
    {
     "data": {
      "text/plain": [
       "False"
      ]
     },
     "execution_count": 127,
     "metadata": {
      "tags": []
     },
     "output_type": "execute_result"
    }
   ],
   "source": [
    "# 문자열 (한글 다름)\n",
    "a = '안녕'\n",
    "b = '안녕'\n",
    "a is b"
   ]
  },
  {
   "cell_type": "code",
   "execution_count": null,
   "metadata": {
    "colab": {
     "base_uri": "https://localhost:8080/"
    },
    "id": "o-cGibZzO7G9",
    "outputId": "57f5bb42-9d59-4eca-a368-5315ce049503"
   },
   "outputs": [
    {
     "data": {
      "text/plain": [
       "(True, False, False, False)"
      ]
     },
     "execution_count": 58,
     "metadata": {
      "tags": []
     },
     "output_type": "execute_result"
    }
   ],
   "source": [
    "# 논리 연산자\n",
    "# and: 양 변이 bool 타입인 경우 \n",
    "True and True , True and False, False and True, False and False"
   ]
  },
  {
   "cell_type": "code",
   "execution_count": null,
   "metadata": {
    "colab": {
     "base_uri": "https://localhost:8080/"
    },
    "id": "hbqnOx6ddB5P",
    "outputId": "b14bd87b-c4f4-4b34-cccd-6c5b697e3043"
   },
   "outputs": [
    {
     "data": {
      "text/plain": [
       "(20, 0, 0, 0)"
      ]
     },
     "execution_count": 75,
     "metadata": {
      "tags": []
     },
     "output_type": "execute_result"
    }
   ],
   "source": [
    "# and: 양 변이 bool이 아닌 경우\n",
    "# x가 거짓이면 x, x가 참이면 y\n",
    "10 and 20 , 10 and 0, 0 and 20, 0 and 0"
   ]
  },
  {
   "cell_type": "code",
   "execution_count": null,
   "metadata": {
    "colab": {
     "base_uri": "https://localhost:8080/"
    },
    "id": "yfZkcCWkdT-4",
    "outputId": "eb98d8d9-2081-444a-f893-d82063c033b2"
   },
   "outputs": [
    {
     "data": {
      "text/plain": [
       "('b', '', '', '')"
      ]
     },
     "execution_count": 76,
     "metadata": {
      "tags": []
     },
     "output_type": "execute_result"
    }
   ],
   "source": [
    "'a' and 'b' , 'a' and '', '' and 'b', '' and ''"
   ]
  },
  {
   "cell_type": "code",
   "execution_count": null,
   "metadata": {
    "colab": {
     "base_uri": "https://localhost:8080/"
    },
    "id": "xuX_NDkyO7G-",
    "outputId": "e7c37718-9796-48ee-f62a-250608d8cefa"
   },
   "outputs": [
    {
     "data": {
      "text/plain": [
       "(True, True, True, False)"
      ]
     },
     "execution_count": 60,
     "metadata": {
      "tags": []
     },
     "output_type": "execute_result"
    }
   ],
   "source": [
    "# or: 양 변이 bool 타입인 경우 \n",
    "True or True , True or False, False or True, False or False"
   ]
  },
  {
   "cell_type": "code",
   "execution_count": null,
   "metadata": {
    "colab": {
     "base_uri": "https://localhost:8080/"
    },
    "id": "N3dI-hwMdeMM",
    "outputId": "1d45d165-0665-495c-ffdf-c80ce2d0146e"
   },
   "outputs": [
    {
     "data": {
      "text/plain": [
       "(10, 10, 20, 0)"
      ]
     },
     "execution_count": 78,
     "metadata": {
      "tags": []
     },
     "output_type": "execute_result"
    }
   ],
   "source": [
    "# or: 양 변이 bool이 아닌 경우\n",
    "# x가 거짓이면 y, x가 참이면 x\n",
    "10 or 20 , 10 or 0, 0 or 20, 0 or 0"
   ]
  },
  {
   "cell_type": "code",
   "execution_count": null,
   "metadata": {
    "colab": {
     "base_uri": "https://localhost:8080/"
    },
    "id": "nCKQcoitdqgL",
    "outputId": "f7088766-bc04-4632-96a6-1c42b03974d4"
   },
   "outputs": [
    {
     "data": {
      "text/plain": [
       "('a', 'a', 'b', '')"
      ]
     },
     "execution_count": 79,
     "metadata": {
      "tags": []
     },
     "output_type": "execute_result"
    }
   ],
   "source": [
    "'a' or 'b' , 'a' or '', '' or 'b', '' or ''"
   ]
  },
  {
   "cell_type": "code",
   "execution_count": null,
   "metadata": {
    "colab": {
     "base_uri": "https://localhost:8080/"
    },
    "id": "8Ka3foq_O7HA",
    "outputId": "bd7e78f9-1e98-482a-d96d-f118cc9df7dc"
   },
   "outputs": [
    {
     "data": {
      "text/plain": [
       "(False, True)"
      ]
     },
     "execution_count": 61,
     "metadata": {
      "tags": []
     },
     "output_type": "execute_result"
    }
   ],
   "source": [
    "# not: bool 타입인 경우\n",
    "not True, not False"
   ]
  },
  {
   "cell_type": "code",
   "execution_count": null,
   "metadata": {
    "colab": {
     "base_uri": "https://localhost:8080/"
    },
    "id": "NCDK6MI7c-Do",
    "outputId": "fd5e171f-cce3-40ab-c573-5b3f7ccc4d93"
   },
   "outputs": [
    {
     "data": {
      "text/plain": [
       "(False, True, False, True)"
      ]
     },
     "execution_count": 84,
     "metadata": {
      "tags": []
     },
     "output_type": "execute_result"
    }
   ],
   "source": [
    "# not: bool이 아닌 경우\n",
    "# x가 참이면 False, x가 거짓이면 True\n",
    "not 'a', not '', not -1, not 0"
   ]
  },
  {
   "cell_type": "code",
   "execution_count": null,
   "metadata": {
    "colab": {
     "base_uri": "https://localhost:8080/"
    },
    "id": "7Q4F3t3seCZt",
    "outputId": "6b418d67-9839-40f4-8696-c5a52a853360"
   },
   "outputs": [
    {
     "data": {
      "text/plain": [
       "(True, False, False, False)"
      ]
     },
     "execution_count": 86,
     "metadata": {
      "tags": []
     },
     "output_type": "execute_result"
    }
   ],
   "source": [
    "# 비트 연산자\n",
    "# &: 양 변이 bool 타입인 경우 논리 연산자 and와 동일\n",
    "True & True , True & False, False & True, False & False"
   ]
  },
  {
   "cell_type": "code",
   "execution_count": null,
   "metadata": {
    "colab": {
     "base_uri": "https://localhost:8080/"
    },
    "id": "EDAVNWo9el7j",
    "outputId": "b7e23d40-c1af-4358-98a6-c0f423e006ce"
   },
   "outputs": [
    {
     "data": {
      "text/plain": [
       "(8, 8)"
      ]
     },
     "execution_count": 94,
     "metadata": {
      "tags": []
     },
     "output_type": "execute_result"
    }
   ],
   "source": [
    "# &: 양 변이 bool 타입이 아닌 경우 비트 연산\n",
    "10 & 8, 0b1010 & 0b1000"
   ]
  },
  {
   "cell_type": "code",
   "execution_count": null,
   "metadata": {
    "colab": {
     "base_uri": "https://localhost:8080/"
    },
    "id": "7aai17nweKw7",
    "outputId": "8259f3c3-9c57-4e92-85a8-17630b2e591f"
   },
   "outputs": [
    {
     "data": {
      "text/plain": [
       "(10, 10)"
      ]
     },
     "execution_count": 96,
     "metadata": {
      "tags": []
     },
     "output_type": "execute_result"
    }
   ],
   "source": [
    "# |: 양 변이 bool 타입이 아닌 경우 비트 연산\n",
    "8 | 2, 0b1000 | 0b0010"
   ]
  },
  {
   "cell_type": "code",
   "execution_count": null,
   "metadata": {
    "colab": {
     "base_uri": "https://localhost:8080/"
    },
    "id": "Xk2uOmCReW2N",
    "outputId": "545ff95e-8412-4227-bf17-a282705eaee6"
   },
   "outputs": [
    {
     "data": {
      "text/plain": [
       "(-2, -1, -2, -1)"
      ]
     },
     "execution_count": 97,
     "metadata": {
      "tags": []
     },
     "output_type": "execute_result"
    }
   ],
   "source": [
    "# ~: bool/숫자 모두 비트 연산\n",
    "~True, ~False, ~1, ~0"
   ]
  },
  {
   "cell_type": "code",
   "execution_count": null,
   "metadata": {
    "colab": {
     "base_uri": "https://localhost:8080/",
     "height": 190
    },
    "id": "_MWS7HNSehSN",
    "outputId": "f6440948-ab1b-4e16-c821-ebea1e8b2500"
   },
   "outputs": [
    {
     "ename": "TypeError",
     "evalue": "ignored",
     "output_type": "error",
     "traceback": [
      "\u001b[0;31m---------------------------------------------------------------------------\u001b[0m",
      "\u001b[0;31mTypeError\u001b[0m                                 Traceback (most recent call last)",
      "\u001b[0;32m<ipython-input-98-45bebac02c63>\u001b[0m in \u001b[0;36m<module>\u001b[0;34m()\u001b[0m\n\u001b[1;32m      1\u001b[0m \u001b[0;31m# 비트 연산자는 문자열에는 적용할 수 없음\u001b[0m\u001b[0;34m\u001b[0m\u001b[0;34m\u001b[0m\u001b[0;34m\u001b[0m\u001b[0m\n\u001b[0;32m----> 2\u001b[0;31m \u001b[0;34m'a'\u001b[0m \u001b[0;34m&\u001b[0m \u001b[0;34m'b'\u001b[0m\u001b[0;34m\u001b[0m\u001b[0;34m\u001b[0m\u001b[0m\n\u001b[0m",
      "\u001b[0;31mTypeError\u001b[0m: unsupported operand type(s) for &: 'str' and 'str'"
     ]
    }
   ],
   "source": [
    "# 비트 연산자는 문자열에는 적용할 수 없음\n",
    "'a' & 'b'"
   ]
  },
  {
   "cell_type": "code",
   "execution_count": null,
   "metadata": {
    "colab": {
     "base_uri": "https://localhost:8080/"
    },
    "id": "6bk9Qg4-O7HE",
    "outputId": "819ea08e-7cd0-4791-fe54-49dacf060e53"
   },
   "outputs": [
    {
     "data": {
      "text/plain": [
       "True"
      ]
     },
     "execution_count": 128,
     "metadata": {
      "tags": []
     },
     "output_type": "execute_result"
    }
   ],
   "source": [
    "# in, not in 연산자\n",
    "# value in iterable\n",
    "# iterable한 객체 내에 value가 있는지 확인\n",
    "# boolean 타입 결과\n",
    "1 in [1,2,3,4,5]"
   ]
  },
  {
   "cell_type": "code",
   "execution_count": null,
   "metadata": {
    "colab": {
     "base_uri": "https://localhost:8080/"
    },
    "id": "XQ0MhcMYO7HG",
    "outputId": "5ccf6459-b920-4f79-f22f-fa98a2625119",
    "scrolled": true
   },
   "outputs": [
    {
     "data": {
      "text/plain": [
       "False"
      ]
     },
     "execution_count": 130,
     "metadata": {
      "tags": []
     },
     "output_type": "execute_result"
    }
   ],
   "source": [
    "6 in [1,2,3,4,5]"
   ]
  },
  {
   "cell_type": "markdown",
   "metadata": {
    "id": "Szw6kD6lO7Hu"
   },
   "source": [
    "## 문자열\n",
    "    - 첫 번째 시퀀스 타입\n",
    "    - 문자열 선언 \n",
    "        - ', \", \"\"\"(''')\n",
    "    - 이스케이프 문자\n",
    "        - \\n, \\t, \\r, \\\\, \\', \\\"\n",
    "    - 문자열 연산자 (시퀀스 타입 공통 특징 1, 2)\n",
    "        - +, *\n",
    "    - 문자열 인덱싱  (시퀀스 타입 공통 특징 3)\n",
    "    - 문자열 슬라이싱  (시퀀스 타입 공통 특징 4)\n",
    "    - 문자열 함수\n",
    "    - 문자열 포맷팅\n",
    "        - % (포맷 코드)\n",
    "        - ''.format\n",
    "        - f-string\n"
   ]
  },
  {
   "cell_type": "code",
   "execution_count": null,
   "metadata": {
    "colab": {
     "base_uri": "https://localhost:8080/"
    },
    "id": "wwFIOJzcg0xX",
    "outputId": "8a540dfa-e917-4023-8109-45736266a32b"
   },
   "outputs": [
    {
     "data": {
      "text/plain": [
       "('안녕하세요', '만나서 반갑습니다')"
      ]
     },
     "execution_count": 131,
     "metadata": {
      "tags": []
     },
     "output_type": "execute_result"
    }
   ],
   "source": [
    "# 한 줄 문자열\n",
    "# 작은 따옴표, 큰 따옴표 사용 가능 (혼용 불가)\n",
    "'안녕하세요', \"만나서 반갑습니다\""
   ]
  },
  {
   "cell_type": "code",
   "execution_count": null,
   "metadata": {
    "colab": {
     "base_uri": "https://localhost:8080/"
    },
    "id": "dcE_aKnbg-cJ",
    "outputId": "c15ebfbb-227a-4c62-edc0-f65f03ca4d4b"
   },
   "outputs": [
    {
     "name": "stdout",
     "output_type": "stream",
     "text": [
      "안녕하세요\n",
      "만나서 반갑습니다.\n"
     ]
    }
   ],
   "source": [
    "# 한 줄 문자열에 개행 문자를 넣으면 여러줄 표현 가능\n",
    "print('안녕하세요\\n만나서 반갑습니다.')"
   ]
  },
  {
   "cell_type": "code",
   "execution_count": null,
   "metadata": {
    "colab": {
     "base_uri": "https://localhost:8080/"
    },
    "id": "leEjLjOZUKSJ",
    "outputId": "3bddf477-027a-4cd9-9948-c74c850a9610"
   },
   "outputs": [
    {
     "name": "stdout",
     "output_type": "stream",
     "text": [
      "안녕하세요\n",
      "만나서 반갑습니다.\n"
     ]
    }
   ],
   "source": [
    "# 여러 줄 문자열\n",
    "# 작은 따옴표 세 개, 큰 따옴표 세 개 사용 가능 (혼용 불가)\n",
    "# 문자열 내부 엔터(줄 바꿈)을 개행 문자(\\n)로 인식\n",
    "print('''안녕하세요\n",
    "만나서 반갑습니다.''')"
   ]
  },
  {
   "cell_type": "code",
   "execution_count": null,
   "metadata": {
    "colab": {
     "base_uri": "https://localhost:8080/",
     "height": 35
    },
    "id": "nN1y5t0OsTOg",
    "outputId": "6e2ff37d-30f1-48f4-85ef-2af1728a3b53"
   },
   "outputs": [
    {
     "data": {
      "application/vnd.google.colaboratory.intrinsic+json": {
       "type": "string"
      },
      "text/plain": [
       "'안녕하세요\\n만나서 반갑습니다.'"
      ]
     },
     "execution_count": 33,
     "metadata": {
      "tags": []
     },
     "output_type": "execute_result"
    }
   ],
   "source": [
    "'''안녕하세요\n",
    "만나서 반갑습니다.'''"
   ]
  },
  {
   "cell_type": "code",
   "execution_count": null,
   "metadata": {
    "colab": {
     "base_uri": "https://localhost:8080/"
    },
    "id": "gePe76unh0OQ",
    "outputId": "788604a6-d479-47bd-8268-66fe7714504e"
   },
   "outputs": [
    {
     "name": "stdout",
     "output_type": "stream",
     "text": [
      "\n",
      "안녕\n"
     ]
    }
   ],
   "source": [
    "# escape 문자\n",
    "# 개행 \\n\n",
    "print(\"\\n안녕\")"
   ]
  },
  {
   "cell_type": "code",
   "execution_count": null,
   "metadata": {
    "colab": {
     "base_uri": "https://localhost:8080/"
    },
    "id": "Ssf5CcRMh9iL",
    "outputId": "2268c13a-96b3-4b04-b91e-82ba729388b4"
   },
   "outputs": [
    {
     "name": "stdout",
     "output_type": "stream",
     "text": [
      "\t안녕\n"
     ]
    }
   ],
   "source": [
    "# 탭 \\t\n",
    "print(\"\\t안녕\")"
   ]
  },
  {
   "cell_type": "code",
   "execution_count": null,
   "metadata": {
    "colab": {
     "base_uri": "https://localhost:8080/"
    },
    "id": "4AKKivmwh_7j",
    "outputId": "e7367a33-fe9a-4389-d59d-818c65aabd65"
   },
   "outputs": [
    {
     "name": "stdout",
     "output_type": "stream",
     "text": [
      "안녕\\\n"
     ]
    }
   ],
   "source": [
    "# W \\\\\n",
    "print(\"안녕\\\\\")"
   ]
  },
  {
   "cell_type": "code",
   "execution_count": null,
   "metadata": {
    "colab": {
     "base_uri": "https://localhost:8080/"
    },
    "id": "a-6ADSn_ixAU",
    "outputId": "06760079-d158-4984-e10b-ba81bcc51327"
   },
   "outputs": [
    {
     "name": "stdout",
     "output_type": "stream",
     "text": [
      "'안녕'\n"
     ]
    }
   ],
   "source": [
    "# ', \" 따옴표 \\' \\\"\n",
    "print(\"\\'안녕\\'\")"
   ]
  },
  {
   "cell_type": "code",
   "execution_count": null,
   "metadata": {
    "colab": {
     "base_uri": "https://localhost:8080/"
    },
    "id": "MNtpIFuCi_y7",
    "outputId": "a8c65371-a275-46d1-e294-818a9196c2b5"
   },
   "outputs": [
    {
     "data": {
      "text/plain": [
       "('hello python world', 'pypy')"
      ]
     },
     "execution_count": 144,
     "metadata": {
      "tags": []
     },
     "output_type": "execute_result"
    }
   ],
   "source": [
    "# 문자열 결합, 반복 (시퀀스 타입 공통 특징 1, 2)\n",
    "# +, * 연산자 이용\n",
    "# + (결합): 문자열 두 개를 합쳐서 하나로\n",
    "# * (반복): 문자열을 정수만큼 반복\n",
    "\n",
    "'hello' + ' ' + 'py'+'thon' + ' world', 'py' * 2"
   ]
  },
  {
   "cell_type": "code",
   "execution_count": null,
   "metadata": {
    "colab": {
     "base_uri": "https://localhost:8080/",
     "height": 35
    },
    "id": "df6-nzSajapD",
    "outputId": "6f9fbaf3-3f62-4e94-9884-daa960c11b88"
   },
   "outputs": [
    {
     "data": {
      "application/vnd.google.colaboratory.intrinsic+json": {
       "type": "string"
      },
      "text/plain": [
       "'hello python python world'"
      ]
     },
     "execution_count": 146,
     "metadata": {
      "tags": []
     },
     "output_type": "execute_result"
    }
   ],
   "source": [
    "'hello' + ' ' + ('py'+'thon ')*2 + 'world'"
   ]
  },
  {
   "cell_type": "code",
   "execution_count": null,
   "metadata": {
    "colab": {
     "base_uri": "https://localhost:8080/"
    },
    "id": "Ynm_XJiVjkdD",
    "outputId": "93dfd59a-935e-43fc-c419-9152986b8bf5"
   },
   "outputs": [
    {
     "data": {
      "text/plain": [
       "('p', 'p', 'n', 'n')"
      ]
     },
     "execution_count": 149,
     "metadata": {
      "tags": []
     },
     "output_type": "execute_result"
    }
   ],
   "source": [
    "# 문자열 인덱싱 (시퀀스 타입 공통 특징 3)\n",
    "# 시퀀스 타입은 순서가 있음 (인덱스가 있음)\n",
    "# 인덱스를 이용하여 특정 값 혹은 객체를 가져올 수 있음 (인덱싱)\n",
    "# 양수 인덱스: 0 ~ 길이-1\n",
    "# 음수 인덱스: -1 ~ -길이\n",
    "'python'[0], 'python'[-6], 'python'[5], 'python'[-1]"
   ]
  },
  {
   "cell_type": "code",
   "execution_count": null,
   "metadata": {
    "colab": {
     "base_uri": "https://localhost:8080/"
    },
    "id": "L79nT8nLkD2E",
    "outputId": "3b54df29-6106-4929-9078-1bea2a8237f3"
   },
   "outputs": [
    {
     "data": {
      "text/plain": [
       "('pytho', 'pytho', 'pytho', 'pytho')"
      ]
     },
     "execution_count": 153,
     "metadata": {
      "tags": []
     },
     "output_type": "execute_result"
    }
   ],
   "source": [
    "# 문자열 슬라이싱 (시퀀스 타입 공통 특징 3)\n",
    "# 인덱스를 이용하여 일정 범위의 값을 추출\n",
    "# 시퀀스타입[start:stop:step]-> [start:stop) 시작은 포함, 끝은 미포함, step 기본은 1\n",
    "# step은 1인 경우 생략 가능 (콜론 포함), start은 시작부터 stop은 끝까지 포함하는 경우 생략 가능 (콜론은 생략 불가)\n",
    "'python'[0:5:1], 'python'[0:5], 'python'[:5], 'python'[:-1]"
   ]
  },
  {
   "cell_type": "code",
   "execution_count": null,
   "metadata": {
    "colab": {
     "base_uri": "https://localhost:8080/"
    },
    "id": "ZzW-6hcck7gc",
    "outputId": "9fa4433d-b393-4914-cd6a-79b8f9fce319"
   },
   "outputs": [
    {
     "data": {
      "text/plain": [
       "('python', 'python', 'python')"
      ]
     },
     "execution_count": 156,
     "metadata": {
      "tags": []
     },
     "output_type": "execute_result"
    }
   ],
   "source": [
    "# 끝은 미포함이기 때문에 끝까지 슬라이싱 하려면 비워둬야 함\n",
    "'python'[0::1], 'python'[::1], 'python'[:]"
   ]
  },
  {
   "cell_type": "code",
   "execution_count": null,
   "metadata": {
    "colab": {
     "base_uri": "https://localhost:8080/"
    },
    "id": "W9DdKR5WlGSY",
    "outputId": "5a2a71dc-7001-4e40-bf9f-3cb2612949ba"
   },
   "outputs": [
    {
     "data": {
      "text/plain": [
       "('pto', 'ph', 'po', 'pn')"
      ]
     },
     "execution_count": 160,
     "metadata": {
      "tags": []
     },
     "output_type": "execute_result"
    }
   ],
   "source": [
    "# step이 1보다 크면 그 값만큼 건너뜀\n",
    "'python'[::2], 'python'[::3], 'python'[::4], 'python'[::5]"
   ]
  },
  {
   "cell_type": "code",
   "execution_count": null,
   "metadata": {
    "colab": {
     "base_uri": "https://localhost:8080/"
    },
    "id": "dwKYkTj1lUoE",
    "outputId": "0929e113-30bc-4dd0-e953-7c81d49073a4"
   },
   "outputs": [
    {
     "data": {
      "text/plain": [
       "('nohtyp', 'nhy', 'hty')"
      ]
     },
     "execution_count": 162,
     "metadata": {
      "tags": []
     },
     "output_type": "execute_result"
    }
   ],
   "source": [
    "# step이 음수면 끝에서부터 앞으로 액세스 할 수 있음\n",
    "'python'[::-1], 'python'[::-2], 'python'[3:0:-1]"
   ]
  },
  {
   "cell_type": "code",
   "execution_count": null,
   "metadata": {
    "colab": {
     "base_uri": "https://localhost:8080/"
    },
    "id": "skMP_YTRmP0b",
    "outputId": "02ef019a-5165-4e0e-9250-d16d70b3b2a8"
   },
   "outputs": [
    {
     "data": {
      "text/plain": [
       "('20201109', 'Rainy')"
      ]
     },
     "execution_count": 179,
     "metadata": {
      "tags": []
     },
     "output_type": "execute_result"
    }
   ],
   "source": [
    "date = today[:8]\n",
    "weather = today[8:]\n",
    "date, weather"
   ]
  },
  {
   "cell_type": "code",
   "execution_count": null,
   "metadata": {
    "colab": {
     "base_uri": "https://localhost:8080/",
     "height": 35
    },
    "id": "ziRsUvrIeDZH",
    "outputId": "48a87ec8-1c3b-4a65-e53d-e2c2d8bc15eb"
   },
   "outputs": [
    {
     "data": {
      "application/vnd.google.colaboratory.intrinsic+json": {
       "type": "string"
      },
      "text/plain": [
       "'1'"
      ]
     },
     "execution_count": 177,
     "metadata": {
      "tags": []
     },
     "output_type": "execute_result"
    }
   ],
   "source": [
    "data[7]"
   ]
  },
  {
   "cell_type": "code",
   "execution_count": null,
   "metadata": {
    "colab": {
     "base_uri": "https://localhost:8080/"
    },
    "id": "uKTd_lWKmvxa",
    "outputId": "27aae58d-d8d0-4d49-9b94-c22e97b962f1"
   },
   "outputs": [
    {
     "data": {
      "text/plain": [
       "(4, 5)"
      ]
     },
     "execution_count": 180,
     "metadata": {
      "tags": []
     },
     "output_type": "execute_result"
    }
   ],
   "source": [
    "# 문자열 함수\n",
    "# 모든 문자열 객체에 적용할 수 있는 함수\n",
    "# 문자열 길이 확인 len 내장 함수\n",
    "len('abcd'), len('안녕하세요')"
   ]
  },
  {
   "cell_type": "code",
   "execution_count": null,
   "metadata": {
    "colab": {
     "base_uri": "https://localhost:8080/"
    },
    "id": "uyw3eBignB_1",
    "outputId": "454446ca-6e4d-4039-94cb-feb973e1df0d"
   },
   "outputs": [
    {
     "data": {
      "text/plain": [
       "(True, True, True, False)"
      ]
     },
     "execution_count": 182,
     "metadata": {
      "tags": []
     },
     "output_type": "execute_result"
    }
   ],
   "source": [
    "# isalnum 알파벳/숫자인지 확인 -> bool 타입 결과\n",
    "'abcd'.isalnum(), '1234'.isalnum(), 'abcd1234'.isalnum(), 'abcd11!!'.isalnum()"
   ]
  },
  {
   "cell_type": "code",
   "execution_count": null,
   "metadata": {
    "colab": {
     "base_uri": "https://localhost:8080/"
    },
    "id": "4y0prgPwnOZm",
    "outputId": "734d1790-2c48-4d08-bf85-b3c59a7c0e4b"
   },
   "outputs": [
    {
     "data": {
      "text/plain": [
       "(True, False, False, False)"
      ]
     },
     "execution_count": 184,
     "metadata": {
      "tags": []
     },
     "output_type": "execute_result"
    }
   ],
   "source": [
    "# isalpha 알파벳 확인\n",
    "'abcd'.isalpha(), '1234'.isalpha(), 'abcd1234'.isalpha(), 'abcd11!!'.isalpha()"
   ]
  },
  {
   "cell_type": "code",
   "execution_count": null,
   "metadata": {
    "colab": {
     "base_uri": "https://localhost:8080/"
    },
    "id": "RodHcogznVh1",
    "outputId": "bcc96e3a-b563-4118-ebcf-44261075994a"
   },
   "outputs": [
    {
     "data": {
      "text/plain": [
       "(False, True, False, False, False)"
      ]
     },
     "execution_count": 186,
     "metadata": {
      "tags": []
     },
     "output_type": "execute_result"
    }
   ],
   "source": [
    "# isdecimal 10진수인지 확인\n",
    "'abcd'.isdecimal(), '1234'.isdecimal(), 'abcd1234'.isdecimal(), 'abcd11!!'.isdecimal(), '10.2'.isdecimal()"
   ]
  },
  {
   "cell_type": "code",
   "execution_count": null,
   "metadata": {
    "colab": {
     "base_uri": "https://localhost:8080/"
    },
    "id": "2fbkiRQvngLd",
    "outputId": "801bd6ff-4202-490a-f3e6-68631d0d93b5"
   },
   "outputs": [
    {
     "data": {
      "text/plain": [
       "(False, True, True, True, True)"
      ]
     },
     "execution_count": 188,
     "metadata": {
      "tags": []
     },
     "output_type": "execute_result"
    }
   ],
   "source": [
    "# isspace 공백인지 확인\n",
    "''.isspace(), ' '.isspace(), '\\t'.isspace(), '\\r'.isspace(), '\\n'.isspace()"
   ]
  },
  {
   "cell_type": "code",
   "execution_count": null,
   "metadata": {
    "colab": {
     "base_uri": "https://localhost:8080/"
    },
    "id": "QtUS5D7Ins6M",
    "outputId": "aeeb9a9f-9498-4c5d-df3a-1d24ccd952fb"
   },
   "outputs": [
    {
     "data": {
      "text/plain": [
       "(True, False)"
      ]
     },
     "execution_count": 192,
     "metadata": {
      "tags": []
     },
     "output_type": "execute_result"
    }
   ],
   "source": [
    "# istitle 타이틀인지 확인\n",
    "'A Whole New World'.istitle(), 'A whole new world'.istitle()"
   ]
  },
  {
   "cell_type": "code",
   "execution_count": null,
   "metadata": {
    "colab": {
     "base_uri": "https://localhost:8080/"
    },
    "id": "O2PFVDEroHgd",
    "outputId": "bd83d1da-b0cf-485c-86ef-122b67ff2a85"
   },
   "outputs": [
    {
     "data": {
      "text/plain": [
       "('a whole new world',\n",
       " 'A WHOLE NEW WORLD',\n",
       " 'A Whole New World',\n",
       " 'A whole new world')"
      ]
     },
     "execution_count": 193,
     "metadata": {
      "tags": []
     },
     "output_type": "execute_result"
    }
   ],
   "source": [
    "# lower, upper, title, capitalize 소문자, 대문자, 타이틀, 문장 시작 형태로 변환\n",
    "'A Whole New World'.lower(), 'A Whole New World'.upper(), 'a whole nEw world'.title(), 'a whole nEw world'.capitalize()"
   ]
  },
  {
   "cell_type": "code",
   "execution_count": null,
   "metadata": {
    "colab": {
     "base_uri": "https://localhost:8080/"
    },
    "id": "dEqkVLe3oZRA",
    "outputId": "149c5825-630e-43be-de9e-d4150bdd67b8"
   },
   "outputs": [
    {
     "data": {
      "text/plain": [
       "(True, False)"
      ]
     },
     "execution_count": 197,
     "metadata": {
      "tags": []
     },
     "output_type": "execute_result"
    }
   ],
   "source": [
    "# islower, isupper 소문자인지 대문자인지 확인\n",
    "'a whole new world'.islower(), 'a whole new world'.isupper()"
   ]
  },
  {
   "cell_type": "code",
   "execution_count": null,
   "metadata": {
    "colab": {
     "base_uri": "https://localhost:8080/"
    },
    "id": "9dqod84SouUl",
    "outputId": "2c0aa505-4971-4e84-ca05-e20b0f19c14d"
   },
   "outputs": [
    {
     "data": {
      "text/plain": [
       "(8, 8)"
      ]
     },
     "execution_count": 38,
     "metadata": {
      "tags": []
     },
     "output_type": "execute_result"
    }
   ],
   "source": [
    "# index 문자열 내 문자열의 위치를 반환하는 함수\n",
    "# str.index(sub, start, end) start 포함, end 미포함, start, end 생략 가능 (start만 생략하는건 불가능)\n",
    "'A Whole New World'.index('New'), 'A Whole New World'.index('New', 7)"
   ]
  },
  {
   "cell_type": "code",
   "execution_count": null,
   "metadata": {
    "colab": {
     "base_uri": "https://localhost:8080/"
    },
    "id": "wtT4YcB7pJUG",
    "outputId": "0de2c1b5-38a9-4c11-a94d-110b09b70944"
   },
   "outputs": [
    {
     "data": {
      "text/plain": [
       "(False, True)"
      ]
     },
     "execution_count": 202,
     "metadata": {
      "tags": []
     },
     "output_type": "execute_result"
    }
   ],
   "source": [
    "# startswith, endswith prefix 혹은 suffix로 문자열이 시작 혹은 종료되는지 확인 -> bool 타입 결과\n",
    "'A Whole New World'.startswith('whole'), 'A Whole New World'.endswith('rld')"
   ]
  },
  {
   "cell_type": "code",
   "execution_count": null,
   "metadata": {
    "colab": {
     "base_uri": "https://localhost:8080/"
    },
    "id": "eavlJZVnpaVO",
    "outputId": "a3f74ca9-04f5-48bc-9209-41b8c84a88fc"
   },
   "outputs": [
    {
     "data": {
      "text/plain": [
       "('A', ' ', 'Whole New World')"
      ]
     },
     "execution_count": 203,
     "metadata": {
      "tags": []
     },
     "output_type": "execute_result"
    }
   ],
   "source": [
    "# partition 첫 번째 만나는 구분자를 기준으로 문자열을 3등분\n",
    "# 앞, 구분자, 뒤 -> tuple\n",
    "'A Whole New World'.partition(' ')"
   ]
  },
  {
   "cell_type": "code",
   "execution_count": null,
   "metadata": {
    "colab": {
     "base_uri": "https://localhost:8080/"
    },
    "id": "26Cn_QYVpqcu",
    "outputId": "5524b0ea-e239-449b-bea2-b9a4e4710389"
   },
   "outputs": [
    {
     "data": {
      "text/plain": [
       "['A', 'Whole', 'New', 'World']"
      ]
     },
     "execution_count": 204,
     "metadata": {
      "tags": []
     },
     "output_type": "execute_result"
    }
   ],
   "source": [
    "# split 구분자를 만날 때마다 잘라서 list로 반환\n",
    "'A Whole New World'.split(' ')"
   ]
  },
  {
   "cell_type": "code",
   "execution_count": null,
   "metadata": {
    "colab": {
     "base_uri": "https://localhost:8080/",
     "height": 35
    },
    "id": "H5e4wF5Xp2MN",
    "outputId": "3d7b2d5b-1a20-4a30-9d25-2915b59f6e6c"
   },
   "outputs": [
    {
     "data": {
      "application/vnd.google.colaboratory.intrinsic+json": {
       "type": "string"
      },
      "text/plain": [
       "'a:b:c:d:e:f:g'"
      ]
     },
     "execution_count": 208,
     "metadata": {
      "tags": []
     },
     "output_type": "execute_result"
    }
   ],
   "source": [
    "# join 입력 문자열의 각 문자 사이(혹은 다른 자료 구조의 각 요소 사이)에 문자를 추가하여 하나의 문자열로 반환\n",
    "':'.join('abcdefg')"
   ]
  },
  {
   "cell_type": "code",
   "execution_count": null,
   "metadata": {
    "colab": {
     "base_uri": "https://localhost:8080/",
     "height": 35
    },
    "id": "dfDpwNdwqZ-e",
    "outputId": "9afad322-67b4-4b58-9274-50309d72f10e"
   },
   "outputs": [
    {
     "data": {
      "application/vnd.google.colaboratory.intrinsic+json": {
       "type": "string"
      },
      "text/plain": [
       "'A Whole New World'"
      ]
     },
     "execution_count": 209,
     "metadata": {
      "tags": []
     },
     "output_type": "execute_result"
    }
   ],
   "source": [
    "# strip, lstrip, rstrip 입력 문자열 내에 있는 문자를 끝에서부터 이동하며 제거, 없는 문자를 만나는 경우 멈춤\n",
    "# 입력이 없을 경우 공백을 제거\n",
    "'      \\t\\n   A Whole New World   \\t       '.strip()"
   ]
  },
  {
   "cell_type": "code",
   "execution_count": null,
   "metadata": {
    "colab": {
     "base_uri": "https://localhost:8080/",
     "height": 35
    },
    "id": "NvPXPnE7qw0_",
    "outputId": "501d1e6b-e8ed-4168-da8e-8d52352818e0"
   },
   "outputs": [
    {
     "data": {
      "application/vnd.google.colaboratory.intrinsic+json": {
       "type": "string"
      },
      "text/plain": [
       "'A      \\t\\n   A Whole New World'"
      ]
     },
     "execution_count": 210,
     "metadata": {
      "tags": []
     },
     "output_type": "execute_result"
    }
   ],
   "source": [
    "'A      \\t\\n   A Whole New World   \\t       '.strip()"
   ]
  },
  {
   "cell_type": "code",
   "execution_count": null,
   "metadata": {
    "colab": {
     "base_uri": "https://localhost:8080/",
     "height": 35
    },
    "id": "AyyxBuD3qzwn",
    "outputId": "97eef86b-6543-49f7-eb77-8c66136471bb"
   },
   "outputs": [
    {
     "data": {
      "application/vnd.google.colaboratory.intrinsic+json": {
       "type": "string"
      },
      "text/plain": [
       "'A Whole New World'"
      ]
     },
     "execution_count": 211,
     "metadata": {
      "tags": []
     },
     "output_type": "execute_result"
    }
   ],
   "source": [
    "'1231112223334455A Whole New World545325412353'.strip('12345')"
   ]
  },
  {
   "cell_type": "code",
   "execution_count": null,
   "metadata": {
    "colab": {
     "base_uri": "https://localhost:8080/",
     "height": 35
    },
    "id": "w8xxtJcAq58G",
    "outputId": "6d6a88cd-89df-4665-e5ac-52c371f31bf0"
   },
   "outputs": [
    {
     "data": {
      "application/vnd.google.colaboratory.intrinsic+json": {
       "type": "string"
      },
      "text/plain": [
       "'A Whole New World545325412353'"
      ]
     },
     "execution_count": 212,
     "metadata": {
      "tags": []
     },
     "output_type": "execute_result"
    }
   ],
   "source": [
    "'1231112223334455A Whole New World545325412353'.lstrip('12345')"
   ]
  },
  {
   "cell_type": "code",
   "execution_count": null,
   "metadata": {
    "colab": {
     "base_uri": "https://localhost:8080/",
     "height": 35
    },
    "id": "f3N5uEFHq8XX",
    "outputId": "e28b2c81-460a-421f-9905-ef355e65d7c2"
   },
   "outputs": [
    {
     "data": {
      "application/vnd.google.colaboratory.intrinsic+json": {
       "type": "string"
      },
      "text/plain": [
       "'1231112223334455A Whole New World'"
      ]
     },
     "execution_count": 213,
     "metadata": {
      "tags": []
     },
     "output_type": "execute_result"
    }
   ],
   "source": [
    "'1231112223334455A Whole New World545325412353'.rstrip('12345')"
   ]
  },
  {
   "cell_type": "code",
   "execution_count": null,
   "metadata": {
    "colab": {
     "base_uri": "https://localhost:8080/",
     "height": 35
    },
    "id": "2_jsyqharAkH",
    "outputId": "b959007c-45f0-440b-9414-298f3284270c"
   },
   "outputs": [
    {
     "data": {
      "application/vnd.google.colaboratory.intrinsic+json": {
       "type": "string"
      },
      "text/plain": [
       "'A Whole New World515325112353'"
      ]
     },
     "execution_count": 218,
     "metadata": {
      "tags": []
     },
     "output_type": "execute_result"
    }
   ],
   "source": [
    "# replace 문자열 내 sub string을 new string으로 변경 (모든 substring)\n",
    "# 문자열은 인덱싱을 통한 추가, 수정, 삭제가 불가능함\n",
    "# replace 함수를 이용하여 비슷한 효과를 얻을 수 있음\n",
    "'A Whole New World545325412353'.replace('4', '1')"
   ]
  },
  {
   "cell_type": "code",
   "execution_count": null,
   "metadata": {
    "colab": {
     "base_uri": "https://localhost:8080/",
     "height": 35
    },
    "id": "LQi82Brsrhe3",
    "outputId": "05946f6e-5d0c-45ec-d731-5f585163652c"
   },
   "outputs": [
    {
     "data": {
      "application/vnd.google.colaboratory.intrinsic+json": {
       "type": "string"
      },
      "text/plain": [
       "'Whole New World'"
      ]
     },
     "execution_count": 219,
     "metadata": {
      "tags": []
     },
     "output_type": "execute_result"
    }
   ],
   "source": [
    "# 삭제 \n",
    "'A Whole New World'.replace('A ', '')"
   ]
  },
  {
   "cell_type": "code",
   "execution_count": null,
   "metadata": {
    "colab": {
     "base_uri": "https://localhost:8080/",
     "height": 35
    },
    "id": "n40CwhR0rq1O",
    "outputId": "b29827de-3f52-4aac-fc52-a5b14bf17821"
   },
   "outputs": [
    {
     "data": {
      "application/vnd.google.colaboratory.intrinsic+json": {
       "type": "string"
      },
      "text/plain": [
       "'B Whole New World'"
      ]
     },
     "execution_count": 220,
     "metadata": {
      "tags": []
     },
     "output_type": "execute_result"
    }
   ],
   "source": [
    "# 수정\n",
    "'A Whole New World'.replace('A', 'B')"
   ]
  },
  {
   "cell_type": "code",
   "execution_count": null,
   "metadata": {
    "colab": {
     "base_uri": "https://localhost:8080/",
     "height": 35
    },
    "id": "DGxzUhpjruoO",
    "outputId": "1a578686-d245-4b2c-f008-c504586a325d"
   },
   "outputs": [
    {
     "data": {
      "application/vnd.google.colaboratory.intrinsic+json": {
       "type": "string"
      },
      "text/plain": [
       "'A Whole New World!'"
      ]
     },
     "execution_count": 221,
     "metadata": {
      "tags": []
     },
     "output_type": "execute_result"
    }
   ],
   "source": [
    "# 추가\n",
    "'A Whole New World'.replace('A Whole New World', 'A Whole New World'+'!')"
   ]
  },
  {
   "cell_type": "code",
   "execution_count": null,
   "metadata": {
    "colab": {
     "base_uri": "https://localhost:8080/"
    },
    "id": "ug2hWLS-wLem",
    "outputId": "cd40fcb3-fc7e-427e-8237-c87fb91a8b77"
   },
   "outputs": [
    {
     "data": {
      "text/plain": [
       "2"
      ]
     },
     "execution_count": 271,
     "metadata": {
      "tags": []
     },
     "output_type": "execute_result"
    }
   ],
   "source": [
    "# count 문자열 내 특정 문자열이 몇 개 있는지 확인\n",
    "'A Whole New World'.count('o')"
   ]
  },
  {
   "cell_type": "code",
   "execution_count": null,
   "metadata": {
    "colab": {
     "base_uri": "https://localhost:8080/"
    },
    "id": "WVzMVedQwSiJ",
    "outputId": "7d310c57-4c4d-4662-bfef-ec12c0ac49ff"
   },
   "outputs": [
    {
     "data": {
      "text/plain": [
       "2"
      ]
     },
     "execution_count": 272,
     "metadata": {
      "tags": []
     },
     "output_type": "execute_result"
    }
   ],
   "source": [
    "'A Whoole New Wooorld'.count('oo')"
   ]
  },
  {
   "cell_type": "code",
   "execution_count": null,
   "metadata": {
    "colab": {
     "base_uri": "https://localhost:8080/",
     "height": 35
    },
    "id": "gxVg3H78O7Ib",
    "outputId": "237f46e1-135c-47fd-c9c0-8d486ff97ff1"
   },
   "outputs": [
    {
     "data": {
      "application/vnd.google.colaboratory.intrinsic+json": {
       "type": "string"
      },
      "text/plain": [
       "'x is 100'"
      ]
     },
     "execution_count": 222,
     "metadata": {
      "tags": []
     },
     "output_type": "execute_result"
    }
   ],
   "source": [
    "# 문자열 포맷팅\n",
    "# 1. 포맷 코드를 이용한 기본 포맷팅\n",
    "# '문자열%포맷코드'%값\n",
    "# %d 정수, %s 문자열, %f 실수, %x, %o, %c등\n",
    "x = 100\n",
    "\"x is %d\"%x"
   ]
  },
  {
   "cell_type": "code",
   "execution_count": null,
   "metadata": {
    "colab": {
     "base_uri": "https://localhost:8080/"
    },
    "id": "i73ggwZbsDu3",
    "outputId": "80425529-e8cf-4b68-a5f6-f5e17cebdf2b"
   },
   "outputs": [
    {
     "data": {
      "text/plain": [
       "('x is 64', 'x is 144', 'x is c')"
      ]
     },
     "execution_count": 230,
     "metadata": {
      "tags": []
     },
     "output_type": "execute_result"
    }
   ],
   "source": [
    "\"x is %x\"%x, \"x is %o\"%x, \"x is %c\"%'c'"
   ]
  },
  {
   "cell_type": "code",
   "execution_count": null,
   "metadata": {
    "id": "RTdsM_pXO7Ic",
    "outputId": "cc9dcf44-ee38-4ebd-ec5f-24110bd18bff"
   },
   "outputs": [
    {
     "data": {
      "text/plain": [
       "'I eat five appels.'"
      ]
     },
     "execution_count": 61,
     "metadata": {
      "tags": []
     },
     "output_type": "execute_result"
    }
   ],
   "source": [
    "\"I eat %s appels.\" % 'five'"
   ]
  },
  {
   "cell_type": "code",
   "execution_count": null,
   "metadata": {
    "colab": {
     "base_uri": "https://localhost:8080/",
     "height": 35
    },
    "id": "1nLV09tkO7Id",
    "outputId": "946503a2-7a57-4b9c-8792-23447a25864c"
   },
   "outputs": [
    {
     "data": {
      "application/vnd.google.colaboratory.intrinsic+json": {
       "type": "string"
      },
      "text/plain": [
       "'10 + 15 = 25'"
      ]
     },
     "execution_count": 232,
     "metadata": {
      "tags": []
     },
     "output_type": "execute_result"
    }
   ],
   "source": [
    "# tuple의 형태로 전달\n",
    "\"%d + %d = %d\" %(10, 15, 25)"
   ]
  },
  {
   "cell_type": "code",
   "execution_count": null,
   "metadata": {
    "colab": {
     "base_uri": "https://localhost:8080/",
     "height": 35
    },
    "id": "s5H6UHVCqXHr",
    "outputId": "812179e5-c64d-4085-d838-5d176ab2f466"
   },
   "outputs": [
    {
     "data": {
      "application/vnd.google.colaboratory.intrinsic+json": {
       "type": "string"
      },
      "text/plain": [
       "'x is 110'"
      ]
     },
     "execution_count": 231,
     "metadata": {
      "tags": []
     },
     "output_type": "execute_result"
    }
   ],
   "source": [
    "# 연산식 전달 시 소괄호로 묶음\n",
    "\"x is %d\"%(x+10)"
   ]
  },
  {
   "cell_type": "code",
   "execution_count": null,
   "metadata": {
    "colab": {
     "base_uri": "https://localhost:8080/",
     "height": 35
    },
    "id": "v-ZA3RQTO7Ie",
    "outputId": "16b13bca-5d30-4813-fb43-8eaeb58499a1"
   },
   "outputs": [
    {
     "data": {
      "application/vnd.google.colaboratory.intrinsic+json": {
       "type": "string"
      },
      "text/plain": [
       "'3.14'"
      ]
     },
     "execution_count": 235,
     "metadata": {
      "tags": []
     },
     "output_type": "execute_result"
    }
   ],
   "source": [
    "# 자릿수 지정 %와 f 사이에 .자릿수\n",
    "# 정수 자리는 정수 부분 표현 자리 예약\n",
    "\"%0.2f\" % 3.141"
   ]
  },
  {
   "cell_type": "code",
   "execution_count": null,
   "metadata": {
    "colab": {
     "base_uri": "https://localhost:8080/",
     "height": 35
    },
    "id": "0qtmc6xgO7If",
    "outputId": "39cea2b1-176b-43fc-d125-a286bb105793"
   },
   "outputs": [
    {
     "data": {
      "application/vnd.google.colaboratory.intrinsic+json": {
       "type": "string"
      },
      "text/plain": [
       "'0000000001'"
      ]
     },
     "execution_count": 40,
     "metadata": {
      "tags": []
     },
     "output_type": "execute_result"
    }
   ],
   "source": [
    "\"%010d\" % 1"
   ]
  },
  {
   "cell_type": "code",
   "execution_count": null,
   "metadata": {
    "colab": {
     "base_uri": "https://localhost:8080/",
     "height": 35
    },
    "id": "tI4IbsbkO7Ig",
    "outputId": "facfb414-6c38-4a07-9c3d-333ef8a0e598"
   },
   "outputs": [
    {
     "data": {
      "application/vnd.google.colaboratory.intrinsic+json": {
       "type": "string"
      },
      "text/plain": [
       "'00010'"
      ]
     },
     "execution_count": 237,
     "metadata": {
      "tags": []
     },
     "output_type": "execute_result"
    }
   ],
   "source": [
    "\"%05d\" % 10"
   ]
  },
  {
   "cell_type": "code",
   "execution_count": null,
   "metadata": {
    "colab": {
     "base_uri": "https://localhost:8080/",
     "height": 35
    },
    "id": "ppYttkzTtBgV",
    "outputId": "062fd714-997b-4100-b5bd-2c8fe1d561b5"
   },
   "outputs": [
    {
     "data": {
      "application/vnd.google.colaboratory.intrinsic+json": {
       "type": "string"
      },
      "text/plain": [
       "'0003.14100'"
      ]
     },
     "execution_count": 240,
     "metadata": {
      "tags": []
     },
     "output_type": "execute_result"
    }
   ],
   "source": [
    "\"%010.5f\" % 3.141"
   ]
  },
  {
   "cell_type": "code",
   "execution_count": null,
   "metadata": {
    "colab": {
     "base_uri": "https://localhost:8080/",
     "height": 35
    },
    "id": "ahLZ920NO7Ih",
    "outputId": "1402ad50-d518-453a-d2f2-100c2f207038"
   },
   "outputs": [
    {
     "data": {
      "application/vnd.google.colaboratory.intrinsic+json": {
       "type": "string"
      },
      "text/plain": [
       "'10'"
      ]
     },
     "execution_count": 37,
     "metadata": {
      "tags": []
     },
     "output_type": "execute_result"
    }
   ],
   "source": [
    "# 2. str.format을 이용한 방법\n",
    "# '문자열 {}'.format(값)\n",
    "# 값이 들어갈 위치를 {}로 예약\n",
    "'{}'.format(10)"
   ]
  },
  {
   "cell_type": "code",
   "execution_count": null,
   "metadata": {
    "colab": {
     "base_uri": "https://localhost:8080/",
     "height": 35
    },
    "id": "Lj_sJYqjq0zi",
    "outputId": "67375fa5-407e-4cd3-c181-93dc48c64ddf"
   },
   "outputs": [
    {
     "data": {
      "application/vnd.google.colaboratory.intrinsic+json": {
       "type": "string"
      },
      "text/plain": [
       "'1020'"
      ]
     },
     "execution_count": 38,
     "metadata": {
      "tags": []
     },
     "output_type": "execute_result"
    }
   ],
   "source": [
    "'{}{}'.format(10, 20)"
   ]
  },
  {
   "cell_type": "code",
   "execution_count": null,
   "metadata": {
    "colab": {
     "base_uri": "https://localhost:8080/"
    },
    "id": "QcejNijvq3Th",
    "outputId": "a536023b-aa28-423e-df4a-0aa1dd0a6114"
   },
   "outputs": [
    {
     "data": {
      "text/plain": [
       "('2010', '1010')"
      ]
     },
     "execution_count": 241,
     "metadata": {
      "tags": []
     },
     "output_type": "execute_result"
    }
   ],
   "source": [
    "#format 안의 값은 순서 그대로 인덱스를 갖음\n",
    "# {} 안에 인덱스를 넣으면 해당 값 출력\n",
    "'{1}{0}'.format(10, 20), '{0}{0}'.format(10)"
   ]
  },
  {
   "cell_type": "code",
   "execution_count": null,
   "metadata": {
    "colab": {
     "base_uri": "https://localhost:8080/",
     "height": 35
    },
    "id": "-noAQGJ-tsJm",
    "outputId": "04d894ad-a3f9-4791-fd34-dddeced3e707"
   },
   "outputs": [
    {
     "data": {
      "application/vnd.google.colaboratory.intrinsic+json": {
       "type": "string"
      },
      "text/plain": [
       "'2010'"
      ]
     },
     "execution_count": 242,
     "metadata": {
      "tags": []
     },
     "output_type": "execute_result"
    }
   ],
   "source": [
    "# 각 값에 key를 부여할 수 있음\n",
    "'{b}{a}'.format(a=10, b=20)"
   ]
  },
  {
   "cell_type": "code",
   "execution_count": null,
   "metadata": {
    "colab": {
     "base_uri": "https://localhost:8080/",
     "height": 35
    },
    "id": "KkYkj_LPt29o",
    "outputId": "7a530038-9957-4708-f876-b3425730d369"
   },
   "outputs": [
    {
     "data": {
      "application/vnd.google.colaboratory.intrinsic+json": {
       "type": "string"
      },
      "text/plain": [
       "'AB'"
      ]
     },
     "execution_count": 243,
     "metadata": {
      "tags": []
     },
     "output_type": "execute_result"
    }
   ],
   "source": [
    "# 자료 구조를 전달할 경우 인덱싱을 사용할 수 있음\n",
    "'{0[0]}{0[1]}'.format(['A', 'B'])"
   ]
  },
  {
   "cell_type": "code",
   "execution_count": null,
   "metadata": {
    "colab": {
     "base_uri": "https://localhost:8080/"
    },
    "id": "xkEjregjuEcB",
    "outputId": "16df1021-bba5-4d20-e755-8c917d5e8441"
   },
   "outputs": [
    {
     "data": {
      "text/plain": [
       "('3.141590', '3.14', '3.14')"
      ]
     },
     "execution_count": 41,
     "metadata": {
      "tags": []
     },
     "output_type": "execute_result"
    }
   ],
   "source": [
    "# 소수점 출력\n",
    "'{:f}'.format(3.14159), '{:.2f}'.format(3.14159), '{:.2f}'.format(3.14159)"
   ]
  },
  {
   "cell_type": "code",
   "execution_count": null,
   "metadata": {
    "colab": {
     "base_uri": "https://localhost:8080/",
     "height": 35
    },
    "id": "E7L6YATqudGo",
    "outputId": "bb63d9b1-1454-42b9-ed8e-381d67081365"
   },
   "outputs": [
    {
     "data": {
      "application/vnd.google.colaboratory.intrinsic+json": {
       "type": "string"
      },
      "text/plain": [
       "'  3'"
      ]
     },
     "execution_count": 251,
     "metadata": {
      "tags": []
     },
     "output_type": "execute_result"
    }
   ],
   "source": [
    "# 정수 자리 예약\n",
    "'{:3d}'.format(3)"
   ]
  },
  {
   "cell_type": "code",
   "execution_count": null,
   "metadata": {
    "colab": {
     "base_uri": "https://localhost:8080/"
    },
    "id": "v8ItbMlPunSU",
    "outputId": "11518690-7e15-4174-badf-56fbe7029897"
   },
   "outputs": [
    {
     "data": {
      "text/plain": [
       "('0b1010', '0o12', '0xa', '0xA')"
      ]
     },
     "execution_count": 255,
     "metadata": {
      "tags": []
     },
     "output_type": "execute_result"
    }
   ],
   "source": [
    "# 2, 8, 16진수 출력\n",
    "'0b{:b}'.format(10), '0o{:o}'.format(10), '0x{:x}'.format(10), '0x{:X}'.format(10)"
   ]
  },
  {
   "cell_type": "code",
   "execution_count": null,
   "metadata": {
    "colab": {
     "base_uri": "https://localhost:8080/"
    },
    "id": "I5lIX8xgvkWd",
    "outputId": "068952e3-f0a2-4fee-cfb6-78ca61f16457"
   },
   "outputs": [
    {
     "data": {
      "text/plain": [
       "('0b1010', '0o12', '0xa', '0XA')"
      ]
     },
     "execution_count": 266,
     "metadata": {
      "tags": []
     },
     "output_type": "execute_result"
    }
   ],
   "source": [
    "'{:#b}'.format(10), '{:#o}'.format(10), '{:#x}'.format(10), '{:#X}'.format(10)"
   ]
  },
  {
   "cell_type": "code",
   "execution_count": null,
   "metadata": {
    "colab": {
     "base_uri": "https://localhost:8080/",
     "height": 35
    },
    "id": "LYyGQgHCu1Xp",
    "outputId": "4a2814bb-279c-40c1-c54d-ab7de670936e"
   },
   "outputs": [
    {
     "data": {
      "application/vnd.google.colaboratory.intrinsic+json": {
       "type": "string"
      },
      "text/plain": [
       "'10,000,000'"
      ]
     },
     "execution_count": 257,
     "metadata": {
      "tags": []
     },
     "output_type": "execute_result"
    }
   ],
   "source": [
    "# 10^3자리마다 쉼표 찍기 (돈 표기)\n",
    "'{:,}'.format(10000000)"
   ]
  },
  {
   "cell_type": "code",
   "execution_count": null,
   "metadata": {
    "colab": {
     "base_uri": "https://localhost:8080/",
     "height": 35
    },
    "id": "hkpMhqB1hPWF",
    "outputId": "84c6f48d-cd71-46ea-ad05-f601040593b7"
   },
   "outputs": [
    {
     "data": {
      "application/vnd.google.colaboratory.intrinsic+json": {
       "type": "string"
      },
      "text/plain": [
       "'안녕하세요 저는 홍길동입니다. 12살 입니다.'"
      ]
     },
     "execution_count": 260,
     "metadata": {
      "tags": []
     },
     "output_type": "execute_result"
    }
   ],
   "source": [
    "# 3. f-string을 이용한 방법\n",
    "# f'문자열{변수명}'\n",
    "name = '홍길동'\n",
    "age = 12\n",
    "f'안녕하세요 저는 {name}입니다. {age}살 입니다.'"
   ]
  },
  {
   "cell_type": "code",
   "execution_count": null,
   "metadata": {
    "colab": {
     "base_uri": "https://localhost:8080/",
     "height": 35
    },
    "id": "qr3f-kJBvOfJ",
    "outputId": "bc036fa2-bedd-491c-b5c8-8fd54765a093"
   },
   "outputs": [
    {
     "data": {
      "application/vnd.google.colaboratory.intrinsic+json": {
       "type": "string"
      },
      "text/plain": [
       "'안녕하세요 저는 홍길동입니다. 22살 입니다.'"
      ]
     },
     "execution_count": 261,
     "metadata": {
      "tags": []
     },
     "output_type": "execute_result"
    }
   ],
   "source": [
    "f'안녕하세요 저는 {name}입니다. {age+10}살 입니다.'"
   ]
  },
  {
   "cell_type": "code",
   "execution_count": null,
   "metadata": {
    "colab": {
     "base_uri": "https://localhost:8080/",
     "height": 35
    },
    "id": "UwfXP-IDvUZa",
    "outputId": "2651cb67-d887-4eaf-a4ba-e522a0ae8fe0"
   },
   "outputs": [
    {
     "data": {
      "application/vnd.google.colaboratory.intrinsic+json": {
       "type": "string"
      },
      "text/plain": [
       "'안녕하세요 저는 홍길동입니다. 12살 입니다. pi는 3.146입니다.'"
      ]
     },
     "execution_count": 265,
     "metadata": {
      "tags": []
     },
     "output_type": "execute_result"
    }
   ],
   "source": [
    "pi = 3.1459\n",
    "\n",
    "f'안녕하세요 저는 {name}입니다. {age}살 입니다. pi는 {pi:.3f}입니다.'"
   ]
  },
  {
   "cell_type": "code",
   "execution_count": null,
   "metadata": {
    "colab": {
     "base_uri": "https://localhost:8080/"
    },
    "id": "6rh-Auzy6IG0",
    "outputId": "eaa774ed-b137-417d-c38a-a374d749e3e3"
   },
   "outputs": [
    {
     "name": "stdout",
     "output_type": "stream",
     "text": [
      "19\n",
      "19\n",
      "19\n"
     ]
    }
   ],
   "source": [
    "print(19)\n",
    "print(19)\n",
    "print(19)\n"
   ]
  },
  {
   "cell_type": "markdown",
   "metadata": {
    "id": "HqngU3xCwgcv"
   },
   "source": [
    "## 기본 입출력"
   ]
  },
  {
   "cell_type": "code",
   "execution_count": null,
   "metadata": {
    "colab": {
     "base_uri": "https://localhost:8080/"
    },
    "id": "_KdC8CPRwcYB",
    "outputId": "05e20c34-ee79-434b-cb7c-1f72c5a23eb4"
   },
   "outputs": [
    {
     "name": "stdout",
     "output_type": "stream",
     "text": [
      "안녕하세요 만나서 반갑습니다. 저는 15 입니다.\n"
     ]
    }
   ],
   "source": [
    "# print\n",
    "# value, sep(쉼표로 구분한 문자열 혹은 변수 사이에 들어갈 구분자), end(문자열 끝에 들어갈 문자, 기본은 개행)\n",
    "print('안녕하세요', '만나서 반갑습니다.', '저는', 15, '입니다.')"
   ]
  },
  {
   "cell_type": "code",
   "execution_count": null,
   "metadata": {
    "colab": {
     "base_uri": "https://localhost:8080/"
    },
    "id": "g1GJtsHb6hNB",
    "outputId": "1ac1d6c0-db4f-4ca8-e2e4-697ea4823bd1"
   },
   "outputs": [
    {
     "name": "stdout",
     "output_type": "stream",
     "text": [
      "안녕하세요만나서 반갑습니다.\n"
     ]
    }
   ],
   "source": [
    "print('안녕하세요' + '만나서 반갑습니다.')"
   ]
  },
  {
   "cell_type": "code",
   "execution_count": null,
   "metadata": {
    "colab": {
     "base_uri": "https://localhost:8080/"
    },
    "id": "dJXkzb8Qw3Pa",
    "outputId": "59f3b27e-3987-48ce-ed90-a274968a17dd"
   },
   "outputs": [
    {
     "name": "stdout",
     "output_type": "stream",
     "text": [
      "안녕하세요,만나서 반갑습니다.,저는,15,입니다.\n"
     ]
    }
   ],
   "source": [
    "print('안녕하세요', '만나서 반갑습니다.', '저는', 15, '입니다.', sep=',')"
   ]
  },
  {
   "cell_type": "code",
   "execution_count": null,
   "metadata": {
    "colab": {
     "base_uri": "https://localhost:8080/"
    },
    "id": "TXpOLI2Jw9Ph",
    "outputId": "e84f30cf-0c65-4497-ff57-173e4f84760f"
   },
   "outputs": [
    {
     "name": "stdout",
     "output_type": "stream",
     "text": [
      "안녕하세요\n",
      "만나서 반갑습니다.\n"
     ]
    }
   ],
   "source": [
    "print('안녕하세요')\n",
    "print('만나서 반갑습니다.')"
   ]
  },
  {
   "cell_type": "code",
   "execution_count": null,
   "metadata": {
    "colab": {
     "base_uri": "https://localhost:8080/"
    },
    "id": "Ep9PS7a8xB3h",
    "outputId": "d7138ee1-8bdc-4a91-b2e1-d90f4590fb70"
   },
   "outputs": [
    {
     "name": "stdout",
     "output_type": "stream",
     "text": [
      "안녕하세요\t만나서 반갑습니다.\n"
     ]
    }
   ],
   "source": [
    "print('안녕하세요', end='\\t')\n",
    "print('만나서 반갑습니다.')"
   ]
  },
  {
   "cell_type": "code",
   "execution_count": null,
   "metadata": {
    "colab": {
     "base_uri": "https://localhost:8080/",
     "height": 53
    },
    "id": "ymXJ23NZxGAB",
    "outputId": "ecf94bdb-27f5-49dd-d3d3-d3e63dd5b449"
   },
   "outputs": [
    {
     "name": "stdout",
     "output_type": "stream",
     "text": [
      "안녕하세요 123을 입력하세요123\n"
     ]
    },
    {
     "data": {
      "application/vnd.google.colaboratory.intrinsic+json": {
       "type": "string"
      },
      "text/plain": [
       "'123'"
      ]
     },
     "execution_count": 280,
     "metadata": {
      "tags": []
     },
     "output_type": "execute_result"
    }
   ],
   "source": [
    "# input\n",
    "# prompt에 입력된 문자열을 출력 후 키보드 입력을 받아 문자열로 저장\n",
    "mystr = input('안녕하세요 123을 입력하세요')\n",
    "mystr"
   ]
  },
  {
   "cell_type": "markdown",
   "metadata": {
    "id": "BOCeOlC7O7Ix"
   },
   "source": [
    "## 리스트\n",
    "    - 시퀀스 타입 중 유일하게 인덱싱/슬라이싱을 통한 추가, 수정, 삭제 가능\n",
    "    - 리스트 생성\n",
    "    - 리스트 결합, 반복\n",
    "    - 리스트 인덱싱\n",
    "    - 리스트 슬라이싱\n",
    "    - 리스트 추가, 수정, 삭제"
   ]
  },
  {
   "cell_type": "code",
   "execution_count": null,
   "metadata": {
    "colab": {
     "base_uri": "https://localhost:8080/"
    },
    "id": "vw_T44ol4xXK",
    "outputId": "d1d6641d-63ee-4eae-fba2-02f1ecd208bc"
   },
   "outputs": [
    {
     "data": {
      "text/plain": [
       "(list, [9, 'a', 'Hello', [1, 3]])"
      ]
     },
     "execution_count": 283,
     "metadata": {
      "tags": []
     },
     "output_type": "execute_result"
    }
   ],
   "source": [
    "# 리스트 생성 방법\n",
    "# 1. 대괄호를 이용하여 생성, 요소 별 구분은 쉼표\n",
    "x = [9, 'a', 'Hello', [1,3]]\n",
    "type(x), x"
   ]
  },
  {
   "cell_type": "code",
   "execution_count": null,
   "metadata": {
    "colab": {
     "base_uri": "https://localhost:8080/"
    },
    "id": "YlrtO61wO7Iy",
    "outputId": "af6f00ba-9909-44ac-d0f4-1a1662d4565a"
   },
   "outputs": [
    {
     "data": {
      "text/plain": [
       "['p', 'y', 't', 'h', 'o', 'n']"
      ]
     },
     "execution_count": 284,
     "metadata": {
      "tags": []
     },
     "output_type": "execute_result"
    }
   ],
   "source": [
    "# 2. list 함수를 이용하여 변환\n",
    "mystr = 'python'\n",
    "list(mystr)"
   ]
  },
  {
   "cell_type": "code",
   "execution_count": null,
   "metadata": {
    "id": "IWMuONxax71z"
   },
   "outputs": [],
   "source": [
    "# 빈 list 생성\n",
    "mylist = []\n",
    "mylist = list()"
   ]
  },
  {
   "cell_type": "code",
   "execution_count": null,
   "metadata": {
    "colab": {
     "base_uri": "https://localhost:8080/"
    },
    "id": "4e44x5KE7pzp",
    "outputId": "8bff134c-548d-4b9a-bd5f-c468e93bddbb"
   },
   "outputs": [
    {
     "data": {
      "text/plain": [
       "[1]"
      ]
     },
     "execution_count": 338,
     "metadata": {
      "tags": []
     },
     "output_type": "execute_result"
    }
   ],
   "source": [
    "# 1개 요소만 있는 리스트 생성\n",
    "mylist = [1]\n",
    "mylist"
   ]
  },
  {
   "cell_type": "code",
   "execution_count": null,
   "metadata": {
    "colab": {
     "base_uri": "https://localhost:8080/"
    },
    "id": "rfu-bCXi6LWg",
    "outputId": "5df63aab-fa0f-4577-8e67-db0c61e52163"
   },
   "outputs": [
    {
     "data": {
      "text/plain": [
       "5"
      ]
     },
     "execution_count": 325,
     "metadata": {
      "tags": []
     },
     "output_type": "execute_result"
    }
   ],
   "source": [
    "# list의 요소 개수 확인\n",
    "# len 내장 함수\n",
    "len([1,2,3,4,5])"
   ]
  },
  {
   "cell_type": "code",
   "execution_count": null,
   "metadata": {
    "colab": {
     "base_uri": "https://localhost:8080/"
    },
    "id": "kyWPZOXk6Rue",
    "outputId": "734ebe29-806e-4f65-e34d-2bccc6603db5"
   },
   "outputs": [
    {
     "data": {
      "text/plain": [
       "5"
      ]
     },
     "execution_count": 327,
     "metadata": {
      "tags": []
     },
     "output_type": "execute_result"
    }
   ],
   "source": [
    "len([1,2,[1,2,3,4],4,5])"
   ]
  },
  {
   "cell_type": "code",
   "execution_count": null,
   "metadata": {
    "colab": {
     "base_uri": "https://localhost:8080/"
    },
    "id": "OMVl6fe0O7I4",
    "outputId": "784416b6-702e-4082-e023-a4091b15fe07"
   },
   "outputs": [
    {
     "data": {
      "text/plain": [
       "[1, 2, 3, 4, 5, 6]"
      ]
     },
     "execution_count": 326,
     "metadata": {
      "tags": []
     },
     "output_type": "execute_result"
    }
   ],
   "source": [
    "# list의 결합\n",
    "[1,2,3] + [4,5,6]"
   ]
  },
  {
   "cell_type": "code",
   "execution_count": null,
   "metadata": {
    "colab": {
     "base_uri": "https://localhost:8080/"
    },
    "id": "KnSgGMZ-ybdP",
    "outputId": "77f20ecb-a2e2-4ee4-da8f-cbff6f6c89fb"
   },
   "outputs": [
    {
     "data": {
      "text/plain": [
       "([1, 2, 3, 1, 2, 3], [1, 1, 1, 1, 1, 1, 1, 1, 1, 1])"
      ]
     },
     "execution_count": 288,
     "metadata": {
      "tags": []
     },
     "output_type": "execute_result"
    }
   ],
   "source": [
    "# list의 반복\n",
    "[1,2,3] * 2, [1]*10"
   ]
  },
  {
   "cell_type": "code",
   "execution_count": null,
   "metadata": {
    "colab": {
     "base_uri": "https://localhost:8080/"
    },
    "id": "a1dacAWNydrr",
    "outputId": "50b73076-db1b-40b8-fba1-d4509f7545be"
   },
   "outputs": [
    {
     "data": {
      "text/plain": [
       "(4, 4)"
      ]
     },
     "execution_count": 291,
     "metadata": {
      "tags": []
     },
     "output_type": "execute_result"
    }
   ],
   "source": [
    "# 1차원 list 인덱싱\n",
    "# 1차원 list인 경우 문자열의 인덱싱과 동일\n",
    "# 양수, 음수 인덱스 사용 가능\n",
    "[1,2,3,4][3], [1,2,3,4][-1]"
   ]
  },
  {
   "cell_type": "code",
   "execution_count": null,
   "metadata": {
    "colab": {
     "base_uri": "https://localhost:8080/"
    },
    "id": "CiLWhOWFy3T8",
    "outputId": "bf2a5be1-1cf8-401e-8784-40c609fbbf37"
   },
   "outputs": [
    {
     "data": {
      "text/plain": [
       "(['B', 'C'], ['B', 'C'])"
      ]
     },
     "execution_count": 297,
     "metadata": {
      "tags": []
     },
     "output_type": "execute_result"
    }
   ],
   "source": [
    "# 1차원 list 슬라이싱\n",
    "# 1차원 list인 경우 문자열의 슬라이싱과 방법은 동일, 결과는 형태가 다름\n",
    "# 문자열의 경우 인덱싱/슬라이싱의 결과가 항상 문자열 (문자 타입이 따로 없기 때문)\n",
    "# list/tuple의 경우 1차원을 예로 들면 인덱싱인 경우 value, 슬라이싱이면 값의 개수와 상관 없이 1차원 list/tuple로 출력\n",
    "# 양수, 음수 인덱스 사용 가능\n",
    "mylist = list('ABCDEFG')\n",
    "mylist[1:3], mylist[-6:-4]"
   ]
  },
  {
   "cell_type": "code",
   "execution_count": null,
   "metadata": {
    "id": "dBA0ecHAzyRN"
   },
   "outputs": [],
   "source": [
    "# 2차원 list 인덱싱\n",
    "# 2차원 list의 인덱싱은 대활호 pair를 두 개 사용함\n",
    "# 변수명[idx1][idx2]\n",
    "# list는 데이터 타입, 크기까지 모두 가변일 수 있기 때문에 row col이란 용어를 사용하지 않겠음\n",
    "# idx1은 가장 바깥 범위의 idx, idx2는 한 차원 낮은 범위의 idx임\n",
    "mylist = [[1,2,3], [4,5,6], [7,8,8]]\n",
    "mylist2 = [list('ABCD'), list('EFGH'), list('IJKL')]"
   ]
  },
  {
   "cell_type": "code",
   "execution_count": null,
   "metadata": {
    "colab": {
     "base_uri": "https://localhost:8080/"
    },
    "id": "WwyuwM9-2pk5",
    "outputId": "dd91c196-2281-4365-b6cd-31728167f687"
   },
   "outputs": [
    {
     "data": {
      "text/plain": [
       "4"
      ]
     },
     "execution_count": 299,
     "metadata": {
      "tags": []
     },
     "output_type": "execute_result"
    }
   ],
   "source": [
    "# mylist 내의 특정 값을 조회 예)4를 조회\n",
    "mylist[1][0]"
   ]
  },
  {
   "cell_type": "code",
   "execution_count": null,
   "metadata": {
    "colab": {
     "base_uri": "https://localhost:8080/"
    },
    "id": "VFO9uGDG3dsu",
    "outputId": "0136dde4-da6d-4215-a531-809b1837eabd"
   },
   "outputs": [
    {
     "data": {
      "text/plain": [
       "[4, 5, 6]"
      ]
     },
     "execution_count": 301,
     "metadata": {
      "tags": []
     },
     "output_type": "execute_result"
    }
   ],
   "source": [
    "# 2차원 list를 1차원 인덱싱하면 인덱스에 해당하는 1차원 리스트가 반환됨\n",
    "# 인덱싱을 한 번 할 때마다 차원이 하나씩 줄어듦\n",
    "mylist[1]"
   ]
  },
  {
   "cell_type": "code",
   "execution_count": null,
   "metadata": {
    "colab": {
     "base_uri": "https://localhost:8080/"
    },
    "id": "nPHFq44y3wFe",
    "outputId": "ef8d06ec-bda0-49cb-f763-6d56ce905aac"
   },
   "outputs": [
    {
     "name": "stdout",
     "output_type": "stream",
     "text": [
      "[[4, 5, 6], [7, 8, 8]]\n",
      "[[4, 5, 6]]\n",
      "[[4, 5, 6]]\n"
     ]
    }
   ],
   "source": [
    "# 2차원 list의 슬라이싱\n",
    "# 2차원 list의 슬라이싱은 두 축을 동시에 수행할 수 없음 (3x3을 2x2로 할 수 없음)\n",
    "# 1. 2차원을 1차원처럼 슬라이싱 -> 항상 2차원\n",
    "print(mylist[1:3])\n",
    "print(mylist[1:3][0:1])\n",
    "print(mylist[1:3][0:1][0:1])"
   ]
  },
  {
   "cell_type": "code",
   "execution_count": null,
   "metadata": {
    "colab": {
     "base_uri": "https://localhost:8080/"
    },
    "id": "7hiduHRa4z-A",
    "outputId": "80b6fd98-9d71-45f8-ffb6-ebb8ebe405f2"
   },
   "outputs": [
    {
     "name": "stdout",
     "output_type": "stream",
     "text": [
      "[2, 3]\n",
      "[5, 6]\n"
     ]
    }
   ],
   "source": [
    "# 2. 1회 인덱싱 후 슬라이싱 -> 항상 1차원\n",
    "print(mylist[0][1:3])\n",
    "print(mylist[1][1:3])"
   ]
  },
  {
   "cell_type": "code",
   "execution_count": null,
   "metadata": {
    "colab": {
     "base_uri": "https://localhost:8080/"
    },
    "id": "Oa1nKLLG5HZ-",
    "outputId": "cbad6d54-77c5-4625-c6eb-275088595099"
   },
   "outputs": [
    {
     "data": {
      "text/plain": [
       "[1, 2, 4]"
      ]
     },
     "execution_count": 319,
     "metadata": {
      "tags": []
     },
     "output_type": "execute_result"
    }
   ],
   "source": [
    "# 값 수정 (p43)\n",
    "# 인덱싱 후 값 대입\n",
    "a = [1,2,3]\n",
    "a[2] = 4\n",
    "a"
   ]
  },
  {
   "cell_type": "code",
   "execution_count": null,
   "metadata": {
    "colab": {
     "base_uri": "https://localhost:8080/"
    },
    "id": "smcFprr55ViG",
    "outputId": "5f0b2834-613d-4e10-a142-de30d4badda2"
   },
   "outputs": [
    {
     "data": {
      "text/plain": [
       "[[1, 2, 4], [4, 5, 6], [7, 8, 9]]"
      ]
     },
     "execution_count": 51,
     "metadata": {
      "tags": []
     },
     "output_type": "execute_result"
    }
   ],
   "source": [
    "# 2차원 list의 값 수정\n",
    "# 두 번 인덱싱 후 값 대입\n",
    "b = [[1,2,3],[4,5,6],[7,8,9]]\n",
    "b[0][2] = 4\n",
    "b"
   ]
  },
  {
   "cell_type": "code",
   "execution_count": null,
   "metadata": {
    "colab": {
     "base_uri": "https://localhost:8080/"
    },
    "id": "0lcQcXCkAlW2",
    "outputId": "30139d6c-acd8-44cd-c217-ea967c6c691b"
   },
   "outputs": [
    {
     "data": {
      "text/plain": [
       "[1, [4, 5, 6], [7, 8, 9]]"
      ]
     },
     "execution_count": 52,
     "metadata": {
      "tags": []
     },
     "output_type": "execute_result"
    }
   ],
   "source": [
    "# 2차원 list의 값 수정 2\n",
    "# 한 번 인덱싱 후 값 대입\n",
    "b[0] = 1\n",
    "b"
   ]
  },
  {
   "cell_type": "code",
   "execution_count": null,
   "metadata": {
    "colab": {
     "base_uri": "https://localhost:8080/"
    },
    "id": "NgY2UgpT5dcj",
    "outputId": "6164b016-ccc7-4863-ad09-9f0cfed1d6c9"
   },
   "outputs": [
    {
     "name": "stdout",
     "output_type": "stream",
     "text": [
      "2\n"
     ]
    },
    {
     "data": {
      "text/plain": [
       "([1, [5, 6, 7], 3], 3)"
      ]
     },
     "execution_count": 329,
     "metadata": {
      "tags": []
     },
     "output_type": "execute_result"
    }
   ],
   "source": [
    "# 인덱싱 후 값 대신 list를 넣으면 list의 형태 그대로 수정됨 (a list의 len 값은 그대로)\n",
    "# \n",
    "a = [1,2,3]\n",
    "\n",
    "print(a[1]) # 값 2\n",
    "a[1] = [5,6,7]\n",
    "# 리스트의 형태 그대로 입력됨\n",
    "a, len(a)"
   ]
  },
  {
   "cell_type": "code",
   "execution_count": null,
   "metadata": {
    "colab": {
     "base_uri": "https://localhost:8080/",
     "height": 191
    },
    "id": "dIM7Gwo4e3tv",
    "outputId": "fbcaa757-933d-4827-9ab7-0825fec83990"
   },
   "outputs": [
    {
     "ename": "TypeError",
     "evalue": "ignored",
     "output_type": "error",
     "traceback": [
      "\u001b[0;31m---------------------------------------------------------------------------\u001b[0m",
      "\u001b[0;31mTypeError\u001b[0m                                 Traceback (most recent call last)",
      "\u001b[0;32m<ipython-input-53-476104475145>\u001b[0m in \u001b[0;36m<module>\u001b[0;34m()\u001b[0m\n\u001b[1;32m      1\u001b[0m \u001b[0ma\u001b[0m \u001b[0;34m=\u001b[0m \u001b[0;34m[\u001b[0m\u001b[0;36m1\u001b[0m\u001b[0;34m,\u001b[0m\u001b[0;36m2\u001b[0m\u001b[0;34m,\u001b[0m\u001b[0;36m3\u001b[0m\u001b[0;34m]\u001b[0m\u001b[0;34m\u001b[0m\u001b[0;34m\u001b[0m\u001b[0m\n\u001b[0;32m----> 2\u001b[0;31m \u001b[0ma\u001b[0m\u001b[0;34m[\u001b[0m\u001b[0;36m1\u001b[0m\u001b[0;34m:\u001b[0m\u001b[0;36m2\u001b[0m\u001b[0;34m]\u001b[0m\u001b[0;34m=\u001b[0m\u001b[0;36m10\u001b[0m\u001b[0;34m\u001b[0m\u001b[0;34m\u001b[0m\u001b[0m\n\u001b[0m",
      "\u001b[0;31mTypeError\u001b[0m: can only assign an iterable"
     ]
    }
   ],
   "source": [
    "a = [1,2,3]\n",
    "a[1:2]=10"
   ]
  },
  {
   "cell_type": "code",
   "execution_count": null,
   "metadata": {
    "colab": {
     "base_uri": "https://localhost:8080/"
    },
    "id": "uI1Jx8Ft53aB",
    "outputId": "f2e3cb4d-dc22-4539-ebea-fb31e7754eca"
   },
   "outputs": [
    {
     "name": "stdout",
     "output_type": "stream",
     "text": [
      "[2]\n"
     ]
    },
    {
     "data": {
      "text/plain": [
       "([1, 5, 6, 7, 3], 5)"
      ]
     },
     "execution_count": 330,
     "metadata": {
      "tags": []
     },
     "output_type": "execute_result"
    }
   ],
   "source": [
    "# 슬라이싱 후 값을 넣으면 오류\n",
    "# 슬라이싱 후 list를 넣으면 list 내의 값이 대상 list에 값으로 합쳐짐 (a list의 len 값이 바뀜)\n",
    "a = [1,2,3]\n",
    "\n",
    "print(a[1:2]) # 값이 1개인 list\n",
    "a[1:2] = [5,6,7]\n",
    "# 값으로 합쳐짐\n",
    "a, len(a)"
   ]
  },
  {
   "cell_type": "code",
   "execution_count": null,
   "metadata": {
    "colab": {
     "base_uri": "https://localhost:8080/"
    },
    "id": "I3aHl0eM6vhf",
    "outputId": "e05fdcbe-1899-401c-feed-abd90f44414e"
   },
   "outputs": [
    {
     "data": {
      "text/plain": [
       "[1, 10, 2, 3]"
      ]
     },
     "execution_count": 333,
     "metadata": {
      "tags": []
     },
     "output_type": "execute_result"
    }
   ],
   "source": [
    "# list에 값 추가\n",
    "# 1. insert(idx, value) idx 위치에 value를 넣고 원래 있던 값들은 한 칸씩 뒤로 밀림\n",
    "a = [1,2,3]\n",
    "a.insert(1, 10)\n",
    "a"
   ]
  },
  {
   "cell_type": "code",
   "execution_count": null,
   "metadata": {
    "colab": {
     "base_uri": "https://localhost:8080/"
    },
    "id": "ihjGO-YP7C1I",
    "outputId": "45df3d92-d430-43a4-8c7e-29f4110468ed"
   },
   "outputs": [
    {
     "data": {
      "text/plain": [
       "[1, [5, 6, 7, 8], 10, 2, 3]"
      ]
     },
     "execution_count": 334,
     "metadata": {
      "tags": []
     },
     "output_type": "execute_result"
    }
   ],
   "source": [
    "# 값 대신 list도 가능\n",
    "a.insert(1,[5,6,7,8])\n",
    "a"
   ]
  },
  {
   "cell_type": "code",
   "execution_count": null,
   "metadata": {
    "colab": {
     "base_uri": "https://localhost:8080/"
    },
    "id": "b7fKwafN7LpM",
    "outputId": "d270d327-e3dc-47ee-e273-4346fd6dd085"
   },
   "outputs": [
    {
     "data": {
      "text/plain": [
       "[1, [5, 6, 7, 8], 10, 2, 3, 100000]"
      ]
     },
     "execution_count": 335,
     "metadata": {
      "tags": []
     },
     "output_type": "execute_result"
    }
   ],
   "source": [
    "# 마지막 요소 뒤에 추가하려면 마지막 요소의 인덱스보다 큰 값을 입력해야 함\n",
    "a.insert(len(a), 100000)\n",
    "a"
   ]
  },
  {
   "cell_type": "code",
   "execution_count": null,
   "metadata": {
    "colab": {
     "base_uri": "https://localhost:8080/"
    },
    "id": "UyNqVFBz7UuI",
    "outputId": "fb7fbce3-2ac4-4748-f0c8-98b4a81261e3"
   },
   "outputs": [
    {
     "data": {
      "text/plain": [
       "[1, 2, 3, 100, [1]]"
      ]
     },
     "execution_count": 337,
     "metadata": {
      "tags": []
     },
     "output_type": "execute_result"
    }
   ],
   "source": [
    "# 2. append(value), list 제일 끝에 값 추가\n",
    "# insert와 마찬가지로 값 대신 리스트도 가능\n",
    "a = [1,2,3]\n",
    "a.append(100)\n",
    "a.append([1])\n",
    "a"
   ]
  },
  {
   "cell_type": "code",
   "execution_count": null,
   "metadata": {
    "colab": {
     "base_uri": "https://localhost:8080/"
    },
    "id": "sSLrVMDC7y3H",
    "outputId": "678931c7-bd08-49ee-a576-1cf981835a70"
   },
   "outputs": [
    {
     "data": {
      "text/plain": [
       "[[1, 2, 3], [4, 5, 6, 10], [7, 8, 8]]"
      ]
     },
     "execution_count": 365,
     "metadata": {
      "tags": []
     },
     "output_type": "execute_result"
    }
   ],
   "source": [
    "# 2차원 list에 추가할 경우 인덱싱/슬라이싱에 따라 결과가 다름\n",
    "# 1. 인덱싱\n",
    "mylist = [[1,2,3], [4,5,6], [7,8,8]]\n",
    "mylist[1].append(10)\n",
    "mylist"
   ]
  },
  {
   "cell_type": "code",
   "execution_count": null,
   "metadata": {
    "colab": {
     "base_uri": "https://localhost:8080/"
    },
    "id": "qiXB4nkt8FUP",
    "outputId": "2261389e-906c-4530-ad35-0d2df7428145"
   },
   "outputs": [
    {
     "data": {
      "text/plain": [
       "[[4, 5, 6], 10]"
      ]
     },
     "execution_count": 366,
     "metadata": {
      "tags": []
     },
     "output_type": "execute_result"
    }
   ],
   "source": [
    "mylist = [[1,2,3], [4,5,6], [7,8,8]]\n",
    "tmplist = mylist[1:2]\n",
    "tmplist.append(10)\n",
    "tmplist"
   ]
  },
  {
   "cell_type": "code",
   "execution_count": null,
   "metadata": {
    "colab": {
     "base_uri": "https://localhost:8080/"
    },
    "id": "KwXfxeTq89pw",
    "outputId": "fe7f468f-54f0-4379-a0f0-6b573c4466ac"
   },
   "outputs": [
    {
     "data": {
      "text/plain": [
       "[['math', 89], ['english', 85], ['science', 95]]"
      ]
     },
     "execution_count": 369,
     "metadata": {
      "tags": []
     },
     "output_type": "execute_result"
    }
   ],
   "source": [
    "score[1].append(85)\n",
    "score.append(['science', 95])\n",
    "score"
   ]
  },
  {
   "cell_type": "code",
   "execution_count": null,
   "metadata": {
    "colab": {
     "base_uri": "https://localhost:8080/"
    },
    "id": "PJgd8t7IO7JB",
    "outputId": "508aa07e-effe-4314-f986-b5301fd124d2",
    "scrolled": true
   },
   "outputs": [
    {
     "data": {
      "text/plain": [
       "[3, 1, 2, 5, 8, 6]"
      ]
     },
     "execution_count": 373,
     "metadata": {
      "tags": []
     },
     "output_type": "execute_result"
    }
   ],
   "source": [
    "# sort, reverse\n",
    "# sort: list를 오름/내림차순으로 정렬 reverse=False/True False:오름, True:내림\n",
    "# reverse: list를 반대로 뒤집음\n",
    "a = [3,1,2,5,8,6]\n",
    "a"
   ]
  },
  {
   "cell_type": "code",
   "execution_count": null,
   "metadata": {
    "colab": {
     "base_uri": "https://localhost:8080/"
    },
    "id": "0Uvc4XPr-CbJ",
    "outputId": "89d57b9f-5d01-44b3-9076-86c3ac987eae"
   },
   "outputs": [
    {
     "data": {
      "text/plain": [
       "[1, 2, 3, 5, 6, 8]"
      ]
     },
     "execution_count": 374,
     "metadata": {
      "tags": []
     },
     "output_type": "execute_result"
    }
   ],
   "source": [
    "a = [3,1,2,5,8,6]\n",
    "a.sort(reverse=False)\n",
    "a"
   ]
  },
  {
   "cell_type": "code",
   "execution_count": null,
   "metadata": {
    "colab": {
     "base_uri": "https://localhost:8080/"
    },
    "id": "_mTCG6_o94m6",
    "outputId": "139799c6-f608-453f-e061-d8727c99e6f4"
   },
   "outputs": [
    {
     "data": {
      "text/plain": [
       "[8, 6, 5, 3, 2, 1]"
      ]
     },
     "execution_count": 375,
     "metadata": {
      "tags": []
     },
     "output_type": "execute_result"
    }
   ],
   "source": [
    "a = [3,1,2,5,8,6]\n",
    "a.sort(reverse=True)\n",
    "a"
   ]
  },
  {
   "cell_type": "code",
   "execution_count": null,
   "metadata": {
    "colab": {
     "base_uri": "https://localhost:8080/"
    },
    "id": "APfMtZOK98OB",
    "outputId": "d8cad417-0949-465d-9c35-94f85b07e03e"
   },
   "outputs": [
    {
     "data": {
      "text/plain": [
       "[6, 8, 5, 2, 1, 3]"
      ]
     },
     "execution_count": 376,
     "metadata": {
      "tags": []
     },
     "output_type": "execute_result"
    }
   ],
   "source": [
    "a = [3,1,2,5,8,6]\n",
    "a.reverse()\n",
    "a"
   ]
  },
  {
   "cell_type": "code",
   "execution_count": null,
   "metadata": {
    "colab": {
     "base_uri": "https://localhost:8080/"
    },
    "id": "C8yUF_nW-WTh",
    "outputId": "4ed5971e-43f9-4ee9-ed6c-0e12c431060c"
   },
   "outputs": [
    {
     "data": {
      "text/plain": [
       "[1, 2, 5, 8, 6, 3]"
      ]
     },
     "execution_count": 378,
     "metadata": {
      "tags": []
     },
     "output_type": "execute_result"
    }
   ],
   "source": [
    "# list 삭제\n",
    "# remove, pop, del\n",
    "# remove(value) 처음 만나는 값을 삭제\n",
    "a = [3,1,2,5,8,6,3]\n",
    "a.remove(3)\n",
    "a"
   ]
  },
  {
   "cell_type": "code",
   "execution_count": null,
   "metadata": {
    "colab": {
     "base_uri": "https://localhost:8080/"
    },
    "id": "fbsu2fx4-kOd",
    "outputId": "a7839776-22a7-4ef9-8331-6e61d61436f7"
   },
   "outputs": [
    {
     "data": {
      "text/plain": [
       "[[1, 2, 3], [4, 5, 6], [7, 8]]"
      ]
     },
     "execution_count": 380,
     "metadata": {
      "tags": []
     },
     "output_type": "execute_result"
    }
   ],
   "source": [
    "# 2차원 list에서 삭제하려면 어느 레벨에 있는지 확인 필요\n",
    "# remove 함수는 지정한 레벨의 인덱싱만 수행\n",
    "mylist = [[1,2,3], [4,5,6], [7,8,8]]\n",
    "mylist[2].remove(8)\n",
    "mylist"
   ]
  },
  {
   "cell_type": "code",
   "execution_count": null,
   "metadata": {
    "colab": {
     "base_uri": "https://localhost:8080/"
    },
    "id": "m1jTANNB_ah5",
    "outputId": "4b2d71a7-efc1-4566-a9e2-4f434ada51ab"
   },
   "outputs": [
    {
     "data": {
      "text/plain": [
       "[[4, 5, 6], [7, 8, 8]]"
      ]
     },
     "execution_count": 390,
     "metadata": {
      "tags": []
     },
     "output_type": "execute_result"
    }
   ],
   "source": [
    "# 2차원 list에서 내부 list를 삭제할 수 있음\n",
    "mylist = [[1,2,3], [4,5,6], [7,8,8]]\n",
    "mylist.remove([1,2,3])\n",
    "mylist"
   ]
  },
  {
   "cell_type": "code",
   "execution_count": null,
   "metadata": {
    "colab": {
     "base_uri": "https://localhost:8080/"
    },
    "id": "zTSUUsDx-2i6",
    "outputId": "acb83f5f-7d57-420d-d8f6-6c2bfbdd196d"
   },
   "outputs": [
    {
     "name": "stdout",
     "output_type": "stream",
     "text": [
      "5\n"
     ]
    },
    {
     "data": {
      "text/plain": [
       "[3, 1, 2, 8, 6, 3]"
      ]
     },
     "execution_count": 385,
     "metadata": {
      "tags": []
     },
     "output_type": "execute_result"
    }
   ],
   "source": [
    "# pop(idx) idx 위치의 값을 반환 후 삭제\n",
    "a = [3,1,2,5,8,6,3]\n",
    "print(a.pop(3))\n",
    "a"
   ]
  },
  {
   "cell_type": "code",
   "execution_count": null,
   "metadata": {
    "colab": {
     "base_uri": "https://localhost:8080/"
    },
    "id": "BcbLZeqb_Fk0",
    "outputId": "dcaf8478-96d9-44dc-f747-7d0aeeb8deaf"
   },
   "outputs": [
    {
     "name": "stdout",
     "output_type": "stream",
     "text": [
      "3\n"
     ]
    },
    {
     "data": {
      "text/plain": [
       "[3, 1, 2, 5, 8, 6]"
      ]
     },
     "execution_count": 386,
     "metadata": {
      "tags": []
     },
     "output_type": "execute_result"
    }
   ],
   "source": [
    "# idx를 지정하지 않으면 마지막 요소 반환 후 삭제\n",
    "a = [3,1,2,5,8,6,3]\n",
    "print(a.pop())\n",
    "a"
   ]
  },
  {
   "cell_type": "code",
   "execution_count": null,
   "metadata": {
    "colab": {
     "base_uri": "https://localhost:8080/"
    },
    "id": "aQ9FnWhL_iSr",
    "outputId": "2933379a-bbee-4ddc-fe5d-a9adf542f680"
   },
   "outputs": [
    {
     "data": {
      "text/plain": [
       "[[1, 2, 3], [4, 5, 6]]"
      ]
     },
     "execution_count": 391,
     "metadata": {
      "tags": []
     },
     "output_type": "execute_result"
    }
   ],
   "source": [
    "# 2차원 list에서 내부 list를 삭제할 수 있음\n",
    "mylist = [[1,2,3], [4,5,6], [7,8,8]]\n",
    "mylist.pop()\n",
    "mylist"
   ]
  },
  {
   "cell_type": "code",
   "execution_count": null,
   "metadata": {
    "colab": {
     "base_uri": "https://localhost:8080/"
    },
    "id": "UdO8LAzy_Qcc",
    "outputId": "05f0d36a-9a30-4372-cfe2-1bb67006c56d"
   },
   "outputs": [
    {
     "data": {
      "text/plain": [
       "[3, 1, 2, 8, 6, 3]"
      ]
     },
     "execution_count": 389,
     "metadata": {
      "tags": []
     },
     "output_type": "execute_result"
    }
   ],
   "source": [
    "# del 리스트명[idx]\n",
    "# 특정 값을 삭제\n",
    "a = [3,1,2,5,8,6,3]\n",
    "del a[3]\n",
    "a"
   ]
  },
  {
   "cell_type": "code",
   "execution_count": null,
   "metadata": {
    "colab": {
     "base_uri": "https://localhost:8080/"
    },
    "id": "hpVMpoRw_oeK",
    "outputId": "1842c592-947a-4f4b-e88b-1367c2688d43"
   },
   "outputs": [
    {
     "data": {
      "text/plain": [
       "[[1, 2, 3], [4, 5, 6]]"
      ]
     },
     "execution_count": 393,
     "metadata": {
      "tags": []
     },
     "output_type": "execute_result"
    }
   ],
   "source": [
    "# 2차원 list에서 내부 list를 삭제할 수 있음\n",
    "mylist = [[1,2,3], [4,5,6], [7,8,8]]\n",
    "del mylist[2]\n",
    "mylist"
   ]
  },
  {
   "cell_type": "code",
   "execution_count": null,
   "metadata": {
    "colab": {
     "base_uri": "https://localhost:8080/"
    },
    "id": "ARpue34F_w_J",
    "outputId": "491e1133-85ae-4e9b-dceb-f8568d2f2f22"
   },
   "outputs": [
    {
     "data": {
      "text/plain": [
       "[1, 2, 3, 4, 5, 6]"
      ]
     },
     "execution_count": 394,
     "metadata": {
      "tags": []
     },
     "output_type": "execute_result"
    }
   ],
   "source": [
    "# extend list 확장\n",
    "# 결합과 비슷하나 결합은 원본 유지\n",
    "a =[1,2,3]\n",
    "b =[4,5,6]\n",
    "a.extend(b)\n",
    "a"
   ]
  },
  {
   "cell_type": "code",
   "execution_count": null,
   "metadata": {
    "colab": {
     "base_uri": "https://localhost:8080/"
    },
    "id": "26CgzaJzAM3R",
    "outputId": "e83893bf-75e6-42c8-bc0e-5a2235bb112a"
   },
   "outputs": [
    {
     "data": {
      "text/plain": [
       "['Python', 'is', 'too', 'interesting']"
      ]
     },
     "execution_count": 54,
     "metadata": {
      "tags": []
     },
     "output_type": "execute_result"
    }
   ],
   "source": [
    "'python is too interesting'.capitalize().split(' ')"
   ]
  },
  {
   "cell_type": "code",
   "execution_count": null,
   "metadata": {
    "colab": {
     "base_uri": "https://localhost:8080/"
    },
    "id": "lXvwYSMA_P9x",
    "outputId": "7fde94c2-1c98-4a9f-e33a-bdab353fadf9"
   },
   "outputs": [
    {
     "data": {
      "text/plain": [
       "[2, 4, 5, 3, 1]"
      ]
     },
     "execution_count": 55,
     "metadata": {
      "tags": []
     },
     "output_type": "execute_result"
    }
   ],
   "source": [
    "[1,3,5,4,2][::-1]"
   ]
  },
  {
   "cell_type": "code",
   "execution_count": null,
   "metadata": {
    "colab": {
     "base_uri": "https://localhost:8080/"
    },
    "id": "NM1-Rfzqi0Pf",
    "outputId": "09e1c481-5080-4d68-9785-736d5bed902d"
   },
   "outputs": [
    {
     "name": "stdout",
     "output_type": "stream",
     "text": [
      "['Python', 'is', 'too', 'interesting']\n"
     ]
    }
   ],
   "source": [
    "print(str(['Python', 'is', 'too', 'interesting']))"
   ]
  },
  {
   "cell_type": "code",
   "execution_count": null,
   "metadata": {
    "colab": {
     "base_uri": "https://localhost:8080/",
     "height": 35
    },
    "id": "WBk6Ps3YAf2h",
    "outputId": "77dd8a57-e5ae-4d0f-83f2-4448de8efa8d"
   },
   "outputs": [
    {
     "data": {
      "application/vnd.google.colaboratory.intrinsic+json": {
       "type": "string"
      },
      "text/plain": [
       "'python is too interesting'"
      ]
     },
     "execution_count": 57,
     "metadata": {
      "tags": []
     },
     "output_type": "execute_result"
    }
   ],
   "source": [
    "' '.join(['Python', 'is', 'too', 'interesting']).lower()"
   ]
  },
  {
   "cell_type": "markdown",
   "metadata": {
    "id": "Z_bHZKUqO7Jw"
   },
   "source": [
    "## Tuple\n",
    "    - List와 동일, 단 추가, 수정, 삭제 불가능\n",
    "    - Tuple 생성\n",
    "    - 결합, 반복, 인덱싱, 슬라이싱은 모두 동일\n",
    "    - 시퀀스 타입 간의 변환"
   ]
  },
  {
   "cell_type": "code",
   "execution_count": null,
   "metadata": {
    "colab": {
     "base_uri": "https://localhost:8080/"
    },
    "id": "de7LYXArO7Jw",
    "outputId": "1cd135ce-ff27-4bdb-a1fd-1404de2183f5"
   },
   "outputs": [
    {
     "name": "stdout",
     "output_type": "stream",
     "text": [
      "(1, 3, 5)\n",
      "(1, 3, 5)\n",
      "(1,)\n",
      "(1,)\n"
     ]
    }
   ],
   "source": [
    "# 소괄호로 생성\n",
    "# 리스트와 거의 대부분 동일하나, 수정, 추가, 삭제가 불가능함\n",
    "a = (1,3,5) # 소괄호 및 이용하여 생성\n",
    "b = 1,3,5   # 쉼표만 이용하여 생성\n",
    "c = (1,)    # 1개 요소 tuple 생성\n",
    "d = 1,    # 1개 요소 tuple 생성\n",
    "print(a)\n",
    "print(b)\n",
    "print(c)\n",
    "print(d)"
   ]
  },
  {
   "cell_type": "code",
   "execution_count": null,
   "metadata": {
    "colab": {
     "base_uri": "https://localhost:8080/"
    },
    "id": "T6J9D0JB2PXn",
    "outputId": "692b677e-3cab-4ad0-ec2c-3f8360b0d1b6"
   },
   "outputs": [
    {
     "name": "stdout",
     "output_type": "stream",
     "text": [
      "(1, 2, 3, 4)\n",
      "('A', 'B', 'C', 'D')\n"
     ]
    }
   ],
   "source": [
    "# tuple 함수를 이용하여 생성\n",
    "a = tuple([1,2,3,4])\n",
    "b = tuple('ABCD')\n",
    "print(a)\n",
    "print(b)"
   ]
  },
  {
   "cell_type": "code",
   "execution_count": null,
   "metadata": {
    "colab": {
     "base_uri": "https://localhost:8080/"
    },
    "id": "czcevGIQ2SZT",
    "outputId": "4432f951-c426-4792-e0bc-814e0b318ead"
   },
   "outputs": [
    {
     "name": "stdout",
     "output_type": "stream",
     "text": [
      "list:72\n",
      "tuple:56\n"
     ]
    }
   ],
   "source": [
    "# list vs tuple\n",
    "# 메모리를 더 적게 사용\n",
    "import sys\n",
    "\n",
    "print(f'list:{sys.getsizeof([1])}')\n",
    "print(f'tuple:{sys.getsizeof((1,))}')\n"
   ]
  },
  {
   "cell_type": "code",
   "execution_count": null,
   "metadata": {
    "colab": {
     "base_uri": "https://localhost:8080/"
    },
    "id": "mhZNoeCZBnIE",
    "outputId": "e9147f3d-72ea-4ea8-893e-2975949a710b"
   },
   "outputs": [
    {
     "name": "stdout",
     "output_type": "stream",
     "text": [
      "list:80\n",
      "tuple:64\n"
     ]
    }
   ],
   "source": [
    "print(f'list:{sys.getsizeof([1,2])}')\n",
    "print(f'tuple:{sys.getsizeof((1,2))}')"
   ]
  },
  {
   "cell_type": "code",
   "execution_count": null,
   "metadata": {
    "colab": {
     "base_uri": "https://localhost:8080/"
    },
    "id": "TMZQZj8EB0Jj",
    "outputId": "d69c4e41-5175-4ccd-e6af-5fbda31021ac"
   },
   "outputs": [
    {
     "name": "stdout",
     "output_type": "stream",
     "text": [
      "['p', 'y', 't', 'h', 'o', 'n']\n",
      "['p', 'y', 't', 'h', 'o', 'n']\n"
     ]
    }
   ],
   "source": [
    "# 시퀀스 타입 간의 변환\n",
    "print(list('python'))\n",
    "print(list(tuple('python')))"
   ]
  },
  {
   "cell_type": "code",
   "execution_count": null,
   "metadata": {
    "colab": {
     "base_uri": "https://localhost:8080/"
    },
    "id": "6i3xrdGJCGr6",
    "outputId": "f1e11cab-09b3-4f1c-9033-31eab3b2847a"
   },
   "outputs": [
    {
     "name": "stdout",
     "output_type": "stream",
     "text": [
      "('p', 'y', 't', 'h', 'o', 'n')\n",
      "('p', 'y', 't', 'h', 'o', 'n')\n"
     ]
    }
   ],
   "source": [
    "print(tuple('python'))\n",
    "print(tuple(list('python')))"
   ]
  },
  {
   "cell_type": "code",
   "execution_count": null,
   "metadata": {
    "colab": {
     "base_uri": "https://localhost:8080/"
    },
    "id": "TAmrvQgDCL0j",
    "outputId": "4bfdfd5c-046c-4a09-8098-593c681cfa0a"
   },
   "outputs": [
    {
     "name": "stdout",
     "output_type": "stream",
     "text": [
      "['a', 'b', 'c']\n",
      "('a', 'b', 'c')\n"
     ]
    }
   ],
   "source": [
    "# 그냥 변환하면....\n",
    "print(str(['a','b','c']))\n",
    "print(str(('a','b','c')))"
   ]
  },
  {
   "cell_type": "code",
   "execution_count": null,
   "metadata": {
    "colab": {
     "base_uri": "https://localhost:8080/"
    },
    "id": "XN8xnKd7CYiz",
    "outputId": "6ab70b3a-3228-4eee-d4fe-5a708be7f6fe"
   },
   "outputs": [
    {
     "name": "stdout",
     "output_type": "stream",
     "text": [
      "abc\n",
      "abc\n"
     ]
    }
   ],
   "source": [
    "# join 함수 이용\n",
    "print(''.join(['a','b','c']))\n",
    "print(''.join(('a','b','c')))"
   ]
  },
  {
   "cell_type": "code",
   "execution_count": null,
   "metadata": {
    "colab": {
     "base_uri": "https://localhost:8080/"
    },
    "id": "kPsI41HxkEh-",
    "outputId": "387d65e3-59c5-436b-f4aa-82b843fb93ff"
   },
   "outputs": [
    {
     "data": {
      "text/plain": [
       "('11', '10.0')"
      ]
     },
     "execution_count": 61,
     "metadata": {
      "tags": []
     },
     "output_type": "execute_result"
    }
   ],
   "source": [
    "str(11), str(10.0)"
   ]
  },
  {
   "cell_type": "code",
   "execution_count": null,
   "metadata": {
    "colab": {
     "base_uri": "https://localhost:8080/"
    },
    "id": "tQcqAx49kV2n",
    "outputId": "d8d25651-6ae9-4a86-c461-249aa3f0e6ce"
   },
   "outputs": [
    {
     "data": {
      "text/plain": [
       "(1, 2, 3, 4)"
      ]
     },
     "execution_count": 65,
     "metadata": {
      "tags": []
     },
     "output_type": "execute_result"
    }
   ],
   "source": [
    "# (1,2,3)인 tuple에 4를 추가하시오\n",
    "(1,2,3) + (4,)"
   ]
  },
  {
   "cell_type": "markdown",
   "metadata": {
    "id": "4O2_k11WO7KY"
   },
   "source": [
    "## 집합\n",
    "    - 순서 없음 (인덱스 없음 -> 인덱싱 불가)\n",
    "    - 중복 없음 -> 중복 제거에 사용\n",
    "    - 집합 생성\n",
    "    - 집합 연산\n",
    "        - 차집합, 합집합, 교집합, 여집합, 대칭 차집합"
   ]
  },
  {
   "cell_type": "code",
   "execution_count": null,
   "metadata": {
    "id": "IOBcItPsPQ1V"
   },
   "outputs": [],
   "source": [
    "# 집합 생성\n",
    "# 생성 1\n",
    "# {}와 쉼표로 구분\n",
    "a = {'a', 'b', 'c', 'd', 'e'}"
   ]
  },
  {
   "cell_type": "code",
   "execution_count": null,
   "metadata": {
    "colab": {
     "base_uri": "https://localhost:8080/"
    },
    "id": "Ia1WB3hGPQ1Z",
    "outputId": "f910f15f-e3c9-4d2a-a256-8a0448e3a575"
   },
   "outputs": [
    {
     "data": {
      "text/plain": [
       "({'a', 'b', 'c', 'd', 'e'}, set)"
      ]
     },
     "execution_count": 433,
     "metadata": {
      "tags": []
     },
     "output_type": "execute_result"
    }
   ],
   "source": [
    "a, type(a)"
   ]
  },
  {
   "cell_type": "code",
   "execution_count": null,
   "metadata": {
    "colab": {
     "base_uri": "https://localhost:8080/"
    },
    "id": "kuhEOi6SPQ1b",
    "outputId": "18e6b1f3-01f0-4d43-cff4-1f9957291f82"
   },
   "outputs": [
    {
     "data": {
      "text/plain": [
       "{'a', 'b', 'c', 'f'}"
      ]
     },
     "execution_count": 434,
     "metadata": {
      "tags": []
     },
     "output_type": "execute_result"
    }
   ],
   "source": [
    "# 생성 2\n",
    "# set 함수 이용\n",
    "b = set('abcfff')\n",
    "b"
   ]
  },
  {
   "cell_type": "code",
   "execution_count": null,
   "metadata": {
    "colab": {
     "base_uri": "https://localhost:8080/"
    },
    "id": "Zg3Ukpl_Dbtz",
    "outputId": "f06cda56-505e-4abe-d98e-4ec6006012f6"
   },
   "outputs": [
    {
     "data": {
      "text/plain": [
       "{'a', 'b', 'c', 'f', 'g'}"
      ]
     },
     "execution_count": 435,
     "metadata": {
      "tags": []
     },
     "output_type": "execute_result"
    }
   ],
   "source": [
    "# set에 새 요소 추가\n",
    "# add 함수를 이용하여 요소 하나 추가\n",
    "b.add('g')\n",
    "b"
   ]
  },
  {
   "cell_type": "code",
   "execution_count": null,
   "metadata": {
    "colab": {
     "base_uri": "https://localhost:8080/"
    },
    "id": "iXntqxvzDrDr",
    "outputId": "9833788f-57d2-4fc5-dd50-84d551725af8"
   },
   "outputs": [
    {
     "data": {
      "text/plain": [
       "{'1', '2', '3', 'a', 'b', 'c', 'f', 'g'}"
      ]
     },
     "execution_count": 436,
     "metadata": {
      "tags": []
     },
     "output_type": "execute_result"
    }
   ],
   "source": [
    "# update 함수를 이용하여 여러 개 요소 추가\n",
    "b.update(['1', '2', '3'])\n",
    "b"
   ]
  },
  {
   "cell_type": "code",
   "execution_count": null,
   "metadata": {
    "colab": {
     "base_uri": "https://localhost:8080/"
    },
    "id": "UdQCezxLDjys",
    "outputId": "f2934646-8960-40ec-b8f7-45d5b3c31273"
   },
   "outputs": [
    {
     "data": {
      "text/plain": [
       "{'2', '3', 'a', 'b', 'c', 'f', 'g'}"
      ]
     },
     "execution_count": 437,
     "metadata": {
      "tags": []
     },
     "output_type": "execute_result"
    }
   ],
   "source": [
    "# 값 삭제\n",
    "# remove(value) 값 삭제\n",
    "b.remove('1')\n",
    "b"
   ]
  },
  {
   "cell_type": "code",
   "execution_count": null,
   "metadata": {
    "colab": {
     "base_uri": "https://localhost:8080/"
    },
    "id": "gbl72U39EB83",
    "outputId": "0dc4505f-1807-4907-dec0-1fda99496530"
   },
   "outputs": [
    {
     "name": "stdout",
     "output_type": "stream",
     "text": [
      "f\n"
     ]
    },
    {
     "data": {
      "text/plain": [
       "{'2', '3', 'a', 'b', 'c', 'g'}"
      ]
     },
     "execution_count": 438,
     "metadata": {
      "tags": []
     },
     "output_type": "execute_result"
    }
   ],
   "source": [
    "# pop() 임의의 값 삭제\n",
    "print(b.pop())\n",
    "b"
   ]
  },
  {
   "cell_type": "code",
   "execution_count": null,
   "metadata": {
    "colab": {
     "base_uri": "https://localhost:8080/"
    },
    "id": "H_uMfs9DPQ1d",
    "outputId": "55305eb5-d87c-4c2b-8fb9-da37e00f692b"
   },
   "outputs": [
    {
     "data": {
      "text/plain": [
       "{1, 2}"
      ]
     },
     "execution_count": 442,
     "metadata": {
      "tags": []
     },
     "output_type": "execute_result"
    }
   ],
   "source": [
    "# 집합 연산\n",
    "# 차집합\n",
    "a = set([1,2,3,4,5])\n",
    "b = set([3,4,5,6,7])\n",
    "a - b "
   ]
  },
  {
   "cell_type": "code",
   "execution_count": null,
   "metadata": {
    "colab": {
     "base_uri": "https://localhost:8080/"
    },
    "id": "8KGF_WQaPQ1f",
    "outputId": "2189e287-c39c-4dd1-910e-40d0afe4986a"
   },
   "outputs": [
    {
     "data": {
      "text/plain": [
       "{1, 2}"
      ]
     },
     "execution_count": 443,
     "metadata": {
      "tags": []
     },
     "output_type": "execute_result"
    }
   ],
   "source": [
    "a.difference(b)"
   ]
  },
  {
   "cell_type": "code",
   "execution_count": null,
   "metadata": {
    "colab": {
     "base_uri": "https://localhost:8080/"
    },
    "id": "z3ER_-AjPQ1h",
    "outputId": "a6404017-98ca-4e6e-da5c-80316cbbc6b8"
   },
   "outputs": [
    {
     "data": {
      "text/plain": [
       "{1, 2, 3, 4, 5, 6, 7}"
      ]
     },
     "execution_count": 444,
     "metadata": {
      "tags": []
     },
     "output_type": "execute_result"
    }
   ],
   "source": [
    "a | b # 합집합"
   ]
  },
  {
   "cell_type": "code",
   "execution_count": null,
   "metadata": {
    "colab": {
     "base_uri": "https://localhost:8080/"
    },
    "id": "Lf8PL1TRPQ1j",
    "outputId": "4308e1a4-457b-4828-e4a5-ad3dccc5ec19"
   },
   "outputs": [
    {
     "data": {
      "text/plain": [
       "{1, 2, 3, 4, 5, 6, 7}"
      ]
     },
     "execution_count": 445,
     "metadata": {
      "tags": []
     },
     "output_type": "execute_result"
    }
   ],
   "source": [
    "a.union(b)"
   ]
  },
  {
   "cell_type": "code",
   "execution_count": null,
   "metadata": {
    "colab": {
     "base_uri": "https://localhost:8080/"
    },
    "id": "Yc884BTcPQ1l",
    "outputId": "c75bef9b-f9d7-45b3-a2dd-3f8d24891c8d"
   },
   "outputs": [
    {
     "data": {
      "text/plain": [
       "{3, 4, 5}"
      ]
     },
     "execution_count": 446,
     "metadata": {
      "tags": []
     },
     "output_type": "execute_result"
    }
   ],
   "source": [
    "a & b # 교집합"
   ]
  },
  {
   "cell_type": "code",
   "execution_count": null,
   "metadata": {
    "colab": {
     "base_uri": "https://localhost:8080/"
    },
    "id": "_wMMOanTPQ1n",
    "outputId": "cf31411f-c11c-4e18-eb18-75202aeca9f6"
   },
   "outputs": [
    {
     "data": {
      "text/plain": [
       "{3, 4, 5}"
      ]
     },
     "execution_count": 447,
     "metadata": {
      "tags": []
     },
     "output_type": "execute_result"
    }
   ],
   "source": [
    "a.intersection(b)"
   ]
  },
  {
   "cell_type": "code",
   "execution_count": null,
   "metadata": {
    "colab": {
     "base_uri": "https://localhost:8080/"
    },
    "id": "_RRzGn4MPQ1p",
    "outputId": "467a8bff-29fd-46d0-a242-b030254b73b3"
   },
   "outputs": [
    {
     "data": {
      "text/plain": [
       "{6, 7}"
      ]
     },
     "execution_count": 448,
     "metadata": {
      "tags": []
     },
     "output_type": "execute_result"
    }
   ],
   "source": [
    "(a|b)-a # 여집합 = ac = (a ∪ b) - a"
   ]
  },
  {
   "cell_type": "code",
   "execution_count": null,
   "metadata": {
    "colab": {
     "base_uri": "https://localhost:8080/"
    },
    "id": "tnBM_0OmPQ1u",
    "outputId": "d7bc53d0-a52e-4c28-c1f3-d73c744f55aa"
   },
   "outputs": [
    {
     "data": {
      "text/plain": [
       "{1, 2, 6, 7}"
      ]
     },
     "execution_count": 449,
     "metadata": {
      "tags": []
     },
     "output_type": "execute_result"
    }
   ],
   "source": [
    "# 대칭 차집합 (a-b) ∪ (b-a)\n",
    "# (a ∪ b) - (a ∩ b)    \n",
    "a ^ b"
   ]
  },
  {
   "cell_type": "code",
   "execution_count": null,
   "metadata": {
    "colab": {
     "base_uri": "https://localhost:8080/"
    },
    "id": "eRs6RNsIPQ1w",
    "outputId": "bcd03ece-093e-43ff-802a-117b69031856"
   },
   "outputs": [
    {
     "data": {
      "text/plain": [
       "{1, 2, 6, 7}"
      ]
     },
     "execution_count": 450,
     "metadata": {
      "tags": []
     },
     "output_type": "execute_result"
    }
   ],
   "source": [
    "a.symmetric_difference(b)"
   ]
  },
  {
   "cell_type": "code",
   "execution_count": null,
   "metadata": {
    "colab": {
     "base_uri": "https://localhost:8080/"
    },
    "id": "KlsSpMOZPQ1y",
    "outputId": "577f0279-3ea4-4273-9d5f-30ce31942845"
   },
   "outputs": [
    {
     "data": {
      "text/plain": [
       "{'H', 'e', 'l', 'o'}"
      ]
     },
     "execution_count": 451,
     "metadata": {
      "tags": []
     },
     "output_type": "execute_result"
    }
   ],
   "source": [
    "# 집합을 이용한 중복 문자 제거\n",
    "s = set(\"Hello\")\n",
    "s"
   ]
  },
  {
   "cell_type": "code",
   "execution_count": null,
   "metadata": {
    "colab": {
     "base_uri": "https://localhost:8080/"
    },
    "id": "TLgs0oFXPQ1z",
    "outputId": "7c2df69d-9e58-4ba5-8664-89650bfb3813"
   },
   "outputs": [
    {
     "data": {
      "text/plain": [
       "{'b'}"
      ]
     },
     "execution_count": 452,
     "metadata": {
      "tags": []
     },
     "output_type": "execute_result"
    }
   ],
   "source": [
    "# 공통적으로 사용하는 문자 추출\n",
    "set('abcde')&set('bcjjfqll')&set('abjekasl')"
   ]
  },
  {
   "cell_type": "code",
   "execution_count": null,
   "metadata": {
    "colab": {
     "base_uri": "https://localhost:8080/"
    },
    "id": "7SawW9fAPQ11",
    "outputId": "10b30151-cf3b-41ec-bcbf-d3399f6b506b"
   },
   "outputs": [
    {
     "data": {
      "text/plain": [
       "[1, 1, 2, 2, 3, 4, 4, 5, 6, 7, 2]"
      ]
     },
     "execution_count": 453,
     "metadata": {
      "tags": []
     },
     "output_type": "execute_result"
    }
   ],
   "source": [
    "# 연습 문제\n",
    "# 리스트 [1, 1, 2, 2, 3, 4, 4, 5, 6, 7, 2]에서 중복 숙자들을 제거한 후 내림차순으로 정렬하여 출력\n",
    "a=list(map(int, list('11223445672')))\n",
    "a\n",
    "\n",
    "\n",
    "\n",
    "\n",
    "\n",
    "\n",
    "\n",
    "\n",
    "\n",
    "\n",
    "\n",
    "\n",
    "\n",
    "\n",
    "\n",
    "\n",
    "\n",
    "\n",
    "\n",
    "\n",
    "\n",
    "\n",
    "\n",
    "\n"
   ]
  },
  {
   "cell_type": "code",
   "execution_count": null,
   "metadata": {
    "colab": {
     "base_uri": "https://localhost:8080/"
    },
    "id": "9e0cV-eHPQ12",
    "outputId": "05fa0f1e-700d-40fa-8298-d491649c9f5e"
   },
   "outputs": [
    {
     "data": {
      "text/plain": [
       "[7, 6, 5, 4, 3, 2, 1]"
      ]
     },
     "execution_count": 454,
     "metadata": {
      "tags": []
     },
     "output_type": "execute_result"
    }
   ],
   "source": [
    "b = list(set(a))\n",
    "b.sort(reverse=True)\n",
    "b"
   ]
  },
  {
   "cell_type": "markdown",
   "metadata": {
    "id": "7JfX1N6OO7KF"
   },
   "source": [
    "## 사전\n",
    "    - 순서 없음 (인덱스 없음 -> 인덱싱 못 함 -> key 지정 -> key로 조회)\n",
    "    - 딕셔너리 생성\n",
    "    - 딕셔너리 값 접근\n",
    "    - 딕셔너리 값 삭제\n",
    "    - 딕셔너리 값 추가\n",
    "    - 딕셔너리 함수"
   ]
  },
  {
   "cell_type": "code",
   "execution_count": null,
   "metadata": {
    "colab": {
     "base_uri": "https://localhost:8080/"
    },
    "id": "Vl6T36J0O7KG",
    "outputId": "0a3c9eb0-f65f-4d74-f38c-599198197db5"
   },
   "outputs": [
    {
     "data": {
      "text/plain": [
       "{'bacon': 1, 'eggs': 2, 'sausae': 1, 'spam': 500}"
      ]
     },
     "execution_count": 473,
     "metadata": {
      "tags": []
     },
     "output_type": "execute_result"
    }
   ],
   "source": [
    "# 순서가 없는 자료 구조, 인덱스가 없음\n",
    "# 인덱스를 대신하기 위해 선언 과정에서 'key'를 지정함\n",
    "# key-value 형태로 선언\n",
    "# key는 unique, 변경 불가능한 객체 (tuple, 상수(리터럴))\n",
    "#변수명 = { 'key':value , , , , }\n",
    "\n",
    "dic = {'eggs':2, 'sausae':1, 'bacon':1, 'spam':500}\n",
    "dic"
   ]
  },
  {
   "cell_type": "code",
   "execution_count": null,
   "metadata": {
    "colab": {
     "base_uri": "https://localhost:8080/"
    },
    "id": "OVBoA30OO7KH",
    "outputId": "04c48036-2cb4-49cc-edec-8a6105ed6e47"
   },
   "outputs": [
    {
     "data": {
      "text/plain": [
       "{1: 'b', '지역': '서울'}"
      ]
     },
     "execution_count": 474,
     "metadata": {
      "tags": []
     },
     "output_type": "execute_result"
    }
   ],
   "source": [
    "# 생성\n",
    "# 중괄호, 쉼표로 요소를 구분하고 요소는 key:value pair로 전달됨\n",
    "a = {1:'b', '지역':'서울'}\n",
    "a"
   ]
  },
  {
   "cell_type": "code",
   "execution_count": null,
   "metadata": {
    "colab": {
     "base_uri": "https://localhost:8080/"
    },
    "id": "xkEyQ2A5Jx1H",
    "outputId": "152860e0-51b7-4cd3-fbba-fddf9bdc6155"
   },
   "outputs": [
    {
     "data": {
      "text/plain": [
       "{(1, 2): 'tuple'}"
      ]
     },
     "execution_count": 499,
     "metadata": {
      "tags": []
     },
     "output_type": "execute_result"
    }
   ],
   "source": [
    "b = {(1,2):'tuple'}\n",
    "b"
   ]
  },
  {
   "cell_type": "code",
   "execution_count": null,
   "metadata": {
    "colab": {
     "base_uri": "https://localhost:8080/",
     "height": 35
    },
    "id": "RxeugcdwJ3Q-",
    "outputId": "441521e1-7f6a-48c6-ad68-060c13dc03aa"
   },
   "outputs": [
    {
     "data": {
      "application/vnd.google.colaboratory.intrinsic+json": {
       "type": "string"
      },
      "text/plain": [
       "'tuple'"
      ]
     },
     "execution_count": 500,
     "metadata": {
      "tags": []
     },
     "output_type": "execute_result"
    }
   ],
   "source": [
    "b[(1,2)]"
   ]
  },
  {
   "cell_type": "code",
   "execution_count": null,
   "metadata": {
    "id": "Q0yVs4HKJ6LL"
   },
   "outputs": [],
   "source": []
  },
  {
   "cell_type": "code",
   "execution_count": null,
   "metadata": {
    "colab": {
     "base_uri": "https://localhost:8080/"
    },
    "id": "ycD8Fo_RJHU-",
    "outputId": "0c16235d-6e54-4f3a-cf62-5611144d6893"
   },
   "outputs": [
    {
     "data": {
      "text/plain": [
       "{'m': 'b', '지역': '서울'}"
      ]
     },
     "execution_count": 66,
     "metadata": {
      "tags": []
     },
     "output_type": "execute_result"
    }
   ],
   "source": [
    "# dict 함수 이용\n",
    "# dict(key=value, key=vlaue)\n",
    "# dict 함수를 이용할 경우 key는 문자열만 가능\n",
    "a = dict(m='b', 지역='서울')\n",
    "a"
   ]
  },
  {
   "cell_type": "code",
   "execution_count": null,
   "metadata": {
    "colab": {
     "base_uri": "https://localhost:8080/",
     "height": 35
    },
    "id": "NB4HEiAuFdlc",
    "outputId": "51df90c1-1be5-48dc-e910-2a5fef9db82a"
   },
   "outputs": [
    {
     "data": {
      "application/vnd.google.colaboratory.intrinsic+json": {
       "type": "string"
      },
      "text/plain": [
       "'서울'"
      ]
     },
     "execution_count": 475,
     "metadata": {
      "tags": []
     },
     "output_type": "execute_result"
    }
   ],
   "source": [
    "# key를 이용한 조회\n",
    "# 인덱싱과 동일한 방법을 사용하되 인덱스 대신 키 사용\n",
    "a['지역']"
   ]
  },
  {
   "cell_type": "code",
   "execution_count": null,
   "metadata": {
    "colab": {
     "base_uri": "https://localhost:8080/",
     "height": 35
    },
    "id": "xqVSnYjIFxtW",
    "outputId": "dee6da80-0165-440b-aac5-07d6086a22a4"
   },
   "outputs": [
    {
     "data": {
      "application/vnd.google.colaboratory.intrinsic+json": {
       "type": "string"
      },
      "text/plain": [
       "'서울'"
      ]
     },
     "execution_count": 476,
     "metadata": {
      "tags": []
     },
     "output_type": "execute_result"
    }
   ],
   "source": [
    "# get 함수 이용\n",
    "a.get('지역')"
   ]
  },
  {
   "cell_type": "code",
   "execution_count": null,
   "metadata": {
    "colab": {
     "base_uri": "https://localhost:8080/",
     "height": 208
    },
    "id": "eUhkR1LPF1Na",
    "outputId": "48abee37-b1bb-4414-b3d2-ba6fce70a00e"
   },
   "outputs": [
    {
     "ename": "KeyError",
     "evalue": "ignored",
     "output_type": "error",
     "traceback": [
      "\u001b[0;31m---------------------------------------------------------------------------\u001b[0m",
      "\u001b[0;31mKeyError\u001b[0m                                  Traceback (most recent call last)",
      "\u001b[0;32m<ipython-input-477-99371fb19f7f>\u001b[0m in \u001b[0;36m<module>\u001b[0;34m()\u001b[0m\n\u001b[1;32m      1\u001b[0m \u001b[0;31m# 두 조회 방법의 차이점\u001b[0m\u001b[0;34m\u001b[0m\u001b[0;34m\u001b[0m\u001b[0;34m\u001b[0m\u001b[0m\n\u001b[1;32m      2\u001b[0m \u001b[0;31m# 오류\u001b[0m\u001b[0;34m\u001b[0m\u001b[0;34m\u001b[0m\u001b[0;34m\u001b[0m\u001b[0m\n\u001b[0;32m----> 3\u001b[0;31m \u001b[0ma\u001b[0m\u001b[0;34m[\u001b[0m\u001b[0;34m'없나'\u001b[0m\u001b[0;34m]\u001b[0m\u001b[0;34m\u001b[0m\u001b[0;34m\u001b[0m\u001b[0m\n\u001b[0m",
      "\u001b[0;31mKeyError\u001b[0m: '없나'"
     ]
    }
   ],
   "source": [
    "# 두 조회 방법의 차이점\n",
    "# 오류\n",
    "a['없나']"
   ]
  },
  {
   "cell_type": "code",
   "execution_count": null,
   "metadata": {
    "id": "RwLcw1_hF55j"
   },
   "outputs": [],
   "source": [
    "# None 반환 (오류 없음)\n",
    "print(a.get('없나'))"
   ]
  },
  {
   "cell_type": "code",
   "execution_count": null,
   "metadata": {
    "colab": {
     "base_uri": "https://localhost:8080/"
    },
    "id": "auEx7Wqlort3",
    "outputId": "2a45104b-ea2a-497b-fdd6-07951f15eb26"
   },
   "outputs": [
    {
     "data": {
      "text/plain": [
       "{'m': 'b', '지역': '서울'}"
      ]
     },
     "execution_count": 67,
     "metadata": {
      "tags": []
     },
     "output_type": "execute_result"
    }
   ],
   "source": [
    "a"
   ]
  },
  {
   "cell_type": "code",
   "execution_count": null,
   "metadata": {
    "id": "arro8Y0qO7KI"
   },
   "outputs": [],
   "source": [
    "# 수정 or 추가\n",
    "# 사전에서는 수정과 추가가 같은 방법으로 수행됨\n",
    "# key가 이미 사전 내에 있으면 수정\n",
    "# key가 사전 내에 없으면 추가\n",
    "a['지역'] = '인천' # 수정\n",
    "a"
   ]
  },
  {
   "cell_type": "code",
   "execution_count": null,
   "metadata": {
    "colab": {
     "base_uri": "https://localhost:8080/"
    },
    "id": "qOhtK66oGThl",
    "outputId": "022bfe8e-8d6c-4894-e437-fad0f9c7f71e"
   },
   "outputs": [
    {
     "data": {
      "text/plain": [
       "{1: 'b', '이름': '홍길동', '지역': '서울'}"
      ]
     },
     "execution_count": 478,
     "metadata": {
      "tags": []
     },
     "output_type": "execute_result"
    }
   ],
   "source": [
    "a['이름'] = '홍길동' #추가\n",
    "a"
   ]
  },
  {
   "cell_type": "code",
   "execution_count": null,
   "metadata": {
    "colab": {
     "base_uri": "https://localhost:8080/"
    },
    "id": "3LiE4Cy2GXkw",
    "outputId": "a5efcf4d-8725-4471-d89a-6ddb0bc9d266"
   },
   "outputs": [
    {
     "data": {
      "text/plain": [
       "{1: 'b', 'age': 1000, '이름': '흥부', '지역': '어디게?'}"
      ]
     },
     "execution_count": 479,
     "metadata": {
      "tags": []
     },
     "output_type": "execute_result"
    }
   ],
   "source": [
    "# update 함수를 이용한 여러 개 수정/추가\n",
    "# update(사전)\n",
    "a.update({'이름':'흥부', 'age':1000, '지역':'어디게?'})\n",
    "a"
   ]
  },
  {
   "cell_type": "code",
   "execution_count": null,
   "metadata": {
    "colab": {
     "base_uri": "https://localhost:8080/"
    },
    "id": "jwTaRCaEO7KJ",
    "outputId": "8c158fae-4818-4477-8260-15c1063da8bd"
   },
   "outputs": [
    {
     "data": {
      "text/plain": [
       "{'age': 1000, '이름': '흥부', '지역': '어디게?'}"
      ]
     },
     "execution_count": 480,
     "metadata": {
      "tags": []
     },
     "output_type": "execute_result"
    }
   ],
   "source": [
    "# 삭제\n",
    "# del을 이용한 key-value  삭제\n",
    "# del 사전명[key]\n",
    "del a[1]\n",
    "a"
   ]
  },
  {
   "cell_type": "code",
   "execution_count": null,
   "metadata": {
    "colab": {
     "base_uri": "https://localhost:8080/"
    },
    "id": "7GycZsu6O7KK",
    "outputId": "a40009f8-313b-493f-8d10-81dd23d6700f",
    "scrolled": true
   },
   "outputs": [
    {
     "name": "stdout",
     "output_type": "stream",
     "text": [
      "1000\n"
     ]
    },
    {
     "data": {
      "text/plain": [
       "{'이름': '흥부', '지역': '어디게?'}"
      ]
     },
     "execution_count": 481,
     "metadata": {
      "tags": []
     },
     "output_type": "execute_result"
    }
   ],
   "source": [
    "# pop을 이용한 특정 key의 값 반환 후 삭제\n",
    "# pop(key)\n",
    "print(a.pop('age'))\n",
    "a"
   ]
  },
  {
   "cell_type": "code",
   "execution_count": null,
   "metadata": {
    "colab": {
     "base_uri": "https://localhost:8080/"
    },
    "id": "5iXy6ubmIlhs",
    "outputId": "cacdcef3-5ad1-4c32-8fda-404127df917f"
   },
   "outputs": [
    {
     "data": {
      "text/plain": [
       "{}"
      ]
     },
     "execution_count": 483,
     "metadata": {
      "tags": []
     },
     "output_type": "execute_result"
    }
   ],
   "source": [
    "# 사전 비우기\n",
    "# clear 함수\n",
    "a.clear()\n",
    "a"
   ]
  },
  {
   "cell_type": "code",
   "execution_count": null,
   "metadata": {
    "colab": {
     "base_uri": "https://localhost:8080/"
    },
    "id": "7gskuM7FpWJt",
    "outputId": "2cd8f59f-ae26-456c-c98c-60326635030c"
   },
   "outputs": [
    {
     "data": {
      "text/plain": [
       "dict"
      ]
     },
     "execution_count": 68,
     "metadata": {
      "tags": []
     },
     "output_type": "execute_result"
    }
   ],
   "source": [
    "# 명시적 dict/set 타입\n",
    "a = {}\n",
    "type(a)"
   ]
  },
  {
   "cell_type": "code",
   "execution_count": null,
   "metadata": {
    "colab": {
     "base_uri": "https://localhost:8080/"
    },
    "id": "QvS93O__sGVd",
    "outputId": "22b6f2e2-a83c-4b70-8c43-1ce9bc6b4049"
   },
   "outputs": [
    {
     "data": {
      "text/plain": [
       "set"
      ]
     },
     "execution_count": 69,
     "metadata": {
      "tags": []
     },
     "output_type": "execute_result"
    }
   ],
   "source": [
    "a = set()\n",
    "type(a)"
   ]
  },
  {
   "cell_type": "code",
   "execution_count": null,
   "metadata": {
    "id": "n6qd7iDvO7KL"
   },
   "outputs": [],
   "source": [
    "# key, value 혹은 둘 다 출력\n",
    "a = {'name':'tom', 'phone':'01012345678', 'birth':1212}"
   ]
  },
  {
   "cell_type": "code",
   "execution_count": null,
   "metadata": {
    "colab": {
     "base_uri": "https://localhost:8080/"
    },
    "id": "c91y6jNCO7KL",
    "outputId": "8f8ab3a5-4d62-4cc8-e8e3-2a98a2230814"
   },
   "outputs": [
    {
     "data": {
      "text/plain": [
       "dict_keys(['name', 'phone', 'birth'])"
      ]
     },
     "execution_count": 485,
     "metadata": {
      "tags": []
     },
     "output_type": "execute_result"
    }
   ],
   "source": [
    "a.keys()"
   ]
  },
  {
   "cell_type": "code",
   "execution_count": null,
   "metadata": {
    "colab": {
     "base_uri": "https://localhost:8080/"
    },
    "id": "qg37Om79O7KN",
    "outputId": "da8dc68f-fcc5-4cc4-cf64-0e0f682612cf"
   },
   "outputs": [
    {
     "data": {
      "text/plain": [
       "dict_values(['tom', '01012345678', 1212])"
      ]
     },
     "execution_count": 486,
     "metadata": {
      "tags": []
     },
     "output_type": "execute_result"
    }
   ],
   "source": [
    "a.values()"
   ]
  },
  {
   "cell_type": "code",
   "execution_count": null,
   "metadata": {
    "colab": {
     "base_uri": "https://localhost:8080/"
    },
    "id": "pXQ4EnA_O7KN",
    "outputId": "566c74da-e168-41cb-8ce3-2c3eeae6acd3"
   },
   "outputs": [
    {
     "data": {
      "text/plain": [
       "dict_items([('name', 'tom'), ('phone', '01012345678'), ('birth', 1212)])"
      ]
     },
     "execution_count": 487,
     "metadata": {
      "tags": []
     },
     "output_type": "execute_result"
    }
   ],
   "source": [
    "a.items()"
   ]
  },
  {
   "cell_type": "code",
   "execution_count": null,
   "metadata": {
    "colab": {
     "base_uri": "https://localhost:8080/"
    },
    "id": "0m7UEu9-I3GP",
    "outputId": "8163ced4-196e-4d76-99a5-3c211b527e43"
   },
   "outputs": [
    {
     "data": {
      "text/plain": [
       "(True, False)"
      ]
     },
     "execution_count": 490,
     "metadata": {
      "tags": []
     },
     "output_type": "execute_result"
    }
   ],
   "source": [
    "# in or not in을 이용한 key 존재 여부 확인\n",
    "'name' in a, 'name' not in a"
   ]
  },
  {
   "cell_type": "code",
   "execution_count": null,
   "metadata": {
    "colab": {
     "base_uri": "https://localhost:8080/"
    },
    "id": "w8AuYy2HKLMI",
    "outputId": "8d31176f-1a7a-4f4c-cee6-1c07bc297f1c"
   },
   "outputs": [
    {
     "name": "stdout",
     "output_type": "stream",
     "text": [
      "80\n"
     ]
    },
    {
     "data": {
      "text/plain": [
       "{'C': 70, 'a': 90}"
      ]
     },
     "execution_count": 71,
     "metadata": {
      "tags": []
     },
     "output_type": "execute_result"
    }
   ],
   "source": [
    "print(A.pop('B'))\n",
    "A"
   ]
  },
  {
   "cell_type": "markdown",
   "metadata": {
    "id": "a7urDSv6O7Kf"
   },
   "source": [
    "## 조건문\n",
    "    - if\n",
    "      - 들여쓰기 주의: 1탭\n",
    "    - if-else\n",
    "    - if-elif-else"
   ]
  },
  {
   "cell_type": "code",
   "execution_count": null,
   "metadata": {
    "id": "IKGpJIzYO7Kg",
    "outputId": "de051d19-25de-4692-814c-e69e23691949"
   },
   "outputs": [
    {
     "name": "stdout",
     "output_type": "stream",
     "text": [
      "성별을 입력하세요 MALE or FEMALEMALE\n",
      "남성입니다\n"
     ]
    }
   ],
   "source": [
    "# if, else, elif 키워드 이용\n",
    "# if 조건:\n",
    "#   들여쓰기 (1 tab or 4 spaces)\n",
    "gender = input(\"성별을 입력하세요 MALE or FEMALE\")\n",
    "\n",
    "# 조건에는 최종 결과가 bool인 모든 연산이 올 수 있음\n",
    "# 비교, 논리, in 등\n",
    "# 값 자체를 조건식에 넣으면 거짓 조건에 해당하지 않을 경우 참, 해당하면 거짓으로 판단함\n",
    "# if 조건식:\n",
    "#   최소 한 줄 코드\n",
    "# elif 조건식:\n",
    "#   최소 한 줄 코드\n",
    "# else: (선택)\n",
    "#   최소 한 줄 코드\n",
    "if gender == \"MALE\":\n",
    "    print(\"남성입니다\")\n",
    "else:\n",
    "    print(\"여성입니다.\")"
   ]
  },
  {
   "cell_type": "code",
   "execution_count": null,
   "metadata": {
    "colab": {
     "base_uri": "https://localhost:8080/"
    },
    "id": "dgAleuRCO7Kh",
    "outputId": "f5b1b7f0-380a-4710-8a2a-f33a3e5d47bf"
   },
   "outputs": [
    {
     "name": "stdout",
     "output_type": "stream",
     "text": [
      "키 몸무게 입력 예) 155,60 > 155,60\n",
      "비만수치는 5 입니다\n",
      "당신은 비만입니다\n"
     ]
    }
   ],
   "source": [
    "info = input('키 몸무게 입력 예) 155,60 > ')\n",
    "info = info.split(',')\n",
    "value = int(info[1]) + 100 - int(info[0])\n",
    "print('비만수치는 %d 입니다' % value)\n",
    "\n",
    "if value > 0 :\n",
    "  print('당신은 비만입니다')\n",
    "else:\n",
    "  print('당신은 정상입니다.')"
   ]
  },
  {
   "cell_type": "code",
   "execution_count": null,
   "metadata": {
    "id": "QnyabOyPO7Kh",
    "outputId": "e3c6e566-fd22-4d4d-dd89-1c5d9c0f7414"
   },
   "outputs": [
    {
     "name": "stdout",
     "output_type": "stream",
     "text": [
      "성별을 입력하세요 MALE or FEMALEMALE\n",
      "남성입니다\n"
     ]
    }
   ],
   "source": [
    "gender = input(\"성별을 입력하세요 MALE or FEMALE\")\n",
    "\n",
    "if gender == \"MALE\":\n",
    "    print(\"남성입니다\")\n",
    "elif gender == \"FEMALE\":\n",
    "    print(\"여성입니다.\")\n",
    "else:\n",
    "    print(\"잘못된 입력값입니다\")"
   ]
  },
  {
   "cell_type": "code",
   "execution_count": null,
   "metadata": {
    "colab": {
     "base_uri": "https://localhost:8080/"
    },
    "id": "0v5fdPYELVPo",
    "outputId": "7819908f-5783-4298-f94a-8b9030da6e05"
   },
   "outputs": [
    {
     "data": {
      "text/plain": [
       "10"
      ]
     },
     "execution_count": 506,
     "metadata": {
      "tags": []
     },
     "output_type": "execute_result"
    }
   ],
   "source": [
    "# 삼항 연산자\n",
    "# if else를 이용하여 값을 선택하는 삼항 연산자를 사용할 수 있음\n",
    "10 if 3>2 else 20"
   ]
  },
  {
   "cell_type": "code",
   "execution_count": null,
   "metadata": {
    "colab": {
     "base_uri": "https://localhost:8080/"
    },
    "id": "HccMIfumLhpx",
    "outputId": "441049d5-faea-4061-cca7-560464c95906"
   },
   "outputs": [
    {
     "data": {
      "text/plain": [
       "10"
      ]
     },
     "execution_count": 507,
     "metadata": {
      "tags": []
     },
     "output_type": "execute_result"
    }
   ],
   "source": [
    "10 if True else 20"
   ]
  },
  {
   "cell_type": "code",
   "execution_count": null,
   "metadata": {
    "colab": {
     "base_uri": "https://localhost:8080/"
    },
    "id": "e_JmTeYjLj_o",
    "outputId": "9f8642ed-c495-44b7-c5bd-be662847af36"
   },
   "outputs": [
    {
     "data": {
      "text/plain": [
       "20"
      ]
     },
     "execution_count": 508,
     "metadata": {
      "tags": []
     },
     "output_type": "execute_result"
    }
   ],
   "source": [
    "10 if False else 20"
   ]
  },
  {
   "cell_type": "code",
   "execution_count": null,
   "metadata": {
    "colab": {
     "base_uri": "https://localhost:8080/"
    },
    "id": "1Uf0tevJLlNz",
    "outputId": "3bb7e579-6e66-4876-d6c2-89a71efca0bc"
   },
   "outputs": [
    {
     "data": {
      "text/plain": [
       "10"
      ]
     },
     "execution_count": 509,
     "metadata": {
      "tags": []
     },
     "output_type": "execute_result"
    }
   ],
   "source": [
    "10 if 1 else 20"
   ]
  },
  {
   "cell_type": "code",
   "execution_count": null,
   "metadata": {
    "colab": {
     "base_uri": "https://localhost:8080/"
    },
    "id": "eCy8n3k7LnCJ",
    "outputId": "55ce0cb1-3833-4fdb-a998-d753783f7066"
   },
   "outputs": [
    {
     "data": {
      "text/plain": [
       "20"
      ]
     },
     "execution_count": 510,
     "metadata": {
      "tags": []
     },
     "output_type": "execute_result"
    }
   ],
   "source": [
    "10 if 0 else 20"
   ]
  },
  {
   "cell_type": "code",
   "execution_count": null,
   "metadata": {
    "id": "BYzmAXp7LpaY"
   },
   "outputs": [],
   "source": [
    "# 연습 문제\n",
    "# 점수(정수)를 입력 받아서 \n",
    "# 90 이상이면 A\n",
    "# 90 미만 80 이상이면 B\n",
    "# 80 미만 70 이상이면 C\n",
    "# 70 미만이면 D를 출력하시오"
   ]
  },
  {
   "cell_type": "code",
   "execution_count": null,
   "metadata": {
    "colab": {
     "base_uri": "https://localhost:8080/"
    },
    "id": "gbHs6XN0O7Ki",
    "outputId": "9475bc54-da32-4153-ab35-7c2a6f85bf70",
    "scrolled": false
   },
   "outputs": [
    {
     "name": "stdout",
     "output_type": "stream",
     "text": [
      "성적입력 > 99\n",
      "A\n"
     ]
    }
   ],
   "source": [
    "score = int(input('성적입력 > '))\n",
    "\n",
    "if score >= 90:\n",
    "    print(\"A\")\n",
    "elif score >= 80:\n",
    "    print(\"B\")\n",
    "elif score >= 70:\n",
    "    print(\"C\")\n",
    "elif score < 70:\n",
    "    print(\"D\")"
   ]
  },
  {
   "cell_type": "markdown",
   "metadata": {
    "id": "Xo_DV3mlO7Kj"
   },
   "source": [
    "### 반복문\n",
    " - while\n",
    " - for, 2중 for문\n",
    " - break, continue, pass"
   ]
  },
  {
   "cell_type": "code",
   "execution_count": null,
   "metadata": {
    "colab": {
     "base_uri": "https://localhost:8080/"
    },
    "id": "H7jcHbzvX7Fk",
    "outputId": "6720e094-05b7-469c-aa7e-8faaebbffafa"
   },
   "outputs": [
    {
     "name": "stdout",
     "output_type": "stream",
     "text": [
      "성별을 입력하세요 >MALE\n",
      "남성입니다\n",
      "종료\n"
     ]
    }
   ],
   "source": [
    "# while 문\n",
    "# while 조건: -> 조건이 True인 동안 반복\n",
    "# 들여쓰기 1 tab 주의\n",
    "\n",
    "gender=''\n",
    "\n",
    "while gender!= 'MALE' and gender != 'FEMALE':\n",
    "    gender = input('성별을 입력하세요 >').upper()\n",
    "    \n",
    "    if gender == 'MALE':\n",
    "        print(\"남성입니다\")\n",
    "    elif gender == 'FEMALE':\n",
    "        print(\"여성입니다.\")\n",
    "    else:\n",
    "        print(\"잘못된입력값입니다\")\n",
    "print(\"종료\")"
   ]
  },
  {
   "cell_type": "code",
   "execution_count": null,
   "metadata": {
    "colab": {
     "base_uri": "https://localhost:8080/"
    },
    "id": "mvcd_Y2LZDic",
    "outputId": "b81ae8a0-353c-411c-8ce3-1b351cebc674"
   },
   "outputs": [
    {
     "name": "stdout",
     "output_type": "stream",
     "text": [
      "2550\n"
     ]
    }
   ],
   "source": [
    "num = 0\n",
    "sum = 0\n",
    "while num < 101:\n",
    "    if num % 2 == 0:\n",
    "        sum += num\n",
    "    num += 1\n",
    "print(sum)"
   ]
  },
  {
   "cell_type": "code",
   "execution_count": null,
   "metadata": {
    "colab": {
     "base_uri": "https://localhost:8080/"
    },
    "id": "0uOrXU7AMYcj",
    "outputId": "2cb9abee-6b8d-442b-885c-fdb7d970695e"
   },
   "outputs": [
    {
     "name": "stdout",
     "output_type": "stream",
     "text": [
      "5050\n"
     ]
    }
   ],
   "source": [
    "num = 0\n",
    "sum = 0\n",
    "while num < 101:\n",
    "    sum += num\n",
    "    num += 1\n",
    "print(sum)"
   ]
  },
  {
   "cell_type": "code",
   "execution_count": null,
   "metadata": {
    "colab": {
     "base_uri": "https://localhost:8080/"
    },
    "id": "kV4oJsl8McQ4",
    "outputId": "77489951-956e-4182-97ee-61efc0ada65b"
   },
   "outputs": [
    {
     "name": "stdout",
     "output_type": "stream",
     "text": [
      "*\n",
      "**\n",
      "***\n",
      "****\n",
      "*****\n"
     ]
    }
   ],
   "source": [
    "count=0\n",
    "while count<5:\n",
    "  count+=1\n",
    "  print('*'*count)"
   ]
  },
  {
   "cell_type": "code",
   "execution_count": null,
   "metadata": {
    "colab": {
     "base_uri": "https://localhost:8080/"
    },
    "id": "1GxH_uCTMoKZ",
    "outputId": "4b3ddb07-a446-4d2c-b879-d4cc5605333e"
   },
   "outputs": [
    {
     "name": "stdout",
     "output_type": "stream",
     "text": [
      "    *\n",
      "   **\n",
      "  ***\n",
      " ****\n",
      "*****\n"
     ]
    }
   ],
   "source": [
    "count=0\n",
    "while count<5:\n",
    "  count+=1\n",
    "  print(' '*(5-count), end='')\n",
    "  print('*'*count)"
   ]
  },
  {
   "cell_type": "code",
   "execution_count": null,
   "metadata": {
    "colab": {
     "base_uri": "https://localhost:8080/"
    },
    "id": "FdbMgK67O7Kj",
    "outputId": "1cfa5a03-954f-44a6-888a-e926e89e7417"
   },
   "outputs": [
    {
     "name": "stdout",
     "output_type": "stream",
     "text": [
      "red\n",
      "green\n",
      "blue\n"
     ]
    }
   ],
   "source": [
    "# for 변수명 in iterable object:\n",
    "# 탐색 가능한 객체에서 값을 순차적으로 하나씩 꺼내서 변수에 저장함\n",
    "# 객체 내 요소 개수만큼 반복 (foreach)\n",
    "# 들여쓰기 1t\n",
    "\n",
    "colors = ['red', 'green', 'blue']\n",
    "\n",
    "for c in colors:\n",
    "    print(c)"
   ]
  },
  {
   "cell_type": "code",
   "execution_count": null,
   "metadata": {
    "colab": {
     "base_uri": "https://localhost:8080/"
    },
    "id": "g0O9t-ekO7Kj",
    "outputId": "3142f36b-a68f-45b2-b831-3cb2ec2a5ea8"
   },
   "outputs": [
    {
     "name": "stdout",
     "output_type": "stream",
     "text": [
      "1번 학생은 합격입니다\n",
      "2번 학생은 불합격입니다\n",
      "3번 학생은 합격입니다\n",
      "4번 학생은 불합격입니다\n",
      "5번 학생은 합격입니다\n"
     ]
    }
   ],
   "source": [
    "result = [90, 35, 68, 44, 81]\n",
    "\n",
    "n=0\n",
    "for r in result:\n",
    "    n+=1\n",
    "    if r >= 60:\n",
    "        print(\"%d번 학생은 합격입니다\" % n)\n",
    "    else:\n",
    "        print(\"%d번 학생은 불합격입니다\" % n)\n",
    "    "
   ]
  },
  {
   "cell_type": "markdown",
   "metadata": {
    "id": "SQtmvotTSjkP"
   },
   "source": [
    "#### Iterable and Iterator\n",
    " - iterable 순차적으로 하나씩 값을 탐색할 수 있는 객체\n",
    " - next() 함수로 순차적으로 값을 꺼내올 수 있는 객체"
   ]
  },
  {
   "cell_type": "code",
   "execution_count": null,
   "metadata": {
    "colab": {
     "base_uri": "https://localhost:8080/"
    },
    "id": "14rzFwplSyC4",
    "outputId": "e936dc63-6416-4df3-cc9b-8f335685c838"
   },
   "outputs": [
    {
     "name": "stdout",
     "output_type": "stream",
     "text": [
      "1\n",
      "2\n",
      "3\n",
      "4\n"
     ]
    }
   ],
   "source": [
    "# iterable\n",
    "a = [1,2,3,4]\n",
    "\n",
    "for i in a:\n",
    "  print(i)"
   ]
  },
  {
   "cell_type": "code",
   "execution_count": null,
   "metadata": {
    "colab": {
     "base_uri": "https://localhost:8080/",
     "height": 227
    },
    "id": "76SbD5-yTE6H",
    "outputId": "b1098480-1736-4b76-85d3-e86a581ed9a8"
   },
   "outputs": [
    {
     "name": "stdout",
     "output_type": "stream",
     "text": [
      "<class 'list'>\n"
     ]
    },
    {
     "ename": "TypeError",
     "evalue": "ignored",
     "output_type": "error",
     "traceback": [
      "\u001b[0;31m---------------------------------------------------------------------------\u001b[0m",
      "\u001b[0;31mTypeError\u001b[0m                                 Traceback (most recent call last)",
      "\u001b[0;32m<ipython-input-81-1eb6992657dd>\u001b[0m in \u001b[0;36m<module>\u001b[0;34m()\u001b[0m\n\u001b[1;32m      2\u001b[0m \u001b[0;31m# iter 함수로 iterable을 iterator로 변환 가능\u001b[0m\u001b[0;34m\u001b[0m\u001b[0;34m\u001b[0m\u001b[0;34m\u001b[0m\u001b[0m\n\u001b[1;32m      3\u001b[0m \u001b[0mprint\u001b[0m\u001b[0;34m(\u001b[0m\u001b[0mtype\u001b[0m\u001b[0;34m(\u001b[0m\u001b[0ma\u001b[0m\u001b[0;34m)\u001b[0m\u001b[0;34m)\u001b[0m\u001b[0;34m\u001b[0m\u001b[0;34m\u001b[0m\u001b[0m\n\u001b[0;32m----> 4\u001b[0;31m \u001b[0mnext\u001b[0m\u001b[0;34m(\u001b[0m\u001b[0ma\u001b[0m\u001b[0;34m)\u001b[0m\u001b[0;34m\u001b[0m\u001b[0;34m\u001b[0m\u001b[0m\n\u001b[0m",
      "\u001b[0;31mTypeError\u001b[0m: 'list' object is not an iterator"
     ]
    }
   ],
   "source": [
    "# iterator\n",
    "# iter 함수로 iterable을 iterator로 변환 가능\n",
    "print(type(a))\n",
    "next(a)"
   ]
  },
  {
   "cell_type": "code",
   "execution_count": null,
   "metadata": {
    "colab": {
     "base_uri": "https://localhost:8080/"
    },
    "id": "5__F9P2cTM9q",
    "outputId": "a64a0558-f3f2-4729-f184-c142b1b537d4"
   },
   "outputs": [
    {
     "name": "stdout",
     "output_type": "stream",
     "text": [
      "<list_iterator object at 0x7f084c382da0>\n",
      "1\n",
      "2\n",
      "3\n",
      "4\n"
     ]
    }
   ],
   "source": [
    "# iter 함수\n",
    "print(iter(a))\n",
    "myiter = iter(a)\n",
    "print(next(myiter))\n",
    "print(next(myiter))\n",
    "print(next(myiter))\n",
    "print(next(myiter))"
   ]
  },
  {
   "cell_type": "markdown",
   "metadata": {
    "id": "OXhWWZpyO7KA"
   },
   "source": [
    "## Range 함수"
   ]
  },
  {
   "cell_type": "code",
   "execution_count": null,
   "metadata": {
    "colab": {
     "base_uri": "https://localhost:8080/"
    },
    "id": "QEfUFCe1O7KB",
    "outputId": "f199aad3-ed33-4fe1-e943-b31a3f65caed",
    "scrolled": true
   },
   "outputs": [
    {
     "data": {
      "text/plain": [
       "range(0, 20)"
      ]
     },
     "execution_count": 116,
     "metadata": {
      "tags": []
     },
     "output_type": "execute_result"
    }
   ],
   "source": [
    "# 일정 범위의 숫자를 포함하고 있는 객체\n",
    "# 시작, 끝(미포함), 스텝으로 포함할 값을 정할 수 있음\n",
    "# range(시작, 끝, 스텝)\n",
    "# 시작 포함, 끝 미포함, 스텝은 기본 1\n",
    "# 스텝은 1이면 생략 가능\n",
    "# 스텝이 생략된 경우, 시작이 0이면 생략 가능\n",
    "r = range(0,20)\n",
    "r"
   ]
  },
  {
   "cell_type": "code",
   "execution_count": null,
   "metadata": {
    "colab": {
     "base_uri": "https://localhost:8080/"
    },
    "id": "eOK0mwAU4YP1",
    "outputId": "32be1e1f-4330-49af-cad8-5232dcc0efda"
   },
   "outputs": [
    {
     "data": {
      "text/plain": [
       "[0, 1, 2, 3, 4, 5, 6, 7, 8, 9, 10, 11, 12, 13, 14, 15, 16, 17, 18, 19]"
      ]
     },
     "execution_count": 117,
     "metadata": {
      "tags": []
     },
     "output_type": "execute_result"
    }
   ],
   "source": [
    "# 리스트로 변환하면 값을 볼 수 있음\n",
    "list(r)"
   ]
  },
  {
   "cell_type": "code",
   "execution_count": null,
   "metadata": {
    "colab": {
     "base_uri": "https://localhost:8080/"
    },
    "id": "jDDO9TZ_O7KC",
    "outputId": "6ae87231-b46c-4bb3-fd12-c42df2f48083"
   },
   "outputs": [
    {
     "name": "stdout",
     "output_type": "stream",
     "text": [
      "[2, 4, 6, 8, 10, 12, 14, 16, 18]\n"
     ]
    }
   ],
   "source": [
    "# 스텝을 조절하여 짝수 혹은 배수를 출력 할 수 있음\n",
    "r = range(2,20,2)\n",
    "print(list(r))"
   ]
  },
  {
   "cell_type": "code",
   "execution_count": null,
   "metadata": {
    "colab": {
     "base_uri": "https://localhost:8080/"
    },
    "id": "oYOU1q-h4oGf",
    "outputId": "a08a22a5-f105-4a2a-e47b-6aa6f0eb47af"
   },
   "outputs": [
    {
     "data": {
      "text/plain": [
       "(2, range(4, 8, 2))"
      ]
     },
     "execution_count": 120,
     "metadata": {
      "tags": []
     },
     "output_type": "execute_result"
    }
   ],
   "source": [
    "# range 객체의 인덱싱과 슬라이싱\n",
    "# 인덱싱 -> 값\n",
    "# 슬라이싱 -> range 객체\n",
    "r[0], r[1:3]"
   ]
  },
  {
   "cell_type": "code",
   "execution_count": null,
   "metadata": {
    "colab": {
     "base_uri": "https://localhost:8080/"
    },
    "id": "Ax5ay8shO7KC",
    "outputId": "fc303167-b412-4e89-f9c2-a887d21830b7"
   },
   "outputs": [
    {
     "data": {
      "text/plain": [
       "[4, 6]"
      ]
     },
     "execution_count": 123,
     "metadata": {
      "tags": []
     },
     "output_type": "execute_result"
    }
   ],
   "source": [
    "list(r[1:3])"
   ]
  },
  {
   "cell_type": "code",
   "execution_count": null,
   "metadata": {
    "colab": {
     "base_uri": "https://localhost:8080/"
    },
    "id": "tIQN1Hd05CV6",
    "outputId": "53a709df-cd4d-4a0d-d205-424c083d604f"
   },
   "outputs": [
    {
     "data": {
      "text/plain": [
       "[0, 1, 2, 3, 4, 5, 6, 7, 8, 9, 10, 11, 12, 13, 14, 15, 16, 17, 18, 19]"
      ]
     },
     "execution_count": 124,
     "metadata": {
      "tags": []
     },
     "output_type": "execute_result"
    }
   ],
   "source": [
    "list(range(20))"
   ]
  },
  {
   "cell_type": "code",
   "execution_count": null,
   "metadata": {
    "colab": {
     "base_uri": "https://localhost:8080/"
    },
    "id": "2plRt4Mu2heb",
    "outputId": "6624d0b0-fb0f-4ea3-d911-23780137b9f6"
   },
   "outputs": [
    {
     "data": {
      "text/plain": [
       "[1,\n",
       " 3,\n",
       " 5,\n",
       " 7,\n",
       " 9,\n",
       " 11,\n",
       " 13,\n",
       " 15,\n",
       " 17,\n",
       " 19,\n",
       " 21,\n",
       " 23,\n",
       " 25,\n",
       " 27,\n",
       " 29,\n",
       " 31,\n",
       " 33,\n",
       " 35,\n",
       " 37,\n",
       " 39,\n",
       " 41,\n",
       " 43,\n",
       " 45,\n",
       " 47,\n",
       " 49,\n",
       " 51,\n",
       " 53,\n",
       " 55,\n",
       " 57,\n",
       " 59,\n",
       " 61,\n",
       " 63,\n",
       " 65,\n",
       " 67,\n",
       " 69,\n",
       " 71,\n",
       " 73,\n",
       " 75,\n",
       " 77,\n",
       " 79,\n",
       " 81,\n",
       " 83,\n",
       " 85,\n",
       " 87,\n",
       " 89,\n",
       " 91,\n",
       " 93,\n",
       " 95,\n",
       " 97,\n",
       " 99]"
      ]
     },
     "execution_count": 79,
     "metadata": {
      "tags": []
     },
     "output_type": "execute_result"
    }
   ],
   "source": [
    "list(range(1,100,2))"
   ]
  },
  {
   "cell_type": "code",
   "execution_count": null,
   "metadata": {
    "colab": {
     "base_uri": "https://localhost:8080/"
    },
    "id": "pneC8Y_JOGsP",
    "outputId": "2bb9a06e-9166-4a22-aaf5-7709e66f37bc"
   },
   "outputs": [
    {
     "name": "stdout",
     "output_type": "stream",
     "text": [
      "2500\n"
     ]
    }
   ],
   "source": [
    "sum = 0\n",
    "for i in range(1,100,2):\n",
    "    sum = sum + i\n",
    "print(sum)"
   ]
  },
  {
   "cell_type": "code",
   "execution_count": null,
   "metadata": {
    "colab": {
     "base_uri": "https://localhost:8080/"
    },
    "id": "C-XnXORIX5Q0",
    "outputId": "3651833d-1c5b-449f-8f5b-6f626398a12f"
   },
   "outputs": [
    {
     "name": "stdout",
     "output_type": "stream",
     "text": [
      "1\t2\t3\t\n",
      "4\t5\t6\t\n",
      "7\t8\t9\t\n"
     ]
    }
   ],
   "source": [
    "# 이중 for문을 이용하여 2차원 자료 구조를 탐색\n",
    "matrix=[[1,2,3],[4,5,6],[7,8,9]]\n",
    "\n",
    "for i in matrix:\n",
    "  for j in i:\n",
    "    print(j, end='\\t')\n",
    "  print()"
   ]
  },
  {
   "cell_type": "code",
   "execution_count": null,
   "metadata": {
    "colab": {
     "base_uri": "https://localhost:8080/"
    },
    "id": "9dbwG9GSOfZa",
    "outputId": "b7396f69-3166-4fa5-987d-d644d68a9bb0"
   },
   "outputs": [
    {
     "name": "stdout",
     "output_type": "stream",
     "text": [
      " 2  4  6  8 10 12 14 16 18 \n",
      " 3  6  9 12 15 18 21 24 27 \n",
      " 4  8 12 16 20 24 28 32 36 \n",
      " 5 10 15 20 25 30 35 40 45 \n",
      " 6 12 18 24 30 36 42 48 54 \n",
      " 7 14 21 28 35 42 49 56 63 \n",
      " 8 16 24 32 40 48 56 64 72 \n",
      " 9 18 27 36 45 54 63 72 81 \n"
     ]
    }
   ],
   "source": [
    "for i in range(2,10):\n",
    "  for j in range(1,10):\n",
    "    print(f'{i*j:2d}', end=' ')\n",
    "  print()"
   ]
  },
  {
   "cell_type": "code",
   "execution_count": null,
   "metadata": {
    "colab": {
     "base_uri": "https://localhost:8080/"
    },
    "id": "iqM5EZlRX6QM",
    "outputId": "b896d6fb-104a-4269-a3c7-999d918f5daf"
   },
   "outputs": [
    {
     "name": "stdout",
     "output_type": "stream",
     "text": [
      "0\n",
      "1\n",
      "3\n",
      "4\n"
     ]
    }
   ],
   "source": [
    "# break: 반복문 종료\n",
    "# continue: 반복 종료\n",
    "# pass: 아무것도 안 함\n",
    "\n",
    "for i in range(20):\n",
    "  if i == 2: \n",
    "    continue\n",
    "  if i == 4:\n",
    "    pass\n",
    "  if i == 5:\n",
    "    break\n",
    "  print(i)"
   ]
  },
  {
   "cell_type": "markdown",
   "metadata": {
    "id": "pCDJyjxbO7I7"
   },
   "source": [
    "## Comprehensions\n",
    " - list, set, dictionary\n"
   ]
  },
  {
   "cell_type": "code",
   "execution_count": null,
   "metadata": {
    "colab": {
     "base_uri": "https://localhost:8080/"
    },
    "id": "lHCo93uuO6HS",
    "outputId": "3970beb8-307b-48e4-acc8-ab467ed3ec19"
   },
   "outputs": [
    {
     "data": {
      "text/plain": [
       "[0, 1, 4, 9, 16, 25, 36, 49, 64, 81]"
      ]
     },
     "execution_count": 534,
     "metadata": {
      "tags": []
     },
     "output_type": "execute_result"
    }
   ],
   "source": [
    "# list\n",
    "s = [x**2 for x in range(10)]\n",
    "s"
   ]
  },
  {
   "cell_type": "code",
   "execution_count": null,
   "metadata": {
    "colab": {
     "base_uri": "https://localhost:8080/"
    },
    "id": "-PRgH2QKPIgk",
    "outputId": "e0256012-ff75-443d-da90-9c2b3d937cff"
   },
   "outputs": [
    {
     "data": {
      "text/plain": [
       "[1, 2, 4, 8, 16, 32, 64, 128, 256, 512]"
      ]
     },
     "execution_count": 535,
     "metadata": {
      "tags": []
     },
     "output_type": "execute_result"
    }
   ],
   "source": [
    "[2**x for x in range(10)]"
   ]
  },
  {
   "cell_type": "code",
   "execution_count": null,
   "metadata": {
    "colab": {
     "base_uri": "https://localhost:8080/"
    },
    "id": "mJLheBl0PKvJ",
    "outputId": "1217b56b-3f87-45e1-b8de-623c40a18d96"
   },
   "outputs": [
    {
     "data": {
      "text/plain": [
       "[0, 4, 16, 36, 64]"
      ]
     },
     "execution_count": 536,
     "metadata": {
      "tags": []
     },
     "output_type": "execute_result"
    }
   ],
   "source": [
    "[x for x in s if x%2==0]"
   ]
  },
  {
   "cell_type": "code",
   "execution_count": null,
   "metadata": {
    "colab": {
     "base_uri": "https://localhost:8080/"
    },
    "id": "hdWEbou9PX0a",
    "outputId": "f4de8109-e664-4c89-ab37-a4a702973f1f"
   },
   "outputs": [
    {
     "data": {
      "text/plain": [
       "{0, 1, 4, 9, 16, 25, 36, 49, 64, 81}"
      ]
     },
     "execution_count": 537,
     "metadata": {
      "tags": []
     },
     "output_type": "execute_result"
    }
   ],
   "source": [
    "# set\n",
    "{x**2 for x in range(10)}"
   ]
  },
  {
   "cell_type": "code",
   "execution_count": null,
   "metadata": {
    "colab": {
     "base_uri": "https://localhost:8080/"
    },
    "id": "klGDV59lPdlx",
    "outputId": "ffe62998-cec1-4c93-ccc9-59f5f709e834"
   },
   "outputs": [
    {
     "data": {
      "text/plain": [
       "{'0': 0,\n",
       " '1': 1,\n",
       " '2': 4,\n",
       " '3': 9,\n",
       " '4': 16,\n",
       " '5': 25,\n",
       " '6': 36,\n",
       " '7': 49,\n",
       " '8': 64,\n",
       " '9': 81}"
      ]
     },
     "execution_count": 540,
     "metadata": {
      "tags": []
     },
     "output_type": "execute_result"
    }
   ],
   "source": [
    "# dict\n",
    "{str(x):x**2 for x in range(10)}"
   ]
  },
  {
   "cell_type": "markdown",
   "metadata": {
    "id": "D5m_QcNIPQ3C"
   },
   "source": [
    "## 함수\n",
    "    - 함수 정의\n",
    "    - 매개 변수\n",
    "        - 위치\n",
    "        - 기본\n",
    "        - 키워드\n",
    "        - 가변\n",
    "    - 재귀 함수\n",
    "    - 람다 함수  "
   ]
  },
  {
   "cell_type": "code",
   "execution_count": null,
   "metadata": {
    "colab": {
     "base_uri": "https://localhost:8080/"
    },
    "id": "cxw9Bex9ZXUR",
    "outputId": "c62d43cb-87d7-4a8d-ae5a-d7a2c3749df4"
   },
   "outputs": [
    {
     "data": {
      "text/plain": [
       "30"
      ]
     },
     "execution_count": 90,
     "metadata": {
      "tags": []
     },
     "output_type": "execute_result"
    }
   ],
   "source": [
    "# 함수는 def 함수명 (매개변수) :로 정의\n",
    "# 매개변수 생략\n",
    "def func():\n",
    "    return 10+20\n",
    "a = func()\n",
    "a"
   ]
  },
  {
   "cell_type": "code",
   "execution_count": null,
   "metadata": {
    "colab": {
     "base_uri": "https://localhost:8080/"
    },
    "id": "sKECt8PGZlte",
    "outputId": "bea1f057-eceb-49c8-a35c-7036329ecc7c"
   },
   "outputs": [
    {
     "name": "stdout",
     "output_type": "stream",
     "text": [
      "3\n"
     ]
    }
   ],
   "source": [
    "# return 없음\n",
    "def func1(a, b):\n",
    "    print(a + b)\n",
    "func1(1,2)"
   ]
  },
  {
   "cell_type": "code",
   "execution_count": null,
   "metadata": {
    "colab": {
     "base_uri": "https://localhost:8080/"
    },
    "id": "mCyUs4eVAvTX",
    "outputId": "9921ac86-048d-4ae9-fd8f-d1da04078137"
   },
   "outputs": [
    {
     "name": "stdout",
     "output_type": "stream",
     "text": [
      "함수입니다.\n"
     ]
    }
   ],
   "source": [
    "# 둘 다 생략\n",
    "def func1():\n",
    "  print('함수입니다.')\n",
    "func1()"
   ]
  },
  {
   "cell_type": "code",
   "execution_count": null,
   "metadata": {
    "colab": {
     "base_uri": "https://localhost:8080/"
    },
    "id": "DsGTt6avZmoU",
    "outputId": "48eb313e-6e78-495d-d27e-8a6f715f65ea"
   },
   "outputs": [
    {
     "data": {
      "text/plain": [
       "3"
      ]
     },
     "execution_count": 89,
     "metadata": {
      "tags": []
     },
     "output_type": "execute_result"
    }
   ],
   "source": [
    "## 반환 값이 있을 경우 return 키워드에 값 혹은 표현식 작성\n",
    "# return이 없거나 표현식이 없는 경우 None 반환\n",
    "# 함수 선언\n",
    "def func2(a, b):\n",
    "    return a+b\n",
    "\n",
    "\n",
    "# 함수 호출\n",
    "a = func2(1,2)\n",
    "a"
   ]
  },
  {
   "cell_type": "code",
   "execution_count": null,
   "metadata": {
    "colab": {
     "base_uri": "https://localhost:8080/"
    },
    "id": "Hm8-GFiCCh8f",
    "outputId": "97160b40-3d3a-409b-90af-a49b53e41bb5"
   },
   "outputs": [
    {
     "name": "stdout",
     "output_type": "stream",
     "text": [
      "None\n"
     ]
    }
   ],
   "source": [
    "# return 없음\n",
    "def func3(a, b):\n",
    "    c = a+b\n",
    "\n",
    "print(func3(1,2))"
   ]
  },
  {
   "cell_type": "code",
   "execution_count": null,
   "metadata": {
    "colab": {
     "base_uri": "https://localhost:8080/"
    },
    "id": "MhvstLEzBEqL",
    "outputId": "5e2aa28d-7bb9-451c-b5ce-63dbfe328c46"
   },
   "outputs": [
    {
     "name": "stdout",
     "output_type": "stream",
     "text": [
      "None\n"
     ]
    }
   ],
   "source": [
    "# return만 사용\n",
    "def func3(a, b):\n",
    "    c = a+b\n",
    "    return\n",
    "\n",
    "print(func3(1,2))"
   ]
  },
  {
   "cell_type": "code",
   "execution_count": null,
   "metadata": {
    "colab": {
     "base_uri": "https://localhost:8080/"
    },
    "id": "toWTwlrQZnsV",
    "outputId": "ccc8789e-e705-4b46-915d-a9ef4e4c4123"
   },
   "outputs": [
    {
     "name": "stdout",
     "output_type": "stream",
     "text": [
      "3\n"
     ]
    },
    {
     "data": {
      "text/plain": [
       "(None, 3)"
      ]
     },
     "execution_count": 17,
     "metadata": {
      "tags": []
     },
     "output_type": "execute_result"
    }
   ],
   "source": [
    "f1 = func1(1,2)\n",
    "f2 = func2(1,2)\n",
    "f1, f2"
   ]
  },
  {
   "cell_type": "code",
   "execution_count": null,
   "metadata": {
    "colab": {
     "base_uri": "https://localhost:8080/"
    },
    "id": "3BVgNzpBPQ3E",
    "outputId": "6a04883c-edbe-4d53-cef5-8e36345bfc54"
   },
   "outputs": [
    {
     "name": "stdout",
     "output_type": "stream",
     "text": [
      "(30, 50, 40)\n"
     ]
    }
   ],
   "source": [
    "# 두 개 이상의 값을 반환할 수 있음 (tuple)\n",
    "def myadd(a,b,c):\n",
    "    return a+b, b+c, a+c\n",
    "\n",
    "a = myadd(10,20,30)\n",
    "print(a)"
   ]
  },
  {
   "cell_type": "markdown",
   "metadata": {
    "id": "cP-UBRl_PQ3V"
   },
   "source": [
    "##### 위치 매개변수"
   ]
  },
  {
   "cell_type": "code",
   "execution_count": null,
   "metadata": {
    "id": "JUap8K-jPQ3W"
   },
   "outputs": [],
   "source": [
    "# 위치에 맞춰서 값을 전달\n",
    "def myAdd(num1, num2):\n",
    "    return num1 + num2"
   ]
  },
  {
   "cell_type": "code",
   "execution_count": null,
   "metadata": {
    "colab": {
     "base_uri": "https://localhost:8080/"
    },
    "id": "f777PoLlPQ3X",
    "outputId": "a1dbc965-7fbf-4ce5-8c1a-18d1024fe2b6"
   },
   "outputs": [
    {
     "data": {
      "text/plain": [
       "7"
      ]
     },
     "execution_count": 9,
     "metadata": {
      "tags": []
     },
     "output_type": "execute_result"
    }
   ],
   "source": [
    "myAdd(3,4)"
   ]
  },
  {
   "cell_type": "markdown",
   "metadata": {
    "id": "uMNSFflLPQ3Y"
   },
   "source": [
    "##### 기본(디폴트) 매개변수"
   ]
  },
  {
   "cell_type": "code",
   "execution_count": null,
   "metadata": {
    "id": "fJweRDG1PQ3Y"
   },
   "outputs": [],
   "source": [
    "# 기본 값이 있는 매개 변수 (생략 가능)\n",
    "# 기본 매개 변수는 위치 매개 변수 앞에 올 수 없음\n",
    "def mysum(end, start=0):\n",
    "    sum = 0\n",
    "    for i in range(start, end+1):\n",
    "        sum += i\n",
    "    return sum"
   ]
  },
  {
   "cell_type": "code",
   "execution_count": null,
   "metadata": {
    "id": "1hhyMyh-PQ3Z",
    "outputId": "5acbb1a9-9ee9-49df-a392-2a0d1dcf0b54"
   },
   "outputs": [
    {
     "data": {
      "text/plain": [
       "55"
      ]
     },
     "execution_count": 114,
     "metadata": {
      "tags": []
     },
     "output_type": "execute_result"
    }
   ],
   "source": [
    "mysum(10)"
   ]
  },
  {
   "cell_type": "code",
   "execution_count": null,
   "metadata": {
    "id": "GHNNO3bIPQ3a",
    "outputId": "7e9a9dcc-f945-4556-bb98-13f95bcc394d"
   },
   "outputs": [
    {
     "data": {
      "text/plain": [
       "45"
      ]
     },
     "execution_count": 115,
     "metadata": {
      "tags": []
     },
     "output_type": "execute_result"
    }
   ],
   "source": [
    "mysum(10,5)"
   ]
  },
  {
   "cell_type": "code",
   "execution_count": null,
   "metadata": {
    "id": "gTeQNOXYPQ3c",
    "outputId": "ce2075f8-7252-409e-86b5-0cbcc26aabc6"
   },
   "outputs": [
    {
     "data": {
      "text/plain": [
       "10"
      ]
     },
     "execution_count": 116,
     "metadata": {
      "tags": []
     },
     "output_type": "execute_result"
    }
   ],
   "source": [
    "mysum(10,start=10)"
   ]
  },
  {
   "cell_type": "code",
   "execution_count": null,
   "metadata": {
    "id": "kygzjlGvPQ3d",
    "outputId": "5120d042-42a7-4323-81ee-40c15eeb7333"
   },
   "outputs": [
    {
     "ename": "SyntaxError",
     "evalue": "non-default argument follows default argument (<ipython-input-117-dac84a504cdd>, line 1)",
     "output_type": "error",
     "traceback": [
      "\u001b[1;36m  File \u001b[1;32m\"<ipython-input-117-dac84a504cdd>\"\u001b[1;36m, line \u001b[1;32m1\u001b[0m\n\u001b[1;33m    def mysum(start=0, end):\u001b[0m\n\u001b[1;37m              ^\u001b[0m\n\u001b[1;31mSyntaxError\u001b[0m\u001b[1;31m:\u001b[0m non-default argument follows default argument\n"
     ]
    }
   ],
   "source": [
    "# 기본 매개 변수는 위치 매개 변수 앞에 올 수 없음\n",
    "def mysum(start=0, end):\n",
    "    sum = 0\n",
    "    for i in range(start, end+1):\n",
    "        sum += i\n",
    "    return sum"
   ]
  },
  {
   "cell_type": "markdown",
   "metadata": {
    "id": "XSvIR_ukPQ3e"
   },
   "source": [
    "##### 키워드 매개변수"
   ]
  },
  {
   "cell_type": "code",
   "execution_count": null,
   "metadata": {
    "id": "3jHJdIyZPQ3e"
   },
   "outputs": [],
   "source": [
    "# 매개 변수의 이름을 알고 있을 경우 값을 직접 전달 할 수 있음\n",
    "# 매개 변수명 = 값\n",
    "# 순서에 상관 없음\n",
    "def printinfo(name, age):\n",
    "    print('name :',name,', age :',age)"
   ]
  },
  {
   "cell_type": "code",
   "execution_count": null,
   "metadata": {
    "id": "ZYpuY6ttPQ3f",
    "outputId": "49000a7f-c459-484f-a68c-4c534a6d7b57"
   },
   "outputs": [
    {
     "name": "stdout",
     "output_type": "stream",
     "text": [
      "name : KIM , age : 20\n"
     ]
    }
   ],
   "source": [
    "# 호출 시 매개변수 이름을 직접 지정하여 값을 전달\n",
    "printinfo(name='KIM', age=20)"
   ]
  },
  {
   "cell_type": "code",
   "execution_count": null,
   "metadata": {
    "id": "-BTaX5XePQ3g",
    "outputId": "5f33d930-6d2d-4bfc-bd7e-96a861d83f56"
   },
   "outputs": [
    {
     "name": "stdout",
     "output_type": "stream",
     "text": [
      "name : KIM , age : 30\n"
     ]
    }
   ],
   "source": [
    "printinfo(age=30, name='KIM')"
   ]
  },
  {
   "cell_type": "code",
   "execution_count": null,
   "metadata": {
    "id": "55fnZKW8PQ3h",
    "outputId": "63550bd1-ec83-4f9e-8393-9e9a811d222e"
   },
   "outputs": [
    {
     "name": "stdout",
     "output_type": "stream",
     "text": [
      "name : 김 , age : 20 , gender : 남성\n"
     ]
    }
   ],
   "source": [
    "def printinfo(name, age, gender):\n",
    "    print('name :',name,', age :',age,', gender :',gender)\n",
    "        \n",
    "printinfo('김', 20, gender='남성')"
   ]
  },
  {
   "cell_type": "code",
   "execution_count": null,
   "metadata": {
    "id": "XClvHiDyPQ3i",
    "outputId": "862eb885-a764-4f3e-e6d7-8f51eff233fd"
   },
   "outputs": [
    {
     "ename": "SyntaxError",
     "evalue": "positional argument follows keyword argument (<ipython-input-119-5b0ef9612504>, line 1)",
     "output_type": "error",
     "traceback": [
      "\u001b[1;36m  File \u001b[1;32m\"<ipython-input-119-5b0ef9612504>\"\u001b[1;36m, line \u001b[1;32m1\u001b[0m\n\u001b[1;33m    printinfo('김', gender='남성', 20)\u001b[0m\n\u001b[1;37m                                   \n^\u001b[0m\n\u001b[1;31mSyntaxError\u001b[0m\u001b[1;31m:\u001b[0m positional argument follows keyword argument\n"
     ]
    }
   ],
   "source": [
    "# 호출 시 위치 매개 변수 사이에 기본 매개 변수를 사용하면 안 됨\n",
    "printinfo('김', gender='남성', 20)"
   ]
  },
  {
   "cell_type": "markdown",
   "metadata": {
    "id": "ACBMFEdDPQ3j"
   },
   "source": [
    "##### 가변 매개변수"
   ]
  },
  {
   "cell_type": "code",
   "execution_count": null,
   "metadata": {
    "id": "8IIoQWJsPQ3j"
   },
   "outputs": [],
   "source": [
    "# 여러 개의 매개 변수를 tuple의 형태로 받음\n",
    "# 전달 시가 아닌 함수에서 받는 시점에서 tuple로 묶임 (Packing)\n",
    "def add(*args):\n",
    "    print(args)"
   ]
  },
  {
   "cell_type": "code",
   "execution_count": null,
   "metadata": {
    "colab": {
     "base_uri": "https://localhost:8080/"
    },
    "id": "EyrBsrcVDpjp",
    "outputId": "48978ff1-bca3-46da-a168-6a17cea1e675"
   },
   "outputs": [
    {
     "name": "stdout",
     "output_type": "stream",
     "text": [
      "(1, 2, 3)\n"
     ]
    }
   ],
   "source": [
    "add(1,2,3)"
   ]
  },
  {
   "cell_type": "code",
   "execution_count": null,
   "metadata": {
    "colab": {
     "base_uri": "https://localhost:8080/"
    },
    "id": "xXPV5cU1EGMx",
    "outputId": "249124f2-159e-49d2-c8ba-87bfda718b0b"
   },
   "outputs": [
    {
     "name": "stdout",
     "output_type": "stream",
     "text": [
      "(1, 2, 3)\n"
     ]
    }
   ],
   "source": [
    "add(*(1,2,3))"
   ]
  },
  {
   "cell_type": "code",
   "execution_count": null,
   "metadata": {
    "id": "D446HHPTD7jg"
   },
   "outputs": [],
   "source": [
    "def add2(args):\n",
    "    print(args)"
   ]
  },
  {
   "cell_type": "code",
   "execution_count": null,
   "metadata": {
    "colab": {
     "base_uri": "https://localhost:8080/"
    },
    "id": "fZl-stuRPQ3k",
    "outputId": "9ed85d97-73c5-4431-f96d-54e5b3910310"
   },
   "outputs": [
    {
     "name": "stdout",
     "output_type": "stream",
     "text": [
      "(1, 2, 3)\n"
     ]
    }
   ],
   "source": [
    "add2((1,2,3))"
   ]
  },
  {
   "cell_type": "code",
   "execution_count": null,
   "metadata": {
    "id": "rTF1POJDPQ3l",
    "outputId": "5e11cd4b-d018-4f84-a5bf-110e1b44822b"
   },
   "outputs": [
    {
     "name": "stdout",
     "output_type": "stream",
     "text": [
      "(1, 2, 3, 4, 5, 6, 7)\n"
     ]
    }
   ],
   "source": [
    "add(1,2,3,4,5,6,7)"
   ]
  },
  {
   "cell_type": "code",
   "execution_count": null,
   "metadata": {
    "id": "H6nC6yTIPQ3m",
    "outputId": "57af22f0-3d66-4953-c023-e67fc2e70a7f"
   },
   "outputs": [
    {
     "name": "stdout",
     "output_type": "stream",
     "text": [
      "(1, 2, 3)\n"
     ]
    }
   ],
   "source": [
    "v = [1,2,3]\n",
    "add(*v)"
   ]
  },
  {
   "cell_type": "code",
   "execution_count": null,
   "metadata": {
    "id": "F9jQa01KPQ3n",
    "outputId": "072acf3c-b133-4ad1-f013-f4b9eb4c18b3"
   },
   "outputs": [
    {
     "name": "stdout",
     "output_type": "stream",
     "text": [
      "([1, 2, 3],)\n"
     ]
    }
   ],
   "source": [
    "add(v)"
   ]
  },
  {
   "cell_type": "code",
   "execution_count": null,
   "metadata": {
    "colab": {
     "base_uri": "https://localhost:8080/"
    },
    "id": "347QL1o1PQ3o",
    "outputId": "663656b7-610d-4c7e-a480-a6928ed1f476"
   },
   "outputs": [
    {
     "name": "stdout",
     "output_type": "stream",
     "text": [
      "1\n",
      "(2, 3)\n"
     ]
    }
   ],
   "source": [
    "def print2(a, *args):\n",
    "    print(a)\n",
    "    print(args)\n",
    "\n",
    "print2(1,2,3)"
   ]
  },
  {
   "cell_type": "code",
   "execution_count": null,
   "metadata": {
    "colab": {
     "base_uri": "https://localhost:8080/",
     "height": 208
    },
    "id": "6t7rHNVbPQ3p",
    "outputId": "a2249b16-0a42-4688-f736-ee887efe322d"
   },
   "outputs": [
    {
     "ename": "TypeError",
     "evalue": "ignored",
     "output_type": "error",
     "traceback": [
      "\u001b[0;31m---------------------------------------------------------------------------\u001b[0m",
      "\u001b[0;31mTypeError\u001b[0m                                 Traceback (most recent call last)",
      "\u001b[0;32m<ipython-input-23-3e603934acd5>\u001b[0m in \u001b[0;36m<module>\u001b[0;34m()\u001b[0m\n\u001b[1;32m      4\u001b[0m     \u001b[0mprint\u001b[0m\u001b[0;34m(\u001b[0m\u001b[0margs\u001b[0m\u001b[0;34m)\u001b[0m\u001b[0;34m\u001b[0m\u001b[0;34m\u001b[0m\u001b[0m\n\u001b[1;32m      5\u001b[0m \u001b[0;34m\u001b[0m\u001b[0m\n\u001b[0;32m----> 6\u001b[0;31m \u001b[0mprint2\u001b[0m\u001b[0;34m(\u001b[0m\u001b[0;36m1\u001b[0m\u001b[0;34m,\u001b[0m\u001b[0;36m2\u001b[0m\u001b[0;34m,\u001b[0m\u001b[0;36m3\u001b[0m\u001b[0;34m)\u001b[0m\u001b[0;34m\u001b[0m\u001b[0;34m\u001b[0m\u001b[0m\n\u001b[0m",
      "\u001b[0;31mTypeError\u001b[0m: print2() missing 1 required keyword-only argument: 'a'"
     ]
    }
   ],
   "source": [
    "# 가변 매개 변수가 위치 매개 변수 앞에 선언되면 호출 시 오류 발생 가능\n",
    "def print2(*args, a):\n",
    "    print(a)\n",
    "    print(args)\n",
    "\n",
    "print2(1,2,3)"
   ]
  },
  {
   "cell_type": "code",
   "execution_count": null,
   "metadata": {
    "id": "a0jYfZwxPQ3r",
    "outputId": "bd645634-23fe-4be8-ea3d-7e24ac686329"
   },
   "outputs": [
    {
     "name": "stdout",
     "output_type": "stream",
     "text": [
      "10\n",
      "(1, 2, 3)\n"
     ]
    }
   ],
   "source": [
    "def print2(*args, a):\n",
    "    print(a)\n",
    "    print(args)\n",
    "\n",
    "print2(1,2,3, a=10)"
   ]
  },
  {
   "cell_type": "code",
   "execution_count": null,
   "metadata": {
    "colab": {
     "base_uri": "https://localhost:8080/"
    },
    "id": "RpgconY5EeNt",
    "outputId": "5a85abc4-4c1e-4c09-c617-f3114afdf7de"
   },
   "outputs": [
    {
     "name": "stdout",
     "output_type": "stream",
     "text": [
      "1\n",
      "(2, 3)\n"
     ]
    }
   ],
   "source": [
    "def print2(a, *args):\n",
    "    print(a)\n",
    "    print(args)\n",
    "\n",
    "print2(1,2,3)"
   ]
  },
  {
   "cell_type": "code",
   "execution_count": null,
   "metadata": {
    "colab": {
     "base_uri": "https://localhost:8080/"
    },
    "id": "m8NYb2G_x-rS",
    "outputId": "8b6e2894-1268-4c0c-e191-16f32eab795b"
   },
   "outputs": [
    {
     "data": {
      "text/plain": [
       "(1, 2, 3, 4)"
      ]
     },
     "execution_count": 1,
     "metadata": {
      "tags": []
     },
     "output_type": "execute_result"
    }
   ],
   "source": [
    "a = (1,2,3,4)\n",
    "a"
   ]
  },
  {
   "cell_type": "code",
   "execution_count": null,
   "metadata": {
    "colab": {
     "base_uri": "https://localhost:8080/"
    },
    "id": "YusEMB1ZyC6S",
    "outputId": "37aa1f5b-40e0-4381-e84a-8f8bb4f9b645"
   },
   "outputs": [
    {
     "name": "stdout",
     "output_type": "stream",
     "text": [
      "1\n",
      "2\n",
      "3\n",
      "4\n"
     ]
    }
   ],
   "source": [
    "a,b,c,d = (1,2,3,4)\n",
    "print(a)\n",
    "print(b)\n",
    "print(c)\n",
    "print(d)"
   ]
  },
  {
   "cell_type": "code",
   "execution_count": null,
   "metadata": {
    "id": "8dlA6CUsySx3"
   },
   "outputs": [],
   "source": [
    "def mysum(a,b):\n",
    "  return a+b, a-b, a*b, a/b\n",
    "\n",
    "a,b,c,d = mysum(20,10)\n",
    "print(a,b,c,d)"
   ]
  },
  {
   "cell_type": "code",
   "execution_count": null,
   "metadata": {
    "colab": {
     "base_uri": "https://localhost:8080/"
    },
    "id": "bpKA3pQFEmTx",
    "outputId": "1bad1e7c-7e36-45c2-c635-da0c9bbe49f6"
   },
   "outputs": [
    {
     "name": "stdout",
     "output_type": "stream",
     "text": [
      "30 [10, 200, 2.0]\n"
     ]
    }
   ],
   "source": [
    "def mysum(a,b):\n",
    "  return a+b, a-b, a*b, a/b\n",
    "\n",
    "a,*b = mysum(20,10)\n",
    "print(a,b)"
   ]
  },
  {
   "cell_type": "code",
   "execution_count": null,
   "metadata": {
    "id": "f8_j4L2PPQ3s",
    "outputId": "b2444653-6968-4210-95bf-0e170066c947"
   },
   "outputs": [
    {
     "data": {
      "text/plain": [
       "(3, 1)"
      ]
     },
     "execution_count": 134,
     "metadata": {
      "tags": []
     },
     "output_type": "execute_result"
    }
   ],
   "source": [
    "# Unpacking\n",
    "def myDivmod(a, b):\n",
    "    quotient = a//b\n",
    "    remainder = a%b\n",
    "    return quotient, remainder\n",
    "\n",
    "q, r = myDivmod(10, 3)\n",
    "q, r"
   ]
  },
  {
   "cell_type": "code",
   "execution_count": null,
   "metadata": {
    "id": "nMYUT5ZvPQ3t",
    "outputId": "a14ee733-1266-455f-b814-8d00e36cdcdf"
   },
   "outputs": [
    {
     "data": {
      "text/plain": [
       "(3, 1)"
      ]
     },
     "execution_count": 135,
     "metadata": {
      "tags": []
     },
     "output_type": "execute_result"
    }
   ],
   "source": [
    "a = myDivmod(10, 3)\n",
    "a"
   ]
  },
  {
   "cell_type": "code",
   "execution_count": null,
   "metadata": {
    "id": "o84aj8bNPQ3u"
   },
   "outputs": [],
   "source": [
    "# 가변 매개변수 2, 사전의 형태로 전달\n",
    "def printinfo(**args):\n",
    "    print(args)"
   ]
  },
  {
   "cell_type": "code",
   "execution_count": null,
   "metadata": {
    "id": "Q65DAudzPQ3v",
    "outputId": "c1f77db2-5f5d-4adc-97ca-fe8b86d2d552"
   },
   "outputs": [
    {
     "name": "stdout",
     "output_type": "stream",
     "text": [
      "{'a': 1, 'b': 2}\n"
     ]
    }
   ],
   "source": [
    "printinfo(a=1, b=2)"
   ]
  },
  {
   "cell_type": "code",
   "execution_count": null,
   "metadata": {
    "id": "wqfbsVVcPQ3w",
    "outputId": "31ea79e9-8755-4ffe-e9d6-11b6dd4070d0"
   },
   "outputs": [
    {
     "name": "stdout",
     "output_type": "stream",
     "text": [
      "{'aa': 3, 'bb': 4}\n"
     ]
    }
   ],
   "source": [
    "dic = {'aa':3,'bb':4}\n",
    "printinfo(**dic)"
   ]
  },
  {
   "cell_type": "code",
   "execution_count": null,
   "metadata": {
    "colab": {
     "base_uri": "https://localhost:8080/"
    },
    "id": "W9328he3PQ3y",
    "outputId": "cab29cd7-42ed-48d6-8687-7952003c5e6d"
   },
   "outputs": [
    {
     "name": "stdout",
     "output_type": "stream",
     "text": [
      "1\n",
      "2\n",
      "3\n"
     ]
    }
   ],
   "source": [
    "# packing, unpacking\n",
    "a,b,c = (1,2,3)\n",
    "print(a)\n",
    "print(b)\n",
    "print(c)"
   ]
  },
  {
   "cell_type": "code",
   "execution_count": null,
   "metadata": {
    "colab": {
     "base_uri": "https://localhost:8080/"
    },
    "id": "xzSAyI0DQExS",
    "outputId": "418f07e9-65c5-4b8e-fecb-9b8b7e1641ca"
   },
   "outputs": [
    {
     "name": "stdout",
     "output_type": "stream",
     "text": [
      "1\n",
      "2\n",
      "3\n"
     ]
    }
   ],
   "source": [
    "# unpack\n",
    "a,b,c = [1,2,3]\n",
    "print(a)\n",
    "print(b)\n",
    "print(c)"
   ]
  },
  {
   "cell_type": "code",
   "execution_count": null,
   "metadata": {
    "colab": {
     "base_uri": "https://localhost:8080/"
    },
    "id": "C4uAErhmQHcy",
    "outputId": "1c62eda4-7734-414f-c6c7-181094ec24aa"
   },
   "outputs": [
    {
     "name": "stdout",
     "output_type": "stream",
     "text": [
      "1\n",
      "[2, 3]\n"
     ]
    }
   ],
   "source": [
    "# pack\n",
    "a,*b = 1,2,3\n",
    "print(a)\n",
    "print(b)"
   ]
  },
  {
   "cell_type": "markdown",
   "metadata": {
    "id": "iODruAsvbX04"
   },
   "source": [
    "#### 함수 내 변수 사용 범위"
   ]
  },
  {
   "cell_type": "code",
   "execution_count": null,
   "metadata": {
    "colab": {
     "base_uri": "https://localhost:8080/"
    },
    "id": "mGbn-uFbPQ30",
    "outputId": "10ff8937-5bfc-4a77-d82a-50c4d1cf6ed7"
   },
   "outputs": [
    {
     "name": "stdout",
     "output_type": "stream",
     "text": [
      "10\n"
     ]
    }
   ],
   "source": [
    "# 기본적으로 전역 변수는 함수 내에서 조회만 가능\n",
    "tmp = 10 # 전역 변수\n",
    "\n",
    "def myFunc():\n",
    "    print(tmp)\n",
    "myFunc()"
   ]
  },
  {
   "cell_type": "code",
   "execution_count": null,
   "metadata": {
    "colab": {
     "base_uri": "https://localhost:8080/",
     "height": 327
    },
    "id": "xPPIZ_I40Jxd",
    "outputId": "d1a47995-fbe4-44a3-8cef-7c000eb2da1e"
   },
   "outputs": [
    {
     "ename": "UnboundLocalError",
     "evalue": "ignored",
     "output_type": "error",
     "traceback": [
      "\u001b[0;31m---------------------------------------------------------------------------\u001b[0m",
      "\u001b[0;31mUnboundLocalError\u001b[0m                         Traceback (most recent call last)",
      "\u001b[0;32m<ipython-input-4-b24a479b3041>\u001b[0m in \u001b[0;36m<module>\u001b[0;34m()\u001b[0m\n\u001b[1;32m      5\u001b[0m   \u001b[0mtmp\u001b[0m\u001b[0;34m+=\u001b[0m\u001b[0;36m10\u001b[0m\u001b[0;34m\u001b[0m\u001b[0;34m\u001b[0m\u001b[0m\n\u001b[1;32m      6\u001b[0m   \u001b[0mprint\u001b[0m\u001b[0;34m(\u001b[0m\u001b[0mtmp\u001b[0m\u001b[0;34m)\u001b[0m\u001b[0;34m\u001b[0m\u001b[0;34m\u001b[0m\u001b[0m\n\u001b[0;32m----> 7\u001b[0;31m \u001b[0mmyFunc\u001b[0m\u001b[0;34m(\u001b[0m\u001b[0;34m)\u001b[0m\u001b[0;34m\u001b[0m\u001b[0;34m\u001b[0m\u001b[0m\n\u001b[0m",
      "\u001b[0;32m<ipython-input-4-b24a479b3041>\u001b[0m in \u001b[0;36mmyFunc\u001b[0;34m()\u001b[0m\n\u001b[1;32m      3\u001b[0m \u001b[0;34m\u001b[0m\u001b[0m\n\u001b[1;32m      4\u001b[0m \u001b[0;32mdef\u001b[0m \u001b[0mmyFunc\u001b[0m\u001b[0;34m(\u001b[0m\u001b[0;34m)\u001b[0m\u001b[0;34m:\u001b[0m\u001b[0;34m\u001b[0m\u001b[0;34m\u001b[0m\u001b[0m\n\u001b[0;32m----> 5\u001b[0;31m   \u001b[0mtmp\u001b[0m\u001b[0;34m+=\u001b[0m\u001b[0;36m10\u001b[0m\u001b[0;34m\u001b[0m\u001b[0;34m\u001b[0m\u001b[0m\n\u001b[0m\u001b[1;32m      6\u001b[0m   \u001b[0mprint\u001b[0m\u001b[0;34m(\u001b[0m\u001b[0mtmp\u001b[0m\u001b[0;34m)\u001b[0m\u001b[0;34m\u001b[0m\u001b[0;34m\u001b[0m\u001b[0m\n\u001b[1;32m      7\u001b[0m \u001b[0mmyFunc\u001b[0m\u001b[0;34m(\u001b[0m\u001b[0;34m)\u001b[0m\u001b[0;34m\u001b[0m\u001b[0;34m\u001b[0m\u001b[0m\n",
      "\u001b[0;31mUnboundLocalError\u001b[0m: local variable 'tmp' referenced before assignment"
     ]
    }
   ],
   "source": [
    "# 수정은 오류\n",
    "tmp = 10 # 전역 변수\n",
    "\n",
    "def myFunc():\n",
    "  tmp+=10\n",
    "  print(tmp)\n",
    "myFunc()"
   ]
  },
  {
   "cell_type": "code",
   "execution_count": null,
   "metadata": {
    "colab": {
     "base_uri": "https://localhost:8080/"
    },
    "id": "rkYxtHLEPQ31",
    "outputId": "b47821ab-91a5-4df6-d27c-597f9a66f10a"
   },
   "outputs": [
    {
     "name": "stdout",
     "output_type": "stream",
     "text": [
      "20\n",
      "10\n"
     ]
    }
   ],
   "source": [
    "# 함수 내 같은 이름으로 정의하는 경우 개별 변수로 취급\n",
    "tmp = 10\n",
    "\n",
    "def myFunc():\n",
    "    tmp=0\n",
    "    tmp = tmp+20\n",
    "    print(tmp)\n",
    "myFunc()\n",
    "print(tmp)"
   ]
  },
  {
   "cell_type": "code",
   "execution_count": null,
   "metadata": {
    "colab": {
     "base_uri": "https://localhost:8080/"
    },
    "id": "hNStCGCePQ31",
    "outputId": "5bcc95d8-546e-4750-8986-a5b3a50ea347"
   },
   "outputs": [
    {
     "name": "stdout",
     "output_type": "stream",
     "text": [
      "30\n",
      "30\n"
     ]
    }
   ],
   "source": [
    "# global 키워드를 이용하여 선언하는 경우 수정 가능\n",
    "tmp = 10\n",
    "\n",
    "def myFunc():\n",
    "    global tmp\n",
    "    tmp = tmp+20\n",
    "    print(tmp)\n",
    "\n",
    "myFunc()\n",
    "print(tmp)"
   ]
  },
  {
   "cell_type": "code",
   "execution_count": null,
   "metadata": {
    "id": "8xIbb5nYPQ35"
   },
   "outputs": [],
   "source": [
    "a,b,c = 10,20,30"
   ]
  },
  {
   "cell_type": "code",
   "execution_count": null,
   "metadata": {
    "id": "U2HWo468PQ35",
    "outputId": "726dd68e-3d67-4ec0-a8ba-1cb982ff4ef6"
   },
   "outputs": [
    {
     "data": {
      "text/plain": [
       "(10, 20, 30)"
      ]
     },
     "execution_count": 45,
     "metadata": {
      "tags": []
     },
     "output_type": "execute_result"
    }
   ],
   "source": [
    "a,b,c"
   ]
  },
  {
   "cell_type": "code",
   "execution_count": null,
   "metadata": {
    "id": "hk92gddQPQ36",
    "outputId": "289588d6-d900-4842-e529-1a7fef0ca7af"
   },
   "outputs": [
    {
     "data": {
      "text/plain": [
       "(10, 20, 30)"
      ]
     },
     "execution_count": 47,
     "metadata": {
      "tags": []
     },
     "output_type": "execute_result"
    }
   ],
   "source": [
    "d = 10,20,30\n",
    "d"
   ]
  },
  {
   "cell_type": "code",
   "execution_count": null,
   "metadata": {
    "id": "GCMvyWhSPQ38",
    "outputId": "8da312c4-1745-41a9-b499-e15a208c437c"
   },
   "outputs": [
    {
     "name": "stdout",
     "output_type": "stream",
     "text": [
      "10\n",
      "[20, 30]\n"
     ]
    }
   ],
   "source": [
    "# unpack, pack 활용\n",
    "a,*b = 10,20,30\n",
    "print(a)\n",
    "print(b)"
   ]
  },
  {
   "cell_type": "markdown",
   "metadata": {
    "id": "hDLi_3clPQ4D"
   },
   "source": [
    "##### 함수설명문"
   ]
  },
  {
   "cell_type": "code",
   "execution_count": null,
   "metadata": {
    "id": "9ue46XTaPQ4D"
   },
   "outputs": [],
   "source": [
    "# 여러 줄 문자열을 함수 선언 시 추가하면 __doc__ 속성으로 조회할 수 있음\n",
    "def add(*args):\n",
    "    \"\"\" 매개변수의 총합을 반환\n",
    "    매개변수 :\n",
    "        args : 숫자만 입력\n",
    "    반환:\n",
    "        매개변수의 총합\n",
    "    \"\"\"\n",
    "    sum = 0\n",
    "    for i in args:\n",
    "        sum += i\n",
    "    return sum"
   ]
  },
  {
   "cell_type": "code",
   "execution_count": null,
   "metadata": {
    "id": "RDHYSrWIPQ4E",
    "outputId": "8f924493-1cf8-458f-ce35-4106464214d5"
   },
   "outputs": [
    {
     "name": "stdout",
     "output_type": "stream",
     "text": [
      " 매개변수의 총합을 반환\n",
      "    매개변수 :\n",
      "        args : 숫자만 입력\n",
      "    반환:\n",
      "        매개변수의 총합\n",
      "    \n"
     ]
    }
   ],
   "source": [
    "print(add.__doc__)"
   ]
  },
  {
   "cell_type": "markdown",
   "metadata": {
    "id": "V0JoF3etPQ4H"
   },
   "source": [
    "##### lambda"
   ]
  },
  {
   "cell_type": "code",
   "execution_count": null,
   "metadata": {
    "colab": {
     "base_uri": "https://localhost:8080/"
    },
    "id": "Aig907KZPQ4H",
    "outputId": "ae88d181-0083-44d5-e0e5-85b5e67375e3"
   },
   "outputs": [
    {
     "data": {
      "text/plain": [
       "30"
      ]
     },
     "execution_count": 66,
     "metadata": {
      "tags": []
     },
     "output_type": "execute_result"
    }
   ],
   "source": [
    "# 익명 함수\n",
    "# lambda 매개변수(여러 개) : 실행문 (1개)\n",
    "a = lambda x, y : x+y\n",
    "a(10, 20)"
   ]
  },
  {
   "cell_type": "code",
   "execution_count": null,
   "metadata": {
    "id": "w98Aq9YCPQ4M"
   },
   "outputs": [],
   "source": [
    "result = lambda x : x*2"
   ]
  },
  {
   "cell_type": "code",
   "execution_count": null,
   "metadata": {
    "colab": {
     "base_uri": "https://localhost:8080/"
    },
    "id": "3mGFvLpWPQ4M",
    "outputId": "93eb0d81-2336-4249-fa37-968a88876f4c"
   },
   "outputs": [
    {
     "data": {
      "text/plain": [
       "10"
      ]
     },
     "execution_count": 68,
     "metadata": {
      "tags": []
     },
     "output_type": "execute_result"
    }
   ],
   "source": [
    "result(5)"
   ]
  },
  {
   "cell_type": "markdown",
   "metadata": {
    "id": "0UXybiVhPQ4N"
   },
   "source": [
    "##### 내장 함수\n"
   ]
  },
  {
   "cell_type": "code",
   "execution_count": null,
   "metadata": {
    "collapsed": true,
    "id": "DfDUsbtLPQ4N",
    "outputId": "65a92e65-7c94-4e2c-f08f-44a990672797"
   },
   "outputs": [
    {
     "data": {
      "text/plain": [
       "['In',\n",
       " 'Out',\n",
       " '_',\n",
       " '_10',\n",
       " '_12',\n",
       " '_14',\n",
       " '_15',\n",
       " '_22',\n",
       " '_23',\n",
       " '_24',\n",
       " '_30',\n",
       " '_34',\n",
       " '_35',\n",
       " '_37',\n",
       " '_38',\n",
       " '_4',\n",
       " '_41',\n",
       " '_42',\n",
       " '_44',\n",
       " '_47',\n",
       " '_8',\n",
       " '__',\n",
       " '___',\n",
       " '__builtin__',\n",
       " '__builtins__',\n",
       " '__doc__',\n",
       " '__loader__',\n",
       " '__name__',\n",
       " '__package__',\n",
       " '__spec__',\n",
       " '_dh',\n",
       " '_i',\n",
       " '_i1',\n",
       " '_i10',\n",
       " '_i11',\n",
       " '_i12',\n",
       " '_i13',\n",
       " '_i14',\n",
       " '_i15',\n",
       " '_i16',\n",
       " '_i17',\n",
       " '_i18',\n",
       " '_i19',\n",
       " '_i2',\n",
       " '_i20',\n",
       " '_i21',\n",
       " '_i22',\n",
       " '_i23',\n",
       " '_i24',\n",
       " '_i25',\n",
       " '_i26',\n",
       " '_i27',\n",
       " '_i28',\n",
       " '_i29',\n",
       " '_i3',\n",
       " '_i30',\n",
       " '_i31',\n",
       " '_i32',\n",
       " '_i33',\n",
       " '_i34',\n",
       " '_i35',\n",
       " '_i36',\n",
       " '_i37',\n",
       " '_i38',\n",
       " '_i39',\n",
       " '_i4',\n",
       " '_i40',\n",
       " '_i41',\n",
       " '_i42',\n",
       " '_i43',\n",
       " '_i44',\n",
       " '_i45',\n",
       " '_i46',\n",
       " '_i47',\n",
       " '_i48',\n",
       " '_i5',\n",
       " '_i6',\n",
       " '_i7',\n",
       " '_i8',\n",
       " '_i9',\n",
       " '_ih',\n",
       " '_ii',\n",
       " '_iii',\n",
       " '_oh',\n",
       " 'add',\n",
       " 'alpha',\n",
       " 'calc_many',\n",
       " 'dic',\n",
       " 'exit',\n",
       " 'f1',\n",
       " 'f2',\n",
       " 'factorial',\n",
       " 'func',\n",
       " 'func1',\n",
       " 'func2',\n",
       " 'get_ipython',\n",
       " 'lower',\n",
       " 'myAdd',\n",
       " 'mysum',\n",
       " 'printinfo',\n",
       " 'quit',\n",
       " 'result',\n",
       " 'v']"
      ]
     },
     "execution_count": 48,
     "metadata": {
      "tags": []
     },
     "output_type": "execute_result"
    }
   ],
   "source": [
    "# 객체, 모듈 등 조회 함수\n",
    "dir()"
   ]
  },
  {
   "cell_type": "code",
   "execution_count": null,
   "metadata": {
    "id": "4sgdtKDLPQ4O"
   },
   "outputs": [],
   "source": [
    "# 내장 함수 조회\n",
    "dir(__builtins__)"
   ]
  },
  {
   "cell_type": "code",
   "execution_count": null,
   "metadata": {
    "id": "n-qrLNohPQ4P",
    "outputId": "254b4602-aeb1-45a1-b9aa-6685083df54f"
   },
   "outputs": [
    {
     "name": "stdout",
     "output_type": "stream",
     "text": [
      "0\n",
      "10\n",
      "1\n",
      "20\n",
      "2\n",
      "30\n"
     ]
    }
   ],
   "source": [
    "# 객체, 카운트 값 반환\n",
    "for i, v in enumerate([10,20,30]):\n",
    "    print(i)\n",
    "    print(v)"
   ]
  },
  {
   "cell_type": "code",
   "execution_count": null,
   "metadata": {
    "colab": {
     "base_uri": "https://localhost:8080/"
    },
    "id": "vTqW07rY6TMy",
    "outputId": "f292fbe8-b96c-48b3-82b9-f6fe0e40a86f"
   },
   "outputs": [
    {
     "data": {
      "text/plain": [
       "[(0, 10), (1, 20), (2, 30)]"
      ]
     },
     "execution_count": 12,
     "metadata": {
      "tags": []
     },
     "output_type": "execute_result"
    }
   ],
   "source": [
    "list(enumerate([10,20,30]))"
   ]
  },
  {
   "cell_type": "code",
   "execution_count": null,
   "metadata": {
    "id": "2LqVgzM2PQ4S",
    "outputId": "f2290206-4eb7-4744-9970-34cd747ba945"
   },
   "outputs": [
    {
     "data": {
      "text/plain": [
       "1596581539184"
      ]
     },
     "execution_count": 52,
     "metadata": {
      "tags": []
     },
     "output_type": "execute_result"
    }
   ],
   "source": [
    "# 주소 값 확인\n",
    "id('a')"
   ]
  },
  {
   "cell_type": "code",
   "execution_count": null,
   "metadata": {
    "colab": {
     "base_uri": "https://localhost:8080/"
    },
    "id": "tmGAXHAH6cwm",
    "outputId": "d45b6be0-5bb4-4d4e-eb65-8a7de6ab81f8"
   },
   "outputs": [
    {
     "data": {
      "text/plain": [
       "True"
      ]
     },
     "execution_count": 13,
     "metadata": {
      "tags": []
     },
     "output_type": "execute_result"
    }
   ],
   "source": [
    "a = 256\n",
    "b = 256\n",
    "a is b"
   ]
  },
  {
   "cell_type": "code",
   "execution_count": null,
   "metadata": {
    "colab": {
     "base_uri": "https://localhost:8080/"
    },
    "id": "VRJJvJrb6gHH",
    "outputId": "acf4a1c9-cdce-4089-d89c-2bb4ed8e4718"
   },
   "outputs": [
    {
     "data": {
      "text/plain": [
       "(10922656, 10922656)"
      ]
     },
     "execution_count": 14,
     "metadata": {
      "tags": []
     },
     "output_type": "execute_result"
    }
   ],
   "source": [
    "id(a), id(b)"
   ]
  },
  {
   "cell_type": "code",
   "execution_count": null,
   "metadata": {
    "colab": {
     "base_uri": "https://localhost:8080/"
    },
    "id": "d86YqOW56jpo",
    "outputId": "1c0edde6-2fb3-4350-f66c-afdf56b7e6f6"
   },
   "outputs": [
    {
     "data": {
      "text/plain": [
       "False"
      ]
     },
     "execution_count": 15,
     "metadata": {
      "tags": []
     },
     "output_type": "execute_result"
    }
   ],
   "source": [
    "c = 257\n",
    "d = 257\n",
    "c is d"
   ]
  },
  {
   "cell_type": "code",
   "execution_count": null,
   "metadata": {
    "colab": {
     "base_uri": "https://localhost:8080/"
    },
    "id": "adbGOBiZ6oS5",
    "outputId": "920df6e3-f106-4643-a26f-f5eaf5d92999"
   },
   "outputs": [
    {
     "data": {
      "text/plain": [
       "(140415077581136, 140415077582064)"
      ]
     },
     "execution_count": 16,
     "metadata": {
      "tags": []
     },
     "output_type": "execute_result"
    }
   ],
   "source": [
    "id(c), id(d)"
   ]
  },
  {
   "cell_type": "code",
   "execution_count": null,
   "metadata": {
    "colab": {
     "base_uri": "https://localhost:8080/"
    },
    "id": "4bysaKK4PQ4T",
    "outputId": "9cfe4888-e938-4767-bff7-33259d4414fa"
   },
   "outputs": [
    {
     "data": {
      "text/plain": [
       "(5, 2)"
      ]
     },
     "execution_count": 17,
     "metadata": {
      "tags": []
     },
     "output_type": "execute_result"
    }
   ],
   "source": [
    "# 길이 확인\n",
    "len('abcde'), len('김치')"
   ]
  },
  {
   "cell_type": "code",
   "execution_count": null,
   "metadata": {
    "colab": {
     "base_uri": "https://localhost:8080/"
    },
    "id": "jUaCn1g362Lr",
    "outputId": "3acf3ce8-5ee5-4971-fdea-71db87073c47"
   },
   "outputs": [
    {
     "data": {
      "text/plain": [
       "5"
      ]
     },
     "execution_count": 18,
     "metadata": {
      "tags": []
     },
     "output_type": "execute_result"
    }
   ],
   "source": [
    "len(list('abcde'))"
   ]
  },
  {
   "cell_type": "code",
   "execution_count": null,
   "metadata": {
    "colab": {
     "base_uri": "https://localhost:8080/"
    },
    "id": "dPhhsJFgPQ4U",
    "outputId": "26891caa-960b-4ca0-aa93-1d7569459528"
   },
   "outputs": [
    {
     "name": "stdout",
     "output_type": "stream",
     "text": [
      "['1', '2', '3']\n",
      "<map object at 0x7f155f83c8d0>\n"
     ]
    },
    {
     "data": {
      "text/plain": [
       "[1, 2, 3]"
      ]
     },
     "execution_count": 44,
     "metadata": {
      "tags": []
     },
     "output_type": "execute_result"
    }
   ],
   "source": [
    "# 함수 일괄 적용 함수 map\n",
    "# 객체에서 값을 하나씩 꺼내서 함수에 적용\n",
    "# map(함수명, iterable 객체)\n",
    "print(list('123'))\n",
    "print(map(int, list('123')))\n",
    "list(map(int, list('123')))"
   ]
  },
  {
   "cell_type": "code",
   "execution_count": null,
   "metadata": {
    "colab": {
     "base_uri": "https://localhost:8080/"
    },
    "id": "Snpb1rrM7CDd",
    "outputId": "b8d7c822-0e0a-487c-f51c-72f7ff13600e"
   },
   "outputs": [
    {
     "data": {
      "text/plain": [
       "['1', '2', '3']"
      ]
     },
     "execution_count": 20,
     "metadata": {
      "tags": []
     },
     "output_type": "execute_result"
    }
   ],
   "source": [
    "list(map(str, [1,2,3]))"
   ]
  },
  {
   "cell_type": "code",
   "execution_count": null,
   "metadata": {
    "colab": {
     "base_uri": "https://localhost:8080/"
    },
    "id": "8kfC3WWBPQ4X",
    "outputId": "e252ba61-46c3-4c2e-9967-f3708de945a0"
   },
   "outputs": [
    {
     "data": {
      "text/plain": [
       "[False, False, True]"
      ]
     },
     "execution_count": 45,
     "metadata": {
      "tags": []
     },
     "output_type": "execute_result"
    }
   ],
   "source": [
    "list(map(lambda x:x>2, [1,2,3]))"
   ]
  },
  {
   "cell_type": "code",
   "execution_count": null,
   "metadata": {
    "id": "LnPA7lf_PQ4X",
    "outputId": "026946ec-ea31-4b16-98e2-20d66323f8b8"
   },
   "outputs": [
    {
     "data": {
      "text/plain": [
       "[1, 2, 3]"
      ]
     },
     "execution_count": 31,
     "metadata": {
      "tags": []
     },
     "output_type": "execute_result"
    }
   ],
   "source": [
    "list(map(int, ['1','2','3']))"
   ]
  },
  {
   "cell_type": "code",
   "execution_count": null,
   "metadata": {
    "id": "IoKAwQ0DPQ4Z",
    "outputId": "bf351939-9ce8-437b-a8af-76a50532a0eb"
   },
   "outputs": [
    {
     "data": {
      "text/plain": [
       "['1', '2', '3']"
      ]
     },
     "execution_count": 58,
     "metadata": {
      "tags": []
     },
     "output_type": "execute_result"
    }
   ],
   "source": [
    "list(map(str, [1,2,3]))"
   ]
  },
  {
   "cell_type": "code",
   "execution_count": null,
   "metadata": {
    "id": "I2j6_rGZPQ4Z",
    "outputId": "f1e540e9-d4f1-4dba-9f69-d05eb32aa798"
   },
   "outputs": [
    {
     "data": {
      "text/plain": [
       "[False, False, True]"
      ]
     },
     "execution_count": 150,
     "metadata": {
      "tags": []
     },
     "output_type": "execute_result"
    }
   ],
   "source": [
    "list(map(lambda x:x>2, [1,2,3]))"
   ]
  },
  {
   "cell_type": "code",
   "execution_count": null,
   "metadata": {
    "colab": {
     "base_uri": "https://localhost:8080/"
    },
    "id": "edW1v2KePQ4b",
    "outputId": "6dd489c7-d631-4816-aa81-75babfdac415"
   },
   "outputs": [
    {
     "data": {
      "text/plain": [
       "[-3, -50]"
      ]
     },
     "execution_count": 47,
     "metadata": {
      "tags": []
     },
     "output_type": "execute_result"
    }
   ],
   "source": [
    "# 함수 결과(Boolean) 중 True에 해당하는 값만 통과 filter\n",
    "# func의 결과 boolean\n",
    "list(filter(lambda x: x<0, [1,2,-3,10,-50]))"
   ]
  },
  {
   "cell_type": "code",
   "execution_count": null,
   "metadata": {
    "colab": {
     "base_uri": "https://localhost:8080/"
    },
    "id": "Mz_f4EUl797A",
    "outputId": "2ea37551-841a-41d9-ef49-a3a4591901d0"
   },
   "outputs": [
    {
     "data": {
      "text/plain": [
       "[3]"
      ]
     },
     "execution_count": 21,
     "metadata": {
      "tags": []
     },
     "output_type": "execute_result"
    }
   ],
   "source": [
    "list(filter(lambda x:x>2, [1,2,3]))"
   ]
  },
  {
   "cell_type": "code",
   "execution_count": null,
   "metadata": {
    "colab": {
     "base_uri": "https://localhost:8080/"
    },
    "id": "KUPKbgO2PQ4b",
    "outputId": "3d9f1a81-48a3-413c-b16c-3eaab8c13845"
   },
   "outputs": [
    {
     "name": "stdout",
     "output_type": "stream",
     "text": [
      "<zip object at 0x7f155f7df6c8>\n"
     ]
    },
    {
     "data": {
      "text/plain": [
       "[(1, 3, 6), (2, 4, 7), (3, 5, 8)]"
      ]
     },
     "execution_count": 48,
     "metadata": {
      "tags": []
     },
     "output_type": "execute_result"
    }
   ],
   "source": [
    "# 같은 인덱스의 값끼리 tuple로 묶어서 전달하는 함수 zip\n",
    "# zip(io1, io2, io3...)\n",
    "# [1,2,3]\n",
    "# [4,5,6]\n",
    "# [7,8,9]\n",
    "# (1,4,7), (2,5,8), (3,6,9)\n",
    "print(zip([1,2,3],[3,4,5],[6,7,8]))\n",
    "list(zip([1,2,3],[3,4,5],[6,7,8]))"
   ]
  },
  {
   "cell_type": "code",
   "execution_count": null,
   "metadata": {
    "id": "RFNosaVXPQ4d",
    "outputId": "dd740c7b-15ba-422a-af69-d9c18ad620bb"
   },
   "outputs": [
    {
     "data": {
      "text/plain": [
       "[('a', 'd', 'g'), ('b', 'e', 'h'), ('c', 'f', 'i')]"
      ]
     },
     "execution_count": 66,
     "metadata": {
      "tags": []
     },
     "output_type": "execute_result"
    }
   ],
   "source": [
    "list(zip('abc', 'def', 'ghi'))"
   ]
  },
  {
   "cell_type": "code",
   "execution_count": null,
   "metadata": {
    "colab": {
     "base_uri": "https://localhost:8080/"
    },
    "id": "anesp1AqIl9X",
    "outputId": "9dfa06e3-f5a2-4b55-e5dc-05e90ede5d0e"
   },
   "outputs": [
    {
     "name": "stdout",
     "output_type": "stream",
     "text": [
      "1 3 6\n",
      "2 4 7\n",
      "3 5 8\n",
      "1 3 6\n",
      "2 4 7\n",
      "3 5 8\n"
     ]
    }
   ],
   "source": [
    "a = [1,2,3]\n",
    "b = [3,4,5]\n",
    "c = [6,7,8]\n",
    "\n",
    "for i, v in enumerate(a):\n",
    "  print(a[i], b[i], c[i])\n",
    "\n",
    "for i,j,k in zip(a,b,c):\n",
    "  print(i,j,k)"
   ]
  },
  {
   "cell_type": "code",
   "execution_count": null,
   "metadata": {
    "colab": {
     "base_uri": "https://localhost:8080/"
    },
    "id": "RDuUK9bMR5Qi",
    "outputId": "9e775dd4-5f22-4e40-fc74-69800940cf35"
   },
   "outputs": [
    {
     "data": {
      "text/plain": [
       "(True, False)"
      ]
     },
     "execution_count": 545,
     "metadata": {
      "tags": []
     },
     "output_type": "execute_result"
    }
   ],
   "source": [
    "# any, all\n",
    "a = [1,2,3,4,0,5,6,7]\n",
    "\n",
    "any(a), all(a)"
   ]
  },
  {
   "cell_type": "code",
   "execution_count": null,
   "metadata": {
    "colab": {
     "base_uri": "https://localhost:8080/"
    },
    "id": "hze4htahSAl9",
    "outputId": "caf68186-51c1-4811-ae36-b3e966ad8ae3"
   },
   "outputs": [
    {
     "data": {
      "text/plain": [
       "[7, 6, 5, 4, 3, 2, 1, 0]"
      ]
     },
     "execution_count": 547,
     "metadata": {
      "tags": []
     },
     "output_type": "execute_result"
    }
   ],
   "source": [
    "# sorted\n",
    "# 정렬한 값을 리스트로 반환\n",
    "\n",
    "sorted(a, reverse=True)"
   ]
  },
  {
   "cell_type": "markdown",
   "metadata": {
    "id": "M9MjNOsgQFG1"
   },
   "source": [
    "### Generator\n",
    " - iterator를 생성해주는 기능\n",
    " - iterator는 next() 함수를 이용하여 한 번에 하나씩 값을 가져올 수 있는 객체\n",
    " - 함수와 유사\n",
    "   - def 키워드와 yield 키워드 사용"
   ]
  },
  {
   "cell_type": "code",
   "execution_count": null,
   "metadata": {
    "colab": {
     "base_uri": "https://localhost:8080/"
    },
    "id": "yJYiT6I3QISX",
    "outputId": "10aaaf0c-6d9f-4002-a7e6-9d29bc21c5c8"
   },
   "outputs": [
    {
     "name": "stdout",
     "output_type": "stream",
     "text": [
      "0\n",
      "1\n",
      "2\n",
      "3\n",
      "4\n",
      "5\n",
      "6\n",
      "7\n",
      "8\n",
      "9\n"
     ]
    }
   ],
   "source": [
    "def generator(num):\n",
    "  i=0\n",
    "  while i<num:\n",
    "    yield i\n",
    "    i+=1\n",
    "\n",
    "for i in generator(10):\n",
    "  print(i)"
   ]
  },
  {
   "cell_type": "code",
   "execution_count": null,
   "metadata": {
    "colab": {
     "base_uri": "https://localhost:8080/"
    },
    "id": "HjKanzwCW35Y",
    "outputId": "6ac77706-cee0-48c4-af2c-db9cce93788b"
   },
   "outputs": [
    {
     "data": {
      "text/plain": [
       "function"
      ]
     },
     "execution_count": 19,
     "metadata": {
      "tags": []
     },
     "output_type": "execute_result"
    }
   ],
   "source": [
    "type(generator)"
   ]
  },
  {
   "cell_type": "code",
   "execution_count": null,
   "metadata": {
    "colab": {
     "base_uri": "https://localhost:8080/"
    },
    "id": "qpugpzrbVvqA",
    "outputId": "0539e922-fe9a-4d97-e5e3-55bd7a726eb8"
   },
   "outputs": [
    {
     "data": {
      "text/plain": [
       "<generator object <genexpr> at 0x7f084c2cfeb8>"
      ]
     },
     "execution_count": 98,
     "metadata": {
      "tags": []
     },
     "output_type": "execute_result"
    }
   ],
   "source": [
    "# Generator Expression\n",
    "# comprehension과 비슷하게 표현, 소괄호 사용\n",
    "# [], {}, ()\n",
    "a = (i for i in range(100))\n",
    "a"
   ]
  },
  {
   "cell_type": "code",
   "execution_count": null,
   "metadata": {
    "colab": {
     "base_uri": "https://localhost:8080/"
    },
    "id": "yFEkfAu7DTco",
    "outputId": "61d77ffa-d224-4add-9f7a-f0137e196695"
   },
   "outputs": [
    {
     "data": {
      "text/plain": [
       "[0, 1, 2, 3, 4, 5, 6, 7, 8, 9]"
      ]
     },
     "execution_count": 37,
     "metadata": {
      "tags": []
     },
     "output_type": "execute_result"
    }
   ],
   "source": [
    "[i for i in range(10)]"
   ]
  },
  {
   "cell_type": "code",
   "execution_count": null,
   "metadata": {
    "colab": {
     "base_uri": "https://localhost:8080/"
    },
    "id": "xxf-jDeYfJSm",
    "outputId": "eebac735-10fb-4599-c651-0df67d2d9c15"
   },
   "outputs": [
    {
     "data": {
      "text/plain": [
       "<generator object <genexpr> at 0x7fb4eed0fca8>"
      ]
     },
     "execution_count": 43,
     "metadata": {
      "tags": []
     },
     "output_type": "execute_result"
    }
   ],
   "source": [
    "a = (i for i in range(5))\n",
    "a"
   ]
  },
  {
   "cell_type": "code",
   "execution_count": null,
   "metadata": {
    "colab": {
     "base_uri": "https://localhost:8080/"
    },
    "id": "Jqqbp9J-fMfN",
    "outputId": "e3afba65-e831-49cf-a406-742a15f9554b"
   },
   "outputs": [
    {
     "data": {
      "text/plain": [
       "4"
      ]
     },
     "execution_count": 44,
     "metadata": {
      "tags": []
     },
     "output_type": "execute_result"
    }
   ],
   "source": [
    "next(a)\n",
    "next(a)\n",
    "next(a)\n",
    "next(a)\n",
    "next(a)"
   ]
  },
  {
   "cell_type": "code",
   "execution_count": null,
   "metadata": {
    "colab": {
     "base_uri": "https://localhost:8080/",
     "height": 169
    },
    "id": "hqZT_PdEDynu",
    "outputId": "124d1e0d-2a67-47a2-ff88-e5cfb3ee0015"
   },
   "outputs": [
    {
     "ename": "StopIteration",
     "evalue": "ignored",
     "output_type": "error",
     "traceback": [
      "\u001b[0;31m---------------------------------------------------------------------------\u001b[0m",
      "\u001b[0;31mStopIteration\u001b[0m                             Traceback (most recent call last)",
      "\u001b[0;32m<ipython-input-46-15841f3f11d4>\u001b[0m in \u001b[0;36m<module>\u001b[0;34m()\u001b[0m\n\u001b[0;32m----> 1\u001b[0;31m \u001b[0mnext\u001b[0m\u001b[0;34m(\u001b[0m\u001b[0ma\u001b[0m\u001b[0;34m)\u001b[0m\u001b[0;34m\u001b[0m\u001b[0;34m\u001b[0m\u001b[0m\n\u001b[0m",
      "\u001b[0;31mStopIteration\u001b[0m: "
     ]
    }
   ],
   "source": [
    "next(a)"
   ]
  },
  {
   "cell_type": "code",
   "execution_count": null,
   "metadata": {
    "colab": {
     "base_uri": "https://localhost:8080/"
    },
    "id": "GJnoebJtWJdF",
    "outputId": "602480f5-a312-4a4a-a4a5-7dcc0e186369"
   },
   "outputs": [
    {
     "name": "stdout",
     "output_type": "stream",
     "text": [
      "912\n",
      "88\n"
     ]
    }
   ],
   "source": [
    "# 제너레이터는 바로 생성하기 때문에 메모리를 적게 사용\n",
    "import sys\n",
    "print(sys.getsizeof([i for i in range(100)]))\n",
    "print(sys.getsizeof((i for i in range(100))))"
   ]
  },
  {
   "cell_type": "markdown",
   "metadata": {
    "id": "eJncYUuQgS4x"
   },
   "source": [
    "## 모듈"
   ]
  },
  {
   "cell_type": "code",
   "execution_count": null,
   "metadata": {
    "colab": {
     "base_uri": "https://localhost:8080/"
    },
    "id": "_ex30UwzgS4y",
    "outputId": "ffe85d60-a134-4ca6-99e4-0cdf8c76da99",
    "scrolled": false
   },
   "outputs": [
    {
     "data": {
      "text/plain": [
       "3.141592653589793"
      ]
     },
     "execution_count": 47,
     "metadata": {
      "tags": []
     },
     "output_type": "execute_result"
    }
   ],
   "source": [
    "# 외부 모듈은 import를 통해 추가\n",
    "# 모듈명은 모듈 파일에서 확장자를 제외한 이름 부분만 (math.py -> import math)\n",
    "# 사용 방법은 모듈명.함수/변수\n",
    "\n",
    "# import 모듈명\n",
    "import math\n",
    "\n",
    "# 모듈명.함수/변수\n",
    "math.pi"
   ]
  },
  {
   "cell_type": "code",
   "execution_count": null,
   "metadata": {
    "collapsed": true,
    "id": "4xaq8ljfgS41",
    "outputId": "a337b4f9-146c-4b34-a84b-9aa83fe0b6a7"
   },
   "outputs": [
    {
     "data": {
      "text/plain": [
       "['__doc__',\n",
       " '__loader__',\n",
       " '__name__',\n",
       " '__package__',\n",
       " '__spec__',\n",
       " 'acos',\n",
       " 'acosh',\n",
       " 'asin',\n",
       " 'asinh',\n",
       " 'atan',\n",
       " 'atan2',\n",
       " 'atanh',\n",
       " 'ceil',\n",
       " 'comb',\n",
       " 'copysign',\n",
       " 'cos',\n",
       " 'cosh',\n",
       " 'degrees',\n",
       " 'dist',\n",
       " 'e',\n",
       " 'erf',\n",
       " 'erfc',\n",
       " 'exp',\n",
       " 'expm1',\n",
       " 'fabs',\n",
       " 'factorial',\n",
       " 'floor',\n",
       " 'fmod',\n",
       " 'frexp',\n",
       " 'fsum',\n",
       " 'gamma',\n",
       " 'gcd',\n",
       " 'hypot',\n",
       " 'inf',\n",
       " 'isclose',\n",
       " 'isfinite',\n",
       " 'isinf',\n",
       " 'isnan',\n",
       " 'isqrt',\n",
       " 'ldexp',\n",
       " 'lgamma',\n",
       " 'log',\n",
       " 'log10',\n",
       " 'log1p',\n",
       " 'log2',\n",
       " 'modf',\n",
       " 'nan',\n",
       " 'perm',\n",
       " 'pi',\n",
       " 'pow',\n",
       " 'prod',\n",
       " 'radians',\n",
       " 'remainder',\n",
       " 'sin',\n",
       " 'sinh',\n",
       " 'sqrt',\n",
       " 'tan',\n",
       " 'tanh',\n",
       " 'tau',\n",
       " 'trunc']"
      ]
     },
     "execution_count": 12,
     "metadata": {
      "tags": []
     },
     "output_type": "execute_result"
    }
   ],
   "source": [
    "# 모듈 내 함수, 변수 목록 확인\n",
    "dir(math)"
   ]
  },
  {
   "cell_type": "code",
   "execution_count": null,
   "metadata": {
    "id": "2VqJxXf8gS43",
    "outputId": "5c6ad06c-4eac-4c9a-c2fe-68215391d775"
   },
   "outputs": [
    {
     "data": {
      "text/plain": [
       "3.141592653589793"
      ]
     },
     "execution_count": 13,
     "metadata": {
      "tags": []
     },
     "output_type": "execute_result"
    }
   ],
   "source": [
    "# as 대체명 설정 가능\n",
    "# import 모듈명 as 대체명\n",
    "import math as ma\n",
    "\n",
    "# 대체명.함수/변수\n",
    "ma.pi"
   ]
  },
  {
   "cell_type": "code",
   "execution_count": null,
   "metadata": {
    "id": "sqHRDztPgS45",
    "outputId": "e3e8cf24-86da-4360-b019-0cdf32b1a863"
   },
   "outputs": [
    {
     "data": {
      "text/plain": [
       "3.141592653589793"
      ]
     },
     "execution_count": 14,
     "metadata": {
      "tags": []
     },
     "output_type": "execute_result"
    }
   ],
   "source": [
    "# 일부 함수/변수 추가 가능\n",
    "# 사용 방법은 모듈명 없이 바로 함수/변수명\n",
    "\n",
    "# from 모듈명 import 함수/변수명\n",
    "from math import pi\n",
    "\n",
    "# 함수/변수명\n",
    "pi"
   ]
  },
  {
   "cell_type": "code",
   "execution_count": null,
   "metadata": {
    "id": "DdXxddVagS47",
    "outputId": "36586e5a-ef78-49fb-eeff-579f1c7d1f8b"
   },
   "outputs": [
    {
     "data": {
      "text/plain": [
       "3.141592653589793"
      ]
     },
     "execution_count": 15,
     "metadata": {
      "tags": []
     },
     "output_type": "execute_result"
    }
   ],
   "source": [
    "# from 모듈명 import 함수/변수명 as 대체명\n",
    "from math import pi as abcd\n",
    "\n",
    "# 대체명\n",
    "abcd"
   ]
  },
  {
   "cell_type": "code",
   "execution_count": null,
   "metadata": {
    "colab": {
     "base_uri": "https://localhost:8080/"
    },
    "id": "YM-zISgpgS49",
    "outputId": "a6f5db87-2fe1-4e4d-b0ae-9b9adc421f64"
   },
   "outputs": [
    {
     "data": {
      "text/plain": [
       "-0.5063656411097588"
      ]
     },
     "execution_count": 69,
     "metadata": {
      "tags": []
     },
     "output_type": "execute_result"
    }
   ],
   "source": [
    "# from 모듈명 import *\n",
    "from math import *\n",
    "\n",
    "# 함수/변수명\n",
    "sin(100)"
   ]
  },
  {
   "cell_type": "markdown",
   "metadata": {
    "id": "Ncm0RJYYgS5Q"
   },
   "source": [
    "## 패키지"
   ]
  },
  {
   "cell_type": "code",
   "execution_count": null,
   "metadata": {
    "id": "XPxpB_ungS5Q",
    "outputId": "ab3912ce-2f72-4c0f-bcb6-02adc2e49392"
   },
   "outputs": [
    {
     "data": {
      "text/plain": [
       "30"
      ]
     },
     "execution_count": 24,
     "metadata": {
      "tags": []
     },
     "output_type": "execute_result"
    }
   ],
   "source": [
    "# 전체 패키지 import\n",
    "# 패키지명.모듈명.함수()\n",
    "import myPack\n",
    "\n",
    "myPack.my_calc.plus(10,20)"
   ]
  },
  {
   "cell_type": "code",
   "execution_count": null,
   "metadata": {
    "id": "pnRjfitlgS5S",
    "outputId": "6c10ee77-c35a-483b-a7a7-5368d520f1a8"
   },
   "outputs": [
    {
     "data": {
      "text/plain": [
       "30"
      ]
     },
     "execution_count": 3,
     "metadata": {
      "tags": []
     },
     "output_type": "execute_result"
    }
   ],
   "source": [
    "# 패키지 내 특정 모듈 import 패키지명.모듈명 \n",
    "# 패키지명.모듈명.함수()\n",
    "import myPack.my_calc\n",
    "\n",
    "myPack.my_calc.plus(10,20)"
   ]
  },
  {
   "cell_type": "code",
   "execution_count": null,
   "metadata": {
    "id": "DhGL9I0QgS5U",
    "outputId": "d033f95b-4c2f-4fbe-c415-184720476279"
   },
   "outputs": [
    {
     "data": {
      "text/plain": [
       "30"
      ]
     },
     "execution_count": 25,
     "metadata": {
      "tags": []
     },
     "output_type": "execute_result"
    }
   ],
   "source": [
    "#대체명\n",
    "import myPack.my_calc as mpmc\n",
    "\n",
    "mpmc.plus(10,20)"
   ]
  },
  {
   "cell_type": "code",
   "execution_count": null,
   "metadata": {
    "id": "NFeqGMmDgS5V",
    "outputId": "81cc2f99-79ea-47d0-8849-d62108e19878"
   },
   "outputs": [
    {
     "data": {
      "text/plain": [
       "30"
      ]
     },
     "execution_count": 6,
     "metadata": {
      "tags": []
     },
     "output_type": "execute_result"
    }
   ],
   "source": [
    "# 특정 모듈 추가 (from)\n",
    "# 모듈명.함수\n",
    "from myPack import my_calc\n",
    "\n",
    "my_calc.plus(10,20)"
   ]
  },
  {
   "cell_type": "code",
   "execution_count": null,
   "metadata": {
    "id": "nWfIvmczgS5X",
    "outputId": "e79e190a-b3ae-4fee-eefb-725ea6f714be"
   },
   "outputs": [
    {
     "data": {
      "text/plain": [
       "30"
      ]
     },
     "execution_count": 26,
     "metadata": {
      "tags": []
     },
     "output_type": "execute_result"
    }
   ],
   "source": [
    "from myPack.my_calc import plus\n",
    "plus(10,20)"
   ]
  },
  {
   "cell_type": "code",
   "execution_count": null,
   "metadata": {
    "id": "RkCfSocIgS5Z",
    "outputId": "cf582844-81e6-49fc-e4c6-fac701ff2034"
   },
   "outputs": [
    {
     "data": {
      "text/plain": [
       "30"
      ]
     },
     "execution_count": 9,
     "metadata": {
      "tags": []
     },
     "output_type": "execute_result"
    }
   ],
   "source": [
    "from myPack import *\n",
    "\n",
    "my_calc.plus(10,20)"
   ]
  }
 ],
 "metadata": {
  "colab": {
   "collapsed_sections": [],
   "name": "kcs_python.ipynb",
   "provenance": []
  },
  "kernelspec": {
   "display_name": "Python 3",
   "language": "python",
   "name": "python3"
  },
  "language_info": {
   "codemirror_mode": {
    "name": "ipython",
    "version": 3
   },
   "file_extension": ".py",
   "mimetype": "text/x-python",
   "name": "python",
   "nbconvert_exporter": "python",
   "pygments_lexer": "ipython3",
   "version": "3.7.9"
  }
 },
 "nbformat": 4,
 "nbformat_minor": 1
}
